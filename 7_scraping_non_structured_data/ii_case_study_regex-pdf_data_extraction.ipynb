{
 "cells": [
  {
   "cell_type": "markdown",
   "metadata": {},
   "source": [
    "## Parse financial data in PDF with regex\n",
    "\n",
    "Reference: \n",
    "1. A Comparison of python libraries for PDF Data Extraction for text, images and tables https://pradeepundefned.medium.com/a-comparison-of-python-libraries-for-pdf-data-extraction-for-text-images-and-tables-c75e5dbcfef8"
   ]
  },
  {
   "cell_type": "markdown",
   "metadata": {},
   "source": [
    "Objective: \n",
    "- Recognizing Occupancy rate of the REITs"
   ]
  },
  {
   "cell_type": "code",
   "execution_count": 1,
   "metadata": {},
   "outputs": [
    {
     "name": "stdout",
     "output_type": "stream",
     "text": [
      "Defaulting to user installation because normal site-packages is not writeable\n",
      "Collecting PyMuPDF\n",
      "  Downloading PyMuPDF-1.23.26-cp310-none-manylinux2014_x86_64.whl (4.4 MB)\n",
      "\u001b[2K     \u001b[90m━━━━━━━━━━━━━━━━━━━━━━━━━━━━━━━━━━━━━━━━\u001b[0m \u001b[32m4.4/4.4 MB\u001b[0m \u001b[31m18.7 MB/s\u001b[0m eta \u001b[36m0:00:00\u001b[0ma \u001b[36m0:00:01\u001b[0m\n",
      "\u001b[?25hCollecting PyMuPDFb==1.23.22\n",
      "  Downloading PyMuPDFb-1.23.22-py3-none-manylinux2014_x86_64.manylinux_2_17_x86_64.whl (30.6 MB)\n",
      "\u001b[2K     \u001b[90m━━━━━━━━━━━━━━━━━━━━━━━━━━━━━━━━━━━━━━━━\u001b[0m \u001b[32m30.6/30.6 MB\u001b[0m \u001b[31m34.3 MB/s\u001b[0m eta \u001b[36m0:00:00\u001b[0m00:01\u001b[0m00:01\u001b[0m\n",
      "\u001b[?25hInstalling collected packages: PyMuPDFb, PyMuPDF\n",
      "Successfully installed PyMuPDF-1.23.26 PyMuPDFb-1.23.22\n",
      "Note: you may need to restart the kernel to use updated packages.\n"
     ]
    }
   ],
   "source": [
    "%pip install PyMuPDF"
   ]
  },
  {
   "cell_type": "code",
   "execution_count": 2,
   "metadata": {},
   "outputs": [
    {
     "name": "stdout",
     "output_type": "stream",
     "text": [
      "                  1    NEWS RELEASE                                                                      For immediate release  Ascendas Reit’s Total Amount Available for Distribution for    FY2021 grew 17.0% y-o-y to S$630.0 million      1.  Total amount available for distribution for the financial year ended 31 December 2021  (FY2021) rose by 17.0% year-on-year (y-o-y) to S$630.0 million, mainly due to  contributions from newly acquired properties. FY2021 Distribution per Unit (DPU) rose  by 3.9% y-o-y to 15.258 cents.      2.  A record S$2.1 billion worth of new investments across the business space, data centre  and logistics segments were completed in FY2021, boosting Ascendas Reit’s total  investment properties to S$16.3 billion.       3.  Portfolio occupancy rate rose to 93.2% as at 31 December 2021 and positive average  rent reversion of 4.5% was achieved for leases that were renewed during FY2021.    4.  Same-store portfolio valuation increased by 3.3% y-o-y to S$13.95 billion.         Summary of Ascendas Reit Group Results    FY2021  FY2020  Variance  2H FY2021  2H FY2020    Variance  Gross revenue  (S$m)  1,226.5  1,049.5  16.9%  640.5  528.2  21.3%  Net property  income (S$m)  920.8  776.2  18.6%  475.2  388.2  22.4%  Total amount  available for  distribution  (S$m)  630.0  538.4  17.0%  319.0  275.2  15.9%  DPU (cents)  15.258 (1)  14.688 (2)  3.9%  7.598 (3)  7.418 (4)  2.4%  Applicable no.  of units (m)  4,129  3,666  12.6%  4,198  3,710  13.1%  No. of  properties (as  at end of  period)  220 (5)  200  -  220 (5)  200  -    Notes:   (1) Included taxable, tax exempt and capital distributions of 11.028, 0.233 and 3.997 cents respectively. For information only,  DPU before performance fee is 15.438 cents.   (2) Included taxable, tax exempt and capital distributions of 11.759, 0.161 and 2.768 cents respectively.  (3) Included taxable, tax exempt and capital distributions of 5.499, 0.188 and 1.911 cents respectively. For information only,  DPU before performance fee is 7.778 cents.   (4) Included taxable tax exempt and capital distributions of 5.849, 0.121 and 1.448 cents respectively   (5) As at 31 December 2021, Ascendas Reit had 96 properties in Singapore, 34 properties in Australia, 41 properties in the  United States and 49 properties in the United Kingdom (UK)/Europe.    \f        2    8 February 2022, Singapore – The Board of Directors of Ascendas Funds Management (S)  Limited (the Manager), the Manager of Ascendas Real Estate Investment Trust (Ascendas  Reit), is pleased to report that gross revenue for FY2021 rose by 16.9% y-o-y to S$1.2 billion.  The increase was mainly attributable to contributions from newly acquired properties and  completed developments during FY2020 and FY2021.     In tandem with the increase in gross revenue, net property income rose 18.6% y-o-y to  S$920.8 million and total amount available for distribution rose 17.0% y-o-y to S$630.0 million.     Based on Ascendas Reit’s FY2021 performance, the Manager is entitled to receive  approximately S$15.8 million of performance fee. In view of the COVID-19 rental rebates  mandated by the Singapore government that resulted in a lower FY2020 DPU, the Manager  has voluntarily made a one-off waiver of its entitled performance fee to the extent of the effect  of the rental rebates. Hence, the Unitholders will receive 15.258 Singapore cents (+3.9% y-o- y) instead of 15.058 Singapore cents (+2.5% y-o-y) for FY2021.    Mr William Tay, Chief Executive Officer and Executive Director of the Manager, said: “We are  pleased to deliver a year-on-year DPU growth of 3.9% to Unitholders. Ascendas Reit’s  portfolio occupancy rate remained healthy at 93.2% and also achieved a positive average rent  reversion of 4.5% in FY2021.     In the last financial year, we deployed over S$2 billion in capital to invest in properties across  our four existing markets. Properties in new economy sectors such as technology, life science,  data centre and logistics now represent a significant 81% of Ascendas Reit’s total assets under  management and contributed 78% to FY2021’s total gross revenue. Ascendas Reit is well- positioned to capture growth in the new economy.”     Value-adding Investments  During FY2021, Ascendas Reit completed a record S$2.1 billion worth of new investments  bringing total investment properties to S$16.3 billion.     The acquisition of 11 data centres across the UK, France, the Netherlands and Switzerland  worth S$904.6 million marked Ascendas Reit’s first foray into the overseas data centre market.  Two business space properties, Galaxis (remaining 75% interest) and 1-5 Thomas Holt Drive,  located in the technology precincts in one-north, Singapore, and Macquarie Park in Sydney,  Australia respectively, were also acquired for S$818.4 million.    \f        3      In the second half of 2021, the built-to-suit business space property for Grab’s Headquarters  in Singapore was completed for S$184.6 million. Subsequently, Ascendas Reit expanded its  logistics portfolio by acquiring 11 last-mile logistics properties in Kansas City, USA, for  S$207.8 million.     These new investments in technology-focused business spaces, data centres and logistics  facilities augment Ascendas Reit’s multi-asset portfolio and are poised to benefit from the  accelerating digital and e-commerce trends globally.    The Manager continues to undertake asset enhancement initiatives (AEIs) to upgrade its  properties and enhance returns from its existing portfolio. In FY2021, three AEIs (25 Changi  South Avenue 2 and Hansapoint in Singapore and 100 & 108 Wickham Street in Brisbane,  Australia) were completed for S$23.3 million.     In January 2022, UBIX, a high-specifications industrial property in Singapore, was completed  for S$38.2 million. The five-storey premium industrial property is well located next to Ubi MRT  station and features modern workspaces with large floorplates of up to 4,300 sqm.     There are six on-going development and AEI projects worth S$647.0 million. The largest on- going project is the joint redevelopment of 1 Science Park Drive through Ascendas Reit’s 34%  stake (S$300.2 million) in a special purpose trust with CapitaLand Development, the  development arm of Ascendas Reit’s sponsor group. Expected to be ready in 2025, this  transformative redevelopment will unlock value of the prime site and create a world-class life  science and innovation campus within Singapore Science Park 1.     Capital Recycling   In FY2021, a total of five properties were divested in Australia and Singapore for S$247.9  million. This is in line with the Manager’s proactive asset management strategy to recycle  capital and improve the quality of its portfolio to optimise returns for Unitholders.    Part of the net proceeds from the divestments have been redeployed to partially finance the  acquisition of 11 logistics properties in Kansas City, USA, as well as its share of equity  investment in the joint venture for the redevelopment of 1 Science Park Drive.       \f        4    A Diversified and Resilient Portfolio  As at 31 December 2021, Ascendas Reit’s S$16.3 billion portfolio had a customer base of  more than 1,570 tenants. The portfolio is diversified geographically across the developed  markets of Singapore (61%), Australia (14%), the USA (14%) and the UK / Europe (11%). Its  220 properties include business spaces 1 (48%), logistics and distribution centres (23%),  industrial properties2 (20%) and data centres (9%).      Overall, portfolio occupancy rate improved to 93.2% quarter-on-quarter (q-o-q) (30 September  2021: 91.7%) driven mainly by improvements in the Singapore, Australia and USA portfolios.      Occupancy rate of the Singapore portfolio rose to 90.2% as at 31 December 2021 from 88.5%  a quarter ago. This was mainly attributable to higher occupancies at a logistics property, Xilin  Districentre A & B, (31 December 2021: 100%; 30 September 2021: 68.6%) and two business  space properties, Nucleos (31 December 2021: 98.4%; 30 September 2021: 80.9%) and The  Alpha (31 December 2021: 74.0%; 30 September 2021: 47.1%).     Occupancy of the USA portfolio rose to 94.5% (30 September 2021: 91.4%) taking into  account the newly acquired portfolio of 11 logistics properties in Kansas City, which achieved  full occupancy shortly after the acquisition in November 2021 when its occupancy rate was  92.6%.      The Australia and UK/Europe portfolio occupancy rates remained healthy at 99.2% (30  September 2021: 97.5%) and 96.7% (30 September 2021: 98.2%) respectively.     For FY2021, the portfolio recorded positive average rental reversion3 of 4.5% for leases that  were renewed in multi-tenant buildings (4Q FY2021: +2.9%). Positive average rental  reversions of +2.9%, +22.6% and +6.2% were achieved in Singapore, the USA and  UK/Europe respectively.      Based on new leases signed in FY2021, tenants from the Information Technology & Data  Centre sector accounted for the largest proportion of new demand by gross rental income at  25.5%, followed by the Biomedical and Agri/Aquaculture sector at 24.6%.     1 Includes business & science park/suburban offices.  2 Includes high specifications industrial properties, light industrial properties/flatted factories, and integrated development,  amenities & retail properties.   3  Percentage change of the average gross rent over the lease period of the renewed leases against the preceding average  gross rent from lease start date. Takes into account renewed leases that were signed in the respective period and average  gross rents are weighted by area renewed.     \f        5      The portfolio’s weighted average lease expiry (WALE) stood at 3.8 years and about 18.7% of  Ascendas Reit’s gross rental income will be due for renewal in FY2022.     Valuation Uplift  Ascendas Reit’s investment properties are assessed by independent valuers every year. For  the financial year ended 31 December 2021, Ascendas Reit’s total portfolio4 was valued at  S$16.3 billion. Same-store valuation 5 rose 3.3% to S$13.95 billion. The valuation uplift  demonstrates the strong property fundamentals of the portfolio in Ascendas Reit.    Proactive Capital Management   As at 31 December 2021, aggregate leverage was healthy at 35.9% (30 June 2021: 37.6%,  31 December 2020: 32.8%). Weighted average all-in cost of borrowing improved to 2.2% (30  June 2021: 2.4%, 31 December 2020: 2.7%) and the debt maturity profile remains well-spread  out with weighted average tenure of debt outstanding at 3.5 years.     Ascendas Reit’s liquidity position remains robust. Operating cashflow is stable, underpinned  by a well-diversified portfolio.     About 79.4% of Ascendas Reit’s borrowings are on fixed rates for an average term of 3.6  years. A high level of natural hedge of approximately 76% was maintained for the overseas  investments to minimise the effects of any adverse exchange rate fluctuations.     Ascendas Reit continues to enjoy the A3 credit rating by Moody’s.    Sustainability Efforts  Ascendas Reit remains committed to improving the environmental sustainability of its portfolio.  To-date, 49 properties have achieved green building certifications 6  and Ascendas Reit  continues to have the largest number of BCA Green Mark building certifications in Singapore  amongst Singapore REITs with 40 such buildings.       4  Comprises 217 properties, excluding three properties, 25 Ubi Road 4, 27 Ubi Road 4 and iQuest@IBP, which are under  redevelopment.   5  Same-store valuation comprises 192 properties, excluding divested properties, newly acquired/completed properties and  properties under redevelopment during FY2021.  6 Includes non-Ascendas Reit managed properties.     \f        6    During the year, solar panels were installed at 37A Tampines Street 92 in Singapore,  expanding its rooftop solar generation capacity. Ascendas Reit’s combined rooftop solar farm  across seven of its properties is expected to generate approximately 11,462 megawatt hours  of renewable energy that will help to avoid over 4,676 tonnes of carbon emissions, equivalent  to energy for over 2,400 households annually7.      Outlook   In January 2022, the International Monetary Fund (IMF) lowered its global growth forecast for  2022 by 50 basis points to 4.4%. Global recovery is expected to continue at a more moderate  pace weighed down by the surge in Omicron infections worldwide and supply chain  disruptions.    Singapore  The Singapore economy recovered from a 5.4% contraction in 2020 and expanded by 7.2%  y-o-y in 2021.  The Ministry of Trade and Industry (MTI) projected that the economy will grow  at between 3.0% and 5.0% in 2022 (source: MTI).    With the high vaccination rate in Singapore, the government has allowed 50% of the  workforce, and only fully vaccinated employees, to return to the office from 1 January 2022.  Notwithstanding the gradual reopening in Singapore, the uncertainties posed by the Omicron  wave and the large supply of new industrial properties completing in 2022 may put some  pressure on rental rates and occupancy.     Ascendas Reit’s Singapore portfolio worth S$9.9 billion comprises business space, logistics  and distribution centres, industrial properties and data centres, allowing it to serve a wide  range of customers from industries including technology, life sciences, manufacturing and  logistics across their entire chain of operations.     As part of Ascendas Reit’s asset rejuvenation plan, several asset enhancement initiatives and  redevelopment were completed recently to upgrade property specifications, unlock value  through repositioning or meet green rating requirements. These properties are expected to  generate higher returns for us.           7 Average annual consumption of a four-room HDB household is based on Singapore’s Energy Market Authority’s 2021  Singapore Energy Statistics, pg 44.  \f        7    Australia  In 3Q 2021, the Australian economy grew 3.9% y-o-y but contracted 1.9% q-o-q. Household  spending declined 4.8% q-o-q as a result of further lockdowns across New South Wales,  Victoria and the Australian Capital Territory to reduce the spread of the Delta variant (source:  Australian Bureau of Statistics).     Whilst the lockdowns and restrictions have largely been lifted at the end of 2021, some  measures were re-introduced in early 2022 to combat the growing number of Omicron cases.  The IMF projected the Australian economy to achieve a GDP growth of 4.1% in 2022.     Two new logistics properties, Lot 7 Kiora Crescent in Sydney and 500 Green Road in  Brisbane, are expected to complete in 1Q 2022 for S$90.2 million. In 4Q 2022, MQX4,  Ascendas Reit’s new suburban office in Sydney, is expected to complete, which will expand  its footprint within the Macquarie Park innovation district. Total investment properties in  Australia is expected to grow to S$2.6 billion after including these properties.     With average rent escalations of approximately 3% per annum, the Australian portfolio  provides a stable income stream for Ascendas Reit.      United States (USA)  In 2021, the USA economy grew 5.7% y-o-y compared to a 3.4% y-o-y contraction in 2020.  Consumer spending helped support GDP growth in 4Q 2021 which rose 6.9% q-o-q compared  to the 2.3% increase in 3Q 2021 (source: US Bureau of Economic Analysis). GDP is expected  to expand by 4.0% in 2022 (source: IMF).    The newly acquired portfolio of logistics properties in Kansas City achieved 100% occupancy,  an improvement from 92.6% when the acquisition was completed in November 2021. The  logistics portfolio is expected to remain resilient amidst the low vacancy rate of 4.7% (source:  Newmark Zimmer, 4Q 2021) and strong demand for logistics space in the market.     As companies continue to re-evaluate their real estate footprint, leasing activity for some  business space properties is expected to remain slow. Nevertheless, the performance of  Ascendas Reit’s USA portfolio is underpinned by a long WALE of 4.4 years and a high  proportion of leases with rent escalation clauses of between 2.5% and 4.0% per annum.       \f        8    United Kingdom (UK) / Europe  UK’s GDP rose 6.8% y-o-y and 1.1% q-o-q in 3Q 2021. Q4 2021 GDP is anticipated to either  reach or surpass its pre-coronavirus level (Q4 2019) (source: Office for National Statistics).  UK’s economy is projected to deliver a growth of 4.7% in 2022 (source: IMF).     The economies of Western Europe have largely rebounded from the COVID 19 disruptions,  with France’s 2021 economic growth strongest in 52 years at 7% (source: The National  Institute of Statistics and Economic Studies of France) and the European Commission  forecasting GDP growth for the Netherlands in 2021 coming in at about 4%.    In the UK/Europe, Ascendas Reit doubled its assets under management to S$1.8 billion in  FY2021 after the acquisition of 11 European data centres. The portfolio has a long WALE of  5.7 years and is poised to benefit from the strong e-commerce adoption and digitalisation of  activities.     Conclusion  The trajectory and future impact of the pandemic remains unpredictable. However, we believe  the demand for our asset classes will remain healthy. The Manager will continue to exercise  prudence, maintain a strong balance sheet and proactively manage its S$16.3 billion portfolio  to deliver sustainable returns for its Unitholders.     - End –                                                  \f        9    About Ascendas Real Estate Investment Trust (www.ascendas-reit.com)     Ascendas Real Estate Investment Trust (Ascendas Reit) is Singapore’s first and largest listed business space and  industrial real estate investment trust. It was listed on the Singapore Exchange Securities Trading Limited (SGX- ST) in November 2002.      As at 31 December 2021, Ascendas Reit’s investment properties under management stood at S$16.3 billion. The  portfolio comprises 220 properties across the developed markets of Singapore, Australia, the United States and  the United Kingdom/Europe. Ascendas Reit’s portfolio includes business spaces, logistics & distribution centres,  industrial properties and data centres.      These properties house a tenant base of more than 1,570 international and local companies from a wide range of  industries and activities, including research and development, life sciences, information technology, engineering,  light manufacturing, logistics service providers, electronics, telecommunications, manufacturing services and back- room office support in service industries. Major tenants include Singtel, Stripe, DSO National Laboratories, SEA  Group, Pinterest, DBS, CareFusion, Citibank, Equinix and J.P. Morgan.      Ascendas Reit is listed in several indices. These include the FTSE Straits Times Index, the Morgan Stanley Capital  International, Inc (MSCI) Index, the European Public Real Estate Association/National Association of Real Estate  Investment Trusts (EPRA/NAREIT) Global Real Estate Index and Global Property Research (GPR) Asia 250.  Ascendas Reit has an issuer rating of ‘A3’ by Moody’s Investors Service.      Ascendas Reit is managed by Ascendas Funds Management (S) Limited, a wholly owned subsidiary of CapitaLand  Investment Limited, a leading global real estate investment manager with a strong Asia foothold.       About CapitaLand Investment Limited (www.capitalandinvest.com)    Headquartered and listed in Singapore, CapitaLand Investment Limited (CLI) is a leading global real estate  investment manager (REIM) with a strong Asia foothold.  As at 30 September 2021, CLI had about S$120.8 billion  of real estate assets under management, and about S$84.3 billion of real estate funds under management (FUM)  held via six listed real estate investment trusts and business trusts, and 30 private funds across the Asia-Pacific,  Europe and USA.  Its diversified real estate asset classes cover integrated developments, retail, office, lodging and  new economy sectors such as business parks, industrial, logistics and data centres.   CLI aims to scale its FUM and fee-related earnings through its full stack of investment management and operating  capabilities.  As the listed investment management business arm of the CapitaLand Group, CLI has access to the  development capabilities of and pipeline investment opportunities from CapitaLand’s development arm.  Being a  part of the well-established CapitaLand ecosystem differentiates CLI from other REIMs.   As part of the CapitaLand Group, CLI places sustainability at the core of what it does.  As a responsible real estate  company, CLI contributes to the environmental and social well-being of the communities where it operates, as it  delivers long-term economic value to its stakeholders.        For investor and media queries, please contact:     Ms Yeow Kit Peng   Head, Capital Markets & Investor Relations  Ascendas Funds Management (S) Limited  Tel: +65 6713 1153  Email: yeow.kitpeng@capitaland.com  Ms Wylyn Liu  Assistant Vice President, Investor Relations   Ascendas Funds Management (S) Limited  Tel: +65 6713 1150  Email: wylyn.liu@capitaland.com        \f        10    Important Notice    This press release may contain forward-looking statements. Actual future performance, outcomes and results may differ  materially from those expressed in forward-looking statements as a result of a number of risks, uncertainties and assumptions.  Representative examples of these factors include (without limitation) general industry and economic conditions, interest rate  trends, cost of capital and capital availability, availability of real estate properties, competition from other developments or  companies, shifts in customer demands, shifts in expected levels of occupancy rate, property rental income, charge out  collections, changes in operating expenses (including employee wages, benefits and training, property operating expenses),  governmental and public policy changes and the continued availability of financing in the amounts and the terms necessary to  support future business.    You are cautioned not to place undue reliance on these forward-looking statements, which are based on the current view of  management regarding future events. No representation or warranty express or implied is made as to, and no reliance should be  placed on, the fairness, accuracy, completeness or correctness of the information or opinions contained in this press release.  Neither Ascendas Funds Management (S) Limited (“Manager”) nor any of its affiliates, advisers or representatives shall have  any liability whatsoever (in negligence or otherwise) for any loss howsoever arising, whether directly or indirectly, from any use  of, reliance on or distribution of this press release or its contents or otherwise arising in connection with this press release.     The past performance of Ascendas Real Estate Investment Trust (“Ascendas Reit”) is not indicative of future performance. The  listing of the units in the Ascendas Reit (“Units”) on the Singapore Exchange Securities Trading Limited (SGX-ST) does not  guarantee a liquid market for the Units. The value of the Units and the income derived from them may fall as well as rise. Units  are not obligations of, deposits in, or guaranteed by, the Manager. An investment in the Units is subject to investment risks,  including the possible loss of the principal amount invested. Investors have no right to request that the Manager redeem or  purchase their Units while the Units are listed on the SGX-ST. It is intended that holders of Units may only deal in their Units  through trading on the SGX-ST.    This press release is for information only and does not constitute an invitation or offer to acquire, purchase or subscribe for the  Units.    \n",
      "['2021', '2021']\n",
      "['31 December 2021', '31 December 2021', '31 December 2021', '8 February 2022', '31 December 2021', '31 December 2021', '31 December 2021', '30 September 2021', '31 December 2021', '30 September 2021', '31 December 2021', '30 September 2021', '30 September 2021', '30 September 2021', '31 December 2021', '31 December 2021', '30 June 2021', '31 December 2020', '31 December 2020', '1 January 2022', '31 December 2021', '30 September 2021']\n",
      "['93.2%', '93.2%', '99.2%']\n",
      "[]\n"
     ]
    }
   ],
   "source": [
    "import requests\n",
    "import re\n",
    "import fitz\n",
    "\n",
    "url = \"https://links.sgx.com/FileOpen/1_Ascendas%20Reit%20FY2021%20Press%20Release.ashx?App=Announcement&FileID=701314\"\n",
    "\n",
    "response = requests.get(url=url, \n",
    "                        stream=True)\n",
    "with fitz.open(stream=response.content, filetype=\"pdf\") as doc:  # open document\n",
    "    text = chr(12).join([page.get_text().replace(\"\\n\",\" \") for page in doc])\n",
    "    print(text)\n",
    "    pattern1=r\"(?:ended\\s\\d{1,2}\\s\\w+\\s.*|\\dH\\s|FY)((?:[to\\s]19|20)\\d{2})\"\n",
    "    pattern1a = r\"\\d{1,2}\\s(?:January|February|March|April|May|June|July|August|September|October|November|December)\\s(?:\\d{1,2}){1,2}\"\n",
    "    matched_text1 = re.findall(pattern=pattern1, string=text, flags=re.IGNORECASE)\n",
    "    matched_text1a = re.findall(pattern=pattern1a, string=text, flags=re.IGNORECASE)\n",
    "    print(matched_text1)\n",
    "    print(matched_text1a)\n",
    "    \n",
    "    pattern2 = r\"portfolio[’'\\s\\w]+occupanc(?:y|ies)[\\s\\w-]+(\\d{2,3}(?:\\.\\d+)?%)\"\n",
    "    matched_text2 = re.findall(pattern=pattern2, string=text)\n",
    "    print(matched_text2)\n",
    "\n",
    "    pattern3 = r\"lease\\sexpiry[\\s\\w]+(\\d+(?:\\.\\d+)?)\\syears\"\n",
    "    matched_text3 = re.findall(pattern=pattern3, string=text, flags=re.IGNORECASE)\n",
    "    print(matched_text3)"
   ]
  },
  {
   "cell_type": "markdown",
   "metadata": {},
   "source": [
    "## Computing Environment"
   ]
  },
  {
   "cell_type": "code",
   "execution_count": 3,
   "metadata": {},
   "outputs": [
    {
     "name": "stdout",
     "output_type": "stream",
     "text": [
      "Last updated: 2024-03-10T08:12:57.494387+00:00\n",
      "\n",
      "Python implementation: CPython\n",
      "Python version       : 3.10.12\n",
      "IPython version      : 8.22.2\n",
      "\n",
      "Compiler    : GCC 11.4.0\n",
      "OS          : Linux\n",
      "Release     : 6.1.75-060175-generic\n",
      "Machine     : x86_64\n",
      "Processor   : x86_64\n",
      "CPU cores   : 16\n",
      "Architecture: 64bit\n",
      "\n",
      "fitz    : 1.23.26\n",
      "re      : 2.2.1\n",
      "requests: 2.31.0\n",
      "\n",
      "Last updated: Sun Mar 10 2024 08:12:57UTC\n",
      "\n"
     ]
    }
   ],
   "source": [
    "%load_ext watermark\n",
    "\n",
    "%watermark\n",
    "\n",
    "# print out pypi packages used\n",
    "%watermark --iversions\n",
    "\n",
    "# date\n",
    "%watermark -u -n -t -z"
   ]
  }
 ],
 "metadata": {
  "kernelspec": {
   "display_name": "py3.10",
   "language": "python",
   "name": "python3"
  },
  "language_info": {
   "codemirror_mode": {
    "name": "ipython",
    "version": 3
   },
   "file_extension": ".py",
   "mimetype": "text/x-python",
   "name": "python",
   "nbconvert_exporter": "python",
   "pygments_lexer": "ipython3",
   "version": "3.10.12"
  }
 },
 "nbformat": 4,
 "nbformat_minor": 2
}
