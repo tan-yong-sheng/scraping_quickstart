{
 "cells": [
  {
   "cell_type": "markdown",
   "metadata": {},
   "source": [
    "## Case Study: Solve recaptcha v2 with 2captcha service and Selenium\n",
    "\n",
    "Created by [tanyongsheng.net](https://tanyongsheng.net)"
   ]
  },
  {
   "cell_type": "markdown",
   "metadata": {},
   "source": [
    "---\n",
    "\n",
    "### Prerequisite\n",
    "1. Buy 2Captcha credit at https://2captcha.com/?from=22013304 (Note: this is an affiliate link)\n",
    "\n",
    "### Reference \n",
    "1. How to Solve Captcha / ReCaptcha - Python and 2captcha https://www.youtube.com/watch?v=R6QddZzCOwM & https://github.com/eupendra/2captcha_demo/blob/main/demo_requests.py\n",
    "2. Bypass captcha in Python: https://2captcha.com/lang/python\n",
    "\n",
    "(Credit: this is the code from 2captcha support team)\n",
    "\n",
    "----"
   ]
  },
  {
   "cell_type": "code",
   "execution_count": null,
   "metadata": {},
   "outputs": [],
   "source": [
    "%pip install selenium\n",
    "%pip install webdriver-manager\n",
    "%pip install 2captcha-python\n",
    "%pip install python-dotenv\n",
    "# to inspect what python package imported in this jupyter notebook\n",
    "%pip install watermark"
   ]
  },
  {
   "cell_type": "code",
   "execution_count": 1,
   "metadata": {},
   "outputs": [],
   "source": [
    "import re\n",
    "import time\n",
    "import requests\n",
    "from selenium import webdriver\n",
    "from selenium.webdriver.common.by import By\n",
    "from selenium.webdriver.support.ui import WebDriverWait\n",
    "from selenium.webdriver.support import expected_conditions as EC\n",
    "from dotenv import load_dotenv\n",
    "import os\n"
   ]
  },
  {
   "cell_type": "code",
   "execution_count": 2,
   "metadata": {},
   "outputs": [],
   "source": [
    "_ = load_dotenv()\n",
    "\n",
    "api_key = os.getenv(\"2CAPTCHA_API_KEY\")\n",
    "investingnote_username = os.getenv(\"INVESTINGNOTE_USERNAME\")\n",
    "investingnote_password = os.getenv(\"INVESTINGNOTE_PASSWORD\")\n",
    "login_page_url = 'https://www.investingnote.com/users/sign_in'"
   ]
  },
  {
   "cell_type": "code",
   "execution_count": 3,
   "metadata": {},
   "outputs": [],
   "source": [
    "# proxy1 = \"xxxx:xxxx@xx.xxx.xx.xxx:xxxx\"  # YOUR PROXY\n",
    "driver = webdriver.Chrome()  # You can use another WebDriver (e.g., Firefox, Edge) if needed\n",
    "\n",
    "driver.get(login_page_url)\n",
    "time.sleep(5)"
   ]
  },
  {
   "cell_type": "code",
   "execution_count": 4,
   "metadata": {},
   "outputs": [
    {
     "name": "stdout",
     "output_type": "stream",
     "text": [
      "sitekey:  6LfAHhcTAAAAAKIc0n_1WmG3P6DA4YIojZmH7wKq\n"
     ]
    }
   ],
   "source": [
    "# fnd site key of InvestingNote website (or you could manually find )\n",
    "src = driver.find_element(By.TAG_NAME, \"iframe\").get_attribute(\"src\")\n",
    "pattern = r'k=([^&]+)'\n",
    "result = re.search(pattern, src)\n",
    "sitekey = result.group(1)\n",
    "print(\"sitekey: \", sitekey)\n",
    "\n",
    "driver.find_element(By.ID, \"user_login\").send_keys(investingnote_username)\n",
    "time.sleep(1)\n",
    "\n",
    "driver.find_element(By.ID, \"user_password\").send_keys(investingnote_password)"
   ]
  },
  {
   "cell_type": "code",
   "execution_count": 5,
   "metadata": {},
   "outputs": [
    {
     "name": "stdout",
     "output_type": "stream",
     "text": [
      "Request has been sent:  {\"status\":1,\"request\":\"75831001538\"}\n",
      "status :  1\n",
      "request :  03AFcWeA45mcwF3Yx7z3i3enj1e9ri2fZhrXWRPUw4y8zdUXG0hJMn4HEzjzaPSROdQfUoVSaIG-zfOBdvVbjJYTANaxna3ydGaeeELtrRBufdMBtApbZyDVYd6y4wYmkMqqRwHGvQlTrCOR9JeytOzxobWJnt-Qyh_yEllbEifIoZ35LJvlkXwE7KzEqhIQ-itns-k-SlX6_L8WyBQDNZZgE9aNV7W7XVyXWXaavC8pD1BBPe5hOm5aQsSxt0z6x6lI1kMDpB3VoPdSakCr5URYuja1OfQXUUE32Kd8933xci08i45jk06ishQoCkiJUYHESQbEP6H_RfJDK_W4RaQi5iBIfs76eAwg81ISb2f2hoAg1lkZoneh3bd44vUkQl68omoBCUeyxcJSfg1muyiph1S6bPXUsAggFR7_Tj1XnKtAyPcJEBf4DdFSG2k05M_lgMRgFwH2FOZ8vNBKdbU2sCu9s7L36bQxPYtCU75EBsSkQ5cZ5ODZKc6uDdeGdRT4C5UkMWOS-aVqQ7-0SRmdzJuaRRRyi7HQmVMlfOOspphOS4xJnxeSZgO5hY7Acc4bK7HDTmcCfuQCeEZh3YMUmsjFwERY-95-E_iJdZBULu8qtD4jNrOds_rSz0LtGG3_aubR_VIA6KSFfCbiehDw_IXssrZNVwX-KRYRyw7itbSGr6lU4DFibB8QvBO6CpfEkPHv9blg7wPda8T_qd3uwyFoUiBq8InOFjqNeQkXYJyhooYcVKSwkQxV-xllaoCZ47ROHRA84P\n",
      "Answer inserted\n"
     ]
    }
   ],
   "source": [
    "# REference: https://2captcha.com/p/recaptcha_v2\n",
    "\n",
    "try:\n",
    "    ## Send sitekey and pageurl to 2Captcha API.\n",
    "    data = {\"key\": api_key,\n",
    "            \"method\": \"userrecaptcha\",\n",
    "            \"googlekey\": sitekey,\n",
    "            \"json\": 1,\n",
    "            \"pageurl\": login_page_url,\n",
    "            # \"proxy\": proxy1,\n",
    "            \"proxytype\": \"HTTP\",\n",
    "            }\n",
    "    response = requests.post(f\"https://2captcha.com/in.php?\", data=data)\n",
    "    print(\"Request has been sent: \", response.text)\n",
    "    s = response.json()[\"request\"]\n",
    "    time.sleep(20)\n",
    "\n",
    "    while True:\n",
    "        solu = requests.get(f\"https://2captcha.com/res.php?key={api_key}&action=get&json=1&id={s}\").json()\n",
    "        if solu[\"request\"] == \"CAPCHA_NOT_READY\":\n",
    "            print(solu[\"request\"])\n",
    "            time.sleep(10)\n",
    "        elif \"ERROR\" in solu[\"request\"]:\n",
    "            print(solu[\"request\"])\n",
    "            driver.close()\n",
    "            driver.quit()\n",
    "            exit(0)\n",
    "        else:\n",
    "            break\n",
    "            \n",
    "    for key, value in solu.items():\n",
    "        print(key, \": \", value)\n",
    "\n",
    "    solu = solu[\"request\"]\n",
    "    time.sleep(2)\n",
    "\n",
    "    driver.execute_script(\"document.getElementsByName('g-recaptcha-response')[0].value = arguments[0];\", solu)\n",
    "    iframe = driver.find_element(By.XPATH, \"/html/body/div[1]/div[1]/div[2]/div/div/div/form/fieldset/section[3]/div/div/div/iframe\")\n",
    "    driver.switch_to.frame(iframe)\n",
    "    el = driver.find_element(By.ID, \"recaptcha-token\")\n",
    "    driver.execute_script(f\"arguments[0].setAttribute('value', '{solu}');\", el)\n",
    "    time.sleep(1)\n",
    "    driver.switch_to.default_content()\n",
    "\n",
    "    script = \"\"\"document.getElementById('sign-in-btn').removeAttribute('disabled');\"\"\"  # Making the button visible\n",
    "    driver.execute_script(script)\n",
    "\n",
    "    time.sleep(2)\n",
    "    print(\"Answer inserted\")\n",
    "    time.sleep(2)\n",
    "    driver.find_element(By.ID, \"sign-in-btn\").click()  # Click on the authorization button\n",
    "    time.sleep(50)\n",
    "\n",
    "except Exception as ex:\n",
    "    print(ex)\n",
    "\n",
    "finally:\n",
    "    time.sleep(1)\n",
    "    driver.close()\n",
    "    driver.quit()\n"
   ]
  },
  {
   "cell_type": "markdown",
   "metadata": {},
   "source": [
    "## Computing Environment"
   ]
  },
  {
   "cell_type": "code",
   "execution_count": 6,
   "metadata": {},
   "outputs": [
    {
     "name": "stdout",
     "output_type": "stream",
     "text": [
      "Last updated: 2024-03-01T22:44:49.148624+08:00\n",
      "\n",
      "Python implementation: CPython\n",
      "Python version       : 3.10.12\n",
      "IPython version      : 8.21.0\n",
      "\n",
      "Compiler    : MSC v.1916 64 bit (AMD64)\n",
      "OS          : Windows\n",
      "Release     : 10\n",
      "Machine     : AMD64\n",
      "Processor   : Intel64 Family 6 Model 142 Stepping 12, GenuineIntel\n",
      "CPU cores   : 8\n",
      "Architecture: 64bit\n",
      "\n",
      "re      : 2.2.1\n",
      "requests: 2.31.0\n",
      "selenium: 4.18.1\n",
      "\n",
      "Last updated: Fri Mar 01 2024 22:44:49Malay Peninsula Standard Time\n",
      "\n"
     ]
    }
   ],
   "source": [
    "%load_ext watermark\n",
    "\n",
    "%watermark\n",
    "%watermark  --iversions\n",
    "%watermark -u -n -t -z"
   ]
  }
 ],
 "metadata": {
  "kernelspec": {
   "display_name": "py3.10",
   "language": "python",
   "name": "python3"
  },
  "language_info": {
   "codemirror_mode": {
    "name": "ipython",
    "version": 3
   },
   "file_extension": ".py",
   "mimetype": "text/x-python",
   "name": "python",
   "nbconvert_exporter": "python",
   "pygments_lexer": "ipython3",
   "version": "3.10.12"
  }
 },
 "nbformat": 4,
 "nbformat_minor": 2
}
