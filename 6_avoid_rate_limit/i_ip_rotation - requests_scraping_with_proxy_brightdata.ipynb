{
 "cells": [
  {
   "cell_type": "markdown",
   "metadata": {},
   "source": [
    "# Rotating IP address with Bright Data and Python library requests\n",
    "\n",
    "When scraping data from websites, regularly changing the IP address used can be beneficial for the following reasons:\n",
    "\n",
    "1. **Maintaining privacy:** By rotating IP addresses, it becomes difficult for websites to trace multiple requests back to a single source. This helps keep your web scraping activities more confidential.\n",
    "\n",
    "2. **Avoiding Blocks:** Websites often block IP addresses that send excessive scraping requests. By frequently changing your IP, you can distribute requests across many IPs and reduce the chances of getting blocked.\n",
    "\n",
    "3. **Mitigating API Rate Limits:** APIs often limit how many requests can be made from one IP address. Rotating IPs allows you to spread requests over many IPs, helping stay under API rate limits and avoid 429 error (or \"Too Many Requests\" errors).\n",
    "\n",
    "---\n",
    "\n",
    "## Pre-requisites\n",
    "Have a [Brightdata](https://brightdata.com/) account"
   ]
  },
  {
   "cell_type": "markdown",
   "metadata": {},
   "source": [
    "### Step 1: Install libraries"
   ]
  },
  {
   "cell_type": "code",
   "execution_count": 5,
   "metadata": {},
   "outputs": [
    {
     "name": "stdout",
     "output_type": "stream",
     "text": [
      "Defaulting to user installation because normal site-packages is not writeable\n",
      "Requirement already satisfied: requests in /home/gitpod/.pyenv/versions/3.10.13/lib/python3.10/site-packages (2.31.0)\n",
      "Requirement already satisfied: charset-normalizer<4,>=2 in /home/gitpod/.pyenv/versions/3.10.13/lib/python3.10/site-packages (from requests) (3.3.2)\n",
      "Requirement already satisfied: idna<4,>=2.5 in /home/gitpod/.pyenv/versions/3.10.13/lib/python3.10/site-packages (from requests) (3.6)\n",
      "Requirement already satisfied: urllib3<3,>=1.21.1 in /workspace/.pyenv_mirror/user/3.10.13/lib/python3.10/site-packages (from requests) (1.26.18)\n",
      "Requirement already satisfied: certifi>=2017.4.17 in /home/gitpod/.pyenv/versions/3.10.13/lib/python3.10/site-packages (from requests) (2024.2.2)\n",
      "Note: you may need to restart the kernel to use updated packages.\n",
      "Defaulting to user installation because normal site-packages is not writeable\n",
      "Requirement already satisfied: python-dotenv in /home/gitpod/.pyenv/versions/3.10.13/lib/python3.10/site-packages (1.0.1)\n",
      "Note: you may need to restart the kernel to use updated packages.\n"
     ]
    }
   ],
   "source": [
    "%pip install requests\n",
    "%pip install python-dotenv"
   ]
  },
  {
   "cell_type": "markdown",
   "metadata": {},
   "source": [
    "### Step 2: Set up proxy server"
   ]
  },
  {
   "cell_type": "markdown",
   "metadata": {},
   "source": [
    "Assuming you've established your Bright Data account, the next step involves setting up your proxy server through this link: https://brightdata.com/cp/zones. In my experience, I opted for data center proxies due to their superior speed and cost-effectiveness.\n",
    "\n",
    "I'll consistently choose data center proxies unless there are compelling reasons to reconsider. For example, when I still get blocked using data center proxies, I would choose to use residential proxies which is more expensive.\n",
    "\n",
    "<img src=\"../assets/static/brightdata-create-datacenter-proxies-step1.png\" width=500px alt=\"Step 1 - Create Datacenter proxies in Bright Data\"><br>\n",
    "\n",
    "Here I will choose to use premium data center proxies. Because this plan got a large pool of IP address I could rotate with:\n",
    "\n",
    "For the other two plans, adding 1 more IP address would cost +$0.80/month...\n",
    "\n",
    "<img src=\"../assets/static/brightdata-create-datacenter-proxies-step2.png\" width=500px alt=\"Step 2 - Create Datacenter proxies in Bright Data\"><br>\n",
    "\n",
    "\n",
    "You can find the proxy pricing here (approximately $1.2/GB). Let's do a quick estimate: if each of your requests is around 50KB, sending 20,000 requests would only cost you $1.2!\n",
    "\n",
    "<img src=\"../assets/static/brightdata-create-datacenter-proxies-step3.png\" width=500px alt=\"Step 3 - Create Datacenter proxies in Bright Data\">"
   ]
  },
  {
   "cell_type": "markdown",
   "metadata": {},
   "source": [
    "### Step 3: IP rotating with Python library requests"
   ]
  },
  {
   "cell_type": "code",
   "execution_count": 6,
   "metadata": {},
   "outputs": [],
   "source": [
    "import os\n",
    "import random\n",
    "\n",
    "import requests\n",
    "from dotenv import load_dotenv\n",
    "\n",
    "_ = load_dotenv()\n",
    "\n",
    "url = \"https://httpbin.co/ip\"\n",
    "\n",
    "proxy_hostname = os.getenv(\"PROXY_HOSTNAME\")\n",
    "proxy_username = os.getenv(\"PROXY_USERNAME\")\n",
    "proxy_password = os.getenv(\"PROXY_PASSWORD\")"
   ]
  },
  {
   "cell_type": "code",
   "execution_count": 7,
   "metadata": {},
   "outputs": [],
   "source": [
    "class ProxyServer:\n",
    "    def __init__(self, proxy_username, proxy_password, proxy_hostname):\n",
    "        self.proxy_username = proxy_username\n",
    "        self.proxy_password = proxy_password\n",
    "        self.proxy_hostname = proxy_hostname\n",
    "\n",
    "    def __call__(self):\n",
    "        rand_num = random.randint(1, 9999)\n",
    "        # Reference: https://docs.brightdata.com/api-reference/proxy/rotate_ips\n",
    "        ## Add -session parameter to this proxy to change IP address every requests is sent\n",
    "        proxy = f\"{self.proxy_username}-session-rand{rand_num}:{self.proxy_password}@{self.proxy_hostname}\"\n",
    "        return {\n",
    "            \"http\": f\"https://{proxy}\",\n",
    "            \"https\": f\"https://{proxy}\",\n",
    "        }\n",
    "\n",
    "proxy_servers = ProxyServer(proxy_username, proxy_password, proxy_hostname)\n",
    "# call proxy_servers() to register a new IP proxy\n",
    "# >> proxies = proxy_servers() "
   ]
  },
  {
   "cell_type": "code",
   "execution_count": 8,
   "metadata": {},
   "outputs": [
    {
     "name": "stdout",
     "output_type": "stream",
     "text": [
      "IP location metadata: {'method': 'GET', 'ip': '94.139.59.101', 'country': 'US', 'timezone': 'America/Chicago'}\n",
      "IP location metadata: {'method': 'GET', 'ip': '119.12.196.60', 'country': 'US', 'timezone': 'America/Chicago'}\n",
      "IP location metadata: {'method': 'GET', 'ip': '161.129.163.147', 'country': 'US', 'timezone': 'America/Chicago'}\n",
      "IP location metadata: {'method': 'GET', 'ip': '45.66.178.83', 'country': 'GB', 'region': 'England', 'city': 'London', 'timezone': 'Europe/London'}\n",
      "IP location metadata: {'method': 'GET', 'ip': '89.32.132.58', 'country': 'DE', 'timezone': 'Europe/Berlin'}\n",
      "IP location metadata: {'method': 'GET', 'ip': '93.180.229.23', 'country': 'US', 'timezone': 'America/Chicago'}\n",
      "IP location metadata: {'method': 'GET', 'ip': '161.123.109.137', 'country': 'US', 'region': 'Texas', 'city': 'Austin', 'timezone': 'America/Chicago'}\n",
      "IP location metadata: {'method': 'GET', 'ip': '161.123.79.31', 'country': 'US', 'region': 'New York', 'city': 'Newark', 'timezone': 'America/New_York'}\n",
      "IP location metadata: {'method': 'GET', 'ip': '185.243.108.118', 'country': 'AU', 'timezone': 'Australia/Sydney'}\n",
      "IP location metadata: {'method': 'GET', 'ip': '188.212.137.156', 'country': 'US', 'region': 'New York', 'city': 'Newark', 'timezone': 'America/New_York'}\n"
     ]
    }
   ],
   "source": [
    "# build a session object to preserve the session cookies (or login status, if applicable)\n",
    "## throughout the process of sending web requests\n",
    "\n",
    "session = requests.Session()\n",
    " \n",
    "for idx in range(1, 11):\n",
    "    response = session.request('GET', url=url, \n",
    "                proxies=proxy_servers()) # changing IP address every new requests\n",
    "    # Note: you will see the web requests will be sent from different IP address \n",
    "    print(\"IP location metadata:\", response.json())"
   ]
  },
  {
   "cell_type": "markdown",
   "metadata": {},
   "source": [
    "## Computing environment"
   ]
  },
  {
   "cell_type": "code",
   "execution_count": 9,
   "metadata": {},
   "outputs": [
    {
     "name": "stdout",
     "output_type": "stream",
     "text": [
      "Last updated: 2024-03-17T07:44:11.463859+00:00\n",
      "\n",
      "Python implementation: CPython\n",
      "Python version       : 3.10.13\n",
      "IPython version      : 8.22.2\n",
      "\n",
      "Compiler    : GCC 11.4.0\n",
      "OS          : Linux\n",
      "Release     : 6.1.75-060175-generic\n",
      "Machine     : x86_64\n",
      "Processor   : x86_64\n",
      "CPU cores   : 16\n",
      "Architecture: 64bit\n",
      "\n",
      "requests: 2.31.0\n",
      "\n",
      "Last updated: Sun Mar 17 2024 07:44:11UTC\n",
      "\n"
     ]
    }
   ],
   "source": [
    "%load_ext watermark\n",
    "\n",
    "%watermark\n",
    "\n",
    "# print out pypi packages used\n",
    "%watermark --iversions\n",
    "\n",
    "# date\n",
    "%watermark -u -n -t -z"
   ]
  }
 ],
 "metadata": {
  "kernelspec": {
   "display_name": "py3.10",
   "language": "python",
   "name": "python3"
  },
  "language_info": {
   "codemirror_mode": {
    "name": "ipython",
    "version": 3
   },
   "file_extension": ".py",
   "mimetype": "text/x-python",
   "name": "python",
   "nbconvert_exporter": "python",
   "pygments_lexer": "ipython3",
   "version": "3.10.13"
  }
 },
 "nbformat": 4,
 "nbformat_minor": 2
}
