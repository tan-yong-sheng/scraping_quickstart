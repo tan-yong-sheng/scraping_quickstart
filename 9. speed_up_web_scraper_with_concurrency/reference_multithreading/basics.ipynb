{
 "cells": [
  {
   "cell_type": "markdown",
   "metadata": {},
   "source": [
    "## MultiThreading in Python | Python Concurrent futures | ThreadPoolExecutor\n",
    "\n",
    "Reference: \n",
    "1. MultiThreading in Python | Python Concurrent futures | ThreadPoolExecutor https://www.youtube.com/watch?v=i0Tey6Gprnc&t=495s"
   ]
  },
  {
   "cell_type": "code",
   "execution_count": 1,
   "metadata": {},
   "outputs": [],
   "source": [
    "import concurrent.futures\n",
    "import time\n",
    "\n",
    "def fn_take_time(seconds=3):\n",
    "    print('before execution')\n",
    "    time.sleep(seconds)\n",
    "    print('after execution')\n",
    "    return str(seconds) + \"s\""
   ]
  },
  {
   "cell_type": "markdown",
   "metadata": {},
   "source": [
    "### Part 1: Using ThreadPoolExecutor Map in Python"
   ]
  },
  {
   "cell_type": "code",
   "execution_count": 2,
   "metadata": {},
   "outputs": [
    {
     "name": "stdout",
     "output_type": "stream",
     "text": [
      "before execution\n",
      "before execution\n",
      "before execution\n",
      "before execution\n",
      "before execution\n",
      "before execution\n",
      "before execution\n",
      "before execution\n",
      "before execution\n",
      "before execution\n",
      "after execution\n",
      "after execution\n",
      "after execution\n",
      "after execution\n",
      "after execution\n",
      "After sleep calling result\n",
      "after execution\n",
      "after execution\n",
      "after execution\n",
      "after execution\n",
      "after execution\n",
      "CPU times: user 6.16 ms, sys: 5.09 ms, total: 11.3 ms\n",
      "Wall time: 11 s\n"
     ]
    }
   ],
   "source": [
    "%%time\n",
    "\n",
    "timer = [1,2,3,4,11,1,2,3,4,1]\n",
    "\n",
    "with concurrent.futures.ThreadPoolExecutor(max_workers=10) as ex:\n",
    "    future = ex.map(fn_take_time, timer )\n",
    "    time.sleep(2)\n",
    "    print(\"After sleep calling result\")"
   ]
  },
  {
   "cell_type": "markdown",
   "metadata": {},
   "source": [
    "### Part 2: ThreadPoolExecutor return values from async functions"
   ]
  },
  {
   "cell_type": "code",
   "execution_count": 5,
   "metadata": {},
   "outputs": [
    {
     "name": "stdout",
     "output_type": "stream",
     "text": [
      "before execution\n",
      "before execution\n",
      "before execution\n",
      "before execution\n",
      "before execution\n",
      "before execution\n",
      "before execution\n",
      "before execution\n",
      "before execution\n",
      "before execution\n"
     ]
    },
    {
     "name": "stdout",
     "output_type": "stream",
     "text": [
      "after execution\n",
      "1s\n",
      "after execution\n",
      "1s\n",
      "after execution\n",
      "1s\n",
      "after execution\n",
      "2s\n",
      "after execution\n",
      "2s\n",
      "after execution\n",
      "3s\n",
      "after execution\n",
      "3s\n",
      "after execution\n",
      "4s\n",
      "after execution\n",
      "4s\n",
      "after execution\n",
      "11s\n",
      "CPU times: user 10 ms, sys: 5.77 ms, total: 15.8 ms\n",
      "Wall time: 11 s\n"
     ]
    }
   ],
   "source": [
    "%%time\n",
    "\n",
    "timer=[1,2,3,4,11,1,2,3,4,1]\n",
    "\n",
    "with concurrent.futures.ThreadPoolExecutor(max_workers=10) as ex:\n",
    "    results = {\n",
    "        ex.submit(fn_take_time, the_time): the_time for the_time in timer\n",
    "    }\n",
    "\n",
    "    for result in concurrent.futures.as_completed(results):\n",
    "        exchange = results[result]\n",
    "        print(result.result())"
   ]
  },
  {
   "cell_type": "markdown",
   "metadata": {},
   "source": [
    "### Computing Environment"
   ]
  },
  {
   "cell_type": "code",
   "execution_count": 4,
   "metadata": {},
   "outputs": [
    {
     "name": "stdout",
     "output_type": "stream",
     "text": [
      "Last updated: 2024-03-10T10:04:27.131562+00:00\n",
      "\n",
      "Python implementation: CPython\n",
      "Python version       : 3.10.12\n",
      "IPython version      : 8.22.2\n",
      "\n",
      "Compiler    : GCC 11.4.0\n",
      "OS          : Linux\n",
      "Release     : 6.1.75-060175-generic\n",
      "Machine     : x86_64\n",
      "Processor   : x86_64\n",
      "CPU cores   : 16\n",
      "Architecture: 64bit\n",
      "\n",
      "\n",
      "Last updated: Sun Mar 10 2024 10:04:27UTC\n",
      "\n"
     ]
    }
   ],
   "source": [
    "%load_ext watermark\n",
    "\n",
    "%watermark\n",
    "\n",
    "# print out pypi packages used\n",
    "%watermark --iversions\n",
    "\n",
    "# date\n",
    "%watermark -u -n -t -z"
   ]
  }
 ],
 "metadata": {
  "kernelspec": {
   "display_name": "Python 3",
   "language": "python",
   "name": "python3"
  },
  "language_info": {
   "codemirror_mode": {
    "name": "ipython",
    "version": 3
   },
   "file_extension": ".py",
   "mimetype": "text/x-python",
   "name": "python",
   "nbconvert_exporter": "python",
   "pygments_lexer": "ipython3",
   "version": "3.10.12"
  }
 },
 "nbformat": 4,
 "nbformat_minor": 2
}
