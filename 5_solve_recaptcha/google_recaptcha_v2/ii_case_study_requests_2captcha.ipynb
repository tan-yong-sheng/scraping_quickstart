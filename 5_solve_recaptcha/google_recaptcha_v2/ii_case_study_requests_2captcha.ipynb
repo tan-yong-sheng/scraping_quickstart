{
 "cells": [
  {
   "cell_type": "markdown",
   "metadata": {},
   "source": [
    "## Case Study: Solve recaptcha v2 with 2captcha service and requests\n",
    "\n",
    "Created by [tanyongsheng.net](https://tanyongsheng.net)"
   ]
  },
  {
   "cell_type": "markdown",
   "metadata": {},
   "source": [
    "----\n",
    "\n",
    "### Prerequisite\n",
    "1. Buy 2Captcha credit at https://2captcha.com/?from=22013304 (Note: this is an affiliate link)\n",
    "\n",
    "### Reference \n",
    "1. How to Solve Captcha / ReCaptcha - Python and 2captcha https://www.youtube.com/watch?v=R6QddZzCOwM & https://github.com/eupendra/2captcha_demo/blob/main/demo_requests.py\n",
    "2. Bypass captcha in Python: https://2captcha.com/lang/python\n",
    "\n",
    "\n",
    "----"
   ]
  },
  {
   "cell_type": "markdown",
   "metadata": {},
   "source": [
    "#### Step 1: Install libraries"
   ]
  },
  {
   "cell_type": "code",
   "execution_count": null,
   "metadata": {},
   "outputs": [],
   "source": [
    "# Install Python libraries\n",
    "%pip install requests\n",
    "%pip install lxml\n",
    "%pip install 2captcha-python\n",
    "%pip install python-dotenv"
   ]
  },
  {
   "cell_type": "markdown",
   "metadata": {},
   "source": [
    "#### Step 2: Scrape websites with requests\n",
    "\n",
    "(i) load environment variable from .env file (note: env.sample is the template file for .env)"
   ]
  },
  {
   "cell_type": "code",
   "execution_count": null,
   "metadata": {},
   "outputs": [],
   "source": [
    "import os\n",
    "from dotenv import load_dotenv\n",
    "\n",
    "_ = load_dotenv()\n",
    "\n",
    "# Set up credentials\n",
    "api_key=os.getenv(\"2CAPTCHA_API_KEY\")\n",
    "sitekey=os.getenv(\"INVESTINGNOTE_SITE_KEY\")\n",
    "login_page_url = \"https://www.investingnote.com/users/sign_in\"\n",
    "investingnote_username = os.getenv(\"INVESTINGNOTE_USERNAME\")\n",
    "investingnote_password = os.getenv(\"INVESTINGNOTE_PASSWORD\")"
   ]
  },
  {
   "cell_type": "markdown",
   "metadata": {},
   "source": [
    "(ii) Find Google Recaptcha v2's site key\n",
    "\n",
    "- Locate Google recaptcha v2's link\n",
    "\n",
    "<img src='../../assets/static/investingnote-recaptcha-part1.png' width=600px><br/>\n",
    "\n",
    "- Try to open the Google recaptcha v2's in new tab\n",
    "\n",
    "<img src='../../assets/static/investingnote-recaptcha-part2.png' width=600px><br/>\n",
    "\n",
    "- Get the Google recaptcha v2's site key from the url link\n",
    "\n",
    "<img src='../../assets/static/investingnote-recaptcha-part3.png' width=600px>"
   ]
  },
  {
   "cell_type": "markdown",
   "metadata": {},
   "source": [
    "(iii) Login website "
   ]
  },
  {
   "cell_type": "markdown",
   "metadata": {},
   "source": [
    "- Handling CRSF Token when login"
   ]
  },
  {
   "cell_type": "code",
   "execution_count": null,
   "metadata": {},
   "outputs": [],
   "source": [
    "import requests\n",
    "from lxml import html\n",
    "\n",
    "# get crsf token\n",
    "def get_csrf_token(session, url):\n",
    "    response = session.get(url=url)\n",
    "    tree = html.fromstring(response.content)\n",
    "    csrf_token = tree.xpath(\"//input[@name='authenticity_token']/@value\")[0]\n",
    "    return csrf_token"
   ]
  },
  {
   "cell_type": "markdown",
   "metadata": {},
   "source": [
    "- Solve Google recaptcha v2 when login"
   ]
  },
  {
   "cell_type": "code",
   "execution_count": null,
   "metadata": {},
   "outputs": [],
   "source": [
    "from twocaptcha import TwoCaptcha\n",
    "\n",
    "solver=TwoCaptcha(api_key)\n",
    "def solve_recaptcha(sitekey, url):\n",
    "    # to solve recaptcha v2\n",
    "    result = {}\n",
    "    try:\n",
    "        result = solver.recaptcha(sitekey=sitekey, \n",
    "                                  url=url)\n",
    "    except Exception as e:\n",
    "        exit(e)\n",
    "    return result.get('code')"
   ]
  },
  {
   "cell_type": "markdown",
   "metadata": {},
   "source": [
    "(iv) Start scraping after login"
   ]
  },
  {
   "cell_type": "code",
   "execution_count": 5,
   "metadata": {},
   "outputs": [],
   "source": [
    "session = requests.Session()\n",
    "\n",
    "headers = {\"Content-Type\": \"application/x-www-form-urlencoded\",\n",
    "           \"User-Agent\": \"Mozilla/5.0 (Windows NT 10.0; Win64; x64) AppleWebKit/537.36 (KHTML, like Gecko) Chrome/121.0.0.0 Safari/537.36\"}\n",
    "csrf_token = get_csrf_token(session=session, url=login_page_url)\n",
    "recaptcha_response = solve_recaptcha(sitekey=sitekey, \n",
    "                                     url=login_page_url)\n",
    "\n",
    "payload = {\"utf8\": \"✓\",\n",
    "           \"authenticity_token\": csrf_token,\n",
    "           \"user[login]\": investingnote_username, \n",
    "           \"user[password]\": investingnote_password,\n",
    "           \"g-recaptcha-response\": recaptcha_response, \n",
    "           \"user[remember_me]\": 0,\n",
    "           \"user[remember_me]\": 1\n",
    "           }\n",
    "\n",
    "response = session.request(\"POST\", \n",
    "    url=\"https://www.investingnote.com/users/sign_in\",\n",
    "    data=payload,\n",
    "    headers=headers\n",
    "    )\n",
    "print(response.status_code)\n",
    "print(response.url)\n",
    "print(\"--------------------\")\n",
    "print(response.content)\n"
   ]
  },
  {
   "cell_type": "markdown",
   "metadata": {},
   "source": [
    "## Computing Environment"
   ]
  },
  {
   "cell_type": "code",
   "execution_count": null,
   "metadata": {},
   "outputs": [],
   "source": [
    "%load_ext watermark\n",
    "\n",
    "%watermark\n",
    "%watermark  --iversions\n",
    "%watermark -u -n -t -z"
   ]
  }
 ],
 "metadata": {
  "kernelspec": {
   "display_name": "py3.10",
   "language": "python",
   "name": "python3"
  },
  "language_info": {
   "codemirror_mode": {
    "name": "ipython",
    "version": 3
   },
   "file_extension": ".py",
   "mimetype": "text/x-python",
   "name": "python",
   "nbconvert_exporter": "python",
   "pygments_lexer": "ipython3",
   "version": "3.10.12"
  }
 },
 "nbformat": 4,
 "nbformat_minor": 2
}
