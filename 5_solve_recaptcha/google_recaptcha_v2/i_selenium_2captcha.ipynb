{
 "cells": [
  {
   "cell_type": "markdown",
   "metadata": {},
   "source": [
    "## Case Study: Solve recaptcha v2 with 2captcha service and Selenium v4\n",
    "\n",
    "Created by [tanyongsheng.net](https://tanyongsheng.net)"
   ]
  },
  {
   "cell_type": "markdown",
   "metadata": {},
   "source": [
    "---\n",
    "\n",
    "### Prerequisite:\n",
    "1. Buy 2Captcha credit at https://2captcha.com/?from=22013304 (Note: this is an affiliate link)\n",
    "\n",
    "### Reference: \n",
    "1. Captcha bypass in Selenium https://2captcha.com/blog/captcha-bypass-in-selenium\n",
    "2. How to Solve Captcha in Selenium Using 2captcha: https://www.omkar.cloud/blog/how-to-solve-captcha-in-selenium-using-2captcha/\n",
    "3. Bypass captcha in Python: https://2captcha.com/lang/python\n",
    "4. How to Solve Captcha / ReCaptcha - Python and 2captcha https://www.youtube.com/watch?v=R6QddZzCOwM\n",
    "\n",
    "---"
   ]
  },
  {
   "cell_type": "markdown",
   "metadata": {},
   "source": [
    "#### Step 1: Install libraries"
   ]
  },
  {
   "cell_type": "code",
   "execution_count": 1,
   "metadata": {},
   "outputs": [
    {
     "name": "stdout",
     "output_type": "stream",
     "text": [
      "Defaulting to user installation because normal site-packages is not writeable\n",
      "Requirement already satisfied: selenium in /home/gitpod/.pyenv/versions/3.10.13/lib/python3.10/site-packages (4.18.1)\n",
      "Requirement already satisfied: urllib3<3,>=1.26 in /home/gitpod/.pyenv/versions/3.10.13/lib/python3.10/site-packages (from urllib3[socks]<3,>=1.26->selenium) (2.2.1)\n",
      "Requirement already satisfied: trio~=0.17 in /workspace/.pyenv_mirror/user/3.10.13/lib/python3.10/site-packages (from selenium) (0.24.0)\n",
      "Requirement already satisfied: trio-websocket~=0.9 in /home/gitpod/.pyenv/versions/3.10.13/lib/python3.10/site-packages (from selenium) (0.11.1)\n",
      "Requirement already satisfied: certifi>=2021.10.8 in /home/gitpod/.pyenv/versions/3.10.13/lib/python3.10/site-packages (from selenium) (2024.2.2)\n",
      "Requirement already satisfied: typing_extensions>=4.9.0 in /home/gitpod/.pyenv/versions/3.10.13/lib/python3.10/site-packages (from selenium) (4.10.0)\n",
      "Requirement already satisfied: attrs>=20.1.0 in /home/gitpod/.pyenv/versions/3.10.13/lib/python3.10/site-packages (from trio~=0.17->selenium) (23.2.0)\n",
      "Requirement already satisfied: sortedcontainers in /home/gitpod/.pyenv/versions/3.10.13/lib/python3.10/site-packages (from trio~=0.17->selenium) (2.4.0)\n",
      "Requirement already satisfied: idna in /home/gitpod/.pyenv/versions/3.10.13/lib/python3.10/site-packages (from trio~=0.17->selenium) (3.6)\n",
      "Requirement already satisfied: outcome in /home/gitpod/.pyenv/versions/3.10.13/lib/python3.10/site-packages (from trio~=0.17->selenium) (1.3.0.post0)\n",
      "Requirement already satisfied: sniffio>=1.3.0 in /home/gitpod/.pyenv/versions/3.10.13/lib/python3.10/site-packages (from trio~=0.17->selenium) (1.3.1)\n",
      "Requirement already satisfied: exceptiongroup in /home/gitpod/.pyenv/versions/3.10.13/lib/python3.10/site-packages (from trio~=0.17->selenium) (1.2.0)\n",
      "Requirement already satisfied: wsproto>=0.14 in /home/gitpod/.pyenv/versions/3.10.13/lib/python3.10/site-packages (from trio-websocket~=0.9->selenium) (1.2.0)\n",
      "Requirement already satisfied: pysocks!=1.5.7,<2.0,>=1.5.6 in /home/gitpod/.pyenv/versions/3.10.13/lib/python3.10/site-packages (from urllib3[socks]<3,>=1.26->selenium) (1.7.1)\n",
      "Requirement already satisfied: h11<1,>=0.9.0 in /home/gitpod/.pyenv/versions/3.10.13/lib/python3.10/site-packages (from wsproto>=0.14->trio-websocket~=0.9->selenium) (0.14.0)\n",
      "Note: you may need to restart the kernel to use updated packages.\n",
      "Defaulting to user installation because normal site-packages is not writeable\n",
      "Requirement already satisfied: webdriver-manager in /home/gitpod/.pyenv/versions/3.10.13/lib/python3.10/site-packages (4.0.1)\n",
      "Requirement already satisfied: requests in /home/gitpod/.pyenv/versions/3.10.13/lib/python3.10/site-packages (from webdriver-manager) (2.31.0)\n",
      "Requirement already satisfied: python-dotenv in /home/gitpod/.pyenv/versions/3.10.13/lib/python3.10/site-packages (from webdriver-manager) (1.0.1)\n",
      "Requirement already satisfied: packaging in /home/gitpod/.pyenv/versions/3.10.13/lib/python3.10/site-packages (from webdriver-manager) (24.0)\n",
      "Requirement already satisfied: charset-normalizer<4,>=2 in /home/gitpod/.pyenv/versions/3.10.13/lib/python3.10/site-packages (from requests->webdriver-manager) (3.3.2)\n",
      "Requirement already satisfied: idna<4,>=2.5 in /home/gitpod/.pyenv/versions/3.10.13/lib/python3.10/site-packages (from requests->webdriver-manager) (3.6)\n",
      "Requirement already satisfied: urllib3<3,>=1.21.1 in /home/gitpod/.pyenv/versions/3.10.13/lib/python3.10/site-packages (from requests->webdriver-manager) (2.2.1)\n",
      "Requirement already satisfied: certifi>=2017.4.17 in /home/gitpod/.pyenv/versions/3.10.13/lib/python3.10/site-packages (from requests->webdriver-manager) (2024.2.2)\n",
      "Note: you may need to restart the kernel to use updated packages.\n",
      "Defaulting to user installation because normal site-packages is not writeable\n",
      "Requirement already satisfied: 2captcha-python in /workspace/.pyenv_mirror/user/3.10.13/lib/python3.10/site-packages (1.2.2)\n",
      "Requirement already satisfied: requests in /home/gitpod/.pyenv/versions/3.10.13/lib/python3.10/site-packages (from 2captcha-python) (2.31.0)\n",
      "Requirement already satisfied: charset-normalizer<4,>=2 in /home/gitpod/.pyenv/versions/3.10.13/lib/python3.10/site-packages (from requests->2captcha-python) (3.3.2)\n",
      "Requirement already satisfied: idna<4,>=2.5 in /home/gitpod/.pyenv/versions/3.10.13/lib/python3.10/site-packages (from requests->2captcha-python) (3.6)\n",
      "Requirement already satisfied: urllib3<3,>=1.21.1 in /home/gitpod/.pyenv/versions/3.10.13/lib/python3.10/site-packages (from requests->2captcha-python) (2.2.1)\n",
      "Requirement already satisfied: certifi>=2017.4.17 in /home/gitpod/.pyenv/versions/3.10.13/lib/python3.10/site-packages (from requests->2captcha-python) (2024.2.2)\n",
      "Note: you may need to restart the kernel to use updated packages.\n",
      "Defaulting to user installation because normal site-packages is not writeable\n",
      "Requirement already satisfied: python-dotenv in /home/gitpod/.pyenv/versions/3.10.13/lib/python3.10/site-packages (1.0.1)\n",
      "Note: you may need to restart the kernel to use updated packages.\n",
      "Defaulting to user installation because normal site-packages is not writeable\n",
      "Requirement already satisfied: watermark in /workspace/.pyenv_mirror/user/3.10.13/lib/python3.10/site-packages (2.4.3)\n",
      "Requirement already satisfied: ipython>=6.0 in /workspace/.pyenv_mirror/user/3.10.13/lib/python3.10/site-packages (from watermark) (8.22.2)\n",
      "Requirement already satisfied: importlib-metadata>=1.4 in /workspace/.pyenv_mirror/user/3.10.13/lib/python3.10/site-packages (from watermark) (7.0.2)\n",
      "Requirement already satisfied: setuptools in /workspace/.pyenv_mirror/user/3.10.13/lib/python3.10/site-packages (from watermark) (69.2.0)\n",
      "Requirement already satisfied: zipp>=0.5 in /workspace/.pyenv_mirror/user/3.10.13/lib/python3.10/site-packages (from importlib-metadata>=1.4->watermark) (3.18.1)\n",
      "Requirement already satisfied: decorator in /workspace/.pyenv_mirror/user/3.10.13/lib/python3.10/site-packages (from ipython>=6.0->watermark) (5.1.1)\n",
      "Requirement already satisfied: jedi>=0.16 in /workspace/.pyenv_mirror/user/3.10.13/lib/python3.10/site-packages (from ipython>=6.0->watermark) (0.19.1)\n",
      "Requirement already satisfied: matplotlib-inline in /workspace/.pyenv_mirror/user/3.10.13/lib/python3.10/site-packages (from ipython>=6.0->watermark) (0.1.6)\n",
      "Requirement already satisfied: prompt-toolkit<3.1.0,>=3.0.41 in /workspace/.pyenv_mirror/user/3.10.13/lib/python3.10/site-packages (from ipython>=6.0->watermark) (3.0.43)\n",
      "Requirement already satisfied: pygments>=2.4.0 in /workspace/.pyenv_mirror/user/3.10.13/lib/python3.10/site-packages (from ipython>=6.0->watermark) (2.17.2)\n",
      "Requirement already satisfied: stack-data in /workspace/.pyenv_mirror/user/3.10.13/lib/python3.10/site-packages (from ipython>=6.0->watermark) (0.6.3)\n",
      "Requirement already satisfied: traitlets>=5.13.0 in /workspace/.pyenv_mirror/user/3.10.13/lib/python3.10/site-packages (from ipython>=6.0->watermark) (5.14.2)\n",
      "Requirement already satisfied: exceptiongroup in /home/gitpod/.pyenv/versions/3.10.13/lib/python3.10/site-packages (from ipython>=6.0->watermark) (1.2.0)\n",
      "Requirement already satisfied: pexpect>4.3 in /workspace/.pyenv_mirror/user/3.10.13/lib/python3.10/site-packages (from ipython>=6.0->watermark) (4.9.0)\n",
      "Requirement already satisfied: parso<0.9.0,>=0.8.3 in /workspace/.pyenv_mirror/user/3.10.13/lib/python3.10/site-packages (from jedi>=0.16->ipython>=6.0->watermark) (0.8.3)\n",
      "Requirement already satisfied: ptyprocess>=0.5 in /workspace/.pyenv_mirror/user/3.10.13/lib/python3.10/site-packages (from pexpect>4.3->ipython>=6.0->watermark) (0.7.0)\n",
      "Requirement already satisfied: wcwidth in /workspace/.pyenv_mirror/user/3.10.13/lib/python3.10/site-packages (from prompt-toolkit<3.1.0,>=3.0.41->ipython>=6.0->watermark) (0.2.13)\n",
      "Requirement already satisfied: executing>=1.2.0 in /workspace/.pyenv_mirror/user/3.10.13/lib/python3.10/site-packages (from stack-data->ipython>=6.0->watermark) (2.0.1)\n",
      "Requirement already satisfied: asttokens>=2.1.0 in /workspace/.pyenv_mirror/user/3.10.13/lib/python3.10/site-packages (from stack-data->ipython>=6.0->watermark) (2.4.1)\n",
      "Requirement already satisfied: pure-eval in /workspace/.pyenv_mirror/user/3.10.13/lib/python3.10/site-packages (from stack-data->ipython>=6.0->watermark) (0.2.2)\n",
      "Requirement already satisfied: six>=1.12.0 in /workspace/.pyenv_mirror/user/3.10.13/lib/python3.10/site-packages (from asttokens>=2.1.0->stack-data->ipython>=6.0->watermark) (1.16.0)\n",
      "Note: you may need to restart the kernel to use updated packages.\n"
     ]
    }
   ],
   "source": [
    "%pip install selenium\n",
    "%pip install webdriver-manager\n",
    "%pip install 2captcha-python\n",
    "%pip install python-dotenv\n",
    "# to inspect what python package imported in this jupyter notebook\n",
    "%pip install watermark"
   ]
  },
  {
   "cell_type": "code",
   "execution_count": 2,
   "metadata": {},
   "outputs": [],
   "source": [
    "import time\n",
    "from selenium import webdriver\n",
    "from selenium.webdriver.chrome.service import Service as ChromeService\n",
    "from webdriver_manager.chrome import ChromeDriverManager\n",
    "from selenium.webdriver.chrome.options import Options\n",
    "from selenium.webdriver.common.by import By\n",
    "from twocaptcha import TwoCaptcha"
   ]
  },
  {
   "cell_type": "markdown",
   "metadata": {},
   "source": [
    "#### Step 2: Scrape websites with Selenium "
   ]
  },
  {
   "cell_type": "code",
   "execution_count": 3,
   "metadata": {},
   "outputs": [],
   "source": [
    "import os\n",
    "from dotenv import load_dotenv\n",
    "\n",
    "_ = load_dotenv()"
   ]
  },
  {
   "cell_type": "code",
   "execution_count": 4,
   "metadata": {},
   "outputs": [
    {
     "name": "stdout",
     "output_type": "stream",
     "text": [
      "Solving Captcha\n",
      "Successfully solved the Captcha. The solve code is 03AFcWeA5NKWYgTxoATEmol7sGXh3ySmEVN0hECYB8HRVwYFuz0pSjOdIUZiGsgPasc-z37jFWpztcs0G83bHi5E_isnr8c6CvHpTlNX7JcIueit5UwVfdkDqcyLKqW7xViXir4iw5h5AQOC41cidPvQsch4c5b8yAzz3f2RMRBlamvJtqq4h7mau4jDGszsy8R66iM8Fypo3ncMLw_fFlPB0Cj-dOktaGa0PwOoZK2aOkc0SR3e1TagVS9ncNEtMkRLLa-ghmJQNBm7OLeNY5Cehkvsa0q4WeRpl2Xziblz8kyNgWzE0vQ6bDV2Pn_2xkFJ_ehGwZxrjazcYUcbCzjlzDnFcRcgpTghCsRazLYnUS8kjkkXOxoOtS18VB9PsqujieGfSEUsbP8BWFeXYnzghx1aNu_dzL2pUQ1b_xcIYSFBXRKiP7c5YSfYT5C_ET-1CJnLOGH8EH2B4GIhi-izzRxJyj5cOg2R07bYrPSF1OZL7FIhHO7VjOqE7FbMi74w3FnX38O5lUFDsDpOxpBS5Dy0Q2dA-fxG-StnJy3rNMhGxreXqKQRLGMssJxbwp1cs5WfqMoWWsk3HQ-mb0yHuMtcRZnUb97pHHrTuTPbUB208SqZ3w9QzIO-BwKwvlxzk-YOimDwCqs20D3d20jQq1HtWG9cT_vXiDY8gUrzo8S_CtHDTmlCINMGp85ErwAJavWaDrA-yYDBJP2IXEmKja90dAOmmEtwRNQrB2Lu9VWahX5le30TfPXsfrfAnrZ04osin4ob_6RQdu61U9ft3a1dqAwg5w_A\n"
     ]
    }
   ],
   "source": [
    "from selenium.webdriver.common.by import By\n",
    "from twocaptcha import TwoCaptcha\n",
    "from selenium.webdriver.chrome.service import Service as ChromeService\n",
    "from webdriver_manager.chrome import ChromeDriverManager\n",
    "from selenium import webdriver\n",
    "\n",
    "# Instantiate the WebDriver\n",
    "driver = webdriver.Chrome(service=ChromeService(ChromeDriverManager().install()))\n",
    "\n",
    "# Load the target page\n",
    "captcha_page_url = \"https://recaptcha-demo.appspot.com/recaptcha-v2-checkbox.php\"\n",
    "driver.get(captcha_page_url)\n",
    "\n",
    "# Solve the Captcha\n",
    "print(\"Solving Captcha\")\n",
    "solver = TwoCaptcha(os.getenv(\"CAPTCHA_API_KEY\"))\n",
    "response = solver.recaptcha(sitekey='6LfW6wATAAAAAHLqO2pb8bDBahxlMxNdo9g947u9', url=captcha_page_url)\n",
    "code = response['code']\n",
    "print(f\"Successfully solved the Captcha. The solve code is {code}\")\n",
    "\n",
    "# Set the solved Captcha\n",
    "recaptcha_response_element = driver.find_element(By.ID, 'g-recaptcha-response')\n",
    "driver.execute_script(f'arguments[0].value = \"{code}\";', recaptcha_response_element)\n",
    "\n",
    "# Submit the form\n",
    "submit_btn = driver.find_element(By.CSS_SELECTOR, 'button[type=\"submit\"]')\n",
    "submit_btn.click()\n",
    "\n",
    "# Pause the execution so you can see the screen after submission before closing the driver\n",
    "time.sleep(20)\n",
    "driver.close()"
   ]
  },
  {
   "cell_type": "markdown",
   "metadata": {},
   "source": [
    "## Computing Environment"
   ]
  },
  {
   "cell_type": "code",
   "execution_count": 5,
   "metadata": {},
   "outputs": [
    {
     "name": "stdout",
     "output_type": "stream",
     "text": [
      "Last updated: 2024-03-17T06:45:49.363642+00:00\n",
      "\n",
      "Python implementation: CPython\n",
      "Python version       : 3.10.13\n",
      "IPython version      : 8.22.2\n",
      "\n",
      "Compiler    : GCC 11.4.0\n",
      "OS          : Linux\n",
      "Release     : 6.1.75-060175-generic\n",
      "Machine     : x86_64\n",
      "Processor   : x86_64\n",
      "CPU cores   : 16\n",
      "Architecture: 64bit\n",
      "\n",
      "selenium: 4.18.1\n",
      "\n",
      "Last updated: Sun Mar 17 2024 06:45:49UTC\n",
      "\n"
     ]
    }
   ],
   "source": [
    "%load_ext watermark\n",
    "\n",
    "%watermark\n",
    "%watermark  --iversions\n",
    "%watermark -u -n -t -z"
   ]
  }
 ],
 "metadata": {
  "kernelspec": {
   "display_name": "py3.10",
   "language": "python",
   "name": "python3"
  },
  "language_info": {
   "codemirror_mode": {
    "name": "ipython",
    "version": 3
   },
   "file_extension": ".py",
   "mimetype": "text/x-python",
   "name": "python",
   "nbconvert_exporter": "python",
   "pygments_lexer": "ipython3",
   "version": "3.10.13"
  }
 },
 "nbformat": 4,
 "nbformat_minor": 2
}
