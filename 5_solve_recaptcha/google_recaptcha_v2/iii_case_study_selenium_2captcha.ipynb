{
 "cells": [
  {
   "cell_type": "markdown",
   "metadata": {},
   "source": [
    "## Case Study: Solve recaptcha v2 with 2captcha service and Selenium\n",
    "\n",
    "Created by [tanyongsheng.net](https://tanyongsheng.net)"
   ]
  },
  {
   "cell_type": "markdown",
   "metadata": {},
   "source": [
    "---\n",
    "\n",
    "### Prerequisite\n",
    "1. Buy 2Captcha credit at https://2captcha.com/?from=22013304 (Note: this is an affiliate link)\n",
    "\n",
    "### Reference \n",
    "1. How to Solve Captcha / ReCaptcha - Python and 2captcha https://www.youtube.com/watch?v=R6QddZzCOwM & https://github.com/eupendra/2captcha_demo/blob/main/demo_requests.py\n",
    "2. Bypass captcha in Python: https://2captcha.com/lang/python\n",
    "\n",
    "(Credit: this is the code from 2captcha support team)\n",
    "\n",
    "----"
   ]
  },
  {
   "cell_type": "code",
   "execution_count": 1,
   "metadata": {},
   "outputs": [
    {
     "name": "stdout",
     "output_type": "stream",
     "text": [
      "Defaulting to user installation because normal site-packages is not writeable\n",
      "Requirement already satisfied: selenium in /home/gitpod/.pyenv/versions/3.10.13/lib/python3.10/site-packages (4.18.1)\n",
      "Requirement already satisfied: urllib3<3,>=1.26 in /home/gitpod/.pyenv/versions/3.10.13/lib/python3.10/site-packages (from urllib3[socks]<3,>=1.26->selenium) (2.2.1)\n",
      "Requirement already satisfied: trio~=0.17 in /workspace/.pyenv_mirror/user/3.10.13/lib/python3.10/site-packages (from selenium) (0.24.0)\n",
      "Requirement already satisfied: trio-websocket~=0.9 in /home/gitpod/.pyenv/versions/3.10.13/lib/python3.10/site-packages (from selenium) (0.11.1)\n",
      "Requirement already satisfied: certifi>=2021.10.8 in /home/gitpod/.pyenv/versions/3.10.13/lib/python3.10/site-packages (from selenium) (2024.2.2)\n",
      "Requirement already satisfied: typing_extensions>=4.9.0 in /home/gitpod/.pyenv/versions/3.10.13/lib/python3.10/site-packages (from selenium) (4.10.0)\n",
      "Requirement already satisfied: attrs>=20.1.0 in /home/gitpod/.pyenv/versions/3.10.13/lib/python3.10/site-packages (from trio~=0.17->selenium) (23.2.0)\n",
      "Requirement already satisfied: sortedcontainers in /home/gitpod/.pyenv/versions/3.10.13/lib/python3.10/site-packages (from trio~=0.17->selenium) (2.4.0)\n",
      "Requirement already satisfied: idna in /home/gitpod/.pyenv/versions/3.10.13/lib/python3.10/site-packages (from trio~=0.17->selenium) (3.6)\n",
      "Requirement already satisfied: outcome in /home/gitpod/.pyenv/versions/3.10.13/lib/python3.10/site-packages (from trio~=0.17->selenium) (1.3.0.post0)\n",
      "Requirement already satisfied: sniffio>=1.3.0 in /home/gitpod/.pyenv/versions/3.10.13/lib/python3.10/site-packages (from trio~=0.17->selenium) (1.3.1)\n",
      "Requirement already satisfied: exceptiongroup in /home/gitpod/.pyenv/versions/3.10.13/lib/python3.10/site-packages (from trio~=0.17->selenium) (1.2.0)\n",
      "Requirement already satisfied: wsproto>=0.14 in /home/gitpod/.pyenv/versions/3.10.13/lib/python3.10/site-packages (from trio-websocket~=0.9->selenium) (1.2.0)\n",
      "Requirement already satisfied: pysocks!=1.5.7,<2.0,>=1.5.6 in /home/gitpod/.pyenv/versions/3.10.13/lib/python3.10/site-packages (from urllib3[socks]<3,>=1.26->selenium) (1.7.1)\n",
      "Requirement already satisfied: h11<1,>=0.9.0 in /home/gitpod/.pyenv/versions/3.10.13/lib/python3.10/site-packages (from wsproto>=0.14->trio-websocket~=0.9->selenium) (0.14.0)\n",
      "Note: you may need to restart the kernel to use updated packages.\n",
      "Defaulting to user installation because normal site-packages is not writeable\n",
      "Requirement already satisfied: webdriver-manager in /home/gitpod/.pyenv/versions/3.10.13/lib/python3.10/site-packages (4.0.1)\n",
      "Requirement already satisfied: requests in /home/gitpod/.pyenv/versions/3.10.13/lib/python3.10/site-packages (from webdriver-manager) (2.31.0)\n",
      "Requirement already satisfied: python-dotenv in /home/gitpod/.pyenv/versions/3.10.13/lib/python3.10/site-packages (from webdriver-manager) (1.0.1)\n",
      "Requirement already satisfied: packaging in /home/gitpod/.pyenv/versions/3.10.13/lib/python3.10/site-packages (from webdriver-manager) (24.0)\n",
      "Requirement already satisfied: charset-normalizer<4,>=2 in /home/gitpod/.pyenv/versions/3.10.13/lib/python3.10/site-packages (from requests->webdriver-manager) (3.3.2)\n",
      "Requirement already satisfied: idna<4,>=2.5 in /home/gitpod/.pyenv/versions/3.10.13/lib/python3.10/site-packages (from requests->webdriver-manager) (3.6)\n",
      "Requirement already satisfied: urllib3<3,>=1.21.1 in /home/gitpod/.pyenv/versions/3.10.13/lib/python3.10/site-packages (from requests->webdriver-manager) (2.2.1)\n",
      "Requirement already satisfied: certifi>=2017.4.17 in /home/gitpod/.pyenv/versions/3.10.13/lib/python3.10/site-packages (from requests->webdriver-manager) (2024.2.2)\n",
      "Note: you may need to restart the kernel to use updated packages.\n",
      "Defaulting to user installation because normal site-packages is not writeable\n",
      "Requirement already satisfied: 2captcha-python in /workspace/.pyenv_mirror/user/3.10.13/lib/python3.10/site-packages (1.2.2)\n",
      "Requirement already satisfied: requests in /home/gitpod/.pyenv/versions/3.10.13/lib/python3.10/site-packages (from 2captcha-python) (2.31.0)\n",
      "Requirement already satisfied: charset-normalizer<4,>=2 in /home/gitpod/.pyenv/versions/3.10.13/lib/python3.10/site-packages (from requests->2captcha-python) (3.3.2)\n",
      "Requirement already satisfied: idna<4,>=2.5 in /home/gitpod/.pyenv/versions/3.10.13/lib/python3.10/site-packages (from requests->2captcha-python) (3.6)\n",
      "Requirement already satisfied: urllib3<3,>=1.21.1 in /home/gitpod/.pyenv/versions/3.10.13/lib/python3.10/site-packages (from requests->2captcha-python) (2.2.1)\n",
      "Requirement already satisfied: certifi>=2017.4.17 in /home/gitpod/.pyenv/versions/3.10.13/lib/python3.10/site-packages (from requests->2captcha-python) (2024.2.2)\n",
      "Note: you may need to restart the kernel to use updated packages.\n",
      "Defaulting to user installation because normal site-packages is not writeable\n",
      "Requirement already satisfied: python-dotenv in /home/gitpod/.pyenv/versions/3.10.13/lib/python3.10/site-packages (1.0.1)\n",
      "Note: you may need to restart the kernel to use updated packages.\n",
      "Defaulting to user installation because normal site-packages is not writeable\n",
      "Requirement already satisfied: watermark in /workspace/.pyenv_mirror/user/3.10.13/lib/python3.10/site-packages (2.4.3)\n",
      "Requirement already satisfied: ipython>=6.0 in /workspace/.pyenv_mirror/user/3.10.13/lib/python3.10/site-packages (from watermark) (8.22.2)\n",
      "Requirement already satisfied: importlib-metadata>=1.4 in /workspace/.pyenv_mirror/user/3.10.13/lib/python3.10/site-packages (from watermark) (7.0.2)\n",
      "Requirement already satisfied: setuptools in /workspace/.pyenv_mirror/user/3.10.13/lib/python3.10/site-packages (from watermark) (69.2.0)\n",
      "Requirement already satisfied: zipp>=0.5 in /workspace/.pyenv_mirror/user/3.10.13/lib/python3.10/site-packages (from importlib-metadata>=1.4->watermark) (3.18.1)\n",
      "Requirement already satisfied: decorator in /workspace/.pyenv_mirror/user/3.10.13/lib/python3.10/site-packages (from ipython>=6.0->watermark) (5.1.1)\n",
      "Requirement already satisfied: jedi>=0.16 in /workspace/.pyenv_mirror/user/3.10.13/lib/python3.10/site-packages (from ipython>=6.0->watermark) (0.19.1)\n",
      "Requirement already satisfied: matplotlib-inline in /workspace/.pyenv_mirror/user/3.10.13/lib/python3.10/site-packages (from ipython>=6.0->watermark) (0.1.6)\n",
      "Requirement already satisfied: prompt-toolkit<3.1.0,>=3.0.41 in /workspace/.pyenv_mirror/user/3.10.13/lib/python3.10/site-packages (from ipython>=6.0->watermark) (3.0.43)\n",
      "Requirement already satisfied: pygments>=2.4.0 in /workspace/.pyenv_mirror/user/3.10.13/lib/python3.10/site-packages (from ipython>=6.0->watermark) (2.17.2)\n",
      "Requirement already satisfied: stack-data in /workspace/.pyenv_mirror/user/3.10.13/lib/python3.10/site-packages (from ipython>=6.0->watermark) (0.6.3)\n",
      "Requirement already satisfied: traitlets>=5.13.0 in /workspace/.pyenv_mirror/user/3.10.13/lib/python3.10/site-packages (from ipython>=6.0->watermark) (5.14.2)\n",
      "Requirement already satisfied: exceptiongroup in /home/gitpod/.pyenv/versions/3.10.13/lib/python3.10/site-packages (from ipython>=6.0->watermark) (1.2.0)\n",
      "Requirement already satisfied: pexpect>4.3 in /workspace/.pyenv_mirror/user/3.10.13/lib/python3.10/site-packages (from ipython>=6.0->watermark) (4.9.0)\n",
      "Requirement already satisfied: parso<0.9.0,>=0.8.3 in /workspace/.pyenv_mirror/user/3.10.13/lib/python3.10/site-packages (from jedi>=0.16->ipython>=6.0->watermark) (0.8.3)\n",
      "Requirement already satisfied: ptyprocess>=0.5 in /workspace/.pyenv_mirror/user/3.10.13/lib/python3.10/site-packages (from pexpect>4.3->ipython>=6.0->watermark) (0.7.0)\n",
      "Requirement already satisfied: wcwidth in /workspace/.pyenv_mirror/user/3.10.13/lib/python3.10/site-packages (from prompt-toolkit<3.1.0,>=3.0.41->ipython>=6.0->watermark) (0.2.13)\n",
      "Requirement already satisfied: executing>=1.2.0 in /workspace/.pyenv_mirror/user/3.10.13/lib/python3.10/site-packages (from stack-data->ipython>=6.0->watermark) (2.0.1)\n",
      "Requirement already satisfied: asttokens>=2.1.0 in /workspace/.pyenv_mirror/user/3.10.13/lib/python3.10/site-packages (from stack-data->ipython>=6.0->watermark) (2.4.1)\n",
      "Requirement already satisfied: pure-eval in /workspace/.pyenv_mirror/user/3.10.13/lib/python3.10/site-packages (from stack-data->ipython>=6.0->watermark) (0.2.2)\n",
      "Requirement already satisfied: six>=1.12.0 in /workspace/.pyenv_mirror/user/3.10.13/lib/python3.10/site-packages (from asttokens>=2.1.0->stack-data->ipython>=6.0->watermark) (1.16.0)\n",
      "Note: you may need to restart the kernel to use updated packages.\n"
     ]
    }
   ],
   "source": [
    "%pip install selenium\n",
    "%pip install webdriver-manager\n",
    "%pip install 2captcha-python\n",
    "%pip install python-dotenv\n",
    "# to inspect what python package imported in this jupyter notebook\n",
    "%pip install watermark"
   ]
  },
  {
   "cell_type": "code",
   "execution_count": 2,
   "metadata": {},
   "outputs": [],
   "source": [
    "import re\n",
    "import time\n",
    "import requests\n",
    "from selenium import webdriver\n",
    "from selenium.webdriver.common.by import By\n",
    "from selenium.webdriver.support import expected_conditions as EC\n",
    "from dotenv import load_dotenv\n",
    "import os\n"
   ]
  },
  {
   "cell_type": "code",
   "execution_count": 3,
   "metadata": {},
   "outputs": [],
   "source": [
    "_ = load_dotenv()\n",
    "\n",
    "api_key = os.getenv(\"CAPTCHA_API_KEY\")\n",
    "investingnote_username = os.getenv(\"INVESTINGNOTE_USERNAME\")\n",
    "investingnote_password = os.getenv(\"INVESTINGNOTE_PASSWORD\")\n",
    "login_page_url = 'https://www.investingnote.com/users/sign_in'"
   ]
  },
  {
   "cell_type": "code",
   "execution_count": 4,
   "metadata": {},
   "outputs": [],
   "source": [
    "# proxy1 = \"xxxx:xxxx@xx.xxx.xx.xxx:xxxx\"  # YOUR PROXY\n",
    "driver = webdriver.Chrome()  # You can use another WebDriver (e.g., Firefox, Edge) if needed\n",
    "\n",
    "driver.get(login_page_url)\n",
    "time.sleep(5)"
   ]
  },
  {
   "cell_type": "code",
   "execution_count": 5,
   "metadata": {},
   "outputs": [
    {
     "name": "stdout",
     "output_type": "stream",
     "text": [
      "sitekey:  6LfAHhcTAAAAAKIc0n_1WmG3P6DA4YIojZmH7wKq\n"
     ]
    }
   ],
   "source": [
    "# fnd site key of InvestingNote website (or you could manually find )\n",
    "src = driver.find_element(By.TAG_NAME, \"iframe\").get_attribute(\"src\")\n",
    "pattern = r'k=([^&]+)'\n",
    "result = re.search(pattern, src)\n",
    "sitekey = result.group(1)\n",
    "print(\"sitekey: \", sitekey)\n",
    "\n",
    "driver.find_element(By.ID, \"user_login\").send_keys(investingnote_username)\n",
    "time.sleep(1)\n",
    "\n",
    "driver.find_element(By.ID, \"user_password\").send_keys(investingnote_password)"
   ]
  },
  {
   "cell_type": "code",
   "execution_count": 6,
   "metadata": {},
   "outputs": [
    {
     "name": "stdout",
     "output_type": "stream",
     "text": [
      "Request has been sent:  {\"status\":1,\"request\":\"75955022846\"}\n",
      "CAPCHA_NOT_READY\n",
      "CAPCHA_NOT_READY\n",
      "status :  1\n",
      "request :  03AFcWeA4T4UQERAQ48eKBkRZmWLGRxpzYUXvpnCuhoEREYfHSfJryxOfHsVMTctDP29ImTpVbzr8qES_z1UfkIZA3mDlJcn3V5YUFZ7w40rgruI4Pn-XCtL8t5WdF1PXTCGeiBT0LgQgBnHp1_qEFXbIk0ICBu6bAxXE3gb-QiXO7j0NwTAJlRShntntVxrGkyNa1CvS163JEqhdnJ_GxzivQJPgcNXZdDVrGpD8EZnYlva4xnMoVRnRKhPfEQ3mwYUPaNacEJnTcZ_phnclIBnoXISIsSbWMSW3QK8m95W3bK7KWhB0fo2PQP6vtmQyog1xfAjUYH0HFVyESNV5mczxKbb71_Kg-d5QTi_GTMj6F61CNELSOB78i3btTCpHVcj77JNATYQXSJZRvVkXuE6a4nVm_qhlFEZbrxkwIpLu-pu9YZYnaIt6_8t6frUXzeDM_8Mwe0mE3Ts1iQ3BP_Jo9NN-bpzM-aAw2wJ1C9ONPhYo165cE9N62NFqXX8WjMUdhbOMFMqoXQnnNnwAgSzTK9irDPS7SJ8lpo8mVz1Ol5L7RZpF3geBjsfuxRzceYjk5R5StLIn4GmdrvdJIeqjbDdtwhXqZB-6QBEFOxSg7RS57kvg3UBFMNZ73IG_35IpHESlKsmw4cqhROzehOwu3g-mYZe70mOEK3aFlKP9Z71FqFHhkvl8Vch7rTTGmlSGps8VO8zNx3gkz06JTdKnDUP6cfdURIQ\n",
      "Answer inserted\n"
     ]
    }
   ],
   "source": [
    "# REference: https://2captcha.com/p/recaptcha_v2\n",
    "\n",
    "try:\n",
    "    ## Send sitekey and pageurl to 2Captcha API.\n",
    "    data = {\"key\": api_key,\n",
    "            \"method\": \"userrecaptcha\",\n",
    "            \"googlekey\": sitekey,\n",
    "            \"json\": 1,\n",
    "            \"pageurl\": login_page_url,\n",
    "            # \"proxy\": proxy1,\n",
    "            \"proxytype\": \"HTTP\",\n",
    "            }\n",
    "    response = requests.post(f\"https://2captcha.com/in.php?\", data=data)\n",
    "    print(\"Request has been sent: \", response.text)\n",
    "    s = response.json()[\"request\"]\n",
    "    time.sleep(20)\n",
    "\n",
    "    while True:\n",
    "        solu = requests.get(f\"https://2captcha.com/res.php?key={api_key}&action=get&json=1&id={s}\").json()\n",
    "        if solu[\"request\"] == \"CAPCHA_NOT_READY\":\n",
    "            print(solu[\"request\"])\n",
    "            time.sleep(10)\n",
    "        elif \"ERROR\" in solu[\"request\"]:\n",
    "            print(solu[\"request\"])\n",
    "            driver.close()\n",
    "            driver.quit()\n",
    "            exit(0)\n",
    "        else:\n",
    "            break\n",
    "            \n",
    "    for key, value in solu.items():\n",
    "        print(key, \": \", value)\n",
    "\n",
    "    solu = solu[\"request\"]\n",
    "    time.sleep(2)\n",
    "\n",
    "    driver.execute_script(\"document.getElementsByName('g-recaptcha-response')[0].value = arguments[0];\", solu)\n",
    "    iframe = driver.find_element(By.XPATH, \"/html/body/div[1]/div[1]/div[2]/div/div/div/form/fieldset/section[3]/div/div/div/iframe\")\n",
    "    driver.switch_to.frame(iframe)\n",
    "    el = driver.find_element(By.ID, \"recaptcha-token\")\n",
    "    driver.execute_script(f\"arguments[0].setAttribute('value', '{solu}');\", el)\n",
    "    time.sleep(1)\n",
    "    driver.switch_to.default_content()\n",
    "\n",
    "    script = \"\"\"document.getElementById('sign-in-btn').removeAttribute('disabled');\"\"\"  # Making the button visible\n",
    "    driver.execute_script(script)\n",
    "\n",
    "    time.sleep(2)\n",
    "    print(\"Answer inserted\")\n",
    "    time.sleep(2)\n",
    "    driver.find_element(By.ID, \"sign-in-btn\").click()  # Click on the authorization button\n",
    "    time.sleep(20)\n",
    "\n",
    "except Exception as ex:\n",
    "    print(ex)\n",
    "\n",
    "finally:\n",
    "    time.sleep(1)\n",
    "    driver.close()\n",
    "    driver.quit()\n"
   ]
  },
  {
   "cell_type": "markdown",
   "metadata": {},
   "source": [
    "## Computing Environment"
   ]
  },
  {
   "cell_type": "code",
   "execution_count": 7,
   "metadata": {},
   "outputs": [
    {
     "name": "stdout",
     "output_type": "stream",
     "text": [
      "Last updated: 2024-03-17T06:51:30.854360+00:00\n",
      "\n",
      "Python implementation: CPython\n",
      "Python version       : 3.10.13\n",
      "IPython version      : 8.22.2\n",
      "\n",
      "Compiler    : GCC 11.4.0\n",
      "OS          : Linux\n",
      "Release     : 6.1.75-060175-generic\n",
      "Machine     : x86_64\n",
      "Processor   : x86_64\n",
      "CPU cores   : 16\n",
      "Architecture: 64bit\n",
      "\n",
      "re      : 2.2.1\n",
      "requests: 2.31.0\n",
      "selenium: 4.18.1\n",
      "\n",
      "Last updated: Sun Mar 17 2024 06:51:30UTC\n",
      "\n"
     ]
    }
   ],
   "source": [
    "%load_ext watermark\n",
    "\n",
    "%watermark\n",
    "%watermark  --iversions\n",
    "%watermark -u -n -t -z"
   ]
  }
 ],
 "metadata": {
  "kernelspec": {
   "display_name": "py3.10",
   "language": "python",
   "name": "python3"
  },
  "language_info": {
   "codemirror_mode": {
    "name": "ipython",
    "version": 3
   },
   "file_extension": ".py",
   "mimetype": "text/x-python",
   "name": "python",
   "nbconvert_exporter": "python",
   "pygments_lexer": "ipython3",
   "version": "3.10.13"
  }
 },
 "nbformat": 4,
 "nbformat_minor": 2
}
