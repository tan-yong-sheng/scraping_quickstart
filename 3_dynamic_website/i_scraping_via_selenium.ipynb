{
 "cells": [
  {
   "cell_type": "markdown",
   "metadata": {},
   "source": [
    "## Scraping with Selenium in UI mode"
   ]
  },
  {
   "cell_type": "markdown",
   "metadata": {},
   "source": [
    "When you're executing this Selenium script directly on your local computer (not on cloud), it will open up a browser on your end and start scraping.\n",
    "\n",
    "If you're interested to scrape with selenium in headless mode (= no UI), please refer to [here](./ii\\)%20scraping_via_selenium_headless.ipynb)\n",
    "\n",
    "(Note: Selenium v4 is used)"
   ]
  },
  {
   "cell_type": "markdown",
   "metadata": {},
   "source": [
    "#### Step 1: Install libraries"
   ]
  },
  {
   "cell_type": "code",
   "execution_count": 1,
   "metadata": {},
   "outputs": [
    {
     "name": "stdout",
     "output_type": "stream",
     "text": [
      "Defaulting to user installation because normal site-packages is not writeable\n",
      "Requirement already satisfied: selenium in /home/gitpod/.pyenv/versions/3.10.13/lib/python3.10/site-packages (4.18.1)\n",
      "Requirement already satisfied: urllib3<3,>=1.26 in /home/gitpod/.pyenv/versions/3.10.13/lib/python3.10/site-packages (from urllib3[socks]<3,>=1.26->selenium) (2.2.1)\n",
      "Requirement already satisfied: trio~=0.17 in /workspace/.pyenv_mirror/user/3.10.13/lib/python3.10/site-packages (from selenium) (0.24.0)\n",
      "Requirement already satisfied: trio-websocket~=0.9 in /home/gitpod/.pyenv/versions/3.10.13/lib/python3.10/site-packages (from selenium) (0.11.1)\n",
      "Requirement already satisfied: certifi>=2021.10.8 in /home/gitpod/.pyenv/versions/3.10.13/lib/python3.10/site-packages (from selenium) (2024.2.2)\n",
      "Requirement already satisfied: typing_extensions>=4.9.0 in /home/gitpod/.pyenv/versions/3.10.13/lib/python3.10/site-packages (from selenium) (4.10.0)\n",
      "Requirement already satisfied: attrs>=20.1.0 in /home/gitpod/.pyenv/versions/3.10.13/lib/python3.10/site-packages (from trio~=0.17->selenium) (23.2.0)\n",
      "Requirement already satisfied: sortedcontainers in /home/gitpod/.pyenv/versions/3.10.13/lib/python3.10/site-packages (from trio~=0.17->selenium) (2.4.0)\n",
      "Requirement already satisfied: idna in /home/gitpod/.pyenv/versions/3.10.13/lib/python3.10/site-packages (from trio~=0.17->selenium) (3.6)\n",
      "Requirement already satisfied: outcome in /home/gitpod/.pyenv/versions/3.10.13/lib/python3.10/site-packages (from trio~=0.17->selenium) (1.3.0.post0)\n",
      "Requirement already satisfied: sniffio>=1.3.0 in /home/gitpod/.pyenv/versions/3.10.13/lib/python3.10/site-packages (from trio~=0.17->selenium) (1.3.1)\n",
      "Requirement already satisfied: exceptiongroup in /home/gitpod/.pyenv/versions/3.10.13/lib/python3.10/site-packages (from trio~=0.17->selenium) (1.2.0)\n",
      "Requirement already satisfied: wsproto>=0.14 in /home/gitpod/.pyenv/versions/3.10.13/lib/python3.10/site-packages (from trio-websocket~=0.9->selenium) (1.2.0)\n",
      "Requirement already satisfied: pysocks!=1.5.7,<2.0,>=1.5.6 in /home/gitpod/.pyenv/versions/3.10.13/lib/python3.10/site-packages (from urllib3[socks]<3,>=1.26->selenium) (1.7.1)\n",
      "Requirement already satisfied: h11<1,>=0.9.0 in /home/gitpod/.pyenv/versions/3.10.13/lib/python3.10/site-packages (from wsproto>=0.14->trio-websocket~=0.9->selenium) (0.14.0)\n",
      "Note: you may need to restart the kernel to use updated packages.\n",
      "Defaulting to user installation because normal site-packages is not writeable\n",
      "Requirement already satisfied: webdriver-manager in /home/gitpod/.pyenv/versions/3.10.13/lib/python3.10/site-packages (4.0.1)\n",
      "Requirement already satisfied: requests in /home/gitpod/.pyenv/versions/3.10.13/lib/python3.10/site-packages (from webdriver-manager) (2.31.0)\n",
      "Requirement already satisfied: python-dotenv in /home/gitpod/.pyenv/versions/3.10.13/lib/python3.10/site-packages (from webdriver-manager) (1.0.1)\n",
      "Requirement already satisfied: packaging in /home/gitpod/.pyenv/versions/3.10.13/lib/python3.10/site-packages (from webdriver-manager) (24.0)\n",
      "Requirement already satisfied: charset-normalizer<4,>=2 in /home/gitpod/.pyenv/versions/3.10.13/lib/python3.10/site-packages (from requests->webdriver-manager) (3.3.2)\n",
      "Requirement already satisfied: idna<4,>=2.5 in /home/gitpod/.pyenv/versions/3.10.13/lib/python3.10/site-packages (from requests->webdriver-manager) (3.6)\n",
      "Requirement already satisfied: urllib3<3,>=1.21.1 in /home/gitpod/.pyenv/versions/3.10.13/lib/python3.10/site-packages (from requests->webdriver-manager) (2.2.1)\n",
      "Requirement already satisfied: certifi>=2017.4.17 in /home/gitpod/.pyenv/versions/3.10.13/lib/python3.10/site-packages (from requests->webdriver-manager) (2024.2.2)\n",
      "Note: you may need to restart the kernel to use updated packages.\n",
      "Defaulting to user installation because normal site-packages is not writeable\n",
      "Requirement already satisfied: watermark in /workspace/.pyenv_mirror/user/3.10.13/lib/python3.10/site-packages (2.4.3)\n",
      "Requirement already satisfied: ipython>=6.0 in /workspace/.pyenv_mirror/user/3.10.13/lib/python3.10/site-packages (from watermark) (8.22.2)\n",
      "Requirement already satisfied: importlib-metadata>=1.4 in /workspace/.pyenv_mirror/user/3.10.13/lib/python3.10/site-packages (from watermark) (7.0.2)\n",
      "Requirement already satisfied: setuptools in /workspace/.pyenv_mirror/user/3.10.13/lib/python3.10/site-packages (from watermark) (69.2.0)\n",
      "Requirement already satisfied: zipp>=0.5 in /workspace/.pyenv_mirror/user/3.10.13/lib/python3.10/site-packages (from importlib-metadata>=1.4->watermark) (3.18.1)\n",
      "Requirement already satisfied: decorator in /workspace/.pyenv_mirror/user/3.10.13/lib/python3.10/site-packages (from ipython>=6.0->watermark) (5.1.1)\n",
      "Requirement already satisfied: jedi>=0.16 in /workspace/.pyenv_mirror/user/3.10.13/lib/python3.10/site-packages (from ipython>=6.0->watermark) (0.19.1)\n",
      "Requirement already satisfied: matplotlib-inline in /workspace/.pyenv_mirror/user/3.10.13/lib/python3.10/site-packages (from ipython>=6.0->watermark) (0.1.6)\n",
      "Requirement already satisfied: prompt-toolkit<3.1.0,>=3.0.41 in /workspace/.pyenv_mirror/user/3.10.13/lib/python3.10/site-packages (from ipython>=6.0->watermark) (3.0.43)\n",
      "Requirement already satisfied: pygments>=2.4.0 in /workspace/.pyenv_mirror/user/3.10.13/lib/python3.10/site-packages (from ipython>=6.0->watermark) (2.17.2)\n",
      "Requirement already satisfied: stack-data in /workspace/.pyenv_mirror/user/3.10.13/lib/python3.10/site-packages (from ipython>=6.0->watermark) (0.6.3)\n",
      "Requirement already satisfied: traitlets>=5.13.0 in /workspace/.pyenv_mirror/user/3.10.13/lib/python3.10/site-packages (from ipython>=6.0->watermark) (5.14.2)\n",
      "Requirement already satisfied: exceptiongroup in /home/gitpod/.pyenv/versions/3.10.13/lib/python3.10/site-packages (from ipython>=6.0->watermark) (1.2.0)\n",
      "Requirement already satisfied: pexpect>4.3 in /workspace/.pyenv_mirror/user/3.10.13/lib/python3.10/site-packages (from ipython>=6.0->watermark) (4.9.0)\n",
      "Requirement already satisfied: parso<0.9.0,>=0.8.3 in /workspace/.pyenv_mirror/user/3.10.13/lib/python3.10/site-packages (from jedi>=0.16->ipython>=6.0->watermark) (0.8.3)\n",
      "Requirement already satisfied: ptyprocess>=0.5 in /workspace/.pyenv_mirror/user/3.10.13/lib/python3.10/site-packages (from pexpect>4.3->ipython>=6.0->watermark) (0.7.0)\n",
      "Requirement already satisfied: wcwidth in /workspace/.pyenv_mirror/user/3.10.13/lib/python3.10/site-packages (from prompt-toolkit<3.1.0,>=3.0.41->ipython>=6.0->watermark) (0.2.13)\n",
      "Requirement already satisfied: executing>=1.2.0 in /workspace/.pyenv_mirror/user/3.10.13/lib/python3.10/site-packages (from stack-data->ipython>=6.0->watermark) (2.0.1)\n",
      "Requirement already satisfied: asttokens>=2.1.0 in /workspace/.pyenv_mirror/user/3.10.13/lib/python3.10/site-packages (from stack-data->ipython>=6.0->watermark) (2.4.1)\n",
      "Requirement already satisfied: pure-eval in /workspace/.pyenv_mirror/user/3.10.13/lib/python3.10/site-packages (from stack-data->ipython>=6.0->watermark) (0.2.2)\n",
      "Requirement already satisfied: six>=1.12.0 in /workspace/.pyenv_mirror/user/3.10.13/lib/python3.10/site-packages (from asttokens>=2.1.0->stack-data->ipython>=6.0->watermark) (1.16.0)\n",
      "Note: you may need to restart the kernel to use updated packages.\n"
     ]
    }
   ],
   "source": [
    "%pip install selenium\n",
    "%pip install webdriver-manager\n",
    "# to inspect what python package imported in this jupyter notebook\n",
    "%pip install watermark "
   ]
  },
  {
   "cell_type": "code",
   "execution_count": 2,
   "metadata": {},
   "outputs": [],
   "source": [
    "from selenium import webdriver\n",
    "from selenium.webdriver.chrome.service import Service as ChromeService\n",
    "from webdriver_manager.chrome import ChromeDriverManager\n",
    "from selenium.webdriver.common.by import By"
   ]
  },
  {
   "cell_type": "markdown",
   "metadata": {},
   "source": [
    "#### Step 2: Scrape websites with Selenium "
   ]
  },
  {
   "cell_type": "code",
   "execution_count": 3,
   "metadata": {},
   "outputs": [],
   "source": [
    "def fetch_data(driver, url):\n",
    "    data_list = []\n",
    "    driver.get(url)\n",
    "    rows = driver.find_elements(By.XPATH, \"//div[@class='quote']\")\n",
    "    for idx in range(1, len(rows)+1):\n",
    "        author = driver.find_element(By.XPATH, f\"//div[@class='quote'][{idx}]/span/small[@class='author']\").text\n",
    "        text = driver.find_element(By.XPATH, f\"//div[@class='quote'][{idx}]/span[@class='text']\").text\n",
    "        tags = [tag.text for tag in driver.find_elements(By.XPATH, f\"//div[@class='quote'][{idx}]/div[@class='tags']/a\")]\n",
    "        data_list.append(\n",
    "                {\"author\": {\"name\": author}, \n",
    "               \"tags\": tags, \n",
    "               \"text\": text\n",
    "               }\n",
    "        )\n",
    "    return data_list"
   ]
  },
  {
   "cell_type": "code",
   "execution_count": 7,
   "metadata": {},
   "outputs": [
    {
     "name": "stdout",
     "output_type": "stream",
     "text": [
      "[{'author': {'name': 'Albert Einstein'}, 'tags': ['change', 'deep-thoughts', 'thinking', 'world'], 'text': '“The world as we have created it is a process of our thinking. It cannot be changed without changing our thinking.”'}, {'author': {'name': 'J.K. Rowling'}, 'tags': ['abilities', 'choices'], 'text': '“It is our choices, Harry, that show what we truly are, far more than our abilities.”'}, {'author': {'name': 'Albert Einstein'}, 'tags': ['inspirational', 'life', 'live', 'miracle', 'miracles'], 'text': '“There are only two ways to live your life. One is as though nothing is a miracle. The other is as though everything is a miracle.”'}, {'author': {'name': 'Jane Austen'}, 'tags': ['aliteracy', 'books', 'classic', 'humor'], 'text': '“The person, be it gentleman or lady, who has not pleasure in a good novel, must be intolerably stupid.”'}, {'author': {'name': 'Marilyn Monroe'}, 'tags': ['be-yourself', 'inspirational'], 'text': \"“Imperfection is beauty, madness is genius and it's better to be absolutely ridiculous than absolutely boring.”\"}, {'author': {'name': 'Albert Einstein'}, 'tags': ['adulthood', 'success', 'value'], 'text': '“Try not to become a man of success. Rather become a man of value.”'}, {'author': {'name': 'André Gide'}, 'tags': ['life', 'love'], 'text': '“It is better to be hated for what you are than to be loved for what you are not.”'}, {'author': {'name': 'Thomas A. Edison'}, 'tags': ['edison', 'failure', 'inspirational', 'paraphrased'], 'text': \"“I have not failed. I've just found 10,000 ways that won't work.”\"}, {'author': {'name': 'Eleanor Roosevelt'}, 'tags': ['misattributed-eleanor-roosevelt'], 'text': \"“A woman is like a tea bag; you never know how strong it is until it's in hot water.”\"}, {'author': {'name': 'Steve Martin'}, 'tags': ['humor', 'obvious', 'simile'], 'text': '“A day without sunshine is like, you know, night.”'}]\n",
      "[{'author': {'name': 'Marilyn Monroe'}, 'tags': ['friends', 'heartbreak', 'inspirational', 'life', 'love', 'sisters'], 'text': \"“This life is what you make it. No matter what, you're going to mess up sometimes, it's a universal truth. But the good part is you get to decide how you're going to mess it up. Girls will be your friends - they'll act like it anyway. But just remember, some come, some go. The ones that stay with you through everything - they're your true best friends. Don't let go of them. Also remember, sisters make the best friends in the world. As for lovers, well, they'll come and go too. And baby, I hate to say it, most of them - actually pretty much all of them are going to break your heart, but you can't give up because if you give up, you'll never find your soulmate. You'll never find that half who makes you whole and that goes for everything. Just because you fail once, doesn't mean you're gonna fail at everything. Keep trying, hold on, and always, always, always believe in yourself, because if you don't, then who will, sweetie? So keep your head high, keep your chin up, and most importantly, keep smiling, because life's a beautiful thing and there's so much to smile about.”\"}, {'author': {'name': 'J.K. Rowling'}, 'tags': ['courage', 'friends'], 'text': '“It takes a great deal of bravery to stand up to our enemies, but just as much to stand up to our friends.”'}, {'author': {'name': 'Albert Einstein'}, 'tags': ['simplicity', 'understand'], 'text': \"“If you can't explain it to a six year old, you don't understand it yourself.”\"}, {'author': {'name': 'Bob Marley'}, 'tags': ['love'], 'text': \"“You may not be her first, her last, or her only. She loved before she may love again. But if she loves you now, what else matters? She's not perfect—you aren't either, and the two of you may never be perfect together but if she can make you laugh, cause you to think twice, and admit to being human and making mistakes, hold onto her and give her the most you can. She may not be thinking about you every second of the day, but she will give you a part of her that she knows you can break—her heart. So don't hurt her, don't change her, don't analyze and don't expect more than she can give. Smile when she makes you happy, let her know when she makes you mad, and miss her when she's not there.”\"}, {'author': {'name': 'Dr. Seuss'}, 'tags': ['fantasy'], 'text': '“I like nonsense, it wakes up the brain cells. Fantasy is a necessary ingredient in living.”'}, {'author': {'name': 'Douglas Adams'}, 'tags': ['life', 'navigation'], 'text': '“I may not have gone where I intended to go, but I think I have ended up where I needed to be.”'}, {'author': {'name': 'Elie Wiesel'}, 'tags': ['activism', 'apathy', 'hate', 'indifference', 'inspirational', 'love', 'opposite', 'philosophy'], 'text': \"“The opposite of love is not hate, it's indifference. The opposite of art is not ugliness, it's indifference. The opposite of faith is not heresy, it's indifference. And the opposite of life is not death, it's indifference.”\"}, {'author': {'name': 'Friedrich Nietzsche'}, 'tags': ['friendship', 'lack-of-friendship', 'lack-of-love', 'love', 'marriage', 'unhappy-marriage'], 'text': '“It is not a lack of love, but a lack of friendship that makes unhappy marriages.”'}, {'author': {'name': 'Mark Twain'}, 'tags': ['books', 'contentment', 'friends', 'friendship', 'life'], 'text': '“Good friends, good books, and a sleepy conscience: this is the ideal life.”'}, {'author': {'name': 'Allen Saunders'}, 'tags': ['fate', 'life', 'misattributed-john-lennon', 'planning', 'plans'], 'text': '“Life is what happens to us while we are making other plans.”'}]\n",
      "[{'author': {'name': 'Pablo Neruda'}, 'tags': ['love', 'poetry'], 'text': '“I love you without knowing how, or when, or from where. I love you simply, without problems or pride: I love you in this way because I do not know any other way of loving but this, in which there is no I or you, so intimate that your hand upon my chest is my hand, so intimate that when I fall asleep your eyes close.”'}, {'author': {'name': 'Ralph Waldo Emerson'}, 'tags': ['happiness'], 'text': '“For every minute you are angry you lose sixty seconds of happiness.”'}, {'author': {'name': 'Mother Teresa'}, 'tags': ['attributed-no-source'], 'text': '“If you judge people, you have no time to love them.”'}, {'author': {'name': 'Garrison Keillor'}, 'tags': ['humor', 'religion'], 'text': '“Anyone who thinks sitting in church can make you a Christian must also think that sitting in a garage can make you a car.”'}, {'author': {'name': 'Jim Henson'}, 'tags': ['humor'], 'text': '“Beauty is in the eye of the beholder and it may be necessary from time to time to give a stupid or misinformed beholder a black eye.”'}, {'author': {'name': 'Dr. Seuss'}, 'tags': ['comedy', 'life', 'yourself'], 'text': '“Today you are You, that is truer than true. There is no one alive who is Youer than You.”'}, {'author': {'name': 'Albert Einstein'}, 'tags': ['children', 'fairy-tales'], 'text': '“If you want your children to be intelligent, read them fairy tales. If you want them to be more intelligent, read them more fairy tales.”'}, {'author': {'name': 'J.K. Rowling'}, 'tags': [], 'text': '“It is impossible to live without failing at something, unless you live so cautiously that you might as well not have lived at all - in which case, you fail by default.”'}, {'author': {'name': 'Albert Einstein'}, 'tags': ['imagination'], 'text': '“Logic will get you from A to Z; imagination will get you everywhere.”'}, {'author': {'name': 'Bob Marley'}, 'tags': ['music'], 'text': '“One good thing about music, when it hits you, you feel no pain.”'}]\n",
      "[{'author': {'name': 'Dr. Seuss'}, 'tags': ['learning', 'reading', 'seuss'], 'text': \"“The more that you read, the more things you will know. The more that you learn, the more places you'll go.”\"}, {'author': {'name': 'J.K. Rowling'}, 'tags': ['dumbledore'], 'text': '“Of course it is happening inside your head, Harry, but why on earth should that mean that it is not real?”'}, {'author': {'name': 'Bob Marley'}, 'tags': ['friendship'], 'text': '“The truth is, everyone is going to hurt you. You just got to find the ones worth suffering for.”'}, {'author': {'name': 'Mother Teresa'}, 'tags': ['misattributed-to-mother-teresa', 'paraphrased'], 'text': '“Not all of us can do great things. But we can do small things with great love.”'}, {'author': {'name': 'J.K. Rowling'}, 'tags': ['death', 'inspirational'], 'text': '“To the well-organized mind, death is but the next great adventure.”'}, {'author': {'name': 'Charles M. Schulz'}, 'tags': ['chocolate', 'food', 'humor'], 'text': \"“All you need is love. But a little chocolate now and then doesn't hurt.”\"}, {'author': {'name': 'William Nicholson'}, 'tags': ['misattributed-to-c-s-lewis', 'reading'], 'text': \"“We read to know we're not alone.”\"}, {'author': {'name': 'Albert Einstein'}, 'tags': ['knowledge', 'learning', 'understanding', 'wisdom'], 'text': '“Any fool can know. The point is to understand.”'}, {'author': {'name': 'Jorge Luis Borges'}, 'tags': ['books', 'library'], 'text': '“I have always imagined that Paradise will be a kind of library.”'}, {'author': {'name': 'George Eliot'}, 'tags': ['inspirational'], 'text': '“It is never too late to be what you might have been.”'}]\n",
      "[{'author': {'name': 'George R.R. Martin'}, 'tags': ['read', 'readers', 'reading', 'reading-books'], 'text': '“A reader lives a thousand lives before he dies, said Jojen. The man who never reads lives only one.”'}, {'author': {'name': 'C.S. Lewis'}, 'tags': ['books', 'inspirational', 'reading', 'tea'], 'text': '“You can never get a cup of tea large enough or a book long enough to suit me.”'}, {'author': {'name': 'Marilyn Monroe'}, 'tags': [], 'text': '“You believe lies so you eventually learn to trust no one but yourself.”'}, {'author': {'name': 'Marilyn Monroe'}, 'tags': ['girls', 'love'], 'text': '“If you can make a woman laugh, you can make her do anything.”'}, {'author': {'name': 'Albert Einstein'}, 'tags': ['life', 'simile'], 'text': '“Life is like riding a bicycle. To keep your balance, you must keep moving.”'}, {'author': {'name': 'Marilyn Monroe'}, 'tags': ['love'], 'text': '“The real lover is the man who can thrill you by kissing your forehead or smiling into your eyes or just staring into space.”'}, {'author': {'name': 'Marilyn Monroe'}, 'tags': ['attributed-no-source'], 'text': \"“A wise girl kisses but doesn't love, listens but doesn't believe, and leaves before she is left.”\"}, {'author': {'name': 'Martin Luther King Jr.'}, 'tags': ['hope', 'inspirational'], 'text': '“Only in the darkness can you see the stars.”'}, {'author': {'name': 'J.K. Rowling'}, 'tags': ['dumbledore'], 'text': '“It matters not what someone is born, but what they grow to be.”'}, {'author': {'name': 'James Baldwin'}, 'tags': ['love'], 'text': '“Love does not begin and end the way we seem to think it does. Love is a battle, love is a war; love is a growing up.”'}]\n",
      "[{'author': {'name': 'Jane Austen'}, 'tags': ['friendship', 'love'], 'text': '“There is nothing I would not do for those who are really my friends. I have no notion of loving people by halves, it is not my nature.”'}, {'author': {'name': 'Eleanor Roosevelt'}, 'tags': ['attributed', 'fear', 'inspiration'], 'text': '“Do one thing every day that scares you.”'}, {'author': {'name': 'Marilyn Monroe'}, 'tags': ['attributed-no-source'], 'text': '“I am good, but not an angel. I do sin, but I am not the devil. I am just a small girl in a big world trying to find someone to love.”'}, {'author': {'name': 'Albert Einstein'}, 'tags': ['music'], 'text': '“If I were not a physicist, I would probably be a musician. I often think in music. I live my daydreams in music. I see my life in terms of music.”'}, {'author': {'name': 'Haruki Murakami'}, 'tags': ['books', 'thought'], 'text': '“If you only read the books that everyone else is reading, you can only think what everyone else is thinking.”'}, {'author': {'name': 'Alexandre Dumas fils'}, 'tags': ['misattributed-to-einstein'], 'text': '“The difference between genius and stupidity is: genius has its limits.”'}, {'author': {'name': 'Stephenie Meyer'}, 'tags': ['drug', 'romance', 'simile'], 'text': \"“He's like a drug for you, Bella.”\"}, {'author': {'name': 'Ernest Hemingway'}, 'tags': ['books', 'friends', 'novelist-quotes'], 'text': '“There is no friend as loyal as a book.”'}, {'author': {'name': 'Helen Keller'}, 'tags': ['inspirational'], 'text': '“When one door of happiness closes, another opens; but often we look so long at the closed door that we do not see the one which has been opened for us.”'}, {'author': {'name': 'George Bernard Shaw'}, 'tags': ['inspirational', 'life', 'yourself'], 'text': \"“Life isn't about finding yourself. Life is about creating yourself.”\"}]\n",
      "[{'author': {'name': 'Charles Bukowski'}, 'tags': ['alcohol'], 'text': \"“That's the problem with drinking, I thought, as I poured myself a drink. If something bad happens you drink in an attempt to forget; if something good happens you drink in order to celebrate; and if nothing happens you drink to make something happen.”\"}, {'author': {'name': 'Suzanne Collins'}, 'tags': ['the-hunger-games'], 'text': '“You don’t forget the face of the person who was your last hope.”'}, {'author': {'name': 'Suzanne Collins'}, 'tags': ['humor'], 'text': \"“Remember, we're madly in love, so it's all right to kiss me anytime you feel like it.”\"}, {'author': {'name': 'C.S. Lewis'}, 'tags': ['love'], 'text': '“To love at all is to be vulnerable. Love anything and your heart will be wrung and possibly broken. If you want to make sure of keeping it intact you must give it to no one, not even an animal. Wrap it carefully round with hobbies and little luxuries; avoid all entanglements. Lock it up safe in the casket or coffin of your selfishness. But in that casket, safe, dark, motionless, airless, it will change. It will not be broken; it will become unbreakable, impenetrable, irredeemable. To love is to be vulnerable.”'}, {'author': {'name': 'J.R.R. Tolkien'}, 'tags': ['bilbo', 'journey', 'lost', 'quest', 'travel', 'wander'], 'text': '“Not all those who wander are lost.”'}, {'author': {'name': 'J.K. Rowling'}, 'tags': ['live-death-love'], 'text': '“Do not pity the dead, Harry. Pity the living, and, above all those who live without love.”'}, {'author': {'name': 'Ernest Hemingway'}, 'tags': ['good', 'writing'], 'text': '“There is nothing to writing. All you do is sit down at a typewriter and bleed.”'}, {'author': {'name': 'Ralph Waldo Emerson'}, 'tags': ['life', 'regrets'], 'text': '“Finish each day and be done with it. You have done what you could. Some blunders and absurdities no doubt crept in; forget them as soon as you can. Tomorrow is a new day. You shall begin it serenely and with too high a spirit to be encumbered with your old nonsense.”'}, {'author': {'name': 'Mark Twain'}, 'tags': ['education'], 'text': '“I have never let my schooling interfere with my education.”'}, {'author': {'name': 'Dr. Seuss'}, 'tags': ['troubles'], 'text': \"“I have heard there are troubles of more than one kind. Some come from ahead and some come from behind. But I've bought a big bat. I'm all ready you see. Now my troubles are going to have troubles with me!”\"}]\n",
      "[{'author': {'name': 'Alfred Tennyson'}, 'tags': ['friendship', 'love'], 'text': '“If I had a flower for every time I thought of you...I could walk through my garden forever.”'}, {'author': {'name': 'Charles Bukowski'}, 'tags': ['humor'], 'text': '“Some people never go crazy. What truly horrible lives they must lead.”'}, {'author': {'name': 'Terry Pratchett'}, 'tags': ['humor', 'open-mind', 'thinking'], 'text': '“The trouble with having an open mind, of course, is that people will insist on coming along and trying to put things in it.”'}, {'author': {'name': 'Dr. Seuss'}, 'tags': ['humor', 'philosophy'], 'text': '“Think left and think right and think low and think high. Oh, the thinks you can think up if only you try!”'}, {'author': {'name': 'J.D. Salinger'}, 'tags': ['authors', 'books', 'literature', 'reading', 'writing'], 'text': \"“What really knocks me out is a book that, when you're all done reading it, you wish the author that wrote it was a terrific friend of yours and you could call him up on the phone whenever you felt like it. That doesn't happen much, though.”\"}, {'author': {'name': 'George Carlin'}, 'tags': ['humor', 'insanity', 'lies', 'lying', 'self-indulgence', 'truth'], 'text': '“The reason I talk to myself is because I’m the only one whose answers I accept.”'}, {'author': {'name': 'John Lennon'}, 'tags': ['beatles', 'connection', 'dreamers', 'dreaming', 'dreams', 'hope', 'inspirational', 'peace'], 'text': \"“You may say I'm a dreamer, but I'm not the only one. I hope someday you'll join us. And the world will live as one.”\"}, {'author': {'name': 'W.C. Fields'}, 'tags': ['humor', 'sinister'], 'text': '“I am free of all prejudice. I hate everyone equally. ”'}, {'author': {'name': 'Ayn Rand'}, 'tags': [], 'text': \"“The question isn't who is going to let me; it's who is going to stop me.”\"}, {'author': {'name': 'Mark Twain'}, 'tags': ['books', 'classic', 'reading'], 'text': \"“′Classic′ - a book which people praise and don't read.”\"}]\n",
      "[{'author': {'name': 'Albert Einstein'}, 'tags': ['mistakes'], 'text': '“Anyone who has never made a mistake has never tried anything new.”'}, {'author': {'name': 'Jane Austen'}, 'tags': ['humor', 'love', 'romantic', 'women'], 'text': \"“A lady's imagination is very rapid; it jumps from admiration to love, from love to matrimony in a moment.”\"}, {'author': {'name': 'J.K. Rowling'}, 'tags': ['integrity'], 'text': '“Remember, if the time should come when you have to make a choice between what is right and what is easy, remember what happened to a boy who was good, and kind, and brave, because he strayed across the path of Lord Voldemort. Remember Cedric Diggory.”'}, {'author': {'name': 'Jane Austen'}, 'tags': ['books', 'library', 'reading'], 'text': '“I declare after all there is no enjoyment like reading! How much sooner one tires of any thing than of a book! -- When I have a house of my own, I shall be miserable if I have not an excellent library.”'}, {'author': {'name': 'Jane Austen'}, 'tags': ['elizabeth-bennet', 'jane-austen'], 'text': '“There are few people whom I really love, and still fewer of whom I think well. The more I see of the world, the more am I dissatisfied with it; and every day confirms my belief of the inconsistency of all human characters, and of the little dependence that can be placed on the appearance of merit or sense.”'}, {'author': {'name': 'C.S. Lewis'}, 'tags': ['age', 'fairytales', 'growing-up'], 'text': '“Some day you will be old enough to start reading fairy tales again.”'}, {'author': {'name': 'C.S. Lewis'}, 'tags': ['god'], 'text': '“We are not necessarily doubting that God will do the best for us; we are wondering how painful the best will turn out to be.”'}, {'author': {'name': 'Mark Twain'}, 'tags': ['death', 'life'], 'text': '“The fear of death follows from the fear of life. A man who lives fully is prepared to die at any time.”'}, {'author': {'name': 'Mark Twain'}, 'tags': ['misattributed-mark-twain', 'truth'], 'text': '“A lie can travel half way around the world while the truth is putting on its shoes.”'}, {'author': {'name': 'C.S. Lewis'}, 'tags': ['christianity', 'faith', 'religion', 'sun'], 'text': '“I believe in Christianity as I believe that the sun has risen: not only because I see it, but because by it I see everything else.”'}]\n",
      "[{'author': {'name': 'J.K. Rowling'}, 'tags': ['truth'], 'text': '“The truth.\" Dumbledore sighed. \"It is a beautiful and terrible thing, and should therefore be treated with great caution.”'}, {'author': {'name': 'Jimi Hendrix'}, 'tags': ['death', 'life'], 'text': \"“I'm the one that's got to die when it's time for me to die, so let me live my life the way I want to.”\"}, {'author': {'name': 'J.M. Barrie'}, 'tags': ['adventure', 'love'], 'text': '“To die will be an awfully big adventure.”'}, {'author': {'name': 'E.E. Cummings'}, 'tags': ['courage'], 'text': '“It takes courage to grow up and become who you really are.”'}, {'author': {'name': 'Khaled Hosseini'}, 'tags': ['life'], 'text': '“But better to get hurt by the truth than comforted with a lie.”'}, {'author': {'name': 'Harper Lee'}, 'tags': ['better-life-empathy'], 'text': '“You never really understand a person until you consider things from his point of view... Until you climb inside of his skin and walk around in it.”'}, {'author': {'name': \"Madeleine L'Engle\"}, 'tags': ['books', 'children', 'difficult', 'grown-ups', 'write', 'writers', 'writing'], 'text': '“You have to write the book that wants to be written. And if the book will be too difficult for grown-ups, then you write it for children.”'}, {'author': {'name': 'Mark Twain'}, 'tags': ['truth'], 'text': '“Never tell the truth to people who are not worthy of it.”'}, {'author': {'name': 'Dr. Seuss'}, 'tags': ['inspirational'], 'text': \"“A person's a person, no matter how small.”\"}, {'author': {'name': 'George R.R. Martin'}, 'tags': ['books', 'mind'], 'text': '“... a mind needs books as a sword needs a whetstone, if it is to keep its edge.”'}]\n"
     ]
    }
   ],
   "source": [
    "# install selenium webdriver for Chrome and then initiate that webdriver\n",
    "driver = webdriver.Chrome(service=ChromeService(ChromeDriverManager().install()))\n",
    "\n",
    "# scraping data\n",
    "page_num = 1\n",
    "while True:\n",
    "    try:\n",
    "        url = f\"https://quotes.toscrape.com/js/page/{page_num}/\"\n",
    "        output_data = fetch_data(driver=driver, url=url)\n",
    "        page_num +=1\n",
    "        if not output_data: # if output_data = None or False, it will stop executing the while loop\n",
    "            break\n",
    "        print(output_data)\n",
    "    except Exception as e:\n",
    "        break\n",
    "\n",
    "# close the selenium webdriver\n",
    "driver.quit()"
   ]
  },
  {
   "cell_type": "markdown",
   "metadata": {},
   "source": [
    "### Computing environment"
   ]
  },
  {
   "cell_type": "code",
   "execution_count": 5,
   "metadata": {},
   "outputs": [
    {
     "name": "stdout",
     "output_type": "stream",
     "text": [
      "Last updated: 2024-03-17T06:37:44.290630+00:00\n",
      "\n",
      "Python implementation: CPython\n",
      "Python version       : 3.10.13\n",
      "IPython version      : 8.22.2\n",
      "\n",
      "Compiler    : GCC 11.4.0\n",
      "OS          : Linux\n",
      "Release     : 6.1.75-060175-generic\n",
      "Machine     : x86_64\n",
      "Processor   : x86_64\n",
      "CPU cores   : 16\n",
      "Architecture: 64bit\n",
      "\n",
      "selenium: 4.18.1\n",
      "\n",
      "Last updated: Sun Mar 17 2024 06:37:44UTC\n",
      "\n"
     ]
    }
   ],
   "source": [
    "%load_ext watermark\n",
    "\n",
    "%watermark\n",
    "%watermark  --iversions\n",
    "%watermark -u -n -t -z"
   ]
  }
 ],
 "metadata": {
  "kernelspec": {
   "display_name": "py3.10",
   "language": "python",
   "name": "python3"
  },
  "language_info": {
   "codemirror_mode": {
    "name": "ipython",
    "version": 3
   },
   "file_extension": ".py",
   "mimetype": "text/x-python",
   "name": "python",
   "nbconvert_exporter": "python",
   "pygments_lexer": "ipython3",
   "version": "3.10.13"
  }
 },
 "nbformat": 4,
 "nbformat_minor": 2
}
