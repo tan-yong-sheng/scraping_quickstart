{
 "cells": [
  {
   "cell_type": "markdown",
   "metadata": {},
   "source": [
    "## Introduction to type hint in Python\n",
    "\n",
    "What is type hint?\n",
    "- <>\n",
    "\n",
    "Reference: \n",
    "1. Python Type Checking (Guide) https://realpython.com/python-type-checking/\n",
    "2. Python typing and validation with mypy and pydantic https://lynn-kwong.medium.com/python-typing-and-validation-with-mypy-and-pydantic-a2563d67e6d\n",
    "3. Type-check Jupyter Notebooks with mypy https://stackoverflow.com/questions/58976685/type-check-jupyter-notebooks-with-mypy\n"
   ]
  },
  {
   "cell_type": "markdown",
   "metadata": {},
   "source": [
    "### Part 1 - Basic type hint"
   ]
  },
  {
   "cell_type": "markdown",
   "metadata": {},
   "source": [
    "(i) Type hint for declared variable\n",
    "\n",
    "- `website_url: str` syntax indicates the website_url variable should be type str (or string) \n",
    "\n",
    "- `headers: dict[str, str]` syntax indicates headers variable should be type dict, and inside the square brackets, the first str represents the type of keys in the dictionary should be type str (or strings), and the second str represents the type of values associated with those keys (also strings)."
   ]
  },
  {
   "cell_type": "code",
   "execution_count": 1,
   "metadata": {},
   "outputs": [],
   "source": [
    "website_url: str = \"https://quotes.toscrape.com/api/quotes?page=1\"\n",
    "\n",
    "headers: dict[str, str] = {\"User-Agent\": \"Mozilla/5.0 (Windows NT 10.0; Win64; x64) AppleWebKit/537.36 (KHTML, like Gecko) Chrome/122.0.0.0 Safari/537.36\"}"
   ]
  },
  {
   "cell_type": "markdown",
   "metadata": {},
   "source": [
    "(ii) Type hint for Python module\n",
    "\n",
    "- `requests: requests.models.Response` "
   ]
  },
  {
   "cell_type": "code",
   "execution_count": 2,
   "metadata": {},
   "outputs": [
    {
     "name": "stdout",
     "output_type": "stream",
     "text": [
      "Type hint:  <class 'requests.models.Response'>\n"
     ]
    },
    {
     "data": {
      "text/plain": [
       "b'{\"has_next\":true,\"page\":1,\"quotes\":[{\"author\":{\"goodreads_link\":\"/author/show/9810.Albert_Einstein\",\"name\":\"Albert Einstein\",\"slug\":\"Albert-Einstein\"},\"tags\":[\"change\",\"deep-thoughts\",\"thinking\",\"world\"],\"text\":\"\\\\u201cThe world as we have created it is a process of our thinking. It cannot be changed without changing our thinking.\\\\u201d\"},{\"author\":{\"goodreads_link\":\"/author/show/1077326.J_K_Rowling\",\"name\":\"J.K. Rowling\",\"slug\":\"J-K-Rowling\"},\"tags\":[\"abilities\",\"choices\"],\"text\":\"\\\\u201cIt is our choices, Harry, that show what we truly are, far more than our abilities.\\\\u201d\"},{\"author\":{\"goodreads_link\":\"/author/show/9810.Albert_Einstein\",\"name\":\"Albert Einstein\",\"slug\":\"Albert-Einstein\"},\"tags\":[\"inspirational\",\"life\",\"live\",\"miracle\",\"miracles\"],\"text\":\"\\\\u201cThere are only two ways to live your life. One is as though nothing is a miracle. The other is as though everything is a miracle.\\\\u201d\"},{\"author\":{\"goodreads_link\":\"/author/show/1265.Jane_Austen\",\"name\":\"Jane Austen\",\"slug\":\"Jane-Austen\"},\"tags\":[\"aliteracy\",\"books\",\"classic\",\"humor\"],\"text\":\"\\\\u201cThe person, be it gentleman or lady, who has not pleasure in a good novel, must be intolerably stupid.\\\\u201d\"},{\"author\":{\"goodreads_link\":\"/author/show/82952.Marilyn_Monroe\",\"name\":\"Marilyn Monroe\",\"slug\":\"Marilyn-Monroe\"},\"tags\":[\"be-yourself\",\"inspirational\"],\"text\":\"\\\\u201cImperfection is beauty, madness is genius and it\\'s better to be absolutely ridiculous than absolutely boring.\\\\u201d\"},{\"author\":{\"goodreads_link\":\"/author/show/9810.Albert_Einstein\",\"name\":\"Albert Einstein\",\"slug\":\"Albert-Einstein\"},\"tags\":[\"adulthood\",\"success\",\"value\"],\"text\":\"\\\\u201cTry not to become a man of success. Rather become a man of value.\\\\u201d\"},{\"author\":{\"goodreads_link\":\"/author/show/7617.Andr_Gide\",\"name\":\"Andr\\\\u00e9 Gide\",\"slug\":\"Andre-Gide\"},\"tags\":[\"life\",\"love\"],\"text\":\"\\\\u201cIt is better to be hated for what you are than to be loved for what you are not.\\\\u201d\"},{\"author\":{\"goodreads_link\":\"/author/show/3091287.Thomas_A_Edison\",\"name\":\"Thomas A. Edison\",\"slug\":\"Thomas-A-Edison\"},\"tags\":[\"edison\",\"failure\",\"inspirational\",\"paraphrased\"],\"text\":\"\\\\u201cI have not failed. I\\'ve just found 10,000 ways that won\\'t work.\\\\u201d\"},{\"author\":{\"goodreads_link\":\"/author/show/44566.Eleanor_Roosevelt\",\"name\":\"Eleanor Roosevelt\",\"slug\":\"Eleanor-Roosevelt\"},\"tags\":[\"misattributed-eleanor-roosevelt\"],\"text\":\"\\\\u201cA woman is like a tea bag; you never know how strong it is until it\\'s in hot water.\\\\u201d\"},{\"author\":{\"goodreads_link\":\"/author/show/7103.Steve_Martin\",\"name\":\"Steve Martin\",\"slug\":\"Steve-Martin\"},\"tags\":[\"humor\",\"obvious\",\"simile\"],\"text\":\"\\\\u201cA day without sunshine is like, you know, night.\\\\u201d\"}],\"tag\":null,\"top_ten_tags\":[[\"love\",14],[\"inspirational\",13],[\"life\",13],[\"humor\",12],[\"books\",11],[\"reading\",7],[\"friendship\",5],[\"friends\",4],[\"truth\",4],[\"simile\",3]]}\\n'"
      ]
     },
     "execution_count": 2,
     "metadata": {},
     "output_type": "execute_result"
    }
   ],
   "source": [
    "# type hint for `requests` library is requests.models.Response, which I check with `type(response)`\n",
    "\n",
    "import requests\n",
    "\n",
    "response: requests.models.Response = requests.get(url=website_url)\n",
    "print(\"Type hint: \", type(response)) # uncheck this code if you want to see the type hint for requests library \n",
    "response.content"
   ]
  },
  {
   "cell_type": "markdown",
   "metadata": {},
   "source": [
    "(iii) Type hint for function"
   ]
  },
  {
   "cell_type": "code",
   "execution_count": 3,
   "metadata": {},
   "outputs": [
    {
     "data": {
      "text/plain": [
       "{'has_next': True,\n",
       " 'page': 1,\n",
       " 'quotes': [{'author': {'goodreads_link': '/author/show/9810.Albert_Einstein',\n",
       "    'name': 'Albert Einstein',\n",
       "    'slug': 'Albert-Einstein'},\n",
       "   'tags': ['change', 'deep-thoughts', 'thinking', 'world'],\n",
       "   'text': '“The world as we have created it is a process of our thinking. It cannot be changed without changing our thinking.”'},\n",
       "  {'author': {'goodreads_link': '/author/show/1077326.J_K_Rowling',\n",
       "    'name': 'J.K. Rowling',\n",
       "    'slug': 'J-K-Rowling'},\n",
       "   'tags': ['abilities', 'choices'],\n",
       "   'text': '“It is our choices, Harry, that show what we truly are, far more than our abilities.”'},\n",
       "  {'author': {'goodreads_link': '/author/show/9810.Albert_Einstein',\n",
       "    'name': 'Albert Einstein',\n",
       "    'slug': 'Albert-Einstein'},\n",
       "   'tags': ['inspirational', 'life', 'live', 'miracle', 'miracles'],\n",
       "   'text': '“There are only two ways to live your life. One is as though nothing is a miracle. The other is as though everything is a miracle.”'},\n",
       "  {'author': {'goodreads_link': '/author/show/1265.Jane_Austen',\n",
       "    'name': 'Jane Austen',\n",
       "    'slug': 'Jane-Austen'},\n",
       "   'tags': ['aliteracy', 'books', 'classic', 'humor'],\n",
       "   'text': '“The person, be it gentleman or lady, who has not pleasure in a good novel, must be intolerably stupid.”'},\n",
       "  {'author': {'goodreads_link': '/author/show/82952.Marilyn_Monroe',\n",
       "    'name': 'Marilyn Monroe',\n",
       "    'slug': 'Marilyn-Monroe'},\n",
       "   'tags': ['be-yourself', 'inspirational'],\n",
       "   'text': \"“Imperfection is beauty, madness is genius and it's better to be absolutely ridiculous than absolutely boring.”\"},\n",
       "  {'author': {'goodreads_link': '/author/show/9810.Albert_Einstein',\n",
       "    'name': 'Albert Einstein',\n",
       "    'slug': 'Albert-Einstein'},\n",
       "   'tags': ['adulthood', 'success', 'value'],\n",
       "   'text': '“Try not to become a man of success. Rather become a man of value.”'},\n",
       "  {'author': {'goodreads_link': '/author/show/7617.Andr_Gide',\n",
       "    'name': 'André Gide',\n",
       "    'slug': 'Andre-Gide'},\n",
       "   'tags': ['life', 'love'],\n",
       "   'text': '“It is better to be hated for what you are than to be loved for what you are not.”'},\n",
       "  {'author': {'goodreads_link': '/author/show/3091287.Thomas_A_Edison',\n",
       "    'name': 'Thomas A. Edison',\n",
       "    'slug': 'Thomas-A-Edison'},\n",
       "   'tags': ['edison', 'failure', 'inspirational', 'paraphrased'],\n",
       "   'text': \"“I have not failed. I've just found 10,000 ways that won't work.”\"},\n",
       "  {'author': {'goodreads_link': '/author/show/44566.Eleanor_Roosevelt',\n",
       "    'name': 'Eleanor Roosevelt',\n",
       "    'slug': 'Eleanor-Roosevelt'},\n",
       "   'tags': ['misattributed-eleanor-roosevelt'],\n",
       "   'text': \"“A woman is like a tea bag; you never know how strong it is until it's in hot water.”\"},\n",
       "  {'author': {'goodreads_link': '/author/show/7103.Steve_Martin',\n",
       "    'name': 'Steve Martin',\n",
       "    'slug': 'Steve-Martin'},\n",
       "   'tags': ['humor', 'obvious', 'simile'],\n",
       "   'text': '“A day without sunshine is like, you know, night.”'}],\n",
       " 'tag': None,\n",
       " 'top_ten_tags': [['love', 14],\n",
       "  ['inspirational', 13],\n",
       "  ['life', 13],\n",
       "  ['humor', 12],\n",
       "  ['books', 11],\n",
       "  ['reading', 7],\n",
       "  ['friendship', 5],\n",
       "  ['friends', 4],\n",
       "  ['truth', 4],\n",
       "  ['simile', 3]]}"
      ]
     },
     "execution_count": 3,
     "metadata": {},
     "output_type": "execute_result"
    }
   ],
   "source": [
    "import requests\n",
    "from typing import Any\n",
    "\n",
    "def scrape(url:str) -> dict[str, Any]:\n",
    "    response: requests.models.Response = requests.get(url=url)\n",
    "    return response.json()\n",
    "\n",
    "scrape(website_url) "
   ]
  },
  {
   "cell_type": "markdown",
   "metadata": {},
   "source": [
    "## "
   ]
  },
  {
   "cell_type": "markdown",
   "metadata": {},
   "source": [
    "## Simplify data validation with pydantic"
   ]
  },
  {
   "cell_type": "code",
   "execution_count": null,
   "metadata": {},
   "outputs": [],
   "source": []
  },
  {
   "cell_type": "markdown",
   "metadata": {},
   "source": [
    "## Computing Environment"
   ]
  },
  {
   "cell_type": "code",
   "execution_count": 4,
   "metadata": {},
   "outputs": [
    {
     "name": "stdout",
     "output_type": "stream",
     "text": [
      "Last updated: 2024-03-10T12:58:10.841911+00:00\n",
      "\n",
      "Python implementation: CPython\n",
      "Python version       : 3.10.12\n",
      "IPython version      : 8.22.2\n",
      "\n",
      "Compiler    : GCC 11.4.0\n",
      "OS          : Linux\n",
      "Release     : 6.1.75-060175-generic\n",
      "Machine     : x86_64\n",
      "Processor   : x86_64\n",
      "CPU cores   : 16\n",
      "Architecture: 64bit\n",
      "\n",
      "requests: 2.31.0\n",
      "\n",
      "Last updated: Sun Mar 10 2024 12:58:10UTC\n",
      "\n"
     ]
    }
   ],
   "source": [
    "%load_ext watermark\n",
    "\n",
    "%watermark\n",
    "\n",
    "# print out pypi packages used\n",
    "%watermark --iversions\n",
    "\n",
    "# date\n",
    "%watermark -u -n -t -z"
   ]
  }
 ],
 "metadata": {
  "kernelspec": {
   "display_name": "Python 3",
   "language": "python",
   "name": "python3"
  },
  "language_info": {
   "codemirror_mode": {
    "name": "ipython",
    "version": 3
   },
   "file_extension": ".py",
   "mimetype": "text/x-python",
   "name": "python",
   "nbconvert_exporter": "python",
   "pygments_lexer": "ipython3",
   "version": "3.10.12"
  }
 },
 "nbformat": 4,
 "nbformat_minor": 2
}
