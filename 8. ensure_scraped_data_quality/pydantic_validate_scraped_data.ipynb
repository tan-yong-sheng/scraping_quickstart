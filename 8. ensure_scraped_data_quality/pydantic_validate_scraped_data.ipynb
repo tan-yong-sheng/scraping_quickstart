{
 "cells": [
  {
   "cell_type": "markdown",
   "metadata": {},
   "source": [
    "## Using pydantic to validate scraped data"
   ]
  },
  {
   "cell_type": "code",
   "execution_count": 1,
   "metadata": {},
   "outputs": [
    {
     "name": "stdout",
     "output_type": "stream",
     "text": [
      "Defaulting to user installation because normal site-packages is not writeable\n",
      "Requirement already satisfied: requests in /workspace/.pyenv_mirror/user/current/lib/python3.10/site-packages (2.31.0)\n",
      "Requirement already satisfied: idna<4,>=2.5 in /workspace/.pyenv_mirror/user/current/lib/python3.10/site-packages (from requests) (3.6)\n",
      "Requirement already satisfied: charset-normalizer<4,>=2 in /workspace/.pyenv_mirror/user/current/lib/python3.10/site-packages (from requests) (3.3.2)\n",
      "Requirement already satisfied: urllib3<3,>=1.21.1 in /workspace/.pyenv_mirror/user/current/lib/python3.10/site-packages (from requests) (2.2.1)\n",
      "Requirement already satisfied: certifi>=2017.4.17 in /workspace/.pyenv_mirror/user/current/lib/python3.10/site-packages (from requests) (2024.2.2)\n",
      "Note: you may need to restart the kernel to use updated packages.\n",
      "Defaulting to user installation because normal site-packages is not writeable\n",
      "Requirement already satisfied: lxml in /workspace/.pyenv_mirror/user/current/lib/python3.10/site-packages (5.1.0)\n",
      "Note: you may need to restart the kernel to use updated packages.\n",
      "Defaulting to user installation because normal site-packages is not writeable\n",
      "Requirement already satisfied: pandas in /workspace/.pyenv_mirror/user/current/lib/python3.10/site-packages (2.2.1)\n",
      "Requirement already satisfied: python-dateutil>=2.8.2 in /workspace/.pyenv_mirror/user/current/lib/python3.10/site-packages (from pandas) (2.9.0.post0)\n",
      "Requirement already satisfied: tzdata>=2022.7 in /workspace/.pyenv_mirror/user/current/lib/python3.10/site-packages (from pandas) (2024.1)\n",
      "Requirement already satisfied: pytz>=2020.1 in /workspace/.pyenv_mirror/user/current/lib/python3.10/site-packages (from pandas) (2024.1)\n",
      "Requirement already satisfied: numpy<2,>=1.22.4 in /workspace/.pyenv_mirror/user/current/lib/python3.10/site-packages (from pandas) (1.26.4)\n",
      "Requirement already satisfied: six>=1.5 in /usr/lib/python3/dist-packages (from python-dateutil>=2.8.2->pandas) (1.16.0)\n",
      "Note: you may need to restart the kernel to use updated packages.\n",
      "Defaulting to user installation because normal site-packages is not writeable\n",
      "Requirement already satisfied: watermark in /workspace/.pyenv_mirror/user/current/lib/python3.10/site-packages (2.4.3)\n",
      "Requirement already satisfied: setuptools in /usr/lib/python3/dist-packages (from watermark) (59.6.0)\n",
      "Requirement already satisfied: ipython>=6.0 in /workspace/.pyenv_mirror/user/current/lib/python3.10/site-packages (from watermark) (8.22.2)\n",
      "Requirement already satisfied: importlib-metadata>=1.4 in /usr/lib/python3/dist-packages (from watermark) (4.6.4)\n",
      "Requirement already satisfied: matplotlib-inline in /workspace/.pyenv_mirror/user/current/lib/python3.10/site-packages (from ipython>=6.0->watermark) (0.1.6)\n",
      "Requirement already satisfied: pygments>=2.4.0 in /workspace/.pyenv_mirror/user/current/lib/python3.10/site-packages (from ipython>=6.0->watermark) (2.17.2)\n",
      "Requirement already satisfied: prompt-toolkit<3.1.0,>=3.0.41 in /workspace/.pyenv_mirror/user/current/lib/python3.10/site-packages (from ipython>=6.0->watermark) (3.0.43)\n",
      "Requirement already satisfied: traitlets>=5.13.0 in /workspace/.pyenv_mirror/user/current/lib/python3.10/site-packages (from ipython>=6.0->watermark) (5.14.1)\n",
      "Requirement already satisfied: exceptiongroup in /workspace/.pyenv_mirror/user/current/lib/python3.10/site-packages (from ipython>=6.0->watermark) (1.2.0)\n",
      "Requirement already satisfied: jedi>=0.16 in /workspace/.pyenv_mirror/user/current/lib/python3.10/site-packages (from ipython>=6.0->watermark) (0.19.1)\n",
      "Requirement already satisfied: decorator in /workspace/.pyenv_mirror/user/current/lib/python3.10/site-packages (from ipython>=6.0->watermark) (5.1.1)\n",
      "Requirement already satisfied: pexpect>4.3 in /workspace/.pyenv_mirror/user/current/lib/python3.10/site-packages (from ipython>=6.0->watermark) (4.9.0)\n",
      "Requirement already satisfied: stack-data in /workspace/.pyenv_mirror/user/current/lib/python3.10/site-packages (from ipython>=6.0->watermark) (0.6.3)\n",
      "Requirement already satisfied: parso<0.9.0,>=0.8.3 in /workspace/.pyenv_mirror/user/current/lib/python3.10/site-packages (from jedi>=0.16->ipython>=6.0->watermark) (0.8.3)\n",
      "Requirement already satisfied: ptyprocess>=0.5 in /workspace/.pyenv_mirror/user/current/lib/python3.10/site-packages (from pexpect>4.3->ipython>=6.0->watermark) (0.7.0)\n",
      "Requirement already satisfied: wcwidth in /workspace/.pyenv_mirror/user/current/lib/python3.10/site-packages (from prompt-toolkit<3.1.0,>=3.0.41->ipython>=6.0->watermark) (0.2.13)\n",
      "Requirement already satisfied: asttokens>=2.1.0 in /workspace/.pyenv_mirror/user/current/lib/python3.10/site-packages (from stack-data->ipython>=6.0->watermark) (2.4.1)\n",
      "Requirement already satisfied: executing>=1.2.0 in /workspace/.pyenv_mirror/user/current/lib/python3.10/site-packages (from stack-data->ipython>=6.0->watermark) (2.0.1)\n",
      "Requirement already satisfied: pure-eval in /workspace/.pyenv_mirror/user/current/lib/python3.10/site-packages (from stack-data->ipython>=6.0->watermark) (0.2.2)\n",
      "Requirement already satisfied: six>=1.12.0 in /usr/lib/python3/dist-packages (from asttokens>=2.1.0->stack-data->ipython>=6.0->watermark) (1.16.0)\n",
      "Note: you may need to restart the kernel to use updated packages.\n",
      "Defaulting to user installation because normal site-packages is not writeable\n",
      "Requirement already satisfied: pydantic in /workspace/.pyenv_mirror/user/current/lib/python3.10/site-packages (2.6.3)\n",
      "Requirement already satisfied: pydantic-core==2.16.3 in /workspace/.pyenv_mirror/user/current/lib/python3.10/site-packages (from pydantic) (2.16.3)\n",
      "Requirement already satisfied: typing-extensions>=4.6.1 in /workspace/.pyenv_mirror/user/current/lib/python3.10/site-packages (from pydantic) (4.10.0)\n",
      "Requirement already satisfied: annotated-types>=0.4.0 in /workspace/.pyenv_mirror/user/current/lib/python3.10/site-packages (from pydantic) (0.6.0)\n",
      "Note: you may need to restart the kernel to use updated packages.\n",
      "Defaulting to user installation because normal site-packages is not writeable\n",
      "Requirement already satisfied: pydantic-extra-types in /workspace/.pyenv_mirror/user/current/lib/python3.10/site-packages (2.6.0)\n",
      "Requirement already satisfied: pydantic>=2.5.2 in /workspace/.pyenv_mirror/user/current/lib/python3.10/site-packages (from pydantic-extra-types) (2.6.3)\n",
      "Requirement already satisfied: annotated-types>=0.4.0 in /workspace/.pyenv_mirror/user/current/lib/python3.10/site-packages (from pydantic>=2.5.2->pydantic-extra-types) (0.6.0)\n",
      "Requirement already satisfied: pydantic-core==2.16.3 in /workspace/.pyenv_mirror/user/current/lib/python3.10/site-packages (from pydantic>=2.5.2->pydantic-extra-types) (2.16.3)\n",
      "Requirement already satisfied: typing-extensions>=4.6.1 in /workspace/.pyenv_mirror/user/current/lib/python3.10/site-packages (from pydantic>=2.5.2->pydantic-extra-types) (4.10.0)\n",
      "Note: you may need to restart the kernel to use updated packages.\n",
      "Defaulting to user installation because normal site-packages is not writeable\n",
      "Requirement already satisfied: pycountry in /workspace/.pyenv_mirror/user/current/lib/python3.10/site-packages (23.12.11)\n",
      "Note: you may need to restart the kernel to use updated packages.\n",
      "Defaulting to user installation because normal site-packages is not writeable\n",
      "Requirement already satisfied: word2number in /workspace/.pyenv_mirror/user/current/lib/python3.10/site-packages (1.1)\n",
      "Note: you may need to restart the kernel to use updated packages.\n"
     ]
    }
   ],
   "source": [
    "%pip install requests\n",
    "%pip install lxml\n",
    "%pip install pandas\n",
    "%pip install watermark\n",
    "%pip install pydantic\n",
    "%pip install pydantic-extra-types\n",
    "%pip install pycountry\n",
    "%pip install word2number"
   ]
  },
  {
   "cell_type": "markdown",
   "metadata": {},
   "source": [
    "#### Scrape the website content"
   ]
  },
  {
   "cell_type": "code",
   "execution_count": 7,
   "metadata": {},
   "outputs": [],
   "source": [
    "from pydantic import (BaseModel, \n",
    "                      HttpUrl, \n",
    "                      computed_field, \n",
    "                      field_serializer)\n",
    "from pydantic_extra_types.currency_code import Currency\n",
    "\n",
    "class BookModel(BaseModel):\n",
    "  # currencies: list[Currency]\n",
    "  prices: list[str]\n",
    "  book_titles: list[str]\n",
    "  book_urls: list[HttpUrl]\n",
    "  star_ratings: list[str]\n",
    "\n",
    "  # @computed_field  \n",
    "  # @property\n",
    "  # def price_stats(self) -> dict[str, float]:\n",
    "  #   prices = [float(price) for price in self.price]\n",
    "  #  return {\"min\": min(prices),\n",
    "  #          \"max\": max(prices),\n",
    "  #          \"mean\": mean(prices)\n",
    "  #        }\n",
    "\n",
    "  @field_serializer('star_ratings')\n",
    "  def serialize_star_rating(star_ratings: list[str]) -> list[int]:\n",
    "    print(\"-------------\")\n",
    "    print(star_ratings)\n",
    "    return [w2n.word_to_num(star_rating.replace(\"star-rating \",\"\")) for star_rating in star_ratings]"
   ]
  },
  {
   "cell_type": "code",
   "execution_count": 14,
   "metadata": {},
   "outputs": [
    {
     "name": "stdout",
     "output_type": "stream",
     "text": [
      "hello\n",
      "https://books.toscrape.com/catalogue/page-1.html\n"
     ]
    },
    {
     "ename": "KeyboardInterrupt",
     "evalue": "",
     "output_type": "error",
     "traceback": [
      "\u001b[0;31m---------------------------------------------------------------------------\u001b[0m",
      "\u001b[0;31mKeyboardInterrupt\u001b[0m                         Traceback (most recent call last)",
      "\u001b[1;32m/workspace/scraping_quickstart/8. ensure_scraped_data_quality/pydantic_validate_scraped_data.ipynb Cell 5\u001b[0m line \u001b[0;36m7\n\u001b[1;32m     <a href='vscode-notebook-cell://tanyongshen-scrapingqui-7aheiua2lvu.ws-us108.gitpod.io/workspace/scraping_quickstart/8.%20ensure_scraped_data_quality/pydantic_validate_scraped_data.ipynb#W4sdnNjb2RlLXJlbW90ZQ%3D%3D?line=69'>70</a>\u001b[0m         \u001b[39mreturn\u001b[39;00m validated_book_data\n\u001b[1;32m     <a href='vscode-notebook-cell://tanyongshen-scrapingqui-7aheiua2lvu.ws-us108.gitpod.io/workspace/scraping_quickstart/8.%20ensure_scraped_data_quality/pydantic_validate_scraped_data.ipynb#W4sdnNjb2RlLXJlbW90ZQ%3D%3D?line=71'>72</a>\u001b[0m book_spider \u001b[39m=\u001b[39m BookSpider()\n\u001b[0;32m---> <a href='vscode-notebook-cell://tanyongshen-scrapingqui-7aheiua2lvu.ws-us108.gitpod.io/workspace/scraping_quickstart/8.%20ensure_scraped_data_quality/pydantic_validate_scraped_data.ipynb#W4sdnNjb2RlLXJlbW90ZQ%3D%3D?line=72'>73</a>\u001b[0m book_spider\u001b[39m.\u001b[39;49mget()\n",
      "\u001b[1;32m/workspace/scraping_quickstart/8. ensure_scraped_data_quality/pydantic_validate_scraped_data.ipynb Cell 5\u001b[0m line \u001b[0;36m2\n\u001b[1;32m     <a href='vscode-notebook-cell://tanyongshen-scrapingqui-7aheiua2lvu.ws-us108.gitpod.io/workspace/scraping_quickstart/8.%20ensure_scraped_data_quality/pydantic_validate_scraped_data.ipynb#W4sdnNjb2RlLXJlbW90ZQ%3D%3D?line=24'>25</a>\u001b[0m url \u001b[39m=\u001b[39m \u001b[39mf\u001b[39m\u001b[39m\"\u001b[39m\u001b[39mhttps://books.toscrape.com/catalogue/page-\u001b[39m\u001b[39m{\u001b[39;00mpage_num\u001b[39m}\u001b[39;00m\u001b[39m.html\u001b[39m\u001b[39m\"\u001b[39m\n\u001b[1;32m     <a href='vscode-notebook-cell://tanyongshen-scrapingqui-7aheiua2lvu.ws-us108.gitpod.io/workspace/scraping_quickstart/8.%20ensure_scraped_data_quality/pydantic_validate_scraped_data.ipynb#W4sdnNjb2RlLXJlbW90ZQ%3D%3D?line=25'>26</a>\u001b[0m \u001b[39mprint\u001b[39m(url)\n\u001b[0;32m---> <a href='vscode-notebook-cell://tanyongshen-scrapingqui-7aheiua2lvu.ws-us108.gitpod.io/workspace/scraping_quickstart/8.%20ensure_scraped_data_quality/pydantic_validate_scraped_data.ipynb#W4sdnNjb2RlLXJlbW90ZQ%3D%3D?line=26'>27</a>\u001b[0m output_data \u001b[39m=\u001b[39m \u001b[39mself\u001b[39;49m\u001b[39m.\u001b[39;49m_fetch_data(url\u001b[39m=\u001b[39;49murl)\n\u001b[1;32m     <a href='vscode-notebook-cell://tanyongshen-scrapingqui-7aheiua2lvu.ws-us108.gitpod.io/workspace/scraping_quickstart/8.%20ensure_scraped_data_quality/pydantic_validate_scraped_data.ipynb#W4sdnNjb2RlLXJlbW90ZQ%3D%3D?line=27'>28</a>\u001b[0m \u001b[39mprint\u001b[39m(output_data)\n\u001b[1;32m     <a href='vscode-notebook-cell://tanyongshen-scrapingqui-7aheiua2lvu.ws-us108.gitpod.io/workspace/scraping_quickstart/8.%20ensure_scraped_data_quality/pydantic_validate_scraped_data.ipynb#W4sdnNjb2RlLXJlbW90ZQ%3D%3D?line=28'>29</a>\u001b[0m \u001b[39m#validated_data = self._validate_book_data(output_data)\u001b[39;00m\n",
      "\u001b[1;32m/workspace/scraping_quickstart/8. ensure_scraped_data_quality/pydantic_validate_scraped_data.ipynb Cell 5\u001b[0m line \u001b[0;36m4\n\u001b[1;32m     <a href='vscode-notebook-cell://tanyongshen-scrapingqui-7aheiua2lvu.ws-us108.gitpod.io/workspace/scraping_quickstart/8.%20ensure_scraped_data_quality/pydantic_validate_scraped_data.ipynb#W4sdnNjb2RlLXJlbW90ZQ%3D%3D?line=38'>39</a>\u001b[0m \u001b[39mdef\u001b[39;00m \u001b[39m_fetch_data\u001b[39m(\u001b[39mself\u001b[39m, url):\n\u001b[1;32m     <a href='vscode-notebook-cell://tanyongshen-scrapingqui-7aheiua2lvu.ws-us108.gitpod.io/workspace/scraping_quickstart/8.%20ensure_scraped_data_quality/pydantic_validate_scraped_data.ipynb#W4sdnNjb2RlLXJlbW90ZQ%3D%3D?line=39'>40</a>\u001b[0m     data_list \u001b[39m=\u001b[39m []\n\u001b[0;32m---> <a href='vscode-notebook-cell://tanyongshen-scrapingqui-7aheiua2lvu.ws-us108.gitpod.io/workspace/scraping_quickstart/8.%20ensure_scraped_data_quality/pydantic_validate_scraped_data.ipynb#W4sdnNjb2RlLXJlbW90ZQ%3D%3D?line=40'>41</a>\u001b[0m     response \u001b[39m=\u001b[39m \u001b[39mself\u001b[39;49m\u001b[39m.\u001b[39;49msession\u001b[39m.\u001b[39;49mrequest(\u001b[39m\"\u001b[39;49m\u001b[39mGET\u001b[39;49m\u001b[39m\"\u001b[39;49m, url)\n\u001b[1;32m     <a href='vscode-notebook-cell://tanyongshen-scrapingqui-7aheiua2lvu.ws-us108.gitpod.io/workspace/scraping_quickstart/8.%20ensure_scraped_data_quality/pydantic_validate_scraped_data.ipynb#W4sdnNjb2RlLXJlbW90ZQ%3D%3D?line=41'>42</a>\u001b[0m     tree \u001b[39m=\u001b[39m html\u001b[39m.\u001b[39mfromstring(response\u001b[39m.\u001b[39mcontent)\n\u001b[1;32m     <a href='vscode-notebook-cell://tanyongshen-scrapingqui-7aheiua2lvu.ws-us108.gitpod.io/workspace/scraping_quickstart/8.%20ensure_scraped_data_quality/pydantic_validate_scraped_data.ipynb#W4sdnNjb2RlLXJlbW90ZQ%3D%3D?line=42'>43</a>\u001b[0m     find_quotes_with_xpath_selector \u001b[39m=\u001b[39m tree\u001b[39m.\u001b[39mxpath(\u001b[39m\"\u001b[39m\u001b[39m//article[@class=\u001b[39m\u001b[39m'\u001b[39m\u001b[39mproduct_pod\u001b[39m\u001b[39m'\u001b[39m\u001b[39m]\u001b[39m\u001b[39m\"\u001b[39m)\n",
      "File \u001b[0;32m/workspace/.pyenv_mirror/user/current/lib/python3.10/site-packages/requests/sessions.py:589\u001b[0m, in \u001b[0;36mSession.request\u001b[0;34m(self, method, url, params, data, headers, cookies, files, auth, timeout, allow_redirects, proxies, hooks, stream, verify, cert, json)\u001b[0m\n\u001b[1;32m    584\u001b[0m send_kwargs \u001b[39m=\u001b[39m {\n\u001b[1;32m    585\u001b[0m     \u001b[39m\"\u001b[39m\u001b[39mtimeout\u001b[39m\u001b[39m\"\u001b[39m: timeout,\n\u001b[1;32m    586\u001b[0m     \u001b[39m\"\u001b[39m\u001b[39mallow_redirects\u001b[39m\u001b[39m\"\u001b[39m: allow_redirects,\n\u001b[1;32m    587\u001b[0m }\n\u001b[1;32m    588\u001b[0m send_kwargs\u001b[39m.\u001b[39mupdate(settings)\n\u001b[0;32m--> 589\u001b[0m resp \u001b[39m=\u001b[39m \u001b[39mself\u001b[39;49m\u001b[39m.\u001b[39;49msend(prep, \u001b[39m*\u001b[39;49m\u001b[39m*\u001b[39;49msend_kwargs)\n\u001b[1;32m    591\u001b[0m \u001b[39mreturn\u001b[39;00m resp\n",
      "File \u001b[0;32m/workspace/.pyenv_mirror/user/current/lib/python3.10/site-packages/requests/sessions.py:703\u001b[0m, in \u001b[0;36mSession.send\u001b[0;34m(self, request, **kwargs)\u001b[0m\n\u001b[1;32m    700\u001b[0m start \u001b[39m=\u001b[39m preferred_clock()\n\u001b[1;32m    702\u001b[0m \u001b[39m# Send the request\u001b[39;00m\n\u001b[0;32m--> 703\u001b[0m r \u001b[39m=\u001b[39m adapter\u001b[39m.\u001b[39;49msend(request, \u001b[39m*\u001b[39;49m\u001b[39m*\u001b[39;49mkwargs)\n\u001b[1;32m    705\u001b[0m \u001b[39m# Total elapsed time of the request (approximately)\u001b[39;00m\n\u001b[1;32m    706\u001b[0m elapsed \u001b[39m=\u001b[39m preferred_clock() \u001b[39m-\u001b[39m start\n",
      "File \u001b[0;32m/workspace/.pyenv_mirror/user/current/lib/python3.10/site-packages/requests/adapters.py:486\u001b[0m, in \u001b[0;36mHTTPAdapter.send\u001b[0;34m(self, request, stream, timeout, verify, cert, proxies)\u001b[0m\n\u001b[1;32m    483\u001b[0m     timeout \u001b[39m=\u001b[39m TimeoutSauce(connect\u001b[39m=\u001b[39mtimeout, read\u001b[39m=\u001b[39mtimeout)\n\u001b[1;32m    485\u001b[0m \u001b[39mtry\u001b[39;00m:\n\u001b[0;32m--> 486\u001b[0m     resp \u001b[39m=\u001b[39m conn\u001b[39m.\u001b[39;49murlopen(\n\u001b[1;32m    487\u001b[0m         method\u001b[39m=\u001b[39;49mrequest\u001b[39m.\u001b[39;49mmethod,\n\u001b[1;32m    488\u001b[0m         url\u001b[39m=\u001b[39;49murl,\n\u001b[1;32m    489\u001b[0m         body\u001b[39m=\u001b[39;49mrequest\u001b[39m.\u001b[39;49mbody,\n\u001b[1;32m    490\u001b[0m         headers\u001b[39m=\u001b[39;49mrequest\u001b[39m.\u001b[39;49mheaders,\n\u001b[1;32m    491\u001b[0m         redirect\u001b[39m=\u001b[39;49m\u001b[39mFalse\u001b[39;49;00m,\n\u001b[1;32m    492\u001b[0m         assert_same_host\u001b[39m=\u001b[39;49m\u001b[39mFalse\u001b[39;49;00m,\n\u001b[1;32m    493\u001b[0m         preload_content\u001b[39m=\u001b[39;49m\u001b[39mFalse\u001b[39;49;00m,\n\u001b[1;32m    494\u001b[0m         decode_content\u001b[39m=\u001b[39;49m\u001b[39mFalse\u001b[39;49;00m,\n\u001b[1;32m    495\u001b[0m         retries\u001b[39m=\u001b[39;49m\u001b[39mself\u001b[39;49m\u001b[39m.\u001b[39;49mmax_retries,\n\u001b[1;32m    496\u001b[0m         timeout\u001b[39m=\u001b[39;49mtimeout,\n\u001b[1;32m    497\u001b[0m         chunked\u001b[39m=\u001b[39;49mchunked,\n\u001b[1;32m    498\u001b[0m     )\n\u001b[1;32m    500\u001b[0m \u001b[39mexcept\u001b[39;00m (ProtocolError, \u001b[39mOSError\u001b[39;00m) \u001b[39mas\u001b[39;00m err:\n\u001b[1;32m    501\u001b[0m     \u001b[39mraise\u001b[39;00m \u001b[39mConnectionError\u001b[39;00m(err, request\u001b[39m=\u001b[39mrequest)\n",
      "File \u001b[0;32m/workspace/.pyenv_mirror/user/current/lib/python3.10/site-packages/urllib3/connectionpool.py:793\u001b[0m, in \u001b[0;36mHTTPConnectionPool.urlopen\u001b[0;34m(self, method, url, body, headers, retries, redirect, assert_same_host, timeout, pool_timeout, release_conn, chunked, body_pos, preload_content, decode_content, **response_kw)\u001b[0m\n\u001b[1;32m    790\u001b[0m response_conn \u001b[39m=\u001b[39m conn \u001b[39mif\u001b[39;00m \u001b[39mnot\u001b[39;00m release_conn \u001b[39melse\u001b[39;00m \u001b[39mNone\u001b[39;00m\n\u001b[1;32m    792\u001b[0m \u001b[39m# Make the request on the HTTPConnection object\u001b[39;00m\n\u001b[0;32m--> 793\u001b[0m response \u001b[39m=\u001b[39m \u001b[39mself\u001b[39;49m\u001b[39m.\u001b[39;49m_make_request(\n\u001b[1;32m    794\u001b[0m     conn,\n\u001b[1;32m    795\u001b[0m     method,\n\u001b[1;32m    796\u001b[0m     url,\n\u001b[1;32m    797\u001b[0m     timeout\u001b[39m=\u001b[39;49mtimeout_obj,\n\u001b[1;32m    798\u001b[0m     body\u001b[39m=\u001b[39;49mbody,\n\u001b[1;32m    799\u001b[0m     headers\u001b[39m=\u001b[39;49mheaders,\n\u001b[1;32m    800\u001b[0m     chunked\u001b[39m=\u001b[39;49mchunked,\n\u001b[1;32m    801\u001b[0m     retries\u001b[39m=\u001b[39;49mretries,\n\u001b[1;32m    802\u001b[0m     response_conn\u001b[39m=\u001b[39;49mresponse_conn,\n\u001b[1;32m    803\u001b[0m     preload_content\u001b[39m=\u001b[39;49mpreload_content,\n\u001b[1;32m    804\u001b[0m     decode_content\u001b[39m=\u001b[39;49mdecode_content,\n\u001b[1;32m    805\u001b[0m     \u001b[39m*\u001b[39;49m\u001b[39m*\u001b[39;49mresponse_kw,\n\u001b[1;32m    806\u001b[0m )\n\u001b[1;32m    808\u001b[0m \u001b[39m# Everything went great!\u001b[39;00m\n\u001b[1;32m    809\u001b[0m clean_exit \u001b[39m=\u001b[39m \u001b[39mTrue\u001b[39;00m\n",
      "File \u001b[0;32m/workspace/.pyenv_mirror/user/current/lib/python3.10/site-packages/urllib3/connectionpool.py:467\u001b[0m, in \u001b[0;36mHTTPConnectionPool._make_request\u001b[0;34m(self, conn, method, url, body, headers, retries, timeout, chunked, response_conn, preload_content, decode_content, enforce_content_length)\u001b[0m\n\u001b[1;32m    464\u001b[0m \u001b[39mtry\u001b[39;00m:\n\u001b[1;32m    465\u001b[0m     \u001b[39m# Trigger any extra validation we need to do.\u001b[39;00m\n\u001b[1;32m    466\u001b[0m     \u001b[39mtry\u001b[39;00m:\n\u001b[0;32m--> 467\u001b[0m         \u001b[39mself\u001b[39;49m\u001b[39m.\u001b[39;49m_validate_conn(conn)\n\u001b[1;32m    468\u001b[0m     \u001b[39mexcept\u001b[39;00m (SocketTimeout, BaseSSLError) \u001b[39mas\u001b[39;00m e:\n\u001b[1;32m    469\u001b[0m         \u001b[39mself\u001b[39m\u001b[39m.\u001b[39m_raise_timeout(err\u001b[39m=\u001b[39me, url\u001b[39m=\u001b[39murl, timeout_value\u001b[39m=\u001b[39mconn\u001b[39m.\u001b[39mtimeout)\n",
      "File \u001b[0;32m/workspace/.pyenv_mirror/user/current/lib/python3.10/site-packages/urllib3/connectionpool.py:1099\u001b[0m, in \u001b[0;36mHTTPSConnectionPool._validate_conn\u001b[0;34m(self, conn)\u001b[0m\n\u001b[1;32m   1097\u001b[0m \u001b[39m# Force connect early to allow us to validate the connection.\u001b[39;00m\n\u001b[1;32m   1098\u001b[0m \u001b[39mif\u001b[39;00m conn\u001b[39m.\u001b[39mis_closed:\n\u001b[0;32m-> 1099\u001b[0m     conn\u001b[39m.\u001b[39;49mconnect()\n\u001b[1;32m   1101\u001b[0m \u001b[39m# TODO revise this, see https://github.com/urllib3/urllib3/issues/2791\u001b[39;00m\n\u001b[1;32m   1102\u001b[0m \u001b[39mif\u001b[39;00m \u001b[39mnot\u001b[39;00m conn\u001b[39m.\u001b[39mis_verified \u001b[39mand\u001b[39;00m \u001b[39mnot\u001b[39;00m conn\u001b[39m.\u001b[39mproxy_is_verified:\n",
      "File \u001b[0;32m/workspace/.pyenv_mirror/user/current/lib/python3.10/site-packages/urllib3/connection.py:616\u001b[0m, in \u001b[0;36mHTTPSConnection.connect\u001b[0;34m(self)\u001b[0m\n\u001b[1;32m    614\u001b[0m \u001b[39mdef\u001b[39;00m \u001b[39mconnect\u001b[39m(\u001b[39mself\u001b[39m) \u001b[39m-\u001b[39m\u001b[39m>\u001b[39m \u001b[39mNone\u001b[39;00m:\n\u001b[1;32m    615\u001b[0m     sock: socket\u001b[39m.\u001b[39msocket \u001b[39m|\u001b[39m ssl\u001b[39m.\u001b[39mSSLSocket\n\u001b[0;32m--> 616\u001b[0m     \u001b[39mself\u001b[39m\u001b[39m.\u001b[39msock \u001b[39m=\u001b[39m sock \u001b[39m=\u001b[39m \u001b[39mself\u001b[39;49m\u001b[39m.\u001b[39;49m_new_conn()\n\u001b[1;32m    617\u001b[0m     server_hostname: \u001b[39mstr\u001b[39m \u001b[39m=\u001b[39m \u001b[39mself\u001b[39m\u001b[39m.\u001b[39mhost\n\u001b[1;32m    618\u001b[0m     tls_in_tls \u001b[39m=\u001b[39m \u001b[39mFalse\u001b[39;00m\n",
      "File \u001b[0;32m/workspace/.pyenv_mirror/user/current/lib/python3.10/site-packages/urllib3/connection.py:198\u001b[0m, in \u001b[0;36mHTTPConnection._new_conn\u001b[0;34m(self)\u001b[0m\n\u001b[1;32m    193\u001b[0m \u001b[39m\u001b[39m\u001b[39m\"\"\"Establish a socket connection and set nodelay settings on it.\u001b[39;00m\n\u001b[1;32m    194\u001b[0m \n\u001b[1;32m    195\u001b[0m \u001b[39m:return: New socket connection.\u001b[39;00m\n\u001b[1;32m    196\u001b[0m \u001b[39m\"\"\"\u001b[39;00m\n\u001b[1;32m    197\u001b[0m \u001b[39mtry\u001b[39;00m:\n\u001b[0;32m--> 198\u001b[0m     sock \u001b[39m=\u001b[39m connection\u001b[39m.\u001b[39;49mcreate_connection(\n\u001b[1;32m    199\u001b[0m         (\u001b[39mself\u001b[39;49m\u001b[39m.\u001b[39;49m_dns_host, \u001b[39mself\u001b[39;49m\u001b[39m.\u001b[39;49mport),\n\u001b[1;32m    200\u001b[0m         \u001b[39mself\u001b[39;49m\u001b[39m.\u001b[39;49mtimeout,\n\u001b[1;32m    201\u001b[0m         source_address\u001b[39m=\u001b[39;49m\u001b[39mself\u001b[39;49m\u001b[39m.\u001b[39;49msource_address,\n\u001b[1;32m    202\u001b[0m         socket_options\u001b[39m=\u001b[39;49m\u001b[39mself\u001b[39;49m\u001b[39m.\u001b[39;49msocket_options,\n\u001b[1;32m    203\u001b[0m     )\n\u001b[1;32m    204\u001b[0m \u001b[39mexcept\u001b[39;00m socket\u001b[39m.\u001b[39mgaierror \u001b[39mas\u001b[39;00m e:\n\u001b[1;32m    205\u001b[0m     \u001b[39mraise\u001b[39;00m NameResolutionError(\u001b[39mself\u001b[39m\u001b[39m.\u001b[39mhost, \u001b[39mself\u001b[39m, e) \u001b[39mfrom\u001b[39;00m \u001b[39me\u001b[39;00m\n",
      "File \u001b[0;32m/workspace/.pyenv_mirror/user/current/lib/python3.10/site-packages/urllib3/util/connection.py:73\u001b[0m, in \u001b[0;36mcreate_connection\u001b[0;34m(address, timeout, source_address, socket_options)\u001b[0m\n\u001b[1;32m     71\u001b[0m \u001b[39mif\u001b[39;00m source_address:\n\u001b[1;32m     72\u001b[0m     sock\u001b[39m.\u001b[39mbind(source_address)\n\u001b[0;32m---> 73\u001b[0m sock\u001b[39m.\u001b[39;49mconnect(sa)\n\u001b[1;32m     74\u001b[0m \u001b[39m# Break explicitly a reference cycle\u001b[39;00m\n\u001b[1;32m     75\u001b[0m err \u001b[39m=\u001b[39m \u001b[39mNone\u001b[39;00m\n",
      "\u001b[0;31mKeyboardInterrupt\u001b[0m: "
     ]
    }
   ],
   "source": [
    "import requests\n",
    "from lxml import html\n",
    "from word2number import w2n\n",
    "import pandas\n",
    "from typing import Any\n",
    "\n",
    "\n",
    "class BookSpider:\n",
    "    def __init__(self):\n",
    "        self.session = requests.Session()\n",
    "        self.headers = {\n",
    "            'accept': 'text/html,application/xhtml+xml,application/xml;q=0.9,image/avif,image/webp,image/apng,*/*;q=0.8,application/signed-exchange;v=b3;q=0.7',\n",
    "            'user-agent': 'Mozilla/5.0 (Windows NT 10.0; Win64; x64) AppleWebKit/537.36 (KHTML, like Gecko) Chrome/121.0.0.0 Safari/537.36'\n",
    "            }\n",
    "        bookmodel = BookModel\n",
    "\n",
    "    def get(self):\n",
    "        # loop the page number to scrape\n",
    "        page_num = 1\n",
    "        while True:\n",
    "            try:\n",
    "                \n",
    "                url = f\"https://books.toscrape.com/catalogue/page-{page_num}.html\"\n",
    "                print(url)\n",
    "                output_data = self._fetch_data(url=url)\n",
    "                print(output_data)\n",
    "                #validated_data = self._validate_book_data(output_data)\n",
    "                print(output_data)\n",
    "                page_num +=1\n",
    "                if not output_data: # if output_data = None or False, it will stop executing the while loop\n",
    "                    break\n",
    "                # print(validated_data)\n",
    "            except Exception as e:\n",
    "                break\n",
    "    \n",
    "\n",
    "    def _fetch_data(self, url):\n",
    "        data_list = []\n",
    "        response = self.session.request(\"GET\", url)\n",
    "        tree = html.fromstring(response.content)\n",
    "        find_quotes_with_xpath_selector = tree.xpath(\"//article[@class='product_pod']\")\n",
    "        for find_quote in find_quotes_with_xpath_selector:\n",
    "            prices = find_quote.xpath(\"//article[@class='product_pod']//div[@class='product_price']/p[@class='price_color']/text()\")\n",
    "            # bug: how to break down prices -> prices & currencies            \n",
    "            book_titles = find_quote.xpath(\"//article[@class='product_pod']/h3/a/text()\")\n",
    "            book_urls = find_quote.xpath(\"//article[@class='product_pod']/h3/a/@href\")\n",
    "            star_ratings = find_quote.xpath(\"//article[@class='product_pod']/p/@class\")\n",
    "\n",
    "            data_list.append(\n",
    "                    {\n",
    "                        # \"currencies\": currencies,\n",
    "                        \"prices\": prices, \n",
    "                        \"book_titles\": book_titles,\n",
    "                        \"book_urls\": book_urls, \n",
    "                        \"star_ratings\": star_ratings\n",
    "                    }\n",
    "                )\n",
    "        return data_list\n",
    "\n",
    "    #def _convert_list_to_orient_dict(self, \n",
    "    #        data_list: list[dict[str, list]]) -> dict[str, Any]:\n",
    "    #    df = pandas.DataFrame(data_list)\n",
    "    #    return df.to_dict(orient=\"list\")\n",
    "\n",
    "    def _validate_book_data(self, book_data: list[dict[str, list]]) -> dict[str, list]:\n",
    "        # validate book data with pydantic\n",
    "        validated_book_data = dict(self.bookmodel.parse_obj(book_data).model_dump()) # model_dump is to compute field\n",
    "        return validated_book_data\n",
    "\n",
    "book_spider = BookSpider()\n",
    "book_spider.get()\n"
   ]
  },
  {
   "cell_type": "code",
   "execution_count": null,
   "metadata": {},
   "outputs": [],
   "source": []
  },
  {
   "cell_type": "markdown",
   "metadata": {},
   "source": [
    "## Computing environment"
   ]
  },
  {
   "cell_type": "code",
   "execution_count": 4,
   "metadata": {},
   "outputs": [
    {
     "name": "stdout",
     "output_type": "stream",
     "text": [
      "Last updated: 2024-03-09T15:41:33.518091+00:00\n",
      "\n",
      "Python implementation: CPython\n",
      "Python version       : 3.10.12\n",
      "IPython version      : 8.22.2\n",
      "\n",
      "Compiler    : GCC 11.4.0\n",
      "OS          : Linux\n",
      "Release     : 6.1.75-060175-generic\n",
      "Machine     : x86_64\n",
      "Processor   : x86_64\n",
      "CPU cores   : 16\n",
      "Architecture: 64bit\n",
      "\n",
      "lxml       : 5.1.0\n",
      "word2number: 1.1\n",
      "pandas     : 2.2.1\n",
      "requests   : 2.31.0\n",
      "\n",
      "Last updated: Sat Mar 09 2024 15:41:33UTC\n",
      "\n"
     ]
    }
   ],
   "source": [
    "%load_ext watermark\n",
    "\n",
    "%watermark\n",
    "\n",
    "# print out pypi packages used\n",
    "%watermark --iversions\n",
    "\n",
    "# date\n",
    "%watermark -u -n -t -z"
   ]
  }
 ],
 "metadata": {
  "kernelspec": {
   "display_name": "py3.10",
   "language": "python",
   "name": "python3"
  },
  "language_info": {
   "codemirror_mode": {
    "name": "ipython",
    "version": 3
   },
   "file_extension": ".py",
   "mimetype": "text/x-python",
   "name": "python",
   "nbconvert_exporter": "python",
   "pygments_lexer": "ipython3",
   "version": "3.10.12"
  }
 },
 "nbformat": 4,
 "nbformat_minor": 2
}
