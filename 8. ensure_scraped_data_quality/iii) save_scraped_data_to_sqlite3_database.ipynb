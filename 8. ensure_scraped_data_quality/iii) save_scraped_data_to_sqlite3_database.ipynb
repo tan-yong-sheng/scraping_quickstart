{
 "cells": [
  {
   "cell_type": "markdown",
   "metadata": {},
   "source": [
    "## Saving pydantic-validated data to SQLite database with SQLModel\n",
    "\n",
    "Note: not to use list[Any] for building pydantic class model, because there is no type list for sqlalchemy, if you want to save data to database via SQLModel ORM\n",
    "\n",
    "Reference: \n",
    "1. Create a SQLModel Model https://sqlmodel.tiangolo.com/#create-a-sqlmodel-model & https://sqlmodel.tiangolo.com/#sqlalchemy-and-pydantic"
   ]
  },
  {
   "cell_type": "code",
   "execution_count": 1,
   "metadata": {},
   "outputs": [
    {
     "name": "stdout",
     "output_type": "stream",
     "text": [
      "Defaulting to user installation because normal site-packages is not writeable\n",
      "Requirement already satisfied: requests in /workspace/.pyenv_mirror/user/current/lib/python3.10/site-packages (2.31.0)\n",
      "Requirement already satisfied: charset-normalizer<4,>=2 in /workspace/.pyenv_mirror/user/current/lib/python3.10/site-packages (from requests) (3.3.2)\n",
      "Requirement already satisfied: certifi>=2017.4.17 in /workspace/.pyenv_mirror/user/current/lib/python3.10/site-packages (from requests) (2024.2.2)\n",
      "Requirement already satisfied: urllib3<3,>=1.21.1 in /workspace/.pyenv_mirror/user/current/lib/python3.10/site-packages (from requests) (2.2.1)\n",
      "Requirement already satisfied: idna<4,>=2.5 in /workspace/.pyenv_mirror/user/current/lib/python3.10/site-packages (from requests) (3.6)\n",
      "Note: you may need to restart the kernel to use updated packages.\n",
      "Defaulting to user installation because normal site-packages is not writeable\n",
      "Requirement already satisfied: lxml in /workspace/.pyenv_mirror/user/current/lib/python3.10/site-packages (5.1.0)\n",
      "Note: you may need to restart the kernel to use updated packages.\n",
      "Defaulting to user installation because normal site-packages is not writeable\n",
      "Requirement already satisfied: pandas in /workspace/.pyenv_mirror/user/current/lib/python3.10/site-packages (2.2.1)\n",
      "Requirement already satisfied: python-dateutil>=2.8.2 in /workspace/.pyenv_mirror/user/current/lib/python3.10/site-packages (from pandas) (2.9.0.post0)\n",
      "Requirement already satisfied: tzdata>=2022.7 in /workspace/.pyenv_mirror/user/current/lib/python3.10/site-packages (from pandas) (2024.1)\n",
      "Requirement already satisfied: numpy<2,>=1.22.4 in /workspace/.pyenv_mirror/user/current/lib/python3.10/site-packages (from pandas) (1.26.4)\n",
      "Requirement already satisfied: pytz>=2020.1 in /workspace/.pyenv_mirror/user/current/lib/python3.10/site-packages (from pandas) (2024.1)\n",
      "Requirement already satisfied: six>=1.5 in /usr/lib/python3/dist-packages (from python-dateutil>=2.8.2->pandas) (1.16.0)\n",
      "Note: you may need to restart the kernel to use updated packages.\n",
      "Defaulting to user installation because normal site-packages is not writeable\n",
      "Requirement already satisfied: watermark in /workspace/.pyenv_mirror/user/current/lib/python3.10/site-packages (2.4.3)\n",
      "Requirement already satisfied: importlib-metadata>=1.4 in /usr/lib/python3/dist-packages (from watermark) (4.6.4)\n",
      "Requirement already satisfied: setuptools in /usr/lib/python3/dist-packages (from watermark) (59.6.0)\n",
      "Requirement already satisfied: ipython>=6.0 in /workspace/.pyenv_mirror/user/current/lib/python3.10/site-packages (from watermark) (8.22.2)\n",
      "Requirement already satisfied: stack-data in /workspace/.pyenv_mirror/user/current/lib/python3.10/site-packages (from ipython>=6.0->watermark) (0.6.3)\n",
      "Requirement already satisfied: prompt-toolkit<3.1.0,>=3.0.41 in /workspace/.pyenv_mirror/user/current/lib/python3.10/site-packages (from ipython>=6.0->watermark) (3.0.43)\n",
      "Requirement already satisfied: jedi>=0.16 in /workspace/.pyenv_mirror/user/current/lib/python3.10/site-packages (from ipython>=6.0->watermark) (0.19.1)\n",
      "Requirement already satisfied: traitlets>=5.13.0 in /workspace/.pyenv_mirror/user/current/lib/python3.10/site-packages (from ipython>=6.0->watermark) (5.14.1)\n",
      "Requirement already satisfied: exceptiongroup in /workspace/.pyenv_mirror/user/current/lib/python3.10/site-packages (from ipython>=6.0->watermark) (1.2.0)\n",
      "Requirement already satisfied: pygments>=2.4.0 in /workspace/.pyenv_mirror/user/current/lib/python3.10/site-packages (from ipython>=6.0->watermark) (2.17.2)\n",
      "Requirement already satisfied: decorator in /workspace/.pyenv_mirror/user/current/lib/python3.10/site-packages (from ipython>=6.0->watermark) (5.1.1)\n",
      "Requirement already satisfied: matplotlib-inline in /workspace/.pyenv_mirror/user/current/lib/python3.10/site-packages (from ipython>=6.0->watermark) (0.1.6)\n",
      "Requirement already satisfied: pexpect>4.3 in /workspace/.pyenv_mirror/user/current/lib/python3.10/site-packages (from ipython>=6.0->watermark) (4.9.0)\n",
      "Requirement already satisfied: parso<0.9.0,>=0.8.3 in /workspace/.pyenv_mirror/user/current/lib/python3.10/site-packages (from jedi>=0.16->ipython>=6.0->watermark) (0.8.3)\n",
      "Requirement already satisfied: ptyprocess>=0.5 in /workspace/.pyenv_mirror/user/current/lib/python3.10/site-packages (from pexpect>4.3->ipython>=6.0->watermark) (0.7.0)\n",
      "Requirement already satisfied: wcwidth in /workspace/.pyenv_mirror/user/current/lib/python3.10/site-packages (from prompt-toolkit<3.1.0,>=3.0.41->ipython>=6.0->watermark) (0.2.13)\n",
      "Requirement already satisfied: pure-eval in /workspace/.pyenv_mirror/user/current/lib/python3.10/site-packages (from stack-data->ipython>=6.0->watermark) (0.2.2)\n",
      "Requirement already satisfied: asttokens>=2.1.0 in /workspace/.pyenv_mirror/user/current/lib/python3.10/site-packages (from stack-data->ipython>=6.0->watermark) (2.4.1)\n",
      "Requirement already satisfied: executing>=1.2.0 in /workspace/.pyenv_mirror/user/current/lib/python3.10/site-packages (from stack-data->ipython>=6.0->watermark) (2.0.1)\n",
      "Requirement already satisfied: six>=1.12.0 in /usr/lib/python3/dist-packages (from asttokens>=2.1.0->stack-data->ipython>=6.0->watermark) (1.16.0)\n",
      "Note: you may need to restart the kernel to use updated packages.\n",
      "Defaulting to user installation because normal site-packages is not writeable\n",
      "Requirement already satisfied: pydantic in /workspace/.pyenv_mirror/user/current/lib/python3.10/site-packages (2.3.0)\n",
      "Requirement already satisfied: pydantic-core==2.6.3 in /workspace/.pyenv_mirror/user/current/lib/python3.10/site-packages (from pydantic) (2.6.3)\n",
      "Requirement already satisfied: typing-extensions>=4.6.1 in /workspace/.pyenv_mirror/user/current/lib/python3.10/site-packages (from pydantic) (4.10.0)\n",
      "Requirement already satisfied: annotated-types>=0.4.0 in /workspace/.pyenv_mirror/user/current/lib/python3.10/site-packages (from pydantic) (0.6.0)\n",
      "Note: you may need to restart the kernel to use updated packages.\n",
      "Defaulting to user installation because normal site-packages is not writeable\n",
      "Requirement already satisfied: sqlmodel in /workspace/.pyenv_mirror/user/current/lib/python3.10/site-packages (0.0.16)\n",
      "Requirement already satisfied: pydantic<3.0.0,>=1.10.13 in /workspace/.pyenv_mirror/user/current/lib/python3.10/site-packages (from sqlmodel) (2.3.0)\n",
      "Requirement already satisfied: SQLAlchemy<2.1.0,>=2.0.0 in /workspace/.pyenv_mirror/user/current/lib/python3.10/site-packages (from sqlmodel) (2.0.28)\n",
      "Requirement already satisfied: annotated-types>=0.4.0 in /workspace/.pyenv_mirror/user/current/lib/python3.10/site-packages (from pydantic<3.0.0,>=1.10.13->sqlmodel) (0.6.0)\n",
      "Requirement already satisfied: pydantic-core==2.6.3 in /workspace/.pyenv_mirror/user/current/lib/python3.10/site-packages (from pydantic<3.0.0,>=1.10.13->sqlmodel) (2.6.3)\n",
      "Requirement already satisfied: typing-extensions>=4.6.1 in /workspace/.pyenv_mirror/user/current/lib/python3.10/site-packages (from pydantic<3.0.0,>=1.10.13->sqlmodel) (4.10.0)\n",
      "Requirement already satisfied: greenlet!=0.4.17 in /workspace/.pyenv_mirror/user/current/lib/python3.10/site-packages (from SQLAlchemy<2.1.0,>=2.0.0->sqlmodel) (3.0.3)\n",
      "Note: you may need to restart the kernel to use updated packages.\n",
      "Defaulting to user installation because normal site-packages is not writeable\n",
      "Requirement already satisfied: tqdm in /workspace/.pyenv_mirror/user/current/lib/python3.10/site-packages (4.66.2)\n",
      "Note: you may need to restart the kernel to use updated packages.\n",
      "Defaulting to user installation because normal site-packages is not writeable\n",
      "Requirement already satisfied: word2number in /workspace/.pyenv_mirror/user/current/lib/python3.10/site-packages (1.1)\n",
      "Note: you may need to restart the kernel to use updated packages.\n"
     ]
    }
   ],
   "source": [
    "%pip install requests\n",
    "%pip install lxml\n",
    "%pip install pandas\n",
    "%pip install watermark\n",
    "%pip install pydantic\n",
    "# %pip install pydantic-core==2.6.3\n",
    "%pip install sqlmodel\n",
    "%pip install tqdm\n",
    "%pip install word2number"
   ]
  },
  {
   "cell_type": "markdown",
   "metadata": {},
   "source": [
    "#### Scrape the website content"
   ]
  },
  {
   "cell_type": "code",
   "execution_count": 2,
   "metadata": {},
   "outputs": [],
   "source": [
    "from pydantic import (BaseModel, \n",
    "                      validate_call,\n",
    "                      computed_field, \n",
    "                      field_serializer,\n",
    "                      HttpUrl,\n",
    "                      )\n",
    "from sqlmodel import Field, SQLModel, Session, create_engine, select\n",
    "from typing import Optional\n",
    "\n",
    "class BookModel(SQLModel, table=True):\n",
    "  id: Optional[int] = Field(default=None, primary_key=True)\n",
    "  price: str\n",
    "  book_title: str\n",
    "  book_url: str\n",
    "  star_rating_class: str\n",
    "\n",
    "  @computed_field\n",
    "  @property\n",
    "  def star_rating(self) -> str:\n",
    "    return self.star_rating_class.replace(\"star-rating \",\"\")\n",
    "\n",
    "  @field_serializer('star_rating')\n",
    "  def serialize_star_rating(star_rating: str) -> int:\n",
    "    return w2n.word_to_num(star_rating)\n",
    "\n",
    "engine = create_engine(\"sqlite:///database.db\")\n",
    "SQLModel.__table_args__ = {'extend_existing': True} # to avoid error: https://github.com/tiangolo/sqlmodel/issues/350\n",
    "SQLModel.metadata.create_all(engine)"
   ]
  },
  {
   "cell_type": "code",
   "execution_count": 5,
   "metadata": {},
   "outputs": [
    {
     "name": "stderr",
     "output_type": "stream",
     "text": [
      "  0%|          | 0/49 [00:00<?, ?it/s]\n"
     ]
    },
    {
     "ename": "UnmappedInstanceError",
     "evalue": "Class 'builtins.dict' is not mapped",
     "output_type": "error",
     "traceback": [
      "\u001b[0;31m---------------------------------------------------------------------------\u001b[0m",
      "\u001b[0;31mAttributeError\u001b[0m                            Traceback (most recent call last)",
      "File \u001b[0;32m/workspace/.pyenv_mirror/user/current/lib/python3.10/site-packages/sqlalchemy/orm/session.py:3417\u001b[0m, in \u001b[0;36mSession.add\u001b[0;34m(self, instance, _warn)\u001b[0m\n\u001b[1;32m   3416\u001b[0m \u001b[39mtry\u001b[39;00m:\n\u001b[0;32m-> 3417\u001b[0m     state \u001b[39m=\u001b[39m attributes\u001b[39m.\u001b[39;49minstance_state(instance)\n\u001b[1;32m   3418\u001b[0m \u001b[39mexcept\u001b[39;00m exc\u001b[39m.\u001b[39mNO_STATE \u001b[39mas\u001b[39;00m err:\n",
      "\u001b[0;31mAttributeError\u001b[0m: 'dict' object has no attribute '_sa_instance_state'",
      "\nThe above exception was the direct cause of the following exception:\n",
      "\u001b[0;31mUnmappedInstanceError\u001b[0m                     Traceback (most recent call last)",
      "File \u001b[0;32m<timed exec>:61\u001b[0m\n",
      "File \u001b[0;32m/workspace/.pyenv_mirror/user/current/lib/python3.10/site-packages/pydantic/_internal/_validate_call.py:99\u001b[0m, in \u001b[0;36mValidateCallWrapper.__call__\u001b[0;34m(self, *args, **kwargs)\u001b[0m\n\u001b[1;32m     98\u001b[0m \u001b[39mdef\u001b[39;00m \u001b[39m__call__\u001b[39m(\u001b[39mself\u001b[39m, \u001b[39m*\u001b[39margs: Any, \u001b[39m*\u001b[39m\u001b[39m*\u001b[39mkwargs: Any) \u001b[39m-\u001b[39m\u001b[39m>\u001b[39m Any:\n\u001b[0;32m---> 99\u001b[0m     res \u001b[39m=\u001b[39m \u001b[39mself\u001b[39;49m\u001b[39m.\u001b[39;49m__pydantic_validator__\u001b[39m.\u001b[39;49mvalidate_python(pydantic_core\u001b[39m.\u001b[39;49mArgsKwargs(args, kwargs))\n\u001b[1;32m    100\u001b[0m     \u001b[39mif\u001b[39;00m \u001b[39mself\u001b[39m\u001b[39m.\u001b[39m__return_pydantic_validator__:\n\u001b[1;32m    101\u001b[0m         \u001b[39mreturn\u001b[39;00m \u001b[39mself\u001b[39m\u001b[39m.\u001b[39m__return_pydantic_validator__(res)\n",
      "File \u001b[0;32m<timed exec>:27\u001b[0m, in \u001b[0;36mparse\u001b[0;34m(self, page_num)\u001b[0m\n",
      "File \u001b[0;32m/workspace/.pyenv_mirror/user/current/lib/python3.10/site-packages/pydantic/_internal/_validate_call.py:99\u001b[0m, in \u001b[0;36mValidateCallWrapper.__call__\u001b[0;34m(self, *args, **kwargs)\u001b[0m\n\u001b[1;32m     98\u001b[0m \u001b[39mdef\u001b[39;00m \u001b[39m__call__\u001b[39m(\u001b[39mself\u001b[39m, \u001b[39m*\u001b[39margs: Any, \u001b[39m*\u001b[39m\u001b[39m*\u001b[39mkwargs: Any) \u001b[39m-\u001b[39m\u001b[39m>\u001b[39m Any:\n\u001b[0;32m---> 99\u001b[0m     res \u001b[39m=\u001b[39m \u001b[39mself\u001b[39;49m\u001b[39m.\u001b[39;49m__pydantic_validator__\u001b[39m.\u001b[39;49mvalidate_python(pydantic_core\u001b[39m.\u001b[39;49mArgsKwargs(args, kwargs))\n\u001b[1;32m    100\u001b[0m     \u001b[39mif\u001b[39;00m \u001b[39mself\u001b[39m\u001b[39m.\u001b[39m__return_pydantic_validator__:\n\u001b[1;32m    101\u001b[0m         \u001b[39mreturn\u001b[39;00m \u001b[39mself\u001b[39m\u001b[39m.\u001b[39m__return_pydantic_validator__(res)\n",
      "File \u001b[0;32m<timed exec>:55\u001b[0m, in \u001b[0;36mcreate_bookmodel\u001b[0;34m(self, books_data)\u001b[0m\n",
      "File \u001b[0;32m/workspace/.pyenv_mirror/user/current/lib/python3.10/site-packages/sqlalchemy/orm/session.py:3419\u001b[0m, in \u001b[0;36mSession.add\u001b[0;34m(self, instance, _warn)\u001b[0m\n\u001b[1;32m   3417\u001b[0m     state \u001b[39m=\u001b[39m attributes\u001b[39m.\u001b[39minstance_state(instance)\n\u001b[1;32m   3418\u001b[0m \u001b[39mexcept\u001b[39;00m exc\u001b[39m.\u001b[39mNO_STATE \u001b[39mas\u001b[39;00m err:\n\u001b[0;32m-> 3419\u001b[0m     \u001b[39mraise\u001b[39;00m exc\u001b[39m.\u001b[39mUnmappedInstanceError(instance) \u001b[39mfrom\u001b[39;00m \u001b[39merr\u001b[39;00m\n\u001b[1;32m   3421\u001b[0m \u001b[39mself\u001b[39m\u001b[39m.\u001b[39m_save_or_update_state(state)\n",
      "\u001b[0;31mUnmappedInstanceError\u001b[0m: Class 'builtins.dict' is not mapped"
     ]
    }
   ],
   "source": [
    "%%time\n",
    "\n",
    "import requests\n",
    "from lxml import html\n",
    "from word2number import w2n # convert number words (eg. twenty one) to numeric digits (21)\n",
    "import pandas\n",
    "from typing import Union # add type hint\n",
    "from tqdm import tqdm # for displaying a smart progress meter in loops\n",
    "import sqlalchemy\n",
    "\n",
    "class BookSpider:\n",
    "    def __init__(self):\n",
    "        self.base_url: AnyHttpUrl = \"https://books.toscrape.com\"\n",
    "        self.session: requests.sessions.Session  = requests.Session()\n",
    "        self.headers: dict[str, str] = {\n",
    "            'accept': 'text/html,application/xhtml+xml,application/xml;q=0.9,image/avif,image/webp,image/apng,*/*;q=0.8,application/signed-exchange;v=b3;q=0.7',\n",
    "            'user-agent': 'Mozilla/5.0 (Windows NT 10.0; Win64; x64) AppleWebKit/537.36 (KHTML, like Gecko) Chrome/121.0.0.0 Safari/537.36'\n",
    "            }\n",
    "        self.bookmodel = BookModel\n",
    "\n",
    "    @validate_call(validate_return=True)\n",
    "    def parse(self, page_num: int=50) -> None:\n",
    "        # loop the page number to scrape\n",
    "        \n",
    "        for page_num in tqdm(range(1,page_num)):\n",
    "            url = self.base_url + f\"/catalogue/page-{page_num}.html\"\n",
    "            output_data = self._fetch_data(url=url)\n",
    "            # add book data to database rows\n",
    "            _ = self.create_bookmodel(output_data)\n",
    "            \n",
    "\n",
    "    @validate_call(validate_return=True)\n",
    "    def _fetch_data(self, url: HttpUrl) -> list[dict]:\n",
    "        response = self.session.request(\"GET\", url)\n",
    "        tree = html.fromstring(response.content)      \n",
    "        \n",
    "        price = tree.xpath(\"//article[@class='product_pod']//div[@class='product_price']\\\n",
    "            /p[@class='price_color']/text()\")        \n",
    "        book_title = tree.xpath(\"//article[@class='product_pod']/h3/a/text()\")\n",
    "        book_url = tree.xpath(\"//article[@class='product_pod']/h3/a/@href\")\n",
    "        star_rating_class = tree.xpath(\"//article[@class='product_pod']/p/@class\")\n",
    "\n",
    "        data_list = {\n",
    "                    \"price\": price,\n",
    "                    \"star_rating_class\": star_rating_class,\n",
    "                    \"book_url\": book_url, \n",
    "                    \"book_title\": book_title,\n",
    "                }\n",
    "        data = pandas.DataFrame(data_list).to_dict(orient=\"records\")\n",
    "        return data\n",
    "\n",
    "    @validate_call(validate_return=True)\n",
    "    def create_bookmodel(self, books_data: list[dict]) -> None:\n",
    "        with Session(engine) as session:\n",
    "            for book in books_data:\n",
    "                bookmodel_data = self.bookmodel.model_validate(book).model_dump(exclude_unset=True)\n",
    "                session.add(bookmodel_data)        \n",
    "                session.commit()\n",
    "                session.refresh(bookmodel_data)\n",
    "\n",
    "\n",
    "book_spider = BookSpider()\n",
    "_ = book_spider.parse()"
   ]
  },
  {
   "cell_type": "code",
   "execution_count": null,
   "metadata": {},
   "outputs": [],
   "source": [
    "import pandas\n",
    "\n",
    "with Session(engine) as session:\n",
    "    sql_statement = select(BookModel)\n",
    "    print(sql_statement)\n",
    "    df = pandas.read_sql_query(sql_statement, con=engine, index_col=['id'])\n",
    "df"
   ]
  },
  {
   "cell_type": "markdown",
   "metadata": {},
   "source": [
    "## Computing environment"
   ]
  },
  {
   "cell_type": "code",
   "execution_count": null,
   "metadata": {},
   "outputs": [],
   "source": [
    "%load_ext watermark\n",
    "\n",
    "%watermark\n",
    "\n",
    "# print out pypi packages used\n",
    "%watermark --iversions\n",
    "\n",
    "# date\n",
    "%watermark -u -n -t -z"
   ]
  }
 ],
 "metadata": {
  "kernelspec": {
   "display_name": "py3.10",
   "language": "python",
   "name": "python3"
  },
  "language_info": {
   "codemirror_mode": {
    "name": "ipython",
    "version": 3
   },
   "file_extension": ".py",
   "mimetype": "text/x-python",
   "name": "python",
   "nbconvert_exporter": "python",
   "pygments_lexer": "ipython3",
   "version": "3.10.12"
  }
 },
 "nbformat": 4,
 "nbformat_minor": 2
}
