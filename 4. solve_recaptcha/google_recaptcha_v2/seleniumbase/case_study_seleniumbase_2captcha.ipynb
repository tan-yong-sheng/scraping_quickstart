{
 "cells": [
  {
   "cell_type": "code",
   "execution_count": 1,
   "metadata": {},
   "outputs": [],
   "source": [
    "# Credit: this is the code from 2captcha support team\n",
    "# My personal Reference: https://2captcha.com/support/tickets/310146\n",
    "\n",
    "import re\n",
    "import time\n",
    "import requests\n",
    "from seleniumbase import Driver\n",
    "from selenium.webdriver.common.by import By\n",
    "from dotenv import load_dotenv\n",
    "import os"
   ]
  },
  {
   "cell_type": "code",
   "execution_count": 3,
   "metadata": {},
   "outputs": [],
   "source": [
    "_ = load_dotenv()\n",
    "\n",
    "my_key  = os.environ[\"2CAPTCHA_API_KEY\"]\n",
    "INVESTINGNOTE_USERNAME = os.environ[\"INVESTINGNOTE_USERNAME\"]\n",
    "INVESTINGNOTE_PASSWORD = os.environ[\"INVESTINGNOTE_PASSWORD\"]"
   ]
  },
  {
   "cell_type": "code",
   "execution_count": 4,
   "metadata": {},
   "outputs": [],
   "source": [
    "# proxy1 = \"xxxx:xxxx@xx.xxx.xx.xxx:xxxx\"# YOUR PROXY\n",
    "driver = Driver(uc=True, headless=False) #, proxy=proxy1)\n",
    "\n",
    "url = 'https://www.investingnote.com/users/sign_in'\n",
    "driver.get(url)\n",
    "time.sleep(5)"
   ]
  },
  {
   "cell_type": "code",
   "execution_count": null,
   "metadata": {},
   "outputs": [],
   "source": [
    "src = driver.find_element(By.TAG_NAME, \"iframe\").get_attribute(\"src\")\n",
    "pattern = r'k=([^&]+)'\n",
    "result = re.search(pattern, src)\n",
    "sitekey = result.group(1)\n",
    "print(\"sitekey: \", sitekey)\n",
    "driver.find_element(By.ID, \"user_login\").send_keys(INVESTINGNOTE_USERNAME)\n",
    "time.sleep(1)\n",
    "driver.find_element(By.ID, \"user_password\").send_keys(INVESTINGNOTE_PASSWORD)\n"
   ]
  },
  {
   "cell_type": "code",
   "execution_count": null,
   "metadata": {},
   "outputs": [],
   "source": [
    "try:\n",
    "    data = {\"key\": my_key,\n",
    "            \"method\": \"userrecaptcha \",\n",
    "            \"googlekey\": sitekey,\n",
    "            \"json\": 1,\n",
    "            \"pageurl\": url,\n",
    "            # \"proxy\": proxy1,\n",
    "            \"proxytype\": \"HTTP\",\n",
    "            }\n",
    "    response = requests.post(f\"https://2captcha.com/in.php?\", data=data)\n",
    "    print(\"Request has been sent: \", response.text)\n",
    "    s = response.json()[\"request\"]\n",
    "    time.sleep(20)\n",
    "    while True:\n",
    "        solu = requests.get(f\"https://2captcha.com/res.php?key={my_key}&action=get&json=1&id={s}\").json()\n",
    "        if solu[\"request\"] == \"CAPCHA_NOT_READY\":\n",
    "            print(solu[\"request\"])\n",
    "            time.sleep(10)\n",
    "        elif \"ERROR\" in solu[\"request\"]:\n",
    "            print(solu[\"request\"])\n",
    "            driver.close()\n",
    "            driver.quit()\n",
    "            exit(0)\n",
    "        else:\n",
    "            break\n",
    "    for key, value in solu.items():\n",
    "        print(key, \": \", value)\n",
    "\n",
    "    solu = solu[\"request\"]\n",
    "    time.sleep(2)\n",
    "\n",
    "    driver.execute_script(\"document.getElementsByName('g-recaptcha-response')[0].value = arguments[0];\", solu)\n",
    "    iframe = driver.find_element(By.XPATH,\n",
    "                                 \"/html/body/div[1]/div[1]/div[2]/div/div/div/form/fieldset/section[3]/div/div/div/iframe\")\n",
    "    # This method is used to identify a frame with the help of frame id and then switch the focus to that particular frame.\n",
    "    driver.switch_to_frame(iframe)\n",
    "    el = driver.find_element(By.ID, \"recaptcha-token\")\n",
    "    driver.execute_script(f\"arguments[0].setAttribute('value', '{solu}');\", el)\n",
    "    time.sleep(1)\n",
    "    # to move out the current frame to the page level\n",
    "    driver.switch_to.default_content()\n",
    "\n",
    "    script = \"\"\"document.getElementById('sign-in-btn').removeAttribute('disabled');\"\"\"#Making the button visible\n",
    "    driver.execute_script(script)\n",
    "\n",
    "    time.sleep(2)\n",
    "    print(\"Answer inserted\")\n",
    "    time.sleep(2)\n",
    "    driver.find_element(By.ID, \"sign-in-btn\").click()#Click on the authorization button\n",
    "    #your code\n",
    "    time.sleep(50)\n",
    "\n",
    "except Exception as ex:\n",
    "    print(ex)\n",
    "finally:\n",
    "    time.sleep(1)\n",
    "    driver.close()\n",
    "    driver.quit()\n"
   ]
  }
 ],
 "metadata": {
  "kernelspec": {
   "display_name": "py3.10",
   "language": "python",
   "name": "python3"
  },
  "language_info": {
   "codemirror_mode": {
    "name": "ipython",
    "version": 3
   },
   "file_extension": ".py",
   "mimetype": "text/x-python",
   "name": "python",
   "nbconvert_exporter": "python",
   "pygments_lexer": "ipython3",
   "version": "3.10.12"
  }
 },
 "nbformat": 4,
 "nbformat_minor": 2
}
