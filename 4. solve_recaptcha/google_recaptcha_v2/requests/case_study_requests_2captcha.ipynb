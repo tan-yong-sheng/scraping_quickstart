{
 "cells": [
  {
   "cell_type": "markdown",
   "metadata": {},
   "source": [
    "## Case Study: Solve recaptcha v2 with 2captcha service and requests\n",
    "\n",
    "Created by [tanyongsheng.net](https://tanyongsheng.net)"
   ]
  },
  {
   "cell_type": "markdown",
   "metadata": {},
   "source": [
    "Reference: \n",
    "1. Captcha bypass in Selenium https://2captcha.com/blog/captcha-bypass-in-selenium\n",
    "2. How to Solve Captcha in Selenium Using 2captcha: https://www.omkar.cloud/blog/how-to-solve-captcha-in-selenium-using-2captcha/\n",
    "3. Bypass captcha in Python: https://2captcha.com/lang/python\n",
    "4. How to Solve Captcha / ReCaptcha - Python and 2captcha https://www.youtube.com/watch?v=R6QddZzCOwM\n",
    "\n",
    "----\n",
    "\n",
    "Prerequisite:\n",
    "1. Buy 2Captcha credit at https://2captcha.com/?from=22013304 (Note: this is an affiliate link)"
   ]
  },
  {
   "cell_type": "code",
   "execution_count": null,
   "metadata": {},
   "outputs": [],
   "source": []
  }
 ],
 "metadata": {
  "language_info": {
   "name": "python"
  }
 },
 "nbformat": 4,
 "nbformat_minor": 2
}
