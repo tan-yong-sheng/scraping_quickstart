{
 "cells": [
  {
   "cell_type": "markdown",
   "metadata": {},
   "source": [
    "## Solve recaptcha v2 with 2captcha service and Selenium"
   ]
  },
  {
   "cell_type": "markdown",
   "metadata": {},
   "source": [
    "Reference: \n",
    "1. Bypass captcha in Python: https://2captcha.com/lang/python\n",
    "\n",
    "(Note: Selenium v4 is used)"
   ]
  },
  {
   "cell_type": "markdown",
   "metadata": {},
   "source": [
    "#### Step 1: Install libraries"
   ]
  },
  {
   "cell_type": "code",
   "execution_count": 1,
   "metadata": {},
   "outputs": [
    {
     "name": "stdout",
     "output_type": "stream",
     "text": [
      "Requirement already satisfied: selenium in c:\\users\\yongsheng.tan\\appdata\\local\\miniconda3\\envs\\py3.10\\lib\\site-packages (4.18.1)\n",
      "Requirement already satisfied: urllib3<3,>=1.26 in c:\\users\\yongsheng.tan\\appdata\\local\\miniconda3\\envs\\py3.10\\lib\\site-packages (from urllib3[socks]<3,>=1.26->selenium) (2.0.7)\n",
      "Requirement already satisfied: trio~=0.17 in c:\\users\\yongsheng.tan\\appdata\\local\\miniconda3\\envs\\py3.10\\lib\\site-packages (from selenium) (0.24.0)\n",
      "Requirement already satisfied: trio-websocket~=0.9 in c:\\users\\yongsheng.tan\\appdata\\local\\miniconda3\\envs\\py3.10\\lib\\site-packages (from selenium) (0.11.1)\n",
      "Requirement already satisfied: certifi>=2021.10.8 in c:\\users\\yongsheng.tan\\appdata\\local\\miniconda3\\envs\\py3.10\\lib\\site-packages (from selenium) (2024.2.2)\n",
      "Requirement already satisfied: typing_extensions>=4.9.0 in c:\\users\\yongsheng.tan\\appdata\\local\\miniconda3\\envs\\py3.10\\lib\\site-packages (from selenium) (4.9.0)\n",
      "Requirement already satisfied: attrs>=20.1.0 in c:\\users\\yongsheng.tan\\appdata\\local\\miniconda3\\envs\\py3.10\\lib\\site-packages (from trio~=0.17->selenium) (23.2.0)\n",
      "Requirement already satisfied: sortedcontainers in c:\\users\\yongsheng.tan\\appdata\\local\\miniconda3\\envs\\py3.10\\lib\\site-packages (from trio~=0.17->selenium) (2.4.0)\n",
      "Requirement already satisfied: idna in c:\\users\\yongsheng.tan\\appdata\\local\\miniconda3\\envs\\py3.10\\lib\\site-packages (from trio~=0.17->selenium) (3.6)\n",
      "Requirement already satisfied: outcome in c:\\users\\yongsheng.tan\\appdata\\local\\miniconda3\\envs\\py3.10\\lib\\site-packages (from trio~=0.17->selenium) (1.3.0.post0)\n",
      "Requirement already satisfied: sniffio>=1.3.0 in c:\\users\\yongsheng.tan\\appdata\\local\\miniconda3\\envs\\py3.10\\lib\\site-packages (from trio~=0.17->selenium) (1.3.0)\n",
      "Requirement already satisfied: cffi>=1.14 in c:\\users\\yongsheng.tan\\appdata\\local\\miniconda3\\envs\\py3.10\\lib\\site-packages (from trio~=0.17->selenium) (1.16.0)\n",
      "Requirement already satisfied: exceptiongroup in c:\\users\\yongsheng.tan\\appdata\\local\\miniconda3\\envs\\py3.10\\lib\\site-packages (from trio~=0.17->selenium) (1.2.0)\n",
      "Requirement already satisfied: wsproto>=0.14 in c:\\users\\yongsheng.tan\\appdata\\local\\miniconda3\\envs\\py3.10\\lib\\site-packages (from trio-websocket~=0.9->selenium) (1.2.0)\n",
      "Requirement already satisfied: pysocks!=1.5.7,<2.0,>=1.5.6 in c:\\users\\yongsheng.tan\\appdata\\local\\miniconda3\\envs\\py3.10\\lib\\site-packages (from urllib3[socks]<3,>=1.26->selenium) (1.7.1)\n",
      "Requirement already satisfied: pycparser in c:\\users\\yongsheng.tan\\appdata\\local\\miniconda3\\envs\\py3.10\\lib\\site-packages (from cffi>=1.14->trio~=0.17->selenium) (2.21)\n",
      "Requirement already satisfied: h11<1,>=0.9.0 in c:\\users\\yongsheng.tan\\appdata\\local\\miniconda3\\envs\\py3.10\\lib\\site-packages (from wsproto>=0.14->trio-websocket~=0.9->selenium) (0.14.0)\n",
      "Requirement already satisfied: webdriver-manager in c:\\users\\yongsheng.tan\\appdata\\local\\miniconda3\\envs\\py3.10\\lib\\site-packages (4.0.1)\n",
      "Requirement already satisfied: requests in c:\\users\\yongsheng.tan\\appdata\\local\\miniconda3\\envs\\py3.10\\lib\\site-packages (from webdriver-manager) (2.31.0)\n",
      "Requirement already satisfied: python-dotenv in c:\\users\\yongsheng.tan\\appdata\\local\\miniconda3\\envs\\py3.10\\lib\\site-packages (from webdriver-manager) (1.0.1)\n",
      "Requirement already satisfied: packaging in c:\\users\\yongsheng.tan\\appdata\\local\\miniconda3\\envs\\py3.10\\lib\\site-packages (from webdriver-manager) (23.2)\n",
      "Requirement already satisfied: charset-normalizer<4,>=2 in c:\\users\\yongsheng.tan\\appdata\\local\\miniconda3\\envs\\py3.10\\lib\\site-packages (from requests->webdriver-manager) (3.3.2)\n",
      "Requirement already satisfied: idna<4,>=2.5 in c:\\users\\yongsheng.tan\\appdata\\local\\miniconda3\\envs\\py3.10\\lib\\site-packages (from requests->webdriver-manager) (3.6)\n",
      "Requirement already satisfied: urllib3<3,>=1.21.1 in c:\\users\\yongsheng.tan\\appdata\\local\\miniconda3\\envs\\py3.10\\lib\\site-packages (from requests->webdriver-manager) (2.0.7)\n",
      "Requirement already satisfied: certifi>=2017.4.17 in c:\\users\\yongsheng.tan\\appdata\\local\\miniconda3\\envs\\py3.10\\lib\\site-packages (from requests->webdriver-manager) (2024.2.2)\n",
      "Collecting 2captcha-python\n",
      "  Downloading 2captcha_python-1.2.2-py3-none-any.whl.metadata (14 kB)\n",
      "Requirement already satisfied: requests in c:\\users\\yongsheng.tan\\appdata\\local\\miniconda3\\envs\\py3.10\\lib\\site-packages (from 2captcha-python) (2.31.0)\n",
      "Requirement already satisfied: charset-normalizer<4,>=2 in c:\\users\\yongsheng.tan\\appdata\\local\\miniconda3\\envs\\py3.10\\lib\\site-packages (from requests->2captcha-python) (3.3.2)\n",
      "Requirement already satisfied: idna<4,>=2.5 in c:\\users\\yongsheng.tan\\appdata\\local\\miniconda3\\envs\\py3.10\\lib\\site-packages (from requests->2captcha-python) (3.6)\n",
      "Requirement already satisfied: urllib3<3,>=1.21.1 in c:\\users\\yongsheng.tan\\appdata\\local\\miniconda3\\envs\\py3.10\\lib\\site-packages (from requests->2captcha-python) (2.0.7)\n",
      "Requirement already satisfied: certifi>=2017.4.17 in c:\\users\\yongsheng.tan\\appdata\\local\\miniconda3\\envs\\py3.10\\lib\\site-packages (from requests->2captcha-python) (2024.2.2)\n",
      "Downloading 2captcha_python-1.2.2-py3-none-any.whl (11 kB)\n",
      "Installing collected packages: 2captcha-python\n",
      "Successfully installed 2captcha-python-1.2.2\n",
      "Requirement already satisfied: python-dotenv in c:\\users\\yongsheng.tan\\appdata\\local\\miniconda3\\envs\\py3.10\\lib\\site-packages (1.0.1)\n"
     ]
    },
    {
     "name": "stderr",
     "output_type": "stream",
     "text": [
      "ERROR: Invalid requirement: '#'\n"
     ]
    }
   ],
   "source": [
    "!pip install selenium\n",
    "!pip install webdriver-manager\n",
    "!pip install 2captcha-python\n",
    "!pip install python-dotenv\n",
    "!pip install watermark # to inspect what python package imported in this jupyter notebook"
   ]
  },
  {
   "cell_type": "code",
   "execution_count": 2,
   "metadata": {},
   "outputs": [],
   "source": [
    "import time\n",
    "from selenium import webdriver\n",
    "from selenium.webdriver.chrome.service import Service as ChromeService\n",
    "from webdriver_manager.chrome import ChromeDriverManager\n",
    "from selenium.webdriver.chrome.options import Options\n",
    "from selenium.webdriver.common.by import By\n",
    "from twocaptcha import TwoCaptcha"
   ]
  },
  {
   "cell_type": "markdown",
   "metadata": {},
   "source": [
    "#### Step 2: Scrape websites with Selenium "
   ]
  },
  {
   "cell_type": "code",
   "execution_count": 9,
   "metadata": {},
   "outputs": [],
   "source": [
    "import os\n",
    "from dotenv import load_dotenv\n",
    "\n",
    "_ = load_dotenv()"
   ]
  },
  {
   "cell_type": "code",
   "execution_count": null,
   "metadata": {},
   "outputs": [],
   "source": [
    "login_page_url = \"https://www.investingnote.com/users/sign_in\"\n",
    "\n",
    "\n",
    "# install selenium webdriver for Chrome and then initiate that webdriver\n",
    "options = Options()\n",
    "# options.add_argument(\"--headless=new\") # set to headless mode (= no UI)\n",
    "driver = webdriver.Chrome(service=ChromeService(ChromeDriverManager().install()),\n",
    "                        options=options)"
   ]
  },
  {
   "cell_type": "code",
   "execution_count": 7,
   "metadata": {},
   "outputs": [],
   "source": [
    "from twocaptcha import TwoCaptcha\n",
    "solver = TwoCaptcha(os.environ[\"2CAPTCHA_API_KEY\"])\n",
    "\n",
    "driver.get(login_page_url)\n",
    "response = solver.recaptcha(sitekey='SITE_KEY', url=login_page_url)\n",
    "code = response['code']\n",
    "print(f\"Successfully solved the Captcha. The solve code is {code}\")\n"
   ]
  },
  {
   "cell_type": "code",
   "execution_count": 7,
   "metadata": {},
   "outputs": [],
   "source": [
    "username = driver.find_element(By.XPATH, \"//input[@id='user_login']\")\n",
    "password = driver.find_element(By.XPATH, \"//input[@id='user_password']\")\n",
    "\n",
    "username.send_keys(os.environ[\"INVESTINGNOTE_USERNAME\"])\n",
    "password.send_keys(os.environ[\"INVESTINGNOTE_PASSWORD\"])\n",
    "\n",
    "driver.find_element(By.XPATH, \"//button[@id='sign-in-btn']\").click()"
   ]
  },
  {
   "cell_type": "code",
   "execution_count": 6,
   "metadata": {},
   "outputs": [],
   "source": [
    "driver.quit()"
   ]
  },
  {
   "cell_type": "markdown",
   "metadata": {},
   "source": [
    "### Computing environment"
   ]
  },
  {
   "cell_type": "code",
   "execution_count": null,
   "metadata": {},
   "outputs": [
    {
     "name": "stdout",
     "output_type": "stream",
     "text": [
      "The watermark extension is already loaded. To reload it, use:\n",
      "  %reload_ext watermark\n",
      "Last updated: 2024-02-24T02:28:37.190280+08:00\n",
      "\n",
      "Python implementation: CPython\n",
      "Python version       : 3.10.12\n",
      "IPython version      : 8.21.0\n",
      "\n",
      "Compiler    : MSC v.1916 64 bit (AMD64)\n",
      "OS          : Windows\n",
      "Release     : 10\n",
      "Machine     : AMD64\n",
      "Processor   : Intel64 Family 6 Model 142 Stepping 12, GenuineIntel\n",
      "CPU cores   : 8\n",
      "Architecture: 64bit\n",
      "\n",
      "selenium: 4.18.1\n",
      "\n",
      "Last updated: Sat Feb 24 2024 02:28:37Malay Peninsula Standard Time\n",
      "\n"
     ]
    }
   ],
   "source": [
    "%load_ext watermark\n",
    "\n",
    "%watermark\n",
    "%watermark  --iversions\n",
    "%watermark -u -n -t -z"
   ]
  }
 ],
 "metadata": {
  "kernelspec": {
   "display_name": "py3.10",
   "language": "python",
   "name": "python3"
  },
  "language_info": {
   "codemirror_mode": {
    "name": "ipython",
    "version": 3
   },
   "file_extension": ".py",
   "mimetype": "text/x-python",
   "name": "python",
   "nbconvert_exporter": "python",
   "pygments_lexer": "ipython3",
   "version": "3.10.12"
  }
 },
 "nbformat": 4,
 "nbformat_minor": 2
}
