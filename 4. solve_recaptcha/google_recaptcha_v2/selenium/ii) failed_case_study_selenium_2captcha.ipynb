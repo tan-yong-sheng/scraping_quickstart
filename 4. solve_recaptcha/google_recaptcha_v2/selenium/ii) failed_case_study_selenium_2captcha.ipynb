{
 "cells": [
  {
   "cell_type": "markdown",
   "metadata": {},
   "source": [
    "## Case Study: Solve recaptcha v2 with 2captcha service and Selenium v4\n",
    "\n",
    "Created by [tanyongsheng.net](https://tanyongsheng.net)"
   ]
  },
  {
   "cell_type": "markdown",
   "metadata": {},
   "source": [
    "Reference: \n",
    "1. Captcha bypass in Selenium https://2captcha.com/blog/captcha-bypass-in-selenium\n",
    "2. Bypass captcha in Python: https://2captcha.com/lang/python\n",
    "3. How to Solve Captcha / ReCaptcha - Python and 2captcha https://www.youtube.com/watch?v=R6QddZzCOwM\n",
    "\n",
    "\n",
    "----\n",
    "\n",
    "Prerequisite:\n",
    "1. Buy 2Captcha credit at https://2captcha.com/?from=22013304 (Note: this is an affiliate link)"
   ]
  },
  {
   "cell_type": "markdown",
   "metadata": {},
   "source": [
    "#### Step 1: Install libraries"
   ]
  },
  {
   "cell_type": "code",
   "execution_count": 8,
   "metadata": {},
   "outputs": [],
   "source": [
    "# please change username and password here\n",
    "import os\n",
    "username_input = os.environ[\"INVESTINGNOTE_USERNAME\"]\n",
    "password_input = os.environ[\"INVESTINGNOTE_PASSWORD\"]"
   ]
  },
  {
   "cell_type": "code",
   "execution_count": 9,
   "metadata": {},
   "outputs": [
    {
     "name": "stdout",
     "output_type": "stream",
     "text": [
      "Requirement already satisfied: selenium in c:\\users\\yongsheng.tan\\appdata\\local\\miniconda3\\envs\\py3.10\\lib\\site-packages (4.18.1)Note: you may need to restart the kernel to use updated packages.\n",
      "\n",
      "Requirement already satisfied: urllib3<3,>=1.26 in c:\\users\\yongsheng.tan\\appdata\\local\\miniconda3\\envs\\py3.10\\lib\\site-packages (from urllib3[socks]<3,>=1.26->selenium) (2.0.7)\n",
      "Requirement already satisfied: trio~=0.17 in c:\\users\\yongsheng.tan\\appdata\\local\\miniconda3\\envs\\py3.10\\lib\\site-packages (from selenium) (0.24.0)\n",
      "Requirement already satisfied: trio-websocket~=0.9 in c:\\users\\yongsheng.tan\\appdata\\local\\miniconda3\\envs\\py3.10\\lib\\site-packages (from selenium) (0.11.1)\n",
      "Requirement already satisfied: certifi>=2021.10.8 in c:\\users\\yongsheng.tan\\appdata\\local\\miniconda3\\envs\\py3.10\\lib\\site-packages (from selenium) (2024.2.2)\n",
      "Requirement already satisfied: typing_extensions>=4.9.0 in c:\\users\\yongsheng.tan\\appdata\\local\\miniconda3\\envs\\py3.10\\lib\\site-packages (from selenium) (4.10.0)\n",
      "Requirement already satisfied: attrs>=20.1.0 in c:\\users\\yongsheng.tan\\appdata\\local\\miniconda3\\envs\\py3.10\\lib\\site-packages (from trio~=0.17->selenium) (23.2.0)\n",
      "Requirement already satisfied: sortedcontainers in c:\\users\\yongsheng.tan\\appdata\\local\\miniconda3\\envs\\py3.10\\lib\\site-packages (from trio~=0.17->selenium) (2.4.0)\n",
      "Requirement already satisfied: idna in c:\\users\\yongsheng.tan\\appdata\\local\\miniconda3\\envs\\py3.10\\lib\\site-packages (from trio~=0.17->selenium) (3.6)\n",
      "Requirement already satisfied: outcome in c:\\users\\yongsheng.tan\\appdata\\local\\miniconda3\\envs\\py3.10\\lib\\site-packages (from trio~=0.17->selenium) (1.3.0.post0)\n",
      "Requirement already satisfied: sniffio>=1.3.0 in c:\\users\\yongsheng.tan\\appdata\\local\\miniconda3\\envs\\py3.10\\lib\\site-packages (from trio~=0.17->selenium) (1.3.1)\n",
      "Requirement already satisfied: cffi>=1.14 in c:\\users\\yongsheng.tan\\appdata\\local\\miniconda3\\envs\\py3.10\\lib\\site-packages (from trio~=0.17->selenium) (1.16.0)\n",
      "Requirement already satisfied: exceptiongroup in c:\\users\\yongsheng.tan\\appdata\\local\\miniconda3\\envs\\py3.10\\lib\\site-packages (from trio~=0.17->selenium) (1.2.0)\n",
      "Requirement already satisfied: wsproto>=0.14 in c:\\users\\yongsheng.tan\\appdata\\local\\miniconda3\\envs\\py3.10\\lib\\site-packages (from trio-websocket~=0.9->selenium) (1.2.0)\n",
      "Requirement already satisfied: pysocks!=1.5.7,<2.0,>=1.5.6 in c:\\users\\yongsheng.tan\\appdata\\local\\miniconda3\\envs\\py3.10\\lib\\site-packages (from urllib3[socks]<3,>=1.26->selenium) (1.7.1)\n",
      "Requirement already satisfied: pycparser in c:\\users\\yongsheng.tan\\appdata\\local\\miniconda3\\envs\\py3.10\\lib\\site-packages (from cffi>=1.14->trio~=0.17->selenium) (2.21)\n",
      "Requirement already satisfied: h11<1,>=0.9.0 in c:\\users\\yongsheng.tan\\appdata\\local\\miniconda3\\envs\\py3.10\\lib\\site-packages (from wsproto>=0.14->trio-websocket~=0.9->selenium) (0.14.0)\n",
      "Requirement already satisfied: webdriver-manager in c:\\users\\yongsheng.tan\\appdata\\local\\miniconda3\\envs\\py3.10\\lib\\site-packages (4.0.1)\n",
      "Requirement already satisfied: requests in c:\\users\\yongsheng.tan\\appdata\\local\\miniconda3\\envs\\py3.10\\lib\\site-packages (from webdriver-manager) (2.31.0)\n",
      "Requirement already satisfied: python-dotenv in c:\\users\\yongsheng.tan\\appdata\\local\\miniconda3\\envs\\py3.10\\lib\\site-packages (from webdriver-manager) (1.0.1)\n",
      "Requirement already satisfied: packaging in c:\\users\\yongsheng.tan\\appdata\\local\\miniconda3\\envs\\py3.10\\lib\\site-packages (from webdriver-manager) (23.2)\n",
      "Requirement already satisfied: charset-normalizer<4,>=2 in c:\\users\\yongsheng.tan\\appdata\\local\\miniconda3\\envs\\py3.10\\lib\\site-packages (from requests->webdriver-manager) (3.3.2)\n",
      "Requirement already satisfied: idna<4,>=2.5 in c:\\users\\yongsheng.tan\\appdata\\local\\miniconda3\\envs\\py3.10\\lib\\site-packages (from requests->webdriver-manager) (3.6)\n",
      "Requirement already satisfied: urllib3<3,>=1.21.1 in c:\\users\\yongsheng.tan\\appdata\\local\\miniconda3\\envs\\py3.10\\lib\\site-packages (from requests->webdriver-manager) (2.0.7)\n",
      "Requirement already satisfied: certifi>=2017.4.17 in c:\\users\\yongsheng.tan\\appdata\\local\\miniconda3\\envs\\py3.10\\lib\\site-packages (from requests->webdriver-manager) (2024.2.2)\n",
      "Note: you may need to restart the kernel to use updated packages.\n",
      "Requirement already satisfied: 2captcha-python in c:\\users\\yongsheng.tan\\appdata\\local\\miniconda3\\envs\\py3.10\\lib\\site-packages (1.2.2)\n",
      "Requirement already satisfied: requests in c:\\users\\yongsheng.tan\\appdata\\local\\miniconda3\\envs\\py3.10\\lib\\site-packages (from 2captcha-python) (2.31.0)\n",
      "Requirement already satisfied: charset-normalizer<4,>=2 in c:\\users\\yongsheng.tan\\appdata\\local\\miniconda3\\envs\\py3.10\\lib\\site-packages (from requests->2captcha-python) (3.3.2)\n",
      "Requirement already satisfied: idna<4,>=2.5 in c:\\users\\yongsheng.tan\\appdata\\local\\miniconda3\\envs\\py3.10\\lib\\site-packages (from requests->2captcha-python) (3.6)\n",
      "Requirement already satisfied: urllib3<3,>=1.21.1 in c:\\users\\yongsheng.tan\\appdata\\local\\miniconda3\\envs\\py3.10\\lib\\site-packages (from requests->2captcha-python) (2.0.7)\n",
      "Requirement already satisfied: certifi>=2017.4.17 in c:\\users\\yongsheng.tan\\appdata\\local\\miniconda3\\envs\\py3.10\\lib\\site-packages (from requests->2captcha-python) (2024.2.2)\n",
      "Note: you may need to restart the kernel to use updated packages.\n",
      "Requirement already satisfied: python-dotenv in c:\\users\\yongsheng.tan\\appdata\\local\\miniconda3\\envs\\py3.10\\lib\\site-packages (1.0.1)\n",
      "Note: you may need to restart the kernel to use updated packages.\n",
      "Note: you may need to restart the kernel to use updated packages.\n"
     ]
    },
    {
     "name": "stderr",
     "output_type": "stream",
     "text": [
      "ERROR: Invalid requirement: '#'\n"
     ]
    }
   ],
   "source": [
    "%pip install selenium\n",
    "%pip install webdriver-manager\n",
    "%pip install 2captcha-python\n",
    "%pip install python-dotenv\n",
    "%pip install watermark # to inspect what python package imported in this jupyter notebook"
   ]
  },
  {
   "cell_type": "code",
   "execution_count": 10,
   "metadata": {},
   "outputs": [],
   "source": [
    "from selenium import webdriver\n",
    "from selenium.webdriver.chrome.service import Service as ChromeService\n",
    "from webdriver_manager.chrome import ChromeDriverManager\n",
    "from selenium.webdriver.chrome.options import Options\n",
    "from selenium.webdriver.common.by import By\n",
    "from selenium.webdriver.support.wait import WebDriverWait\n",
    "from selenium.webdriver.support import expected_conditions as EC\n",
    "\n",
    "from twocaptcha import TwoCaptcha"
   ]
  },
  {
   "cell_type": "markdown",
   "metadata": {},
   "source": [
    "#### Step 2: Scrape websites with Selenium "
   ]
  },
  {
   "cell_type": "code",
   "execution_count": 11,
   "metadata": {},
   "outputs": [],
   "source": [
    "import os\n",
    "from dotenv import load_dotenv\n",
    "\n",
    "_ = load_dotenv()"
   ]
  },
  {
   "cell_type": "code",
   "execution_count": 12,
   "metadata": {},
   "outputs": [],
   "source": [
    "login_page_url = \"https://www.investingnote.com/users/sign_in\"\n",
    "\n",
    "# install selenium webdriver for Chrome and then initiate that webdriver\n",
    "options = Options()\n",
    "# options.add_argument(\"--headless=new\") # set to headless mode (= no UI)\n",
    "driver = webdriver.Chrome(service=ChromeService(ChromeDriverManager().install()),\n",
    "                        options=options)"
   ]
  },
  {
   "cell_type": "code",
   "execution_count": 13,
   "metadata": {},
   "outputs": [
    {
     "name": "stdout",
     "output_type": "stream",
     "text": [
      "Failed to solve Captcha\n",
      "Retrying...\n",
      "'request'\n",
      "Successfully solved the Captcha. The solve code is 03AFcWeA66mt2BRJlNJw_TKr61e3pm3V4ci-Bynrrix7fb0IYGyguiaLDiNuacKgyLwVNDgTrJH79mYL1sOUPktkxfcT0T4yEow8dvd5ya2EvIS-mj5soM7ChcZUw-9uhpJ3Z-0Q4hLh-__crzLV998Rvr8OzSf9vL6coN3ibtd4kO7PaC_gIFIlwIhoKvHHjA-c6oZ6ymIwckOLDGsuKVStPAnb4T4_NCwENRFSr_j7CKeMDMBphP2vKl7Y3vQH8DsWD1a0qbrNjotmArfHC9p2ptmOZv8AzDqpTiivAezPfNLZ6SnKtT8Rhd7tU__YGDtQukZf2ELJpS249o98pkTLODoj18S2qAXwrdBGpR850l-80hooo3TTyYzlgcgHYpjULBCp2bc7zgf1qreav9Y0TFy_yDmvOdThPntMH9y5l7W2OrKA_ofXDQ914sQNWe0aUOU8hYzqSqXlsZWrHZoq85qzYfotXr8V2puC6Qyivgbhn8wl5yVQkEtcin6x5yESIlD3umttRlahmoIhydQVlEs-VySc1cbpy5lfVWbJ4nz-ojtbVBXuX3tZXAG8UzZGKXrWGHBKSToSSSuhvWgciyRouLjGsxZFLYOSFO3P5qLcNEH3JaUSDSCrUWan_YUfkqUI4WfrVQLbWJtlEowmlrry34IPSW9wtsr9InIh4jurhVtsneEMk8Qz6obUSqYECB08fm04xtsFNt1wg_6Eq361tRZ6xkXbd813Cu5qt4C6txsngentg\n"
     ]
    }
   ],
   "source": [
    "from twocaptcha import TwoCaptcha\n",
    "import time\n",
    "\n",
    "solver = TwoCaptcha(os.environ[\"2CAPTCHA_API_KEY\"])\n",
    "\n",
    "driver.get(login_page_url)\n",
    "\n",
    "username = driver.find_element(By.XPATH, \"//input[@id='user_login']\")\n",
    "password = driver.find_element(By.XPATH, \"//input[@id='user_password']\")\n",
    "\n",
    "username.send_keys(username_input)\n",
    "password.send_keys(password_input)\n",
    "\n",
    "def solve(url=login_page_url,\n",
    "        sitekey=os.environ[\"INVESTINGNOTE_SITE_KEY\"]):\n",
    "    while True:\n",
    "        try:\n",
    "            result = solver.recaptcha(sitekey=sitekey, \n",
    "                                        url=url)\n",
    "            if result[\"request\"] == \"CAPCHA_NOT_READY\":\n",
    "                print(result[\"request\"])\n",
    "                time.sleep(10)\n",
    "            elif \"error\" in result[\"request\"]:\n",
    "                print(result[\"request\"])\n",
    "                driver.close()\n",
    "                driver.quit()\n",
    "                exit(0)\n",
    "            else:\n",
    "                return False\n",
    "                 \n",
    "        except Exception as error:\n",
    "            print(\"Failed to solve Captcha\")\n",
    "            print(\"Retrying...\")\n",
    "            print(error)\n",
    "        finally:\n",
    "            print(f\"Successfully solved the Captcha. The solve code is {result['code']}\")\n",
    "        return result[\"code\"]\n",
    "\n",
    "# Submit solved captcha\n",
    "WebDriverWait(driver, 10).until(EC.presence_of_element_located((By.ID, 'g-recaptcha-response')))\n",
    "\n",
    "captcha_token = solve(url=login_page_url, sitekey=os.environ[\"INVESTINGNOTE_SITE_KEY\"])\n",
    "recaptcha_response_element = driver.find_element(By.ID, 'g-recaptcha-response')\n",
    "\n",
    "driver.execute_script(\"document.getElementsByName('g-recaptcha-response')[0].value = arguments[0];\", solu)\n",
    "\n",
    "# This method is used to identify a frame with the help of frame id and then switch the focus to that particular frame.\n",
    "iframe = driver.find_element(By.XPATH,\n",
    "       \"/html/body/div[1]/div[1]/div[2]/div/div/div/form/fieldset/section[3]/div/div/div/iframe\")\n",
    "driver.switch_to.frame(iframe)\n",
    "el = driver.find_element(By.ID, \"recaptcha-token\")\n",
    "driver.execute_script(f\"arguments[0].setAttribute('value', '{captcha_token}');\", el)\n",
    "time.sleep(1)\n",
    "# to move out the current frame to the page level\n",
    "driver.switch_to.default_content()"
   ]
  },
  {
   "cell_type": "code",
   "execution_count": 14,
   "metadata": {},
   "outputs": [],
   "source": [
    "# Making the button visible\n",
    "script = \"\"\"document.getElementById('sign-in-btn').removeAttribute('disabled');\"\"\"\n",
    "driver.execute_script(script)\n",
    "\n",
    "# click the button\n",
    "submit_btn = driver.find_element(By.XPATH, \"//button[@id='sign-in-btn']\")\n",
    "submit_btn.click()"
   ]
  },
  {
   "cell_type": "code",
   "execution_count": 15,
   "metadata": {},
   "outputs": [],
   "source": [
    "# wait for 10 seconds before close the broswer\n",
    "input(\"Press enter to continue\")\n",
    "driver.quit()"
   ]
  },
  {
   "cell_type": "markdown",
   "metadata": {},
   "source": [
    "### Computing environment"
   ]
  },
  {
   "cell_type": "code",
   "execution_count": 16,
   "metadata": {},
   "outputs": [
    {
     "name": "stdout",
     "output_type": "stream",
     "text": [
      "Last updated: 2024-03-01T00:54:28.283345+08:00\n",
      "\n",
      "Python implementation: CPython\n",
      "Python version       : 3.10.12\n",
      "IPython version      : 8.21.0\n",
      "\n",
      "Compiler    : MSC v.1916 64 bit (AMD64)\n",
      "OS          : Windows\n",
      "Release     : 10\n",
      "Machine     : AMD64\n",
      "Processor   : Intel64 Family 6 Model 142 Stepping 12, GenuineIntel\n",
      "CPU cores   : 8\n",
      "Architecture: 64bit\n",
      "\n",
      "selenium: 4.18.1\n",
      "\n",
      "Last updated: Fri Mar 01 2024 00:54:28Malay Peninsula Standard Time\n",
      "\n"
     ]
    }
   ],
   "source": [
    "%load_ext watermark\n",
    "\n",
    "%watermark\n",
    "%watermark  --iversions\n",
    "%watermark -u -n -t -z"
   ]
  }
 ],
 "metadata": {
  "kernelspec": {
   "display_name": "py3.10",
   "language": "python",
   "name": "python3"
  },
  "language_info": {
   "codemirror_mode": {
    "name": "ipython",
    "version": 3
   },
   "file_extension": ".py",
   "mimetype": "text/x-python",
   "name": "python",
   "nbconvert_exporter": "python",
   "pygments_lexer": "ipython3",
   "version": "3.10.12"
  }
 },
 "nbformat": 4,
 "nbformat_minor": 2
}
