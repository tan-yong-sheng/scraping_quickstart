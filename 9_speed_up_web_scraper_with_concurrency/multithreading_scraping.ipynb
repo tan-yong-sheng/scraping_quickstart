{
 "cells": [
  {
   "cell_type": "markdown",
   "metadata": {},
   "source": [
    "## Scraping data using multithreading\n",
    "\n",
    "Created by: [tanyongsheng.net](https://tanyongsheng.net)\n",
    "\n",
    "----\n",
    "Introduction:\n",
    "- Multi-threading is beneficial in situations where the program spends a significant amount of time waiting for external resources, such as I/O operations, rather than performing intense computational tasks.\n",
    "- When scraping data from multiple web pages, you can use multi-threading to issue HTTP requests for different pages concurrently. This helps reduce the overall time spent waiting for responses, as threads can work on fetching pages simultaneously.\n",
    "\n",
    "Reference: \n",
    "1. MultiThreading in Python | Python Concurrent futures | ThreadPoolExecutor https://www.youtube.com/watch?v=i0Tey6Gprnc&t=495s\n",
    "2. How to Make Web Scraping Faster - Python Tutorial https://oxylabs.io/blog/how-to-make-web-scraping-faster\n",
    "3. Comcrawl script which uses multi-threading for scraping: https://github.com/michaelharms/comcrawl/blob/a89236080c5e7f4ce6a2e0d39c5f59671f22181e/comcrawl/utils/search.py#L11\n",
    "4. Multi-threaded web scraping with Python https://sean.eulenberg.de/posts/2020-05-26-multi-threaded-webscraping-with-python/\n"
   ]
  },
  {
   "cell_type": "markdown",
   "metadata": {},
   "source": [
    "### Background of this scraping task with multi-threading concept\n",
    "\n",
    "We're making 10 requests to [https://httpbin.org/delay/10](https://httpbin.org/delay/10), where each request takes 10 seconds to get a response. We'll test three approaches:\n",
    "\n",
    "1. **10 Threads:**\n",
    "- Sending 10 web requests simultaneously using threads. \n",
    "- Estimate: it takes around 10 - 11s to finish scraping with 10 threads (=10*10s/10)\n",
    "\n",
    "2. **No Multithreading:**\n",
    "- Scraping data without using multiple threads. \n",
    "- Estimate: it takes around 1 min 40s to finish scraping (=10*10s) \n",
    "\n",
    "3. **2 Threads:**\n",
    "- Using only 2 threads to fetch the data.\n",
    "- Estimate: it takes around 50s to finish scraping with 2 threads (=10*10s/2)\n",
    "\n",
    "We'll compare their execution speeds to understand how multithreading affects the web scraping process."
   ]
  },
  {
   "cell_type": "markdown",
   "metadata": {},
   "source": [
    "### Case 1: Using 10 threads to scrape data"
   ]
  },
  {
   "cell_type": "code",
   "execution_count": 1,
   "metadata": {},
   "outputs": [
    {
     "name": "stdout",
     "output_type": "stream",
     "text": [
      "Defaulting to user installation because normal site-packages is not writeable\n",
      "Requirement already satisfied: requests in /home/gitpod/.pyenv/versions/3.10.13/lib/python3.10/site-packages (2.31.0)\n",
      "Requirement already satisfied: charset-normalizer<4,>=2 in /home/gitpod/.pyenv/versions/3.10.13/lib/python3.10/site-packages (from requests) (3.3.2)\n",
      "Requirement already satisfied: idna<4,>=2.5 in /home/gitpod/.pyenv/versions/3.10.13/lib/python3.10/site-packages (from requests) (3.6)\n",
      "Requirement already satisfied: urllib3<3,>=1.21.1 in /workspace/.pyenv_mirror/user/3.10.13/lib/python3.10/site-packages (from requests) (1.26.18)\n",
      "Requirement already satisfied: certifi>=2017.4.17 in /home/gitpod/.pyenv/versions/3.10.13/lib/python3.10/site-packages (from requests) (2024.2.2)\n",
      "Note: you may need to restart the kernel to use updated packages.\n",
      "Defaulting to user installation because normal site-packages is not writeable\n",
      "Requirement already satisfied: tqdm in /home/gitpod/.pyenv/versions/3.10.13/lib/python3.10/site-packages (4.66.2)\n",
      "Note: you may need to restart the kernel to use updated packages.\n",
      "Defaulting to user installation because normal site-packages is not writeable\n",
      "Collecting pandas\n",
      "  Downloading pandas-2.2.1-cp310-cp310-manylinux_2_17_x86_64.manylinux2014_x86_64.whl.metadata (19 kB)\n",
      "Collecting numpy<2,>=1.22.4 (from pandas)\n",
      "  Downloading numpy-1.26.4-cp310-cp310-manylinux_2_17_x86_64.manylinux2014_x86_64.whl.metadata (61 kB)\n",
      "\u001b[2K     \u001b[90m━━━━━━━━━━━━━━━━━━━━━━━━━━━━━━━━━━━━━━━━\u001b[0m \u001b[32m61.0/61.0 kB\u001b[0m \u001b[31m1.4 MB/s\u001b[0m eta \u001b[36m0:00:00\u001b[0ma \u001b[36m0:00:01\u001b[0m\n",
      "\u001b[?25hRequirement already satisfied: python-dateutil>=2.8.2 in /home/gitpod/.pyenv/versions/3.10.13/lib/python3.10/site-packages (from pandas) (2.9.0.post0)\n",
      "Collecting pytz>=2020.1 (from pandas)\n",
      "  Downloading pytz-2024.1-py2.py3-none-any.whl.metadata (22 kB)\n",
      "Collecting tzdata>=2022.7 (from pandas)\n",
      "  Downloading tzdata-2024.1-py2.py3-none-any.whl.metadata (1.4 kB)\n",
      "Requirement already satisfied: six>=1.5 in /home/gitpod/.pyenv/versions/3.10.13/lib/python3.10/site-packages (from python-dateutil>=2.8.2->pandas) (1.16.0)\n",
      "Downloading pandas-2.2.1-cp310-cp310-manylinux_2_17_x86_64.manylinux2014_x86_64.whl (13.0 MB)\n",
      "\u001b[2K   \u001b[90m━━━━━━━━━━━━━━━━━━━━━━━━━━━━━━━━━━━━━━━━\u001b[0m \u001b[32m13.0/13.0 MB\u001b[0m \u001b[31m87.5 MB/s\u001b[0m eta \u001b[36m0:00:00\u001b[0ma \u001b[36m0:00:01\u001b[0m\n",
      "\u001b[?25hDownloading numpy-1.26.4-cp310-cp310-manylinux_2_17_x86_64.manylinux2014_x86_64.whl (18.2 MB)\n",
      "\u001b[2K   \u001b[90m━━━━━━━━━━━━━━━━━━━━━━━━━━━━━━━━━━━━━━━━\u001b[0m \u001b[32m18.2/18.2 MB\u001b[0m \u001b[31m75.3 MB/s\u001b[0m eta \u001b[36m0:00:00\u001b[0m00:01\u001b[0m:00:01\u001b[0m\n",
      "\u001b[?25hDownloading pytz-2024.1-py2.py3-none-any.whl (505 kB)\n",
      "\u001b[2K   \u001b[90m━━━━━━━━━━━━━━━━━━━━━━━━━━━━━━━━━━━━━━━\u001b[0m \u001b[32m505.5/505.5 kB\u001b[0m \u001b[31m113.0 MB/s\u001b[0m eta \u001b[36m0:00:00\u001b[0m\n",
      "\u001b[?25hDownloading tzdata-2024.1-py2.py3-none-any.whl (345 kB)\n",
      "\u001b[2K   \u001b[90m━━━━━━━━━━━━━━━━━━━━━━━━━━━━━━━━━━━━━━━━\u001b[0m \u001b[32m345.4/345.4 kB\u001b[0m \u001b[31m93.8 MB/s\u001b[0m eta \u001b[36m0:00:00\u001b[0m\n",
      "\u001b[?25hInstalling collected packages: pytz, tzdata, numpy, pandas\n",
      "\u001b[33m  WARNING: The script f2py is installed in '/workspace/.pyenv_mirror/user/3.10.13/bin' which is not on PATH.\n",
      "  Consider adding this directory to PATH or, if you prefer to suppress this warning, use --no-warn-script-location.\u001b[0m\u001b[33m\n",
      "\u001b[0mSuccessfully installed numpy-1.26.4 pandas-2.2.1 pytz-2024.1 tzdata-2024.1\n",
      "Note: you may need to restart the kernel to use updated packages.\n"
     ]
    }
   ],
   "source": [
    "%pip install requests\n",
    "%pip install tqdm\n",
    "%pip install pandas"
   ]
  },
  {
   "cell_type": "code",
   "execution_count": 2,
   "metadata": {},
   "outputs": [
    {
     "name": "stderr",
     "output_type": "stream",
     "text": [
      "10it [00:11,  1.17s/it]"
     ]
    },
    {
     "name": "stdout",
     "output_type": "stream",
     "text": [
      "[{'args': {}, 'data': '', 'files': {}, 'form': {}, 'headers': {'Accept': '*/*', 'Accept-Encoding': 'gzip, deflate, br', 'Host': 'httpbin.org', 'User-Agent': 'python-requests/2.31.0', 'X-Amzn-Trace-Id': 'Root=1-65f6ac17-5821fa4a252e53cb2540b6b5'}, 'origin': '34.168.24.183', 'url': 'https://httpbin.org/delay/10'}, {'args': {}, 'data': '', 'files': {}, 'form': {}, 'headers': {'Accept': '*/*', 'Accept-Encoding': 'gzip, deflate, br', 'Host': 'httpbin.org', 'User-Agent': 'python-requests/2.31.0', 'X-Amzn-Trace-Id': 'Root=1-65f6ac17-61d05c8243414d33060bd9b4'}, 'origin': '34.168.24.183', 'url': 'https://httpbin.org/delay/10'}, {'args': {}, 'data': '', 'files': {}, 'form': {}, 'headers': {'Accept': '*/*', 'Accept-Encoding': 'gzip, deflate, br', 'Host': 'httpbin.org', 'User-Agent': 'python-requests/2.31.0', 'X-Amzn-Trace-Id': 'Root=1-65f6ac17-3b21848960b8fa6668a5ebcc'}, 'origin': '34.168.24.183', 'url': 'https://httpbin.org/delay/10'}, {'args': {}, 'data': '', 'files': {}, 'form': {}, 'headers': {'Accept': '*/*', 'Accept-Encoding': 'gzip, deflate, br', 'Host': 'httpbin.org', 'User-Agent': 'python-requests/2.31.0', 'X-Amzn-Trace-Id': 'Root=1-65f6ac17-1aca118474aea20113ac25e8'}, 'origin': '34.168.24.183', 'url': 'https://httpbin.org/delay/10'}, {'args': {}, 'data': '', 'files': {}, 'form': {}, 'headers': {'Accept': '*/*', 'Accept-Encoding': 'gzip, deflate, br', 'Host': 'httpbin.org', 'User-Agent': 'python-requests/2.31.0', 'X-Amzn-Trace-Id': 'Root=1-65f6ac17-718ddb3e10d84c4f104b7ec2'}, 'origin': '34.168.24.183', 'url': 'https://httpbin.org/delay/10'}, {'args': {}, 'data': '', 'files': {}, 'form': {}, 'headers': {'Accept': '*/*', 'Accept-Encoding': 'gzip, deflate, br', 'Host': 'httpbin.org', 'User-Agent': 'python-requests/2.31.0', 'X-Amzn-Trace-Id': 'Root=1-65f6ac17-2c2897b35012fbc316028e3b'}, 'origin': '34.168.24.183', 'url': 'https://httpbin.org/delay/10'}, {'args': {}, 'data': '', 'files': {}, 'form': {}, 'headers': {'Accept': '*/*', 'Accept-Encoding': 'gzip, deflate, br', 'Host': 'httpbin.org', 'User-Agent': 'python-requests/2.31.0', 'X-Amzn-Trace-Id': 'Root=1-65f6ac17-7f73b0665f0d6892072d4233'}, 'origin': '34.168.24.183', 'url': 'https://httpbin.org/delay/10'}, {'args': {}, 'data': '', 'files': {}, 'form': {}, 'headers': {'Accept': '*/*', 'Accept-Encoding': 'gzip, deflate, br', 'Host': 'httpbin.org', 'User-Agent': 'python-requests/2.31.0', 'X-Amzn-Trace-Id': 'Root=1-65f6ac17-0dca3d722293403b0d2bf91a'}, 'origin': '34.168.24.183', 'url': 'https://httpbin.org/delay/10'}, {'args': {}, 'data': '', 'files': {}, 'form': {}, 'headers': {'Accept': '*/*', 'Accept-Encoding': 'gzip, deflate, br', 'Host': 'httpbin.org', 'User-Agent': 'python-requests/2.31.0', 'X-Amzn-Trace-Id': 'Root=1-65f6ac17-60cc9dc057639cdf7fa4fc0a'}, 'origin': '34.168.24.183', 'url': 'https://httpbin.org/delay/10'}, {'args': {}, 'data': '', 'files': {}, 'form': {}, 'headers': {'Accept': '*/*', 'Accept-Encoding': 'gzip, deflate, br', 'Host': 'httpbin.org', 'User-Agent': 'python-requests/2.31.0', 'X-Amzn-Trace-Id': 'Root=1-65f6ac17-02bbce196d31bc70786cf1db'}, 'origin': '34.168.24.183', 'url': 'https://httpbin.org/delay/10'}]\n",
      "CPU times: user 2.55 s, sys: 50.8 ms, total: 2.6 s\n",
      "Wall time: 11.8 s\n"
     ]
    },
    {
     "name": "stderr",
     "output_type": "stream",
     "text": [
      "\n"
     ]
    }
   ],
   "source": [
    "%%time\n",
    "\n",
    "import concurrent.futures # for multi-threading\n",
    "import requests # for downloading data\n",
    "from tqdm import tqdm # for displaying a smart progress meter in loops\n",
    "\n",
    "urls = [\"https://httpbin.org/delay/10\"] * 10   ## Note: making 10 requests to this endpoint, \n",
    "                                                ## where each request takes 10 seconds to get a response  \n",
    "\n",
    "session = requests.Session()\n",
    "\n",
    "def scrape(url):\n",
    "    response = session.get(url)\n",
    "    return response.json()\n",
    "\n",
    "with concurrent.futures.ThreadPoolExecutor(max_workers=10) as ex:\n",
    "    results = {ex.submit(scrape, url): url for url in urls}\n",
    "    \n",
    "    data_list = []\n",
    "\n",
    "    for result in tqdm(concurrent.futures.as_completed(results)):\n",
    "        data = result.result() # get the scraped data\n",
    "\n",
    "        if isinstance(data, list):\n",
    "            data_list.extend(data)\n",
    "        else:\n",
    "            data_list.append(data)\n",
    "    print(data_list)"
   ]
  },
  {
   "cell_type": "code",
   "execution_count": 3,
   "metadata": {},
   "outputs": [
    {
     "data": {
      "text/html": [
       "<div>\n",
       "<style scoped>\n",
       "    .dataframe tbody tr th:only-of-type {\n",
       "        vertical-align: middle;\n",
       "    }\n",
       "\n",
       "    .dataframe tbody tr th {\n",
       "        vertical-align: top;\n",
       "    }\n",
       "\n",
       "    .dataframe thead th {\n",
       "        text-align: right;\n",
       "    }\n",
       "</style>\n",
       "<table border=\"1\" class=\"dataframe\">\n",
       "  <thead>\n",
       "    <tr style=\"text-align: right;\">\n",
       "      <th></th>\n",
       "      <th>args</th>\n",
       "      <th>data</th>\n",
       "      <th>files</th>\n",
       "      <th>form</th>\n",
       "      <th>headers</th>\n",
       "      <th>origin</th>\n",
       "      <th>url</th>\n",
       "    </tr>\n",
       "  </thead>\n",
       "  <tbody>\n",
       "    <tr>\n",
       "      <th>0</th>\n",
       "      <td>{}</td>\n",
       "      <td></td>\n",
       "      <td>{}</td>\n",
       "      <td>{}</td>\n",
       "      <td>{'Accept': '*/*', 'Accept-Encoding': 'gzip, de...</td>\n",
       "      <td>34.168.24.183</td>\n",
       "      <td>https://httpbin.org/delay/10</td>\n",
       "    </tr>\n",
       "    <tr>\n",
       "      <th>1</th>\n",
       "      <td>{}</td>\n",
       "      <td></td>\n",
       "      <td>{}</td>\n",
       "      <td>{}</td>\n",
       "      <td>{'Accept': '*/*', 'Accept-Encoding': 'gzip, de...</td>\n",
       "      <td>34.168.24.183</td>\n",
       "      <td>https://httpbin.org/delay/10</td>\n",
       "    </tr>\n",
       "    <tr>\n",
       "      <th>2</th>\n",
       "      <td>{}</td>\n",
       "      <td></td>\n",
       "      <td>{}</td>\n",
       "      <td>{}</td>\n",
       "      <td>{'Accept': '*/*', 'Accept-Encoding': 'gzip, de...</td>\n",
       "      <td>34.168.24.183</td>\n",
       "      <td>https://httpbin.org/delay/10</td>\n",
       "    </tr>\n",
       "    <tr>\n",
       "      <th>3</th>\n",
       "      <td>{}</td>\n",
       "      <td></td>\n",
       "      <td>{}</td>\n",
       "      <td>{}</td>\n",
       "      <td>{'Accept': '*/*', 'Accept-Encoding': 'gzip, de...</td>\n",
       "      <td>34.168.24.183</td>\n",
       "      <td>https://httpbin.org/delay/10</td>\n",
       "    </tr>\n",
       "    <tr>\n",
       "      <th>4</th>\n",
       "      <td>{}</td>\n",
       "      <td></td>\n",
       "      <td>{}</td>\n",
       "      <td>{}</td>\n",
       "      <td>{'Accept': '*/*', 'Accept-Encoding': 'gzip, de...</td>\n",
       "      <td>34.168.24.183</td>\n",
       "      <td>https://httpbin.org/delay/10</td>\n",
       "    </tr>\n",
       "    <tr>\n",
       "      <th>5</th>\n",
       "      <td>{}</td>\n",
       "      <td></td>\n",
       "      <td>{}</td>\n",
       "      <td>{}</td>\n",
       "      <td>{'Accept': '*/*', 'Accept-Encoding': 'gzip, de...</td>\n",
       "      <td>34.168.24.183</td>\n",
       "      <td>https://httpbin.org/delay/10</td>\n",
       "    </tr>\n",
       "    <tr>\n",
       "      <th>6</th>\n",
       "      <td>{}</td>\n",
       "      <td></td>\n",
       "      <td>{}</td>\n",
       "      <td>{}</td>\n",
       "      <td>{'Accept': '*/*', 'Accept-Encoding': 'gzip, de...</td>\n",
       "      <td>34.168.24.183</td>\n",
       "      <td>https://httpbin.org/delay/10</td>\n",
       "    </tr>\n",
       "    <tr>\n",
       "      <th>7</th>\n",
       "      <td>{}</td>\n",
       "      <td></td>\n",
       "      <td>{}</td>\n",
       "      <td>{}</td>\n",
       "      <td>{'Accept': '*/*', 'Accept-Encoding': 'gzip, de...</td>\n",
       "      <td>34.168.24.183</td>\n",
       "      <td>https://httpbin.org/delay/10</td>\n",
       "    </tr>\n",
       "    <tr>\n",
       "      <th>8</th>\n",
       "      <td>{}</td>\n",
       "      <td></td>\n",
       "      <td>{}</td>\n",
       "      <td>{}</td>\n",
       "      <td>{'Accept': '*/*', 'Accept-Encoding': 'gzip, de...</td>\n",
       "      <td>34.168.24.183</td>\n",
       "      <td>https://httpbin.org/delay/10</td>\n",
       "    </tr>\n",
       "    <tr>\n",
       "      <th>9</th>\n",
       "      <td>{}</td>\n",
       "      <td></td>\n",
       "      <td>{}</td>\n",
       "      <td>{}</td>\n",
       "      <td>{'Accept': '*/*', 'Accept-Encoding': 'gzip, de...</td>\n",
       "      <td>34.168.24.183</td>\n",
       "      <td>https://httpbin.org/delay/10</td>\n",
       "    </tr>\n",
       "  </tbody>\n",
       "</table>\n",
       "</div>"
      ],
      "text/plain": [
       "  args data files form                                            headers  \\\n",
       "0   {}         {}   {}  {'Accept': '*/*', 'Accept-Encoding': 'gzip, de...   \n",
       "1   {}         {}   {}  {'Accept': '*/*', 'Accept-Encoding': 'gzip, de...   \n",
       "2   {}         {}   {}  {'Accept': '*/*', 'Accept-Encoding': 'gzip, de...   \n",
       "3   {}         {}   {}  {'Accept': '*/*', 'Accept-Encoding': 'gzip, de...   \n",
       "4   {}         {}   {}  {'Accept': '*/*', 'Accept-Encoding': 'gzip, de...   \n",
       "5   {}         {}   {}  {'Accept': '*/*', 'Accept-Encoding': 'gzip, de...   \n",
       "6   {}         {}   {}  {'Accept': '*/*', 'Accept-Encoding': 'gzip, de...   \n",
       "7   {}         {}   {}  {'Accept': '*/*', 'Accept-Encoding': 'gzip, de...   \n",
       "8   {}         {}   {}  {'Accept': '*/*', 'Accept-Encoding': 'gzip, de...   \n",
       "9   {}         {}   {}  {'Accept': '*/*', 'Accept-Encoding': 'gzip, de...   \n",
       "\n",
       "          origin                           url  \n",
       "0  34.168.24.183  https://httpbin.org/delay/10  \n",
       "1  34.168.24.183  https://httpbin.org/delay/10  \n",
       "2  34.168.24.183  https://httpbin.org/delay/10  \n",
       "3  34.168.24.183  https://httpbin.org/delay/10  \n",
       "4  34.168.24.183  https://httpbin.org/delay/10  \n",
       "5  34.168.24.183  https://httpbin.org/delay/10  \n",
       "6  34.168.24.183  https://httpbin.org/delay/10  \n",
       "7  34.168.24.183  https://httpbin.org/delay/10  \n",
       "8  34.168.24.183  https://httpbin.org/delay/10  \n",
       "9  34.168.24.183  https://httpbin.org/delay/10  "
      ]
     },
     "execution_count": 3,
     "metadata": {},
     "output_type": "execute_result"
    }
   ],
   "source": [
    "import pandas\n",
    "pandas.DataFrame(data_list)"
   ]
  },
  {
   "cell_type": "markdown",
   "metadata": {},
   "source": [
    "### Comparison 1: Scraping without multi-threading"
   ]
  },
  {
   "cell_type": "code",
   "execution_count": 4,
   "metadata": {},
   "outputs": [
    {
     "name": "stdout",
     "output_type": "stream",
     "text": [
      "[{'args': {}, 'data': '', 'files': {}, 'form': {}, 'headers': {'Accept': '*/*', 'Accept-Encoding': 'gzip, deflate, br', 'Host': 'httpbin.org', 'User-Agent': 'python-requests/2.31.0', 'X-Amzn-Trace-Id': 'Root=1-65f6ac22-381fba1d61cda913560a25cc'}, 'origin': '34.168.24.183', 'url': 'https://httpbin.org/delay/10'}, {'args': {}, 'data': '', 'files': {}, 'form': {}, 'headers': {'Accept': '*/*', 'Accept-Encoding': 'gzip, deflate, br', 'Host': 'httpbin.org', 'User-Agent': 'python-requests/2.31.0', 'X-Amzn-Trace-Id': 'Root=1-65f6ac2d-7fbf312b633797735c30964c'}, 'origin': '34.168.24.183', 'url': 'https://httpbin.org/delay/10'}, {'args': {}, 'data': '', 'files': {}, 'form': {}, 'headers': {'Accept': '*/*', 'Accept-Encoding': 'gzip, deflate, br', 'Host': 'httpbin.org', 'User-Agent': 'python-requests/2.31.0', 'X-Amzn-Trace-Id': 'Root=1-65f6ac37-41fd0d8465bd9bea2171f95d'}, 'origin': '34.168.24.183', 'url': 'https://httpbin.org/delay/10'}, {'args': {}, 'data': '', 'files': {}, 'form': {}, 'headers': {'Accept': '*/*', 'Accept-Encoding': 'gzip, deflate, br', 'Host': 'httpbin.org', 'User-Agent': 'python-requests/2.31.0', 'X-Amzn-Trace-Id': 'Root=1-65f6ac41-1caabc482054e3e6238528f4'}, 'origin': '34.168.24.183', 'url': 'https://httpbin.org/delay/10'}, {'args': {}, 'data': '', 'files': {}, 'form': {}, 'headers': {'Accept': '*/*', 'Accept-Encoding': 'gzip, deflate, br', 'Host': 'httpbin.org', 'User-Agent': 'python-requests/2.31.0', 'X-Amzn-Trace-Id': 'Root=1-65f6ac4b-7f1bd592479c13411d4fbf46'}, 'origin': '34.168.24.183', 'url': 'https://httpbin.org/delay/10'}, {'args': {}, 'data': '', 'files': {}, 'form': {}, 'headers': {'Accept': '*/*', 'Accept-Encoding': 'gzip, deflate, br', 'Host': 'httpbin.org', 'User-Agent': 'python-requests/2.31.0', 'X-Amzn-Trace-Id': 'Root=1-65f6ac56-46f90d787edf8cdb23a883c8'}, 'origin': '34.168.24.183', 'url': 'https://httpbin.org/delay/10'}, {'args': {}, 'data': '', 'files': {}, 'form': {}, 'headers': {'Accept': '*/*', 'Accept-Encoding': 'gzip, deflate, br', 'Host': 'httpbin.org', 'User-Agent': 'python-requests/2.31.0', 'X-Amzn-Trace-Id': 'Root=1-65f6ac60-381c9e5915267e8a2e3a58a7'}, 'origin': '34.168.24.183', 'url': 'https://httpbin.org/delay/10'}, {'args': {}, 'data': '', 'files': {}, 'form': {}, 'headers': {'Accept': '*/*', 'Accept-Encoding': 'gzip, deflate, br', 'Host': 'httpbin.org', 'User-Agent': 'python-requests/2.31.0', 'X-Amzn-Trace-Id': 'Root=1-65f6ac6a-1b7b82cb538972d16084ff60'}, 'origin': '34.168.24.183', 'url': 'https://httpbin.org/delay/10'}, {'args': {}, 'data': '', 'files': {}, 'form': {}, 'headers': {'Accept': '*/*', 'Accept-Encoding': 'gzip, deflate, br', 'Host': 'httpbin.org', 'User-Agent': 'python-requests/2.31.0', 'X-Amzn-Trace-Id': 'Root=1-65f6ac74-3a5f0f1828797507418266a6'}, 'origin': '34.168.24.183', 'url': 'https://httpbin.org/delay/10'}, {'args': {}, 'data': '', 'files': {}, 'form': {}, 'headers': {'Accept': '*/*', 'Accept-Encoding': 'gzip, deflate, br', 'Host': 'httpbin.org', 'User-Agent': 'python-requests/2.31.0', 'X-Amzn-Trace-Id': 'Root=1-65f6ac7e-483a44f7173cfdae162160a3'}, 'origin': '34.168.24.183', 'url': 'https://httpbin.org/delay/10'}]\n",
      "CPU times: user 60.9 ms, sys: 1.21 ms, total: 62.1 ms\n",
      "Wall time: 1min 41s\n"
     ]
    }
   ],
   "source": [
    "%%time\n",
    "import requests\n",
    "from tqdm import tqdm\n",
    "\n",
    "urls = [\"https://httpbin.org/delay/10\"] * 10\n",
    "\n",
    "session = requests.Session()\n",
    "\n",
    "def scrape(url):\n",
    "    response = session.get(url)\n",
    "    return response.json()\n",
    "\n",
    "data_list = []\n",
    "\n",
    "for url in urls:\n",
    "    data = scrape(url)\n",
    "    if isinstance(data, list):\n",
    "        data_list.extend(data)\n",
    "    else:\n",
    "        data_list.append(data)\n",
    "\n",
    "print(data_list)"
   ]
  },
  {
   "cell_type": "markdown",
   "metadata": {},
   "source": [
    "### Comparison 2: Scraping with less threads (e.g., 2 threads)"
   ]
  },
  {
   "cell_type": "code",
   "execution_count": 5,
   "metadata": {},
   "outputs": [
    {
     "name": "stdout",
     "output_type": "stream",
     "text": [
      "[{'args': {}, 'data': '', 'files': {}, 'form': {}, 'headers': {'Accept': '*/*', 'Accept-Encoding': 'gzip, deflate, br', 'Host': 'httpbin.org', 'User-Agent': 'python-requests/2.31.0', 'X-Amzn-Trace-Id': 'Root=1-65f6ac88-4f374748352957433fac5d30'}, 'origin': '34.168.24.183', 'url': 'https://httpbin.org/delay/10'}, {'args': {}, 'data': '', 'files': {}, 'form': {}, 'headers': {'Accept': '*/*', 'Accept-Encoding': 'gzip, deflate, br', 'Host': 'httpbin.org', 'User-Agent': 'python-requests/2.31.0', 'X-Amzn-Trace-Id': 'Root=1-65f6ac88-7844c93b5e7e96440c3dc66f'}, 'origin': '34.168.24.183', 'url': 'https://httpbin.org/delay/10'}, {'args': {}, 'data': '', 'files': {}, 'form': {}, 'headers': {'Accept': '*/*', 'Accept-Encoding': 'gzip, deflate, br', 'Host': 'httpbin.org', 'User-Agent': 'python-requests/2.31.0', 'X-Amzn-Trace-Id': 'Root=1-65f6ac92-43bde50b0c5899af5aeac7ef'}, 'origin': '34.168.24.183', 'url': 'https://httpbin.org/delay/10'}, {'args': {}, 'data': '', 'files': {}, 'form': {}, 'headers': {'Accept': '*/*', 'Accept-Encoding': 'gzip, deflate, br', 'Host': 'httpbin.org', 'User-Agent': 'python-requests/2.31.0', 'X-Amzn-Trace-Id': 'Root=1-65f6ac92-08c7a30a4f59b3a772e7e82d'}, 'origin': '34.168.24.183', 'url': 'https://httpbin.org/delay/10'}, {'args': {}, 'data': '', 'files': {}, 'form': {}, 'headers': {'Accept': '*/*', 'Accept-Encoding': 'gzip, deflate, br', 'Host': 'httpbin.org', 'User-Agent': 'python-requests/2.31.0', 'X-Amzn-Trace-Id': 'Root=1-65f6ac9c-1debddcb0527ce5258c80ce4'}, 'origin': '34.168.24.183', 'url': 'https://httpbin.org/delay/10'}, {'args': {}, 'data': '', 'files': {}, 'form': {}, 'headers': {'Accept': '*/*', 'Accept-Encoding': 'gzip, deflate, br', 'Host': 'httpbin.org', 'User-Agent': 'python-requests/2.31.0', 'X-Amzn-Trace-Id': 'Root=1-65f6ac9d-1925b97423819a554a040497'}, 'origin': '34.168.24.183', 'url': 'https://httpbin.org/delay/10'}, {'args': {}, 'data': '', 'files': {}, 'form': {}, 'headers': {'Accept': '*/*', 'Accept-Encoding': 'gzip, deflate, br', 'Host': 'httpbin.org', 'User-Agent': 'python-requests/2.31.0', 'X-Amzn-Trace-Id': 'Root=1-65f6aca6-573a16e41df323924f0805f3'}, 'origin': '34.168.24.183', 'url': 'https://httpbin.org/delay/10'}, {'args': {}, 'data': '', 'files': {}, 'form': {}, 'headers': {'Accept': '*/*', 'Accept-Encoding': 'gzip, deflate, br', 'Host': 'httpbin.org', 'User-Agent': 'python-requests/2.31.0', 'X-Amzn-Trace-Id': 'Root=1-65f6aca7-2530b0fd7d96054259cd95de'}, 'origin': '34.168.24.183', 'url': 'https://httpbin.org/delay/10'}, {'args': {}, 'data': '', 'files': {}, 'form': {}, 'headers': {'Accept': '*/*', 'Accept-Encoding': 'gzip, deflate, br', 'Host': 'httpbin.org', 'User-Agent': 'python-requests/2.31.0', 'X-Amzn-Trace-Id': 'Root=1-65f6acb1-09cb615b0e0ad80372452442'}, 'origin': '34.168.24.183', 'url': 'https://httpbin.org/delay/10'}, {'args': {}, 'data': '', 'files': {}, 'form': {}, 'headers': {'Accept': '*/*', 'Accept-Encoding': 'gzip, deflate, br', 'Host': 'httpbin.org', 'User-Agent': 'python-requests/2.31.0', 'X-Amzn-Trace-Id': 'Root=1-65f6acb1-4421167a44e64f0c3e94d7c3'}, 'origin': '34.168.24.183', 'url': 'https://httpbin.org/delay/10'}]\n",
      "CPU times: user 146 ms, sys: 4.99 ms, total: 151 ms\n",
      "Wall time: 51.8 s\n"
     ]
    }
   ],
   "source": [
    "%%time\n",
    "\n",
    "import concurrent.futures\n",
    "import requests\n",
    "\n",
    "urls = [\"https://httpbin.org/delay/10\"] * 10\n",
    "session = requests.Session()\n",
    "\n",
    "def scrape(url):\n",
    "    response = session.get(url)\n",
    "    return response.json()\n",
    "\n",
    "# scrape data on 2 threads only\n",
    "with concurrent.futures.ThreadPoolExecutor(max_workers=2) as ex:\n",
    "    results = {ex.submit(scrape, url): url for url in urls}\n",
    "    \n",
    "    data_list = []\n",
    "\n",
    "    for result in concurrent.futures.as_completed(results):    \n",
    "        data = result.result()\n",
    "\n",
    "        if isinstance(data, list):\n",
    "            data_list.extend(data)\n",
    "        else:\n",
    "            data_list.append(data)\n",
    "    print(data_list)"
   ]
  },
  {
   "cell_type": "markdown",
   "metadata": {},
   "source": [
    "## Conclusion\n",
    "\n",
    "Using 10 threads significantly reduces the wall time (around 12.7s) compared to the non-multithreading approach (around 1 min 42s). However, using only 2 threads (51.2s) also shows a notable improvement over the non-multithreading method, but it's not as efficient as using 10 threads. Therefore, the number of threads plays a crucial role in the speed of the web scraping process, and in this case, more threads lead to faster execution.\n",
    "\n",
    "However, it's essential to note that multi-threading may not always provide a significant performance improvement for CPU-bound tasks due to the Global Interpreter Lock (GIL) in CPython. In such cases, you might consider using multiprocessing or asynchronous approaches instead. Additionally, be aware of the website's terms of service and ensure that your scraping activities comply with them."
   ]
  },
  {
   "cell_type": "markdown",
   "metadata": {},
   "source": [
    "## Computing environment"
   ]
  },
  {
   "cell_type": "code",
   "execution_count": 6,
   "metadata": {},
   "outputs": [
    {
     "name": "stdout",
     "output_type": "stream",
     "text": [
      "Last updated: 2024-03-17T08:41:32.230769+00:00\n",
      "\n",
      "Python implementation: CPython\n",
      "Python version       : 3.10.13\n",
      "IPython version      : 8.22.2\n",
      "\n",
      "Compiler    : GCC 11.4.0\n",
      "OS          : Linux\n",
      "Release     : 6.1.75-060175-generic\n",
      "Machine     : x86_64\n",
      "Processor   : x86_64\n",
      "CPU cores   : 16\n",
      "Architecture: 64bit\n",
      "\n",
      "pandas  : 2.2.1\n",
      "requests: 2.31.0\n",
      "\n",
      "Last updated: Sun Mar 17 2024 08:41:32UTC\n",
      "\n"
     ]
    }
   ],
   "source": [
    "%load_ext watermark\n",
    "\n",
    "%watermark\n",
    "\n",
    "# print out pypi packages used\n",
    "%watermark --iversions\n",
    "\n",
    "# date\n",
    "%watermark -u -n -t -z"
   ]
  }
 ],
 "metadata": {
  "kernelspec": {
   "display_name": "py3.10",
   "language": "python",
   "name": "python3"
  },
  "language_info": {
   "codemirror_mode": {
    "name": "ipython",
    "version": 3
   },
   "file_extension": ".py",
   "mimetype": "text/x-python",
   "name": "python",
   "nbconvert_exporter": "python",
   "pygments_lexer": "ipython3",
   "version": "3.10.13"
  }
 },
 "nbformat": 4,
 "nbformat_minor": 2
}
