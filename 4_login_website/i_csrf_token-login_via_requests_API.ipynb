{
 "cells": [
  {
   "cell_type": "markdown",
   "metadata": {},
   "source": [
    "## Handling CSRF Token - Login website with AJAX API and Python library requests\n",
    "\n",
    "Created by [tanyongsheng.net](https://tanyongsheng.net)"
   ]
  },
  {
   "cell_type": "markdown",
   "metadata": {},
   "source": [
    "---\n",
    "\n",
    "### Introduction\n",
    "\n",
    "Before I start scraping, I always check if I can do it anonymously (without logging in) to keep my identity hidden from web servers. If possible, I'll skip logging in and directly get the AJAX API, as shown in Part 2. But if authorization is required to access the data, this section comes into play.\n",
    "\n",
    "### Target Website: \n",
    "[quotes.toscrape.com](https://quotes.toscrape.com/login)\n",
    "\n",
    "\n",
    "<img src=\"../assets/static/quotes-toscrape-login-page.png\" width=500px alt=\"quotes.toscrape.com Login page\">"
   ]
  },
  {
   "cell_type": "markdown",
   "metadata": {},
   "source": [
    "#### Step 1: Install python libraries"
   ]
  },
  {
   "cell_type": "code",
   "execution_count": 1,
   "metadata": {},
   "outputs": [
    {
     "name": "stdout",
     "output_type": "stream",
     "text": [
      "Requirement already satisfied: requests in c:\\users\\yongsheng.tan\\appdata\\local\\miniconda3\\envs\\py3.10\\lib\\site-packages (2.31.0)\n",
      "Requirement already satisfied: charset-normalizer<4,>=2 in c:\\users\\yongsheng.tan\\appdata\\local\\miniconda3\\envs\\py3.10\\lib\\site-packages (from requests) (3.3.2)\n",
      "Requirement already satisfied: idna<4,>=2.5 in c:\\users\\yongsheng.tan\\appdata\\local\\miniconda3\\envs\\py3.10\\lib\\site-packages (from requests) (3.6)\n",
      "Requirement already satisfied: urllib3<3,>=1.21.1 in c:\\users\\yongsheng.tan\\appdata\\local\\miniconda3\\envs\\py3.10\\lib\\site-packages (from requests) (2.0.7)\n",
      "Requirement already satisfied: certifi>=2017.4.17 in c:\\users\\yongsheng.tan\\appdata\\local\\miniconda3\\envs\\py3.10\\lib\\site-packages (from requests) (2024.2.2)\n",
      "Note: you may need to restart the kernel to use updated packages.\n",
      "Requirement already satisfied: lxml in c:\\users\\yongsheng.tan\\appdata\\local\\miniconda3\\envs\\py3.10\\lib\\site-packages (5.1.0)Note: you may need to restart the kernel to use updated packages.\n",
      "\n",
      "Requirement already satisfied: watermark in c:\\users\\yongsheng.tan\\appdata\\local\\miniconda3\\envs\\py3.10\\lib\\site-packages (2.4.3)\n",
      "Requirement already satisfied: ipython>=6.0 in c:\\users\\yongsheng.tan\\appdata\\roaming\\python\\python310\\site-packages (from watermark) (8.22.1)\n",
      "Requirement already satisfied: importlib-metadata>=1.4 in c:\\users\\yongsheng.tan\\appdata\\local\\miniconda3\\envs\\py3.10\\lib\\site-packages (from watermark) (7.0.1)\n",
      "Requirement already satisfied: setuptools in c:\\users\\yongsheng.tan\\appdata\\local\\miniconda3\\envs\\py3.10\\lib\\site-packages (from watermark) (69.1.1)\n",
      "Requirement already satisfied: zipp>=0.5 in c:\\users\\yongsheng.tan\\appdata\\local\\miniconda3\\envs\\py3.10\\lib\\site-packages (from importlib-metadata>=1.4->watermark) (3.17.0)\n",
      "Requirement already satisfied: decorator in c:\\users\\yongsheng.tan\\appdata\\roaming\\python\\python310\\site-packages (from ipython>=6.0->watermark) (5.1.1)\n",
      "Requirement already satisfied: jedi>=0.16 in c:\\users\\yongsheng.tan\\appdata\\roaming\\python\\python310\\site-packages (from ipython>=6.0->watermark) (0.19.1)\n",
      "Requirement already satisfied: matplotlib-inline in c:\\users\\yongsheng.tan\\appdata\\roaming\\python\\python310\\site-packages (from ipython>=6.0->watermark) (0.1.6)\n",
      "Requirement already satisfied: prompt-toolkit<3.1.0,>=3.0.41 in c:\\users\\yongsheng.tan\\appdata\\roaming\\python\\python310\\site-packages (from ipython>=6.0->watermark) (3.0.43)\n",
      "Requirement already satisfied: pygments>=2.4.0 in c:\\users\\yongsheng.tan\\appdata\\roaming\\python\\python310\\site-packages (from ipython>=6.0->watermark) (2.17.2)\n",
      "Requirement already satisfied: stack-data in c:\\users\\yongsheng.tan\\appdata\\roaming\\python\\python310\\site-packages (from ipython>=6.0->watermark) (0.6.3)\n",
      "Requirement already satisfied: traitlets>=5.13.0 in c:\\users\\yongsheng.tan\\appdata\\roaming\\python\\python310\\site-packages (from ipython>=6.0->watermark) (5.14.1)\n",
      "Requirement already satisfied: exceptiongroup in c:\\users\\yongsheng.tan\\appdata\\roaming\\python\\python310\\site-packages (from ipython>=6.0->watermark) (1.2.0)\n",
      "Requirement already satisfied: colorama in c:\\users\\yongsheng.tan\\appdata\\roaming\\python\\python310\\site-packages (from ipython>=6.0->watermark) (0.4.6)\n",
      "Requirement already satisfied: parso<0.9.0,>=0.8.3 in c:\\users\\yongsheng.tan\\appdata\\roaming\\python\\python310\\site-packages (from jedi>=0.16->ipython>=6.0->watermark) (0.8.3)\n",
      "Requirement already satisfied: wcwidth in c:\\users\\yongsheng.tan\\appdata\\roaming\\python\\python310\\site-packages (from prompt-toolkit<3.1.0,>=3.0.41->ipython>=6.0->watermark) (0.2.13)\n",
      "Requirement already satisfied: executing>=1.2.0 in c:\\users\\yongsheng.tan\\appdata\\roaming\\python\\python310\\site-packages (from stack-data->ipython>=6.0->watermark) (2.0.1)\n",
      "Requirement already satisfied: asttokens>=2.1.0 in c:\\users\\yongsheng.tan\\appdata\\roaming\\python\\python310\\site-packages (from stack-data->ipython>=6.0->watermark) (2.4.1)\n",
      "Requirement already satisfied: pure-eval in c:\\users\\yongsheng.tan\\appdata\\roaming\\python\\python310\\site-packages (from stack-data->ipython>=6.0->watermark) (0.2.2)\n",
      "Requirement already satisfied: six>=1.12.0 in c:\\users\\yongsheng.tan\\appdata\\roaming\\python\\python310\\site-packages (from asttokens>=2.1.0->stack-data->ipython>=6.0->watermark) (1.16.0)\n",
      "Note: you may need to restart the kernel to use updated packages.\n"
     ]
    }
   ],
   "source": [
    "%pip install requests\n",
    "%pip install lxml\n",
    "# to inspect what python package imported in this jupyter notebook\n",
    "%pip install watermark"
   ]
  },
  {
   "cell_type": "code",
   "execution_count": 2,
   "metadata": {},
   "outputs": [],
   "source": [
    "import requests\n",
    "from lxml import html"
   ]
  },
  {
   "cell_type": "markdown",
   "metadata": {},
   "source": [
    "#### Step 2: Login to the website via AJAX API with Python libary requests"
   ]
  },
  {
   "cell_type": "code",
   "execution_count": 3,
   "metadata": {},
   "outputs": [
    {
     "name": "stdout",
     "output_type": "stream",
     "text": [
      "CSRF token:  XbLzdqJNSaHsQpVRYoWkKZvxuFygirjhMmlPeOBtUTcGnAECIDfw\n"
     ]
    }
   ],
   "source": [
    "login_page_url = \"https://quotes.toscrape.com/login\"\n",
    "\n",
    "# get CSRF token\n",
    "session = requests.Session()\n",
    "response = session.request('GET', login_page_url)\n",
    "webpage_with_CRSF_token = response.content\n",
    "\n",
    "tree = html.fromstring(webpage_with_CRSF_token)\n",
    "csrf_token = tree.xpath(\"//input[@name='csrf_token']/@value\")[0]\n",
    "print(\"CSRF token: \", csrf_token)\n"
   ]
  },
  {
   "cell_type": "code",
   "execution_count": 4,
   "metadata": {},
   "outputs": [
    {
     "data": {
      "text/plain": [
       "200"
      ]
     },
     "execution_count": 4,
     "metadata": {},
     "output_type": "execute_result"
    }
   ],
   "source": [
    "payload = {\n",
    "    \"csrf_token\": csrf_token,\n",
    "    \"username\": \"demo\",\n",
    "    \"password\": \"demo\"\n",
    "}\n",
    "\n",
    "headers = {\n",
    "  'content-type': 'application/x-www-form-urlencoded',\n",
    "  'user-agent': 'Mozilla/5.0 (Windows NT 10.0; Win64; x64) AppleWebKit/537.36 (KHTML, like Gecko) Chrome/121.0.0.0 Safari/537.36'\n",
    "}\n",
    "\n",
    "# send POST request to login page\n",
    "response = session.request(\"POST\", login_page_url, headers=headers, data=payload)\n",
    "response.status_code"
   ]
  },
  {
   "cell_type": "markdown",
   "metadata": {},
   "source": [
    "## Computing environment"
   ]
  },
  {
   "cell_type": "code",
   "execution_count": 5,
   "metadata": {},
   "outputs": [
    {
     "name": "stdout",
     "output_type": "stream",
     "text": [
      "Last updated: 2024-03-03T10:55:58.214936+08:00\n",
      "\n",
      "Python implementation: CPython\n",
      "Python version       : 3.10.12\n",
      "IPython version      : 8.22.1\n",
      "\n",
      "Compiler    : MSC v.1916 64 bit (AMD64)\n",
      "OS          : Windows\n",
      "Release     : 10\n",
      "Machine     : AMD64\n",
      "Processor   : Intel64 Family 6 Model 142 Stepping 12, GenuineIntel\n",
      "CPU cores   : 8\n",
      "Architecture: 64bit\n",
      "\n",
      "requests: 2.31.0\n",
      "lxml    : 5.1.0\n",
      "\n",
      "Last updated: Sun Mar 03 2024 10:55:58Malay Peninsula Standard Time\n",
      "\n"
     ]
    }
   ],
   "source": [
    "%load_ext watermark\n",
    "\n",
    "%watermark\n",
    "\n",
    "# print out pypi packages used\n",
    "%watermark --iversions\n",
    "\n",
    "# date\n",
    "%watermark -u -n -t -z"
   ]
  }
 ],
 "metadata": {
  "kernelspec": {
   "display_name": "py3.10",
   "language": "python",
   "name": "python3"
  },
  "language_info": {
   "codemirror_mode": {
    "name": "ipython",
    "version": 3
   },
   "file_extension": ".py",
   "mimetype": "text/x-python",
   "name": "python",
   "nbconvert_exporter": "python",
   "pygments_lexer": "ipython3",
   "version": "3.10.12"
  }
 },
 "nbformat": 4,
 "nbformat_minor": 2
}
