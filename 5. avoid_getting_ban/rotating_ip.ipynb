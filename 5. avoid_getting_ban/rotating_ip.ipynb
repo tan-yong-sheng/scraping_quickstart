{
 "cells": [
  {
   "cell_type": "markdown",
   "metadata": {},
   "source": [
    "## Rotating IP address when scraping"
   ]
  },
  {
   "cell_type": "markdown",
   "metadata": {},
   "source": [
    "Reference: \n",
    "1. Rotating Source IPs (Part 1) - AWS API Gateway https://bigb0sss.github.io/posts/redteam-rotate-ip-aws-gateway/\n",
    "2. IP Rotation with Python https://sgino209.medium.com/ip-rotation-with-python-c8033a079f4d\n",
    "3. requests-ip-rotator: https://github.com/Ge0rg3/requests-ip-rotator"
   ]
  },
  {
   "cell_type": "code",
   "execution_count": 1,
   "metadata": {},
   "outputs": [
    {
     "name": "stdout",
     "output_type": "stream",
     "text": [
      "Requirement already satisfied: requests in c:\\users\\yongsheng.tan\\appdata\\local\\miniconda3\\envs\\py3.10\\lib\\site-packages (2.31.0)\n",
      "Requirement already satisfied: charset-normalizer<4,>=2 in c:\\users\\yongsheng.tan\\appdata\\local\\miniconda3\\envs\\py3.10\\lib\\site-packages (from requests) (3.3.2)\n",
      "Requirement already satisfied: idna<4,>=2.5 in c:\\users\\yongsheng.tan\\appdata\\local\\miniconda3\\envs\\py3.10\\lib\\site-packages (from requests) (3.6)\n",
      "Requirement already satisfied: urllib3<3,>=1.21.1 in c:\\users\\yongsheng.tan\\appdata\\local\\miniconda3\\envs\\py3.10\\lib\\site-packages (from requests) (2.0.7)\n",
      "Requirement already satisfied: certifi>=2017.4.17 in c:\\users\\yongsheng.tan\\appdata\\local\\miniconda3\\envs\\py3.10\\lib\\site-packages (from requests) (2024.2.2)\n",
      "Note: you may need to restart the kernel to use updated packages.\n",
      "Requirement already satisfied: requests-ip-rotator in c:\\users\\yongsheng.tan\\appdata\\local\\miniconda3\\envs\\py3.10\\lib\\site-packages (1.0.14)\n",
      "Requirement already satisfied: requests in c:\\users\\yongsheng.tan\\appdata\\local\\miniconda3\\envs\\py3.10\\lib\\site-packages (from requests-ip-rotator) (2.31.0)\n",
      "Requirement already satisfied: boto3 in c:\\users\\yongsheng.tan\\appdata\\local\\miniconda3\\envs\\py3.10\\lib\\site-packages (from requests-ip-rotator) (1.34.49)\n",
      "Requirement already satisfied: botocore<1.35.0,>=1.34.49 in c:\\users\\yongsheng.tan\\appdata\\local\\miniconda3\\envs\\py3.10\\lib\\site-packages (from boto3->requests-ip-rotator) (1.34.49)\n",
      "Requirement already satisfied: jmespath<2.0.0,>=0.7.1 in c:\\users\\yongsheng.tan\\appdata\\local\\miniconda3\\envs\\py3.10\\lib\\site-packages (from boto3->requests-ip-rotator) (1.0.1)\n",
      "Requirement already satisfied: s3transfer<0.11.0,>=0.10.0 in c:\\users\\yongsheng.tan\\appdata\\local\\miniconda3\\envs\\py3.10\\lib\\site-packages (from boto3->requests-ip-rotator) (0.10.0)\n",
      "Requirement already satisfied: charset-normalizer<4,>=2 in c:\\users\\yongsheng.tan\\appdata\\local\\miniconda3\\envs\\py3.10\\lib\\site-packages (from requests->requests-ip-rotator) (3.3.2)\n",
      "Requirement already satisfied: idna<4,>=2.5 in c:\\users\\yongsheng.tan\\appdata\\local\\miniconda3\\envs\\py3.10\\lib\\site-packages (from requests->requests-ip-rotator) (3.6)\n",
      "Requirement already satisfied: urllib3<3,>=1.21.1 in c:\\users\\yongsheng.tan\\appdata\\local\\miniconda3\\envs\\py3.10\\lib\\site-packages (from requests->requests-ip-rotator) (2.0.7)\n",
      "Requirement already satisfied: certifi>=2017.4.17 in c:\\users\\yongsheng.tan\\appdata\\local\\miniconda3\\envs\\py3.10\\lib\\site-packages (from requests->requests-ip-rotator) (2024.2.2)\n",
      "Requirement already satisfied: python-dateutil<3.0.0,>=2.1 in c:\\users\\yongsheng.tan\\appdata\\local\\miniconda3\\envs\\py3.10\\lib\\site-packages (from botocore<1.35.0,>=1.34.49->boto3->requests-ip-rotator) (2.8.2)\n",
      "Requirement already satisfied: six>=1.5 in c:\\users\\yongsheng.tan\\appdata\\local\\miniconda3\\envs\\py3.10\\lib\\site-packages (from python-dateutil<3.0.0,>=2.1->botocore<1.35.0,>=1.34.49->boto3->requests-ip-rotator) (1.16.0)\n",
      "Note: you may need to restart the kernel to use updated packages.\n",
      "Requirement already satisfied: python-dotenv in c:\\users\\yongsheng.tan\\appdata\\local\\miniconda3\\envs\\py3.10\\lib\\site-packages (1.0.1)\n",
      "Note: you may need to restart the kernel to use updated packages.\n"
     ]
    }
   ],
   "source": [
    "%pip install requests\n",
    "%pip install requests-ip-rotator\n",
    "%pip install python-dotenv"
   ]
  },
  {
   "cell_type": "code",
   "execution_count": 3,
   "metadata": {},
   "outputs": [],
   "source": [
    "import os\n",
    "from dotenv import load_dotenv\n",
    "\n",
    "_ = load_dotenv()"
   ]
  },
  {
   "cell_type": "code",
   "execution_count": 7,
   "metadata": {},
   "outputs": [
    {
     "name": "stdout",
     "output_type": "stream",
     "text": [
      "Starting API gateway in 1 regions.\n",
      "Using 1 endpoints with name 'https://www.shareinvestor.com - IP Rotate API' (1 new).\n",
      "Rotated IP succeed\n",
      "Deleting gateway for site 'https://www.shareinvestor.com'.\n",
      "Deleted 1 endpoints with for site 'https://www.shareinvestor.com'.\n"
     ]
    },
    {
     "data": {
      "text/plain": [
       "['4jff29jpt5']"
      ]
     },
     "execution_count": 7,
     "metadata": {},
     "output_type": "execute_result"
    }
   ],
   "source": [
    "import requests\n",
    "from urllib.parse import urlparse\n",
    "from requests_ip_rotator import ApiGateway # , EXTRA_REGIONS\n",
    "\n",
    "aws_access_key_id = os.environ[\"AWS_ACCESS_KEY_ID\"]\n",
    "aws_secret_access_key = os.environ[\"AWS_SECRET_ACCESS_KEY\"]\n",
    "\n",
    "src = \"https://www.shareinvestor.com\"\n",
    "\n",
    "src_parsed = urlparse(src)\n",
    "src_nopath = \"%s://%s\" % (src_parsed.scheme, src_parsed.netloc)\n",
    "gateway1 = ApiGateway(src_nopath,                                           \n",
    "                      regions=[\"ap-southeast-1\"], # EXTRA_REGIONS                                        \n",
    "                      access_key_id=f\"{aws_access_key_id}\",                                             \n",
    "                      access_key_secret=f\"{aws_secret_access_key}\")                       \n",
    "gateway1.start(force=True)\n",
    "\n",
    "session1 = requests.Session()\n",
    "session1.mount(src_nopath, gateway1)\n",
    "\n",
    "try:\n",
    "  r = session1.get(src) #, stream=True)\n",
    "  file_request_succeed = r.ok\n",
    "  if file_request_succeed:\n",
    "    print('Rotated IP succeed')\n",
    "except Exception as e:\n",
    "  print('Rotated IP failed (%s)' % str(e))\n",
    "  #if proxy_rotation_mode == 'AWS':                          \n",
    "gateway1.shutdown()"
   ]
  }
 ],
 "metadata": {
  "kernelspec": {
   "display_name": "py3.10",
   "language": "python",
   "name": "python3"
  },
  "language_info": {
   "codemirror_mode": {
    "name": "ipython",
    "version": 3
   },
   "file_extension": ".py",
   "mimetype": "text/x-python",
   "name": "python",
   "nbconvert_exporter": "python",
   "pygments_lexer": "ipython3",
   "version": "3.10.12"
  }
 },
 "nbformat": 4,
 "nbformat_minor": 2
}
