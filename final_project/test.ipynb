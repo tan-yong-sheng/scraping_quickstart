{
 "cells": [
  {
   "cell_type": "markdown",
   "metadata": {},
   "source": [
    "## Case study: Scrape website with heavy anti-bot detection"
   ]
  },
  {
   "cell_type": "markdown",
   "metadata": {},
   "source": [
    "### Introduction\n",
    "\n",
    "\n",
    "### Target website\n",
    "[leboncoin.fr](https://www.leboncoin.fr)\n",
    "\n",
    "### Reference: \n",
    "1. How to Use a Proxy with Selenium in Python (2024): https://www.zenrows.com/blog/selenium-proxy\n",
    "\n",
    "(Remark: this is a very strict website)"
   ]
  },
  {
   "cell_type": "markdown",
   "metadata": {},
   "source": [
    "### Step 1: Install libraries"
   ]
  },
  {
   "cell_type": "code",
   "execution_count": 1,
   "metadata": {},
   "outputs": [
    {
     "name": "stdout",
     "output_type": "stream",
     "text": [
      "Requirement already satisfied: selenium in c:\\users\\yongsheng.tan\\appdata\\local\\miniconda3\\envs\\py3.10\\lib\\site-packages (4.18.1)\n",
      "Requirement already satisfied: urllib3<3,>=1.26 in c:\\users\\yongsheng.tan\\appdata\\local\\miniconda3\\envs\\py3.10\\lib\\site-packages (from urllib3[socks]<3,>=1.26->selenium) (2.0.7)\n",
      "Requirement already satisfied: trio~=0.17 in c:\\users\\yongsheng.tan\\appdata\\local\\miniconda3\\envs\\py3.10\\lib\\site-packages (from selenium) (0.24.0)\n",
      "Requirement already satisfied: trio-websocket~=0.9 in c:\\users\\yongsheng.tan\\appdata\\local\\miniconda3\\envs\\py3.10\\lib\\site-packages (from selenium) (0.11.1)\n",
      "Requirement already satisfied: certifi>=2021.10.8 in c:\\users\\yongsheng.tan\\appdata\\local\\miniconda3\\envs\\py3.10\\lib\\site-packages (from selenium) (2024.2.2)\n",
      "Requirement already satisfied: typing_extensions>=4.9.0 in c:\\users\\yongsheng.tan\\appdata\\local\\miniconda3\\envs\\py3.10\\lib\\site-packages (from selenium) (4.10.0)\n",
      "Requirement already satisfied: attrs>=20.1.0 in c:\\users\\yongsheng.tan\\appdata\\local\\miniconda3\\envs\\py3.10\\lib\\site-packages (from trio~=0.17->selenium) (23.2.0)\n",
      "Requirement already satisfied: sortedcontainers in c:\\users\\yongsheng.tan\\appdata\\local\\miniconda3\\envs\\py3.10\\lib\\site-packages (from trio~=0.17->selenium) (2.4.0)\n",
      "Requirement already satisfied: idna in c:\\users\\yongsheng.tan\\appdata\\local\\miniconda3\\envs\\py3.10\\lib\\site-packages (from trio~=0.17->selenium) (3.6)\n",
      "Requirement already satisfied: outcome in c:\\users\\yongsheng.tan\\appdata\\local\\miniconda3\\envs\\py3.10\\lib\\site-packages (from trio~=0.17->selenium) (1.3.0.post0)\n",
      "Requirement already satisfied: sniffio>=1.3.0 in c:\\users\\yongsheng.tan\\appdata\\local\\miniconda3\\envs\\py3.10\\lib\\site-packages (from trio~=0.17->selenium) (1.3.1)\n",
      "Requirement already satisfied: cffi>=1.14 in c:\\users\\yongsheng.tan\\appdata\\local\\miniconda3\\envs\\py3.10\\lib\\site-packages (from trio~=0.17->selenium) (1.16.0)\n",
      "Requirement already satisfied: exceptiongroup in c:\\users\\yongsheng.tan\\appdata\\roaming\\python\\python310\\site-packages (from trio~=0.17->selenium) (1.2.0)\n",
      "Requirement already satisfied: wsproto>=0.14 in c:\\users\\yongsheng.tan\\appdata\\local\\miniconda3\\envs\\py3.10\\lib\\site-packages (from trio-websocket~=0.9->selenium) (1.2.0)\n",
      "Requirement already satisfied: pysocks!=1.5.7,<2.0,>=1.5.6 in c:\\users\\yongsheng.tan\\appdata\\local\\miniconda3\\envs\\py3.10\\lib\\site-packages (from urllib3[socks]<3,>=1.26->selenium) (1.7.1)\n",
      "Requirement already satisfied: pycparser in c:\\users\\yongsheng.tan\\appdata\\local\\miniconda3\\envs\\py3.10\\lib\\site-packages (from cffi>=1.14->trio~=0.17->selenium) (2.21)\n",
      "Requirement already satisfied: h11<1,>=0.9.0 in c:\\users\\yongsheng.tan\\appdata\\local\\miniconda3\\envs\\py3.10\\lib\\site-packages (from wsproto>=0.14->trio-websocket~=0.9->selenium) (0.14.0)\n",
      "Note: you may need to restart the kernel to use updated packages.\n",
      "Requirement already satisfied: selenium-wire in c:\\users\\yongsheng.tan\\appdata\\local\\miniconda3\\envs\\py3.10\\lib\\site-packages (5.1.0)Note: you may need to restart the kernel to use updated packages.\n",
      "\n",
      "Requirement already satisfied: blinker>=1.4 in c:\\users\\yongsheng.tan\\appdata\\local\\miniconda3\\envs\\py3.10\\lib\\site-packages (from selenium-wire) (1.7.0)\n",
      "Requirement already satisfied: brotli>=1.0.9 in c:\\users\\yongsheng.tan\\appdata\\local\\miniconda3\\envs\\py3.10\\lib\\site-packages (from selenium-wire) (1.1.0)\n",
      "Requirement already satisfied: certifi>=2019.9.11 in c:\\users\\yongsheng.tan\\appdata\\local\\miniconda3\\envs\\py3.10\\lib\\site-packages (from selenium-wire) (2024.2.2)\n",
      "Requirement already satisfied: kaitaistruct>=0.7 in c:\\users\\yongsheng.tan\\appdata\\local\\miniconda3\\envs\\py3.10\\lib\\site-packages (from selenium-wire) (0.10)\n",
      "Requirement already satisfied: pyasn1>=0.3.1 in c:\\users\\yongsheng.tan\\appdata\\local\\miniconda3\\envs\\py3.10\\lib\\site-packages (from selenium-wire) (0.5.1)\n",
      "Requirement already satisfied: pyOpenSSL>=22.0.0 in c:\\users\\yongsheng.tan\\appdata\\local\\miniconda3\\envs\\py3.10\\lib\\site-packages (from selenium-wire) (24.0.0)\n",
      "Requirement already satisfied: pyparsing>=2.4.2 in c:\\users\\yongsheng.tan\\appdata\\local\\miniconda3\\envs\\py3.10\\lib\\site-packages (from selenium-wire) (3.1.1)\n",
      "Requirement already satisfied: pysocks>=1.7.1 in c:\\users\\yongsheng.tan\\appdata\\local\\miniconda3\\envs\\py3.10\\lib\\site-packages (from selenium-wire) (1.7.1)\n",
      "Requirement already satisfied: selenium>=4.0.0 in c:\\users\\yongsheng.tan\\appdata\\local\\miniconda3\\envs\\py3.10\\lib\\site-packages (from selenium-wire) (4.18.1)\n",
      "Requirement already satisfied: wsproto>=0.14 in c:\\users\\yongsheng.tan\\appdata\\local\\miniconda3\\envs\\py3.10\\lib\\site-packages (from selenium-wire) (1.2.0)\n",
      "Requirement already satisfied: zstandard>=0.14.1 in c:\\users\\yongsheng.tan\\appdata\\local\\miniconda3\\envs\\py3.10\\lib\\site-packages (from selenium-wire) (0.22.0)\n",
      "Requirement already satisfied: h2>=4.0 in c:\\users\\yongsheng.tan\\appdata\\local\\miniconda3\\envs\\py3.10\\lib\\site-packages (from selenium-wire) (4.1.0)\n",
      "Requirement already satisfied: hyperframe>=6.0 in c:\\users\\yongsheng.tan\\appdata\\local\\miniconda3\\envs\\py3.10\\lib\\site-packages (from selenium-wire) (6.0.1)\n",
      "Requirement already satisfied: pydivert>=2.0.3 in c:\\users\\yongsheng.tan\\appdata\\local\\miniconda3\\envs\\py3.10\\lib\\site-packages (from selenium-wire) (2.1.0)\n",
      "Requirement already satisfied: hpack<5,>=4.0 in c:\\users\\yongsheng.tan\\appdata\\local\\miniconda3\\envs\\py3.10\\lib\\site-packages (from h2>=4.0->selenium-wire) (4.0.0)\n",
      "Requirement already satisfied: cryptography<43,>=41.0.5 in c:\\users\\yongsheng.tan\\appdata\\local\\miniconda3\\envs\\py3.10\\lib\\site-packages (from pyOpenSSL>=22.0.0->selenium-wire) (42.0.5)\n",
      "Requirement already satisfied: urllib3<3,>=1.26 in c:\\users\\yongsheng.tan\\appdata\\local\\miniconda3\\envs\\py3.10\\lib\\site-packages (from urllib3[socks]<3,>=1.26->selenium>=4.0.0->selenium-wire) (2.0.7)\n",
      "Requirement already satisfied: trio~=0.17 in c:\\users\\yongsheng.tan\\appdata\\local\\miniconda3\\envs\\py3.10\\lib\\site-packages (from selenium>=4.0.0->selenium-wire) (0.24.0)\n",
      "Requirement already satisfied: trio-websocket~=0.9 in c:\\users\\yongsheng.tan\\appdata\\local\\miniconda3\\envs\\py3.10\\lib\\site-packages (from selenium>=4.0.0->selenium-wire) (0.11.1)\n",
      "Requirement already satisfied: typing_extensions>=4.9.0 in c:\\users\\yongsheng.tan\\appdata\\local\\miniconda3\\envs\\py3.10\\lib\\site-packages (from selenium>=4.0.0->selenium-wire) (4.10.0)\n",
      "Requirement already satisfied: h11<1,>=0.9.0 in c:\\users\\yongsheng.tan\\appdata\\local\\miniconda3\\envs\\py3.10\\lib\\site-packages (from wsproto>=0.14->selenium-wire) (0.14.0)\n",
      "Requirement already satisfied: cffi>=1.12 in c:\\users\\yongsheng.tan\\appdata\\local\\miniconda3\\envs\\py3.10\\lib\\site-packages (from cryptography<43,>=41.0.5->pyOpenSSL>=22.0.0->selenium-wire) (1.16.0)\n",
      "Requirement already satisfied: attrs>=20.1.0 in c:\\users\\yongsheng.tan\\appdata\\local\\miniconda3\\envs\\py3.10\\lib\\site-packages (from trio~=0.17->selenium>=4.0.0->selenium-wire) (23.2.0)\n",
      "Requirement already satisfied: sortedcontainers in c:\\users\\yongsheng.tan\\appdata\\local\\miniconda3\\envs\\py3.10\\lib\\site-packages (from trio~=0.17->selenium>=4.0.0->selenium-wire) (2.4.0)\n",
      "Requirement already satisfied: idna in c:\\users\\yongsheng.tan\\appdata\\local\\miniconda3\\envs\\py3.10\\lib\\site-packages (from trio~=0.17->selenium>=4.0.0->selenium-wire) (3.6)\n",
      "Requirement already satisfied: outcome in c:\\users\\yongsheng.tan\\appdata\\local\\miniconda3\\envs\\py3.10\\lib\\site-packages (from trio~=0.17->selenium>=4.0.0->selenium-wire) (1.3.0.post0)\n",
      "Requirement already satisfied: sniffio>=1.3.0 in c:\\users\\yongsheng.tan\\appdata\\local\\miniconda3\\envs\\py3.10\\lib\\site-packages (from trio~=0.17->selenium>=4.0.0->selenium-wire) (1.3.1)\n",
      "Requirement already satisfied: exceptiongroup in c:\\users\\yongsheng.tan\\appdata\\roaming\\python\\python310\\site-packages (from trio~=0.17->selenium>=4.0.0->selenium-wire) (1.2.0)\n",
      "Requirement already satisfied: pycparser in c:\\users\\yongsheng.tan\\appdata\\local\\miniconda3\\envs\\py3.10\\lib\\site-packages (from cffi>=1.12->cryptography<43,>=41.0.5->pyOpenSSL>=22.0.0->selenium-wire) (2.21)\n",
      "Requirement already satisfied: webdriver-manager in c:\\users\\yongsheng.tan\\appdata\\local\\miniconda3\\envs\\py3.10\\lib\\site-packages (4.0.1)\n",
      "Requirement already satisfied: requests in c:\\users\\yongsheng.tan\\appdata\\local\\miniconda3\\envs\\py3.10\\lib\\site-packages (from webdriver-manager) (2.31.0)\n",
      "Requirement already satisfied: python-dotenv in c:\\users\\yongsheng.tan\\appdata\\local\\miniconda3\\envs\\py3.10\\lib\\site-packages (from webdriver-manager) (1.0.1)\n",
      "Requirement already satisfied: packaging in c:\\users\\yongsheng.tan\\appdata\\roaming\\python\\python310\\site-packages (from webdriver-manager) (23.2)\n",
      "Requirement already satisfied: charset-normalizer<4,>=2 in c:\\users\\yongsheng.tan\\appdata\\local\\miniconda3\\envs\\py3.10\\lib\\site-packages (from requests->webdriver-manager) (3.3.2)\n",
      "Requirement already satisfied: idna<4,>=2.5 in c:\\users\\yongsheng.tan\\appdata\\local\\miniconda3\\envs\\py3.10\\lib\\site-packages (from requests->webdriver-manager) (3.6)\n",
      "Requirement already satisfied: urllib3<3,>=1.21.1 in c:\\users\\yongsheng.tan\\appdata\\local\\miniconda3\\envs\\py3.10\\lib\\site-packages (from requests->webdriver-manager) (2.0.7)\n",
      "Requirement already satisfied: certifi>=2017.4.17 in c:\\users\\yongsheng.tan\\appdata\\local\\miniconda3\\envs\\py3.10\\lib\\site-packages (from requests->webdriver-manager) (2024.2.2)\n",
      "Note: you may need to restart the kernel to use updated packages.\n",
      "Requirement already satisfied: python-dotenv in c:\\users\\yongsheng.tan\\appdata\\local\\miniconda3\\envs\\py3.10\\lib\\site-packages (1.0.1)\n",
      "Note: you may need to restart the kernel to use updated packages.\n"
     ]
    }
   ],
   "source": [
    "%pip install selenium\n",
    "%pip install selenium-wire\n",
    "%pip install webdriver-manager\n",
    "%pip install python-dotenv"
   ]
  },
  {
   "cell_type": "code",
   "execution_count": 2,
   "metadata": {},
   "outputs": [],
   "source": [
    "import json\n",
    "import os\n",
    "import random\n",
    "from selenium import webdriver\n",
    "from selenium.webdriver.chrome.service import Service as ChromeService\n",
    "from webdriver_manager.chrome import ChromeDriverManager\n",
    "from selenium.webdriver.chrome.options import Options\n",
    "from selenium.webdriver.common.by import By\n",
    "import urllib.parse\n",
    "from dotenv import load_dotenv\n"
   ]
  },
  {
   "cell_type": "code",
   "execution_count": 4,
   "metadata": {},
   "outputs": [],
   "source": [
    "# define custom options for the Selenium driver\n",
    "options = Options()\n",
    "\n",
    "# install selenium webdriver for Chrome and then initiate that webdriver\n",
    "driver = webdriver.Chrome(service=ChromeService(ChromeDriverManager().install()),\n",
    "                          options=options)"
   ]
  },
  {
   "cell_type": "code",
   "execution_count": 5,
   "metadata": {},
   "outputs": [
    {
     "ename": "NoSuchElementException",
     "evalue": "Message: no such element: Unable to locate element: {\"method\":\"tag name\",\"selector\":\"pre\"}\n  (Session info: chrome=122.0.6261.95); For documentation on this error, please visit: https://www.selenium.dev/documentation/webdriver/troubleshooting/errors#no-such-element-exception\nStacktrace:\n\tGetHandleVerifier [0x00908C93+51395]\n\t(No symbol) [0x00875EF1]\n\t(No symbol) [0x0072E13A]\n\t(No symbol) [0x007662BB]\n\t(No symbol) [0x007663EB]\n\t(No symbol) [0x0079C162]\n\t(No symbol) [0x00783ED4]\n\t(No symbol) [0x0079A570]\n\t(No symbol) [0x00783C26]\n\t(No symbol) [0x0075C629]\n\t(No symbol) [0x0075D40D]\n\tGetHandleVerifier [0x00C86453+3711107]\n\tGetHandleVerifier [0x00CC583A+3970154]\n\tGetHandleVerifier [0x00CC0B28+3950424]\n\tGetHandleVerifier [0x009B9C99+776393]\n\t(No symbol) [0x008816C4]\n\t(No symbol) [0x0087C5A8]\n\t(No symbol) [0x0087C759]\n\t(No symbol) [0x0086DD80]\n\tBaseThreadInitThunk [0x75F07BA9+25]\n\tRtlInitializeExceptionChain [0x770DBDAB+107]\n\tRtlClearBits [0x770DBD2F+191]\n",
     "output_type": "error",
     "traceback": [
      "\u001b[1;31m---------------------------------------------------------------------------\u001b[0m",
      "\u001b[1;31mNoSuchElementException\u001b[0m                    Traceback (most recent call last)",
      "Cell \u001b[1;32mIn[5], line 14\u001b[0m\n\u001b[0;32m     12\u001b[0m content \u001b[38;5;241m=\u001b[39m driver\u001b[38;5;241m.\u001b[39mpage_source\n\u001b[0;32m     13\u001b[0m time\u001b[38;5;241m.\u001b[39msleep(\u001b[38;5;241m2\u001b[39m)\n\u001b[1;32m---> 14\u001b[0m content \u001b[38;5;241m=\u001b[39m \u001b[43mdriver\u001b[49m\u001b[38;5;241;43m.\u001b[39;49m\u001b[43mfind_element\u001b[49m\u001b[43m(\u001b[49m\u001b[43mby\u001b[49m\u001b[38;5;241;43m=\u001b[39;49m\u001b[43mBy\u001b[49m\u001b[38;5;241;43m.\u001b[39;49m\u001b[43mTAG_NAME\u001b[49m\u001b[43m,\u001b[49m\u001b[43m \u001b[49m\u001b[43mvalue\u001b[49m\u001b[38;5;241;43m=\u001b[39;49m\u001b[38;5;124;43m'\u001b[39;49m\u001b[38;5;124;43mpre\u001b[39;49m\u001b[38;5;124;43m'\u001b[39;49m\u001b[43m)\u001b[49m\u001b[38;5;241m.\u001b[39mtext\n\u001b[0;32m     15\u001b[0m time\u001b[38;5;241m.\u001b[39msleep(\u001b[38;5;241m1\u001b[39m)\n\u001b[0;32m     16\u001b[0m parsed_json \u001b[38;5;241m=\u001b[39m json\u001b[38;5;241m.\u001b[39mloads(content)\n",
      "File \u001b[1;32mc:\\Users\\yongsheng.tan\\AppData\\Local\\miniconda3\\envs\\py3.10\\lib\\site-packages\\selenium\\webdriver\\remote\\webdriver.py:741\u001b[0m, in \u001b[0;36mWebDriver.find_element\u001b[1;34m(self, by, value)\u001b[0m\n\u001b[0;32m    738\u001b[0m     by \u001b[38;5;241m=\u001b[39m By\u001b[38;5;241m.\u001b[39mCSS_SELECTOR\n\u001b[0;32m    739\u001b[0m     value \u001b[38;5;241m=\u001b[39m \u001b[38;5;124mf\u001b[39m\u001b[38;5;124m'\u001b[39m\u001b[38;5;124m[name=\u001b[39m\u001b[38;5;124m\"\u001b[39m\u001b[38;5;132;01m{\u001b[39;00mvalue\u001b[38;5;132;01m}\u001b[39;00m\u001b[38;5;124m\"\u001b[39m\u001b[38;5;124m]\u001b[39m\u001b[38;5;124m'\u001b[39m\n\u001b[1;32m--> 741\u001b[0m \u001b[38;5;28;01mreturn\u001b[39;00m \u001b[38;5;28;43mself\u001b[39;49m\u001b[38;5;241;43m.\u001b[39;49m\u001b[43mexecute\u001b[49m\u001b[43m(\u001b[49m\u001b[43mCommand\u001b[49m\u001b[38;5;241;43m.\u001b[39;49m\u001b[43mFIND_ELEMENT\u001b[49m\u001b[43m,\u001b[49m\u001b[43m \u001b[49m\u001b[43m{\u001b[49m\u001b[38;5;124;43m\"\u001b[39;49m\u001b[38;5;124;43musing\u001b[39;49m\u001b[38;5;124;43m\"\u001b[39;49m\u001b[43m:\u001b[49m\u001b[43m \u001b[49m\u001b[43mby\u001b[49m\u001b[43m,\u001b[49m\u001b[43m \u001b[49m\u001b[38;5;124;43m\"\u001b[39;49m\u001b[38;5;124;43mvalue\u001b[39;49m\u001b[38;5;124;43m\"\u001b[39;49m\u001b[43m:\u001b[49m\u001b[43m \u001b[49m\u001b[43mvalue\u001b[49m\u001b[43m}\u001b[49m\u001b[43m)\u001b[49m[\u001b[38;5;124m\"\u001b[39m\u001b[38;5;124mvalue\u001b[39m\u001b[38;5;124m\"\u001b[39m]\n",
      "File \u001b[1;32mc:\\Users\\yongsheng.tan\\AppData\\Local\\miniconda3\\envs\\py3.10\\lib\\site-packages\\selenium\\webdriver\\remote\\webdriver.py:347\u001b[0m, in \u001b[0;36mWebDriver.execute\u001b[1;34m(self, driver_command, params)\u001b[0m\n\u001b[0;32m    345\u001b[0m response \u001b[38;5;241m=\u001b[39m \u001b[38;5;28mself\u001b[39m\u001b[38;5;241m.\u001b[39mcommand_executor\u001b[38;5;241m.\u001b[39mexecute(driver_command, params)\n\u001b[0;32m    346\u001b[0m \u001b[38;5;28;01mif\u001b[39;00m response:\n\u001b[1;32m--> 347\u001b[0m     \u001b[38;5;28;43mself\u001b[39;49m\u001b[38;5;241;43m.\u001b[39;49m\u001b[43merror_handler\u001b[49m\u001b[38;5;241;43m.\u001b[39;49m\u001b[43mcheck_response\u001b[49m\u001b[43m(\u001b[49m\u001b[43mresponse\u001b[49m\u001b[43m)\u001b[49m\n\u001b[0;32m    348\u001b[0m     response[\u001b[38;5;124m\"\u001b[39m\u001b[38;5;124mvalue\u001b[39m\u001b[38;5;124m\"\u001b[39m] \u001b[38;5;241m=\u001b[39m \u001b[38;5;28mself\u001b[39m\u001b[38;5;241m.\u001b[39m_unwrap_value(response\u001b[38;5;241m.\u001b[39mget(\u001b[38;5;124m\"\u001b[39m\u001b[38;5;124mvalue\u001b[39m\u001b[38;5;124m\"\u001b[39m, \u001b[38;5;28;01mNone\u001b[39;00m))\n\u001b[0;32m    349\u001b[0m     \u001b[38;5;28;01mreturn\u001b[39;00m response\n",
      "File \u001b[1;32mc:\\Users\\yongsheng.tan\\AppData\\Local\\miniconda3\\envs\\py3.10\\lib\\site-packages\\selenium\\webdriver\\remote\\errorhandler.py:229\u001b[0m, in \u001b[0;36mErrorHandler.check_response\u001b[1;34m(self, response)\u001b[0m\n\u001b[0;32m    227\u001b[0m         alert_text \u001b[38;5;241m=\u001b[39m value[\u001b[38;5;124m\"\u001b[39m\u001b[38;5;124malert\u001b[39m\u001b[38;5;124m\"\u001b[39m]\u001b[38;5;241m.\u001b[39mget(\u001b[38;5;124m\"\u001b[39m\u001b[38;5;124mtext\u001b[39m\u001b[38;5;124m\"\u001b[39m)\n\u001b[0;32m    228\u001b[0m     \u001b[38;5;28;01mraise\u001b[39;00m exception_class(message, screen, stacktrace, alert_text)  \u001b[38;5;66;03m# type: ignore[call-arg]  # mypy is not smart enough here\u001b[39;00m\n\u001b[1;32m--> 229\u001b[0m \u001b[38;5;28;01mraise\u001b[39;00m exception_class(message, screen, stacktrace)\n",
      "\u001b[1;31mNoSuchElementException\u001b[0m: Message: no such element: Unable to locate element: {\"method\":\"tag name\",\"selector\":\"pre\"}\n  (Session info: chrome=122.0.6261.95); For documentation on this error, please visit: https://www.selenium.dev/documentation/webdriver/troubleshooting/errors#no-such-element-exception\nStacktrace:\n\tGetHandleVerifier [0x00908C93+51395]\n\t(No symbol) [0x00875EF1]\n\t(No symbol) [0x0072E13A]\n\t(No symbol) [0x007662BB]\n\t(No symbol) [0x007663EB]\n\t(No symbol) [0x0079C162]\n\t(No symbol) [0x00783ED4]\n\t(No symbol) [0x0079A570]\n\t(No symbol) [0x00783C26]\n\t(No symbol) [0x0075C629]\n\t(No symbol) [0x0075D40D]\n\tGetHandleVerifier [0x00C86453+3711107]\n\tGetHandleVerifier [0x00CC583A+3970154]\n\tGetHandleVerifier [0x00CC0B28+3950424]\n\tGetHandleVerifier [0x009B9C99+776393]\n\t(No symbol) [0x008816C4]\n\t(No symbol) [0x0087C5A8]\n\t(No symbol) [0x0087C759]\n\t(No symbol) [0x0086DD80]\n\tBaseThreadInitThunk [0x75F07BA9+25]\n\tRtlInitializeExceptionChain [0x770DBDAB+107]\n\tRtlClearBits [0x770DBD2F+191]\n"
     ]
    }
   ],
   "source": [
    "import time\n",
    "\n",
    "base_url = \"https://www.leboncoin.fr/_next/data/cgSWtRf7dTSew_ph71GeS/SearchListing/SEO/FiltersListing.json\"\n",
    "\n",
    "for idx in range(1,10):\n",
    "    params = {\"filter1\": \"u_car_brand--VOLKSWAGEN\", \n",
    "          \"category\": \"voitures\",\n",
    "          \"page\": f\"p-{idx}\"}\n",
    "    filter_url = base_url + urllib.parse.urlencode(params)\n",
    "    driver.get(filter_url)\n",
    "    time.sleep(5)\n",
    "    content = driver.page_source\n",
    "    time.sleep(2)\n",
    "    content = driver.find_element(by=By.TAG_NAME, value='pre').text\n",
    "    time.sleep(1)\n",
    "    parsed_json = json.loads(content)\n",
    "    print(parsed_json)"
   ]
  },
  {
   "cell_type": "code",
   "execution_count": null,
   "metadata": {},
   "outputs": [],
   "source": [
    "driver.quit()\n",
    "driver.close()"
   ]
  },
  {
   "cell_type": "markdown",
   "metadata": {},
   "source": [
    "## Computing Environment"
   ]
  },
  {
   "cell_type": "markdown",
   "metadata": {},
   "source": []
  }
 ],
 "metadata": {
  "kernelspec": {
   "display_name": "py3.10",
   "language": "python",
   "name": "python3"
  },
  "language_info": {
   "codemirror_mode": {
    "name": "ipython",
    "version": 3
   },
   "file_extension": ".py",
   "mimetype": "text/x-python",
   "name": "python",
   "nbconvert_exporter": "python",
   "pygments_lexer": "ipython3",
   "version": "3.10.12"
  }
 },
 "nbformat": 4,
 "nbformat_minor": 2
}
