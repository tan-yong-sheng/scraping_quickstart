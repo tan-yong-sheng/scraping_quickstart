{
 "cells": [
  {
   "cell_type": "markdown",
   "metadata": {},
   "source": [
    "## Basic concept: Multi-threading"
   ]
  },
  {
   "cell_type": "markdown",
   "metadata": {},
   "source": [
    "Reference: \n",
    "1. MultiThreading in Python | Python Concurrent futures | ThreadPoolExecutor https://www.youtube.com/watch?v=i0Tey6Gprnc&t=495s"
   ]
  },
  {
   "cell_type": "code",
   "execution_count": null,
   "metadata": {},
   "outputs": [],
   "source": [
    "import concurrent.futures\n",
    "import time\n",
    "\n",
    "def fn_take_time(seconds=3):\n",
    "    print('before execution')\n",
    "    time.sleep(seconds)\n",
    "    print('after execution')\n",
    "    return str(seconds) + \"s\""
   ]
  },
  {
   "cell_type": "markdown",
   "metadata": {},
   "source": []
  },
  {
   "cell_type": "code",
   "execution_count": null,
   "metadata": {},
   "outputs": [],
   "source": [
    "%%time\n",
    "\n",
    "timer = [1,2,3,4,11,1,2,3,4,1]\n",
    "\n",
    "with concurrent.futures.ThreadPoolExecutor(max_workers=10) as ex:\n",
    "    future = ex.map(fn_take_time, timer )\n",
    "    time.sleep(2)\n",
    "    print(\"After sleep calling result\")"
   ]
  },
  {
   "cell_type": "markdown",
   "metadata": {},
   "source": []
  },
  {
   "cell_type": "code",
   "execution_count": null,
   "metadata": {},
   "outputs": [],
   "source": [
    "timer=[1,2,3,4,11,1,2,3,4,1]\n",
    "\n",
    "%%time\n",
    "with concurrent.futures.ThreadPoolExecutor(max_workers=10) as ex:\n",
    "    results = {\n",
    "        ex.submit(fn_take_time, the_time): the_time for the_time in timer\n",
    "    }\n",
    "\n",
    "    for result in concurrent.futures.as_completed(results):\n",
    "        exchange = results[result]\n",
    "        print(result.result())"
   ]
  }
 ],
 "metadata": {
  "language_info": {
   "name": "python"
  }
 },
 "nbformat": 4,
 "nbformat_minor": 2
}
