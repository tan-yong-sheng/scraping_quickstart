{
 "cells": [
  {
   "cell_type": "markdown",
   "metadata": {},
   "source": [
    "## Scraping data using multithreading\n",
    "\n",
    "Created by: [tanyongsheng.net](https://tanyongsheng.net)\n",
    "\n",
    "----\n",
    "Introduction:\n",
    "- Multi-threading is beneficial in situations where the program spends a significant amount of time waiting for external resources, such as I/O operations, rather than performing intense computational tasks.\n",
    "- When scraping data from multiple web pages, you can use multi-threading to issue HTTP requests for different pages concurrently. This helps reduce the overall time spent waiting for responses, as threads can work on fetching pages simultaneously.\n",
    "\n",
    "Reference: \n",
    "1. MultiThreading in Python | Python Concurrent futures | ThreadPoolExecutor https://www.youtube.com/watch?v=i0Tey6Gprnc&t=495s\n",
    "2. How to Make Web Scraping Faster - Python Tutorial https://oxylabs.io/blog/how-to-make-web-scraping-faster\n",
    "3. Comcrawl script which uses multi-threading for scraping: https://github.com/michaelharms/comcrawl/blob/a89236080c5e7f4ce6a2e0d39c5f59671f22181e/comcrawl/utils/search.py#L11\n",
    "4. Multi-threaded web scraping with Python https://sean.eulenberg.de/posts/2020-05-26-multi-threaded-webscraping-with-python/\n"
   ]
  },
  {
   "cell_type": "markdown",
   "metadata": {},
   "source": [
    "### Background of this scraping task with multi-threading concept\n",
    "\n",
    "We're making 10 requests to [https://httpbin.org/delay/10](https://httpbin.org/delay/10), where each request takes 10 seconds to get a response. We'll test three approaches:\n",
    "\n",
    "1. **10 Threads:**\n",
    "- Sending 10 web requests simultaneously using threads. \n",
    "- Estimate: it takes around 10 - 11s to finish scraping with 10 threads (=10*10s/10)\n",
    "\n",
    "2. **No Multithreading:**\n",
    "- Scraping data without using multiple threads. \n",
    "- Estimate: it takes around 1 min 40s to finish scraping (=10*10s) \n",
    "\n",
    "3. **2 Threads:**\n",
    "- Using only 2 threads to fetch the data.\n",
    "- Estimate: it takes around 50s to finish scraping with 2 threads (=10*10s/2)\n",
    "\n",
    "We'll compare their execution speeds to understand how multithreading affects the web scraping process."
   ]
  },
  {
   "cell_type": "markdown",
   "metadata": {},
   "source": [
    "### Case 1: Using 10 threads to scrape data"
   ]
  },
  {
   "cell_type": "code",
   "execution_count": 1,
   "metadata": {},
   "outputs": [
    {
     "name": "stdout",
     "output_type": "stream",
     "text": [
      "[{'args': {}, 'data': '', 'files': {}, 'form': {}, 'headers': {'Accept': '*/*', 'Accept-Encoding': 'gzip, deflate', 'Host': 'httpbin.org', 'User-Agent': 'python-requests/2.31.0', 'X-Amzn-Trace-Id': 'Root=1-65ed72b0-279e7d3c4aae2ebc0482b6df'}, 'origin': '34.127.100.114', 'url': 'https://httpbin.org/delay/10'}, {'args': {}, 'data': '', 'files': {}, 'form': {}, 'headers': {'Accept': '*/*', 'Accept-Encoding': 'gzip, deflate', 'Host': 'httpbin.org', 'User-Agent': 'python-requests/2.31.0', 'X-Amzn-Trace-Id': 'Root=1-65ed72b0-2e354c41613011517831ed2b'}, 'origin': '34.127.100.114', 'url': 'https://httpbin.org/delay/10'}, {'args': {}, 'data': '', 'files': {}, 'form': {}, 'headers': {'Accept': '*/*', 'Accept-Encoding': 'gzip, deflate', 'Host': 'httpbin.org', 'User-Agent': 'python-requests/2.31.0', 'X-Amzn-Trace-Id': 'Root=1-65ed72b0-23c2353e72cf78b77fd2c191'}, 'origin': '34.127.100.114', 'url': 'https://httpbin.org/delay/10'}, {'args': {}, 'data': '', 'files': {}, 'form': {}, 'headers': {'Accept': '*/*', 'Accept-Encoding': 'gzip, deflate', 'Host': 'httpbin.org', 'User-Agent': 'python-requests/2.31.0', 'X-Amzn-Trace-Id': 'Root=1-65ed72b0-77cc7af556a4414d4fe4a5c3'}, 'origin': '34.127.100.114', 'url': 'https://httpbin.org/delay/10'}, {'args': {}, 'data': '', 'files': {}, 'form': {}, 'headers': {'Accept': '*/*', 'Accept-Encoding': 'gzip, deflate', 'Host': 'httpbin.org', 'User-Agent': 'python-requests/2.31.0', 'X-Amzn-Trace-Id': 'Root=1-65ed72b0-06ce5f183b915d5d1f5f7368'}, 'origin': '34.127.100.114', 'url': 'https://httpbin.org/delay/10'}, {'args': {}, 'data': '', 'files': {}, 'form': {}, 'headers': {'Accept': '*/*', 'Accept-Encoding': 'gzip, deflate', 'Host': 'httpbin.org', 'User-Agent': 'python-requests/2.31.0', 'X-Amzn-Trace-Id': 'Root=1-65ed72b0-3d8d024c2a7a5840605accd5'}, 'origin': '34.127.100.114', 'url': 'https://httpbin.org/delay/10'}, {'args': {}, 'data': '', 'files': {}, 'form': {}, 'headers': {'Accept': '*/*', 'Accept-Encoding': 'gzip, deflate', 'Host': 'httpbin.org', 'User-Agent': 'python-requests/2.31.0', 'X-Amzn-Trace-Id': 'Root=1-65ed72b0-52dcc2e0427e6e1f71abc257'}, 'origin': '34.127.100.114', 'url': 'https://httpbin.org/delay/10'}, {'args': {}, 'data': '', 'files': {}, 'form': {}, 'headers': {'Accept': '*/*', 'Accept-Encoding': 'gzip, deflate', 'Host': 'httpbin.org', 'User-Agent': 'python-requests/2.31.0', 'X-Amzn-Trace-Id': 'Root=1-65ed72b0-52397eda2e397c633871b2d6'}, 'origin': '34.127.100.114', 'url': 'https://httpbin.org/delay/10'}, {'args': {}, 'data': '', 'files': {}, 'form': {}, 'headers': {'Accept': '*/*', 'Accept-Encoding': 'gzip, deflate', 'Host': 'httpbin.org', 'User-Agent': 'python-requests/2.31.0', 'X-Amzn-Trace-Id': 'Root=1-65ed72af-07bbb02c4717e3cc6b0491c5'}, 'origin': '34.127.100.114', 'url': 'https://httpbin.org/delay/10'}, {'args': {}, 'data': '', 'files': {}, 'form': {}, 'headers': {'Accept': '*/*', 'Accept-Encoding': 'gzip, deflate', 'Host': 'httpbin.org', 'User-Agent': 'python-requests/2.31.0', 'X-Amzn-Trace-Id': 'Root=1-65ed72b0-6a5952393ecd44254f406aff'}, 'origin': '34.127.100.114', 'url': 'https://httpbin.org/delay/10'}]\n",
      "CPU times: user 2.5 s, sys: 30.8 ms, total: 2.53 s\n",
      "Wall time: 12.7 s\n"
     ]
    }
   ],
   "source": [
    "%%time\n",
    "\n",
    "import concurrent.futures # for multi-threading\n",
    "import requests # for downloading data\n",
    "from tqdm import tqdm # for displaying a smart progress meter in loops\n",
    "\n",
    "urls = [\"https://httpbin.org/delay/10\"] * 10   ## Note: making 10 requests to this endpoint, \n",
    "                                                ## where each request takes 10 seconds to get a response  \n",
    "\n",
    "session = requests.Session()\n",
    "\n",
    "def scrape(url):\n",
    "    response = session.get(url)\n",
    "    return response.json()\n",
    "\n",
    "with concurrent.futures.ThreadPoolExecutor(max_workers=10) as ex:\n",
    "    results = {ex.submit(scrape, url): url for url in urls}\n",
    "    \n",
    "    data_list = []\n",
    "\n",
    "    for result in tqdm(concurrent.futures.as_completed(results)):\n",
    "        data = result.result() # get the scraped data\n",
    "\n",
    "        if isinstance(data, list):\n",
    "            data_list.extend(data)\n",
    "        else:\n",
    "            data_list.append(data)\n",
    "    print(data_list)"
   ]
  },
  {
   "cell_type": "code",
   "execution_count": 2,
   "metadata": {},
   "outputs": [
    {
     "data": {
      "text/html": [
       "<div>\n",
       "<style scoped>\n",
       "    .dataframe tbody tr th:only-of-type {\n",
       "        vertical-align: middle;\n",
       "    }\n",
       "\n",
       "    .dataframe tbody tr th {\n",
       "        vertical-align: top;\n",
       "    }\n",
       "\n",
       "    .dataframe thead th {\n",
       "        text-align: right;\n",
       "    }\n",
       "</style>\n",
       "<table border=\"1\" class=\"dataframe\">\n",
       "  <thead>\n",
       "    <tr style=\"text-align: right;\">\n",
       "      <th></th>\n",
       "      <th>args</th>\n",
       "      <th>data</th>\n",
       "      <th>files</th>\n",
       "      <th>form</th>\n",
       "      <th>headers</th>\n",
       "      <th>origin</th>\n",
       "      <th>url</th>\n",
       "    </tr>\n",
       "  </thead>\n",
       "  <tbody>\n",
       "    <tr>\n",
       "      <th>0</th>\n",
       "      <td>{}</td>\n",
       "      <td></td>\n",
       "      <td>{}</td>\n",
       "      <td>{}</td>\n",
       "      <td>{'Accept': '*/*', 'Accept-Encoding': 'gzip, de...</td>\n",
       "      <td>34.127.100.114</td>\n",
       "      <td>https://httpbin.org/delay/10</td>\n",
       "    </tr>\n",
       "    <tr>\n",
       "      <th>1</th>\n",
       "      <td>{}</td>\n",
       "      <td></td>\n",
       "      <td>{}</td>\n",
       "      <td>{}</td>\n",
       "      <td>{'Accept': '*/*', 'Accept-Encoding': 'gzip, de...</td>\n",
       "      <td>34.127.100.114</td>\n",
       "      <td>https://httpbin.org/delay/10</td>\n",
       "    </tr>\n",
       "    <tr>\n",
       "      <th>2</th>\n",
       "      <td>{}</td>\n",
       "      <td></td>\n",
       "      <td>{}</td>\n",
       "      <td>{}</td>\n",
       "      <td>{'Accept': '*/*', 'Accept-Encoding': 'gzip, de...</td>\n",
       "      <td>34.127.100.114</td>\n",
       "      <td>https://httpbin.org/delay/10</td>\n",
       "    </tr>\n",
       "    <tr>\n",
       "      <th>3</th>\n",
       "      <td>{}</td>\n",
       "      <td></td>\n",
       "      <td>{}</td>\n",
       "      <td>{}</td>\n",
       "      <td>{'Accept': '*/*', 'Accept-Encoding': 'gzip, de...</td>\n",
       "      <td>34.127.100.114</td>\n",
       "      <td>https://httpbin.org/delay/10</td>\n",
       "    </tr>\n",
       "    <tr>\n",
       "      <th>4</th>\n",
       "      <td>{}</td>\n",
       "      <td></td>\n",
       "      <td>{}</td>\n",
       "      <td>{}</td>\n",
       "      <td>{'Accept': '*/*', 'Accept-Encoding': 'gzip, de...</td>\n",
       "      <td>34.127.100.114</td>\n",
       "      <td>https://httpbin.org/delay/10</td>\n",
       "    </tr>\n",
       "    <tr>\n",
       "      <th>5</th>\n",
       "      <td>{}</td>\n",
       "      <td></td>\n",
       "      <td>{}</td>\n",
       "      <td>{}</td>\n",
       "      <td>{'Accept': '*/*', 'Accept-Encoding': 'gzip, de...</td>\n",
       "      <td>34.127.100.114</td>\n",
       "      <td>https://httpbin.org/delay/10</td>\n",
       "    </tr>\n",
       "    <tr>\n",
       "      <th>6</th>\n",
       "      <td>{}</td>\n",
       "      <td></td>\n",
       "      <td>{}</td>\n",
       "      <td>{}</td>\n",
       "      <td>{'Accept': '*/*', 'Accept-Encoding': 'gzip, de...</td>\n",
       "      <td>34.127.100.114</td>\n",
       "      <td>https://httpbin.org/delay/10</td>\n",
       "    </tr>\n",
       "    <tr>\n",
       "      <th>7</th>\n",
       "      <td>{}</td>\n",
       "      <td></td>\n",
       "      <td>{}</td>\n",
       "      <td>{}</td>\n",
       "      <td>{'Accept': '*/*', 'Accept-Encoding': 'gzip, de...</td>\n",
       "      <td>34.127.100.114</td>\n",
       "      <td>https://httpbin.org/delay/10</td>\n",
       "    </tr>\n",
       "    <tr>\n",
       "      <th>8</th>\n",
       "      <td>{}</td>\n",
       "      <td></td>\n",
       "      <td>{}</td>\n",
       "      <td>{}</td>\n",
       "      <td>{'Accept': '*/*', 'Accept-Encoding': 'gzip, de...</td>\n",
       "      <td>34.127.100.114</td>\n",
       "      <td>https://httpbin.org/delay/10</td>\n",
       "    </tr>\n",
       "    <tr>\n",
       "      <th>9</th>\n",
       "      <td>{}</td>\n",
       "      <td></td>\n",
       "      <td>{}</td>\n",
       "      <td>{}</td>\n",
       "      <td>{'Accept': '*/*', 'Accept-Encoding': 'gzip, de...</td>\n",
       "      <td>34.127.100.114</td>\n",
       "      <td>https://httpbin.org/delay/10</td>\n",
       "    </tr>\n",
       "  </tbody>\n",
       "</table>\n",
       "</div>"
      ],
      "text/plain": [
       "  args data files form                                            headers  \\\n",
       "0   {}         {}   {}  {'Accept': '*/*', 'Accept-Encoding': 'gzip, de...   \n",
       "1   {}         {}   {}  {'Accept': '*/*', 'Accept-Encoding': 'gzip, de...   \n",
       "2   {}         {}   {}  {'Accept': '*/*', 'Accept-Encoding': 'gzip, de...   \n",
       "3   {}         {}   {}  {'Accept': '*/*', 'Accept-Encoding': 'gzip, de...   \n",
       "4   {}         {}   {}  {'Accept': '*/*', 'Accept-Encoding': 'gzip, de...   \n",
       "5   {}         {}   {}  {'Accept': '*/*', 'Accept-Encoding': 'gzip, de...   \n",
       "6   {}         {}   {}  {'Accept': '*/*', 'Accept-Encoding': 'gzip, de...   \n",
       "7   {}         {}   {}  {'Accept': '*/*', 'Accept-Encoding': 'gzip, de...   \n",
       "8   {}         {}   {}  {'Accept': '*/*', 'Accept-Encoding': 'gzip, de...   \n",
       "9   {}         {}   {}  {'Accept': '*/*', 'Accept-Encoding': 'gzip, de...   \n",
       "\n",
       "           origin                           url  \n",
       "0  34.127.100.114  https://httpbin.org/delay/10  \n",
       "1  34.127.100.114  https://httpbin.org/delay/10  \n",
       "2  34.127.100.114  https://httpbin.org/delay/10  \n",
       "3  34.127.100.114  https://httpbin.org/delay/10  \n",
       "4  34.127.100.114  https://httpbin.org/delay/10  \n",
       "5  34.127.100.114  https://httpbin.org/delay/10  \n",
       "6  34.127.100.114  https://httpbin.org/delay/10  \n",
       "7  34.127.100.114  https://httpbin.org/delay/10  \n",
       "8  34.127.100.114  https://httpbin.org/delay/10  \n",
       "9  34.127.100.114  https://httpbin.org/delay/10  "
      ]
     },
     "execution_count": 2,
     "metadata": {},
     "output_type": "execute_result"
    }
   ],
   "source": [
    "import pandas\n",
    "pandas.DataFrame(data_list)"
   ]
  },
  {
   "cell_type": "markdown",
   "metadata": {},
   "source": [
    "### Comparison 1: Scraping without multi-threading"
   ]
  },
  {
   "cell_type": "code",
   "execution_count": 3,
   "metadata": {},
   "outputs": [
    {
     "name": "stdout",
     "output_type": "stream",
     "text": [
      "[{'args': {}, 'data': '', 'files': {}, 'form': {}, 'headers': {'Accept': '*/*', 'Accept-Encoding': 'gzip, deflate', 'Host': 'httpbin.org', 'User-Agent': 'python-requests/2.31.0', 'X-Amzn-Trace-Id': 'Root=1-65ed72bc-4ff50f345486d3cc3b60676c'}, 'origin': '34.127.100.114', 'url': 'https://httpbin.org/delay/10'}, {'args': {}, 'data': '', 'files': {}, 'form': {}, 'headers': {'Accept': '*/*', 'Accept-Encoding': 'gzip, deflate', 'Host': 'httpbin.org', 'User-Agent': 'python-requests/2.31.0', 'X-Amzn-Trace-Id': 'Root=1-65ed72c6-2a5f25a6229ac5a70a93194b'}, 'origin': '34.127.100.114', 'url': 'https://httpbin.org/delay/10'}, {'args': {}, 'data': '', 'files': {}, 'form': {}, 'headers': {'Accept': '*/*', 'Accept-Encoding': 'gzip, deflate', 'Host': 'httpbin.org', 'User-Agent': 'python-requests/2.31.0', 'X-Amzn-Trace-Id': 'Root=1-65ed72d0-7a022d52236e2f746a9b30b0'}, 'origin': '34.127.100.114', 'url': 'https://httpbin.org/delay/10'}, {'args': {}, 'data': '', 'files': {}, 'form': {}, 'headers': {'Accept': '*/*', 'Accept-Encoding': 'gzip, deflate', 'Host': 'httpbin.org', 'User-Agent': 'python-requests/2.31.0', 'X-Amzn-Trace-Id': 'Root=1-65ed72da-4e1c15275218fa72020990b2'}, 'origin': '34.127.100.114', 'url': 'https://httpbin.org/delay/10'}, {'args': {}, 'data': '', 'files': {}, 'form': {}, 'headers': {'Accept': '*/*', 'Accept-Encoding': 'gzip, deflate', 'Host': 'httpbin.org', 'User-Agent': 'python-requests/2.31.0', 'X-Amzn-Trace-Id': 'Root=1-65ed72e5-05c965216443d77f1fc068e9'}, 'origin': '34.127.100.114', 'url': 'https://httpbin.org/delay/10'}, {'args': {}, 'data': '', 'files': {}, 'form': {}, 'headers': {'Accept': '*/*', 'Accept-Encoding': 'gzip, deflate', 'Host': 'httpbin.org', 'User-Agent': 'python-requests/2.31.0', 'X-Amzn-Trace-Id': 'Root=1-65ed72ef-3f11be14776550606abf1dae'}, 'origin': '34.127.100.114', 'url': 'https://httpbin.org/delay/10'}, {'args': {}, 'data': '', 'files': {}, 'form': {}, 'headers': {'Accept': '*/*', 'Accept-Encoding': 'gzip, deflate', 'Host': 'httpbin.org', 'User-Agent': 'python-requests/2.31.0', 'X-Amzn-Trace-Id': 'Root=1-65ed72f9-1c79ba644f3313014624c0ec'}, 'origin': '34.127.100.114', 'url': 'https://httpbin.org/delay/10'}, {'args': {}, 'data': '', 'files': {}, 'form': {}, 'headers': {'Accept': '*/*', 'Accept-Encoding': 'gzip, deflate', 'Host': 'httpbin.org', 'User-Agent': 'python-requests/2.31.0', 'X-Amzn-Trace-Id': 'Root=1-65ed7303-3361d3240c82bcd7571f73ac'}, 'origin': '34.127.100.114', 'url': 'https://httpbin.org/delay/10'}, {'args': {}, 'data': '', 'files': {}, 'form': {}, 'headers': {'Accept': '*/*', 'Accept-Encoding': 'gzip, deflate', 'Host': 'httpbin.org', 'User-Agent': 'python-requests/2.31.0', 'X-Amzn-Trace-Id': 'Root=1-65ed730d-448788b14fbb5e2509f0a1f5'}, 'origin': '34.127.100.114', 'url': 'https://httpbin.org/delay/10'}, {'args': {}, 'data': '', 'files': {}, 'form': {}, 'headers': {'Accept': '*/*', 'Accept-Encoding': 'gzip, deflate', 'Host': 'httpbin.org', 'User-Agent': 'python-requests/2.31.0', 'X-Amzn-Trace-Id': 'Root=1-65ed7317-33656552676a53c54a2d0efe'}, 'origin': '34.127.100.114', 'url': 'https://httpbin.org/delay/10'}]\n",
      "CPU times: user 58.1 ms, sys: 847 µs, total: 58.9 ms\n",
      "Wall time: 1min 42s\n"
     ]
    }
   ],
   "source": [
    "%%time\n",
    "import requests\n",
    "from tqdm import tqdm\n",
    "\n",
    "urls = [\"https://httpbin.org/delay/10\"] * 10\n",
    "\n",
    "session = requests.Session()\n",
    "\n",
    "def scrape(url):\n",
    "    response = session.get(url)\n",
    "    return response.json()\n",
    "\n",
    "data_list = []\n",
    "\n",
    "for url in urls:\n",
    "    data = scrape(url)\n",
    "    if isinstance(data, list):\n",
    "        data_list.extend(data)\n",
    "    else:\n",
    "        data_list.append(data)\n",
    "\n",
    "print(data_list)"
   ]
  },
  {
   "cell_type": "markdown",
   "metadata": {},
   "source": [
    "### Comparison 2: Scraping with less threads (e.g., 2 threads)"
   ]
  },
  {
   "cell_type": "code",
   "execution_count": 4,
   "metadata": {},
   "outputs": [
    {
     "name": "stdout",
     "output_type": "stream",
     "text": [
      "[{'args': {}, 'data': '', 'files': {}, 'form': {}, 'headers': {'Accept': '*/*', 'Accept-Encoding': 'gzip, deflate', 'Host': 'httpbin.org', 'User-Agent': 'python-requests/2.31.0', 'X-Amzn-Trace-Id': 'Root=1-65ed7322-6e4bceb867ad536126d37ea3'}, 'origin': '34.127.100.114', 'url': 'https://httpbin.org/delay/10'}, {'args': {}, 'data': '', 'files': {}, 'form': {}, 'headers': {'Accept': '*/*', 'Accept-Encoding': 'gzip, deflate', 'Host': 'httpbin.org', 'User-Agent': 'python-requests/2.31.0', 'X-Amzn-Trace-Id': 'Root=1-65ed7322-5756a26b0187844e6102cfb5'}, 'origin': '34.127.100.114', 'url': 'https://httpbin.org/delay/10'}, {'args': {}, 'data': '', 'files': {}, 'form': {}, 'headers': {'Accept': '*/*', 'Accept-Encoding': 'gzip, deflate', 'Host': 'httpbin.org', 'User-Agent': 'python-requests/2.31.0', 'X-Amzn-Trace-Id': 'Root=1-65ed732c-1a8236206240de5061853aaa'}, 'origin': '34.127.100.114', 'url': 'https://httpbin.org/delay/10'}, {'args': {}, 'data': '', 'files': {}, 'form': {}, 'headers': {'Accept': '*/*', 'Accept-Encoding': 'gzip, deflate', 'Host': 'httpbin.org', 'User-Agent': 'python-requests/2.31.0', 'X-Amzn-Trace-Id': 'Root=1-65ed732c-033bc32b45a6cb3d0c47732d'}, 'origin': '34.127.100.114', 'url': 'https://httpbin.org/delay/10'}, {'args': {}, 'data': '', 'files': {}, 'form': {}, 'headers': {'Accept': '*/*', 'Accept-Encoding': 'gzip, deflate', 'Host': 'httpbin.org', 'User-Agent': 'python-requests/2.31.0', 'X-Amzn-Trace-Id': 'Root=1-65ed7336-1435700c76e69d435ed34084'}, 'origin': '34.127.100.114', 'url': 'https://httpbin.org/delay/10'}, {'args': {}, 'data': '', 'files': {}, 'form': {}, 'headers': {'Accept': '*/*', 'Accept-Encoding': 'gzip, deflate', 'Host': 'httpbin.org', 'User-Agent': 'python-requests/2.31.0', 'X-Amzn-Trace-Id': 'Root=1-65ed7336-3c9cffae52a73f3815a59433'}, 'origin': '34.127.100.114', 'url': 'https://httpbin.org/delay/10'}, {'args': {}, 'data': '', 'files': {}, 'form': {}, 'headers': {'Accept': '*/*', 'Accept-Encoding': 'gzip, deflate', 'Host': 'httpbin.org', 'User-Agent': 'python-requests/2.31.0', 'X-Amzn-Trace-Id': 'Root=1-65ed7341-195afd58135965fe0f03eac3'}, 'origin': '34.127.100.114', 'url': 'https://httpbin.org/delay/10'}, {'args': {}, 'data': '', 'files': {}, 'form': {}, 'headers': {'Accept': '*/*', 'Accept-Encoding': 'gzip, deflate', 'Host': 'httpbin.org', 'User-Agent': 'python-requests/2.31.0', 'X-Amzn-Trace-Id': 'Root=1-65ed7341-1db1f8e22b8950b909955dc0'}, 'origin': '34.127.100.114', 'url': 'https://httpbin.org/delay/10'}, {'args': {}, 'data': '', 'files': {}, 'form': {}, 'headers': {'Accept': '*/*', 'Accept-Encoding': 'gzip, deflate', 'Host': 'httpbin.org', 'User-Agent': 'python-requests/2.31.0', 'X-Amzn-Trace-Id': 'Root=1-65ed734b-5583bbc455c3f62d10237e12'}, 'origin': '34.127.100.114', 'url': 'https://httpbin.org/delay/10'}, {'args': {}, 'data': '', 'files': {}, 'form': {}, 'headers': {'Accept': '*/*', 'Accept-Encoding': 'gzip, deflate', 'Host': 'httpbin.org', 'User-Agent': 'python-requests/2.31.0', 'X-Amzn-Trace-Id': 'Root=1-65ed734b-0a305dc62a66900803d88bbc'}, 'origin': '34.127.100.114', 'url': 'https://httpbin.org/delay/10'}]\n",
      "CPU times: user 97.9 ms, sys: 7.55 ms, total: 105 ms\n",
      "Wall time: 51.2 s\n"
     ]
    }
   ],
   "source": [
    "%%time\n",
    "\n",
    "import concurrent.futures\n",
    "import requests\n",
    "\n",
    "urls = [\"https://httpbin.org/delay/10\"] * 10\n",
    "session = requests.Session()\n",
    "\n",
    "def scrape(url):\n",
    "    response = session.get(url)\n",
    "    return response.json()\n",
    "\n",
    "# scrape data on 2 threads only\n",
    "with concurrent.futures.ThreadPoolExecutor(max_workers=2) as ex:\n",
    "    results = {ex.submit(scrape, url): url for url in urls}\n",
    "    \n",
    "    data_list = []\n",
    "\n",
    "    for result in concurrent.futures.as_completed(results):    \n",
    "        data = result.result()\n",
    "\n",
    "        if isinstance(data, list):\n",
    "            data_list.extend(data)\n",
    "        else:\n",
    "            data_list.append(data)\n",
    "    print(data_list)"
   ]
  },
  {
   "cell_type": "markdown",
   "metadata": {},
   "source": [
    "## Conclusion\n",
    "\n",
    "Using 10 threads significantly reduces the wall time (around 12.7s) compared to the non-multithreading approach (around 1 min 42s). However, using only 2 threads (51.2s) also shows a notable improvement over the non-multithreading method, but it's not as efficient as using 10 threads. Therefore, the number of threads plays a crucial role in the speed of the web scraping process, and in this case, more threads lead to faster execution.\n",
    "\n",
    "However, it's essential to note that multi-threading may not always provide a significant performance improvement for CPU-bound tasks due to the Global Interpreter Lock (GIL) in CPython. In such cases, you might consider using multiprocessing or asynchronous approaches instead. Additionally, be aware of the website's terms of service and ensure that your scraping activities comply with them."
   ]
  },
  {
   "cell_type": "markdown",
   "metadata": {},
   "source": [
    "## Computing environment"
   ]
  },
  {
   "cell_type": "code",
   "execution_count": 5,
   "metadata": {},
   "outputs": [
    {
     "name": "stdout",
     "output_type": "stream",
     "text": [
      "Last updated: 2024-03-10T09:23:40.057656+00:00\n",
      "\n",
      "Python implementation: CPython\n",
      "Python version       : 3.10.12\n",
      "IPython version      : 8.22.2\n",
      "\n",
      "Compiler    : GCC 11.4.0\n",
      "OS          : Linux\n",
      "Release     : 6.1.75-060175-generic\n",
      "Machine     : x86_64\n",
      "Processor   : x86_64\n",
      "CPU cores   : 16\n",
      "Architecture: 64bit\n",
      "\n",
      "pandas  : 2.2.1\n",
      "requests: 2.31.0\n",
      "\n",
      "Last updated: Sun Mar 10 2024 09:23:40UTC\n",
      "\n"
     ]
    }
   ],
   "source": [
    "%load_ext watermark\n",
    "\n",
    "%watermark\n",
    "\n",
    "# print out pypi packages used\n",
    "%watermark --iversions\n",
    "\n",
    "# date\n",
    "%watermark -u -n -t -z"
   ]
  }
 ],
 "metadata": {
  "kernelspec": {
   "display_name": "py3.10",
   "language": "python",
   "name": "python3"
  },
  "language_info": {
   "codemirror_mode": {
    "name": "ipython",
    "version": 3
   },
   "file_extension": ".py",
   "mimetype": "text/x-python",
   "name": "python",
   "nbconvert_exporter": "python",
   "pygments_lexer": "ipython3",
   "version": "3.10.12"
  }
 },
 "nbformat": 4,
 "nbformat_minor": 2
}
