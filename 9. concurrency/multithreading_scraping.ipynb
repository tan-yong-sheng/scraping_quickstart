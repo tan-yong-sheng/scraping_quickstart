{
 "cells": [
  {
   "cell_type": "code",
   "execution_count": null,
   "metadata": {},
   "outputs": [],
   "source": [
    "import concurrent.futures\n",
    "import requests\n",
    "\n",
    "urls = \n",
    "session = requests.Session()\n",
    "\n",
    "def scrape(session, url):\n",
    "    response = session.get(url)\n",
    "    return response.json()\n",
    "\n",
    "with concurrent.futures.ThreadPoolExecutor() as ex:\n",
    "    results = {ex.submit(scrape, url): url for url in urls}\n",
    "\n",
    "    for result in concurrent.futures.as_completed(results):\n",
    "        print(result.result())"
   ]
  }
 ],
 "metadata": {
  "kernelspec": {
   "display_name": "py3.10",
   "language": "python",
   "name": "python3"
  },
  "language_info": {
   "codemirror_mode": {
    "name": "ipython",
    "version": 3
   },
   "file_extension": ".py",
   "mimetype": "text/x-python",
   "name": "python",
   "nbconvert_exporter": "python",
   "pygments_lexer": "ipython3",
   "version": "3.10.12"
  }
 },
 "nbformat": 4,
 "nbformat_minor": 2
}
