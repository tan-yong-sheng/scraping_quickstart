{
 "cells": [
  {
   "cell_type": "markdown",
   "metadata": {},
   "source": [
    "## Case study: Scrape website with heavy anti-bot detection"
   ]
  },
  {
   "cell_type": "markdown",
   "metadata": {},
   "source": [
    "### Introduction\n",
    "\n",
    "\n",
    "### Target website\n",
    "[leboncoin.fr](https://www.leboncoin.fr)\n",
    "\n",
    "### Reference: \n",
    "1. How to Use Curl_cffi for Web Scraping https://www.zenrows.com/blog/curl-cffi#step-1\n",
    "2. Github library - curl_cffi: https://github.com/lexiforest/curl_cffi\n",
    "\n",
    "(Remark: this is a very strict website)"
   ]
  },
  {
   "cell_type": "markdown",
   "metadata": {},
   "source": [
    "### Step 1: Install libraries"
   ]
  },
  {
   "cell_type": "code",
   "execution_count": 1,
   "metadata": {},
   "outputs": [],
   "source": [
    "from curl_cffi import requests"
   ]
  },
  {
   "cell_type": "code",
   "execution_count": 2,
   "metadata": {},
   "outputs": [],
   "source": [
    "session = requests.Session()"
   ]
  },
  {
   "cell_type": "code",
   "execution_count": 7,
   "metadata": {},
   "outputs": [
    {
     "name": "stderr",
     "output_type": "stream",
     "text": [
      "/workspace/.pyenv_mirror/user/3.10.13/lib/python3.10/site-packages/curl_cffi/requests/cookies.py:137: UserWarning: `secure` changed to True for `__Secure-` prefixed cookies\n",
      "  self.set(key, value)\n"
     ]
    }
   ],
   "source": [
    "from curl_cffi import requests\n",
    "\n",
    "item_count = 35\n",
    "data_list = []\n",
    "\n",
    "for idx in range(0,11):\n",
    "    cookies = {\n",
    "        '__Secure-Install': 'b4312f24-be56-4e01-8ba6-967cde761386',\n",
    "        'deviceId': '789afdea-fa03-4309-be74-bb56d9425933',\n",
    "        'didomi_token': 'eyJ1c2VyX2lkIjoiMTkxZTBlYzQtZWY5YS02NGRmLWEwOTAtNDY3MGRjODg4YzNhIiwiY3JlYXRlZCI6IjIwMjQtMDktMTFUMTE6NTE6MDguNzkzWiIsInVwZGF0ZWQiOiIyMDI0LTA5LTExVDExOjUxOjE2LjE0MFoiLCJ2ZW5kb3JzIjp7ImVuYWJsZWQiOlsiZ29vZ2xlIiwiYzpsYmNmcmFuY2UiLCJjOnJldmxpZnRlci1jUnBNbnA1eCIsImM6cHVycG9zZWxhLTN3NFpmS0tEIiwiYzppbmZlY3Rpb3VzLW1lZGlhIiwiYzp0dXJibyIsImM6YWRpbW8tUGhVVm02RkUiLCJjOmdvb2dsZWFuYS00VFhuSmlnUiIsImM6dW5kZXJ0b25lLVRManFkVHBmIiwiYzptNnB1YmxpY2ktdFhUWUROQWMiLCJjOnJvY2tlcmJveC1mVE04RUo5UCIsImM6YWZmaWxpbmV0IiwiYzpzcG9uZ2VjZWxsLW55eWJBS0gyIiwiYzp0YWlsdGFyZ2UtbkdXVW5heTciLCJjOnRpa3Rvay1yS0FZRGdiSCIsImM6emFub3gtYVlZejZ6VzQiLCJjOnBpbnRlcmVzdCIsImM6aWduaXRpb25vLUxWQU1aZG5qIiwiYzpkaWRvbWkiLCJjOmxiY2ZyYW5jZS1IeTNrWU05RiJdfSwicHVycG9zZXMiOnsiZW5hYmxlZCI6WyJleHBlcmllbmNldXRpbGlzYXRldXIiLCJtZXN1cmVhdWRpZW5jZSIsInBlcnNvbm5hbGlzYXRpb25tYXJrZXRpbmciLCJwcml4IiwiZGV2aWNlX2NoYXJhY3RlcmlzdGljcyIsImNvbXBhcmFpc28tWTNaeTNVRXgiXX0sInZlbmRvcnNfbGkiOnsiZW5hYmxlZCI6WyJnb29nbGUiLCJjOnB1cnBvc2VsYS0zdzRaZktLRCIsImM6dHVyYm8iXX0sInZlcnNpb24iOjIsImFjIjoiRExXQThBRVlBTElCN2dFbGdRREFpU0JLUURFUUhUZ09yQWdZQkJ1Q0tnRWM0Skp3UzFnbXRCUVlDaEVGRm9LNTRXQ2hZTUMxVUZ0NExnd1hHQXVXQmdNRENJR1dvQUFBLkRMV0E4QUVZQUxJQjdnRWxnUURBaVNCS1FERVFIVGdPckFnWUJCdUNLZ0VjNEpKd1MxZ210QlFZQ2hFRkZvSzU0V0NoWU1DMVVGdDRMZ3dYR0F1V0JnTURDSUdXb0FBQSJ9',\n",
    "        'euconsent-v2': 'CQEyKcAQEyKcAAHABBENBGFkAP_gAELgAAAAJ9NB_G_dTSFi8X51YPtgcQ1P4VAjogAABgaJAwwBiBLAMIwEhmAAIAHqAAACABAAIDZAAQBlCADAAAAAYIAAAyAMAAAAIRAIJgAAAEAAAmJICABJC4AgAQAQgkgAABUAgAIAABogSFAAAAAAFAAAACAAAAAAAAAAAAAAQAAAAAAAAgAAAAAACAAAAAAEAFAAAAAAAAAAAAAAAAAEAAAAAAEELwATDQqIACwJCQg0DCAAACoIAgAgAAAAAJAwQAABAgAEAYACjAAAAAFAAAAAAAAEBAAAAAAgAQgAAAAIEAAAAAEAAAAEAgEAAAAAAAAABAAAAAEAMAQAIAAgAAAAAIAQAAgAAgAJCgAAAAAAgAAABAAAAQAEAAAAAAAAAAAAAAAAQAAAAAABADFAAYAAgpqMAAwABBTUgABgACCmoAAA.f_wACFwAAAAA',\n",
    "        '_ga': 'GA1.1.2096715773.1726055472',\n",
    "        'include_in_experiment': 'true',\n",
    "        'FPID': 'FPID2.2.ziFFRZ%2B%2FAeG6H1n0CSO08ArgJ0fba8TW25gKqkViD5c%3D.1726055472',\n",
    "        'ry_ry-l3b0nco_realytics': 'eyJpZCI6InJ5XzQ2MDZEOEYwLTNDMUQtNEM2Ni1BMzM2LTE5MEY4N0EwOUQzRCIsImNpZCI6bnVsbCwiZXhwIjoxNzU3NTkxNDcyNjkyLCJjcyI6MX0%3D',\n",
    "        '_gcl_au': '1.1.164172894.1726055477',\n",
    "        'FPLC': 'D0HmmitdVK0lAc4IuBxEtF9uY6RcefW5kZBYPEgUQHm6b2YR6y4uNSKEFG4ckdt2WsJBJak1KYrBbudOkhmvNL67MZcYQHqY2eJCNTZuDgI5dZ2NxwnlbcHaw93TCw%3D%3D',\n",
    "        '_hjSessionUser_2783207': 'eyJpZCI6IjYyZDI2MDMxLTBmOWUtNTY3Yi05MDRhLTc1Y2UwYTNjMDBhZiIsImNyZWF0ZWQiOjE3MjYwNTU0ODA3NTQsImV4aXN0aW5nIjp0cnVlfQ==',\n",
    "        '_hjSession_2783207': 'eyJpZCI6IjRjYTA2ZDNhLTk1N2MtNDdhZS04YTBmLWIyYzA1ZjU4NTZhNCIsImMiOjE3MjYwNTg1ODMwODksInMiOjAsInIiOjAsInNiIjowLCJzciI6MCwic2UiOjAsImZzIjowLCJzcCI6MH0=',\n",
    "        'ry_ry-l3b0nco_so_realytics': 'eyJpZCI6InJ5XzQ2MDZEOEYwLTNDMUQtNEM2Ni1BMzM2LTE5MEY4N0EwOUQzRCIsImNpZCI6bnVsbCwib3JpZ2luIjp0cnVlLCJyZWYiOm51bGwsImNvbnQiOm51bGwsIm5zIjp0cnVlLCJzYyI6Im9rIiwic3AiOm51bGx9',\n",
    "        '__gsas': 'ID=3ffab197d37d1795:T=1726059283:RT=1726059283:S=ALNI_Mbajh9qRr-XLu_c-PsvjLsMdj1_UA',\n",
    "        'cto_bundle': 'br1Hfl90aEhyQ1RjaEpMJTJCVHdabUxTdXpQM2U5NDZyUGo0S2ZpajFCY0tSTVBtS1YzcXo5SkJwYXF0bldzSWV5eUFLRllyVU10ZzV3ZmtkM1dDJTJGdG0yWiUyRk5keHpaTFJBQ3dpREg5Zm9GalZKb2ptc0FPaUlUS2tHRGdOU2t6ZXBGRU9za2JIR1VvOWdMN2J0QU9zWm03d29JSmtXNEpsTWdnJTJCNU9xQlg1NDZuUGk1Rk9FR1VVJTJGQkJIZSUyRkk5JTJGOXJ4UWtYOWIxelhzWTh6M3VLclVCeTQyN08lMkZCaUc3MmltSFRlMyUyQnc1V0lUdjRKOTYwbXlLdmlzM01qZVMlMkJ5NzQ2RiUyRkdYMUVWYUVKcHNleG1pTENVU1RJeHpCamclM0QlM0Q',\n",
    "        '_ga_Z707449XJ2': 'GS1.1.1726058584.2.1.1726059283.0.0.1218941014',\n",
    "        'utag_main': 'v_id:0191e0ec51eb00201263ec32913c0506f0019067007e8$_sn:2$_ss:0$_st:1726061083672$_pn:4%3Bexp-session$ses_id:1726058582141%3Bexp-session',\n",
    "        '__gads': 'ID=9cdbe0ecc6027e5a:T=1726055486:RT=1726059285:S=ALNI_MY8JDf0jAAFU9fIoDQd-g1m_QydDw',\n",
    "        '__gpi': 'UID=00000efa5733111f:T=1726055486:RT=1726059285:S=ALNI_MZ3Yy5yLq5zw5uzqrlUmO2VKa6Fhg',\n",
    "        '__eoi': 'ID=e47755206bfa18b4:T=1726055486:RT=1726059285:S=AA-AfjYrck9RilJL9P0ikvnuypAn',\n",
    "        'datadome': 'ObJXWVdcqjRA5VvEC5MuCyz6~LZ0LAwjuKt4v7eWvIm92RD7XCDu7C9enezDKG2eibvlwfoFiFMsPRSkHpn7lmNdUXjtcIxGj4xF7vLOarPDZkFVD2YDZlpKVyJma9UV',\n",
    "    }\n",
    "\n",
    "    headers = {\n",
    "        'accept': '*/*',\n",
    "        'accept-language': 'en-US,en;q=0.9,zh-CN;q=0.8,zh;q=0.7',\n",
    "        'api_key': 'ba0c2dad52b3ec',\n",
    "        'cache-control': 'no-cache',\n",
    "        'content-type': 'application/json',\n",
    "        # 'cookie': '__Secure-Install=b4312f24-be56-4e01-8ba6-967cde761386; deviceId=789afdea-fa03-4309-be74-bb56d9425933; didomi_token=eyJ1c2VyX2lkIjoiMTkxZTBlYzQtZWY5YS02NGRmLWEwOTAtNDY3MGRjODg4YzNhIiwiY3JlYXRlZCI6IjIwMjQtMDktMTFUMTE6NTE6MDguNzkzWiIsInVwZGF0ZWQiOiIyMDI0LTA5LTExVDExOjUxOjE2LjE0MFoiLCJ2ZW5kb3JzIjp7ImVuYWJsZWQiOlsiZ29vZ2xlIiwiYzpsYmNmcmFuY2UiLCJjOnJldmxpZnRlci1jUnBNbnA1eCIsImM6cHVycG9zZWxhLTN3NFpmS0tEIiwiYzppbmZlY3Rpb3VzLW1lZGlhIiwiYzp0dXJibyIsImM6YWRpbW8tUGhVVm02RkUiLCJjOmdvb2dsZWFuYS00VFhuSmlnUiIsImM6dW5kZXJ0b25lLVRManFkVHBmIiwiYzptNnB1YmxpY2ktdFhUWUROQWMiLCJjOnJvY2tlcmJveC1mVE04RUo5UCIsImM6YWZmaWxpbmV0IiwiYzpzcG9uZ2VjZWxsLW55eWJBS0gyIiwiYzp0YWlsdGFyZ2UtbkdXVW5heTciLCJjOnRpa3Rvay1yS0FZRGdiSCIsImM6emFub3gtYVlZejZ6VzQiLCJjOnBpbnRlcmVzdCIsImM6aWduaXRpb25vLUxWQU1aZG5qIiwiYzpkaWRvbWkiLCJjOmxiY2ZyYW5jZS1IeTNrWU05RiJdfSwicHVycG9zZXMiOnsiZW5hYmxlZCI6WyJleHBlcmllbmNldXRpbGlzYXRldXIiLCJtZXN1cmVhdWRpZW5jZSIsInBlcnNvbm5hbGlzYXRpb25tYXJrZXRpbmciLCJwcml4IiwiZGV2aWNlX2NoYXJhY3RlcmlzdGljcyIsImNvbXBhcmFpc28tWTNaeTNVRXgiXX0sInZlbmRvcnNfbGkiOnsiZW5hYmxlZCI6WyJnb29nbGUiLCJjOnB1cnBvc2VsYS0zdzRaZktLRCIsImM6dHVyYm8iXX0sInZlcnNpb24iOjIsImFjIjoiRExXQThBRVlBTElCN2dFbGdRREFpU0JLUURFUUhUZ09yQWdZQkJ1Q0tnRWM0Skp3UzFnbXRCUVlDaEVGRm9LNTRXQ2hZTUMxVUZ0NExnd1hHQXVXQmdNRENJR1dvQUFBLkRMV0E4QUVZQUxJQjdnRWxnUURBaVNCS1FERVFIVGdPckFnWUJCdUNLZ0VjNEpKd1MxZ210QlFZQ2hFRkZvSzU0V0NoWU1DMVVGdDRMZ3dYR0F1V0JnTURDSUdXb0FBQSJ9; euconsent-v2=CQEyKcAQEyKcAAHABBENBGFkAP_gAELgAAAAJ9NB_G_dTSFi8X51YPtgcQ1P4VAjogAABgaJAwwBiBLAMIwEhmAAIAHqAAACABAAIDZAAQBlCADAAAAAYIAAAyAMAAAAIRAIJgAAAEAAAmJICABJC4AgAQAQgkgAABUAgAIAABogSFAAAAAAFAAAACAAAAAAAAAAAAAAQAAAAAAAAgAAAAAACAAAAAAEAFAAAAAAAAAAAAAAAAAEAAAAAAEELwATDQqIACwJCQg0DCAAACoIAgAgAAAAAJAwQAABAgAEAYACjAAAAAFAAAAAAAAEBAAAAAAgAQgAAAAIEAAAAAEAAAAEAgEAAAAAAAAABAAAAAEAMAQAIAAgAAAAAIAQAAgAAgAJCgAAAAAAgAAABAAAAQAEAAAAAAAAAAAAAAAAQAAAAAABADFAAYAAgpqMAAwABBTUgABgACCmoAAA.f_wACFwAAAAA; _ga=GA1.1.2096715773.1726055472; include_in_experiment=true; FPID=FPID2.2.ziFFRZ%2B%2FAeG6H1n0CSO08ArgJ0fba8TW25gKqkViD5c%3D.1726055472; ry_ry-l3b0nco_realytics=eyJpZCI6InJ5XzQ2MDZEOEYwLTNDMUQtNEM2Ni1BMzM2LTE5MEY4N0EwOUQzRCIsImNpZCI6bnVsbCwiZXhwIjoxNzU3NTkxNDcyNjkyLCJjcyI6MX0%3D; _gcl_au=1.1.164172894.1726055477; FPLC=D0HmmitdVK0lAc4IuBxEtF9uY6RcefW5kZBYPEgUQHm6b2YR6y4uNSKEFG4ckdt2WsJBJak1KYrBbudOkhmvNL67MZcYQHqY2eJCNTZuDgI5dZ2NxwnlbcHaw93TCw%3D%3D; _hjSessionUser_2783207=eyJpZCI6IjYyZDI2MDMxLTBmOWUtNTY3Yi05MDRhLTc1Y2UwYTNjMDBhZiIsImNyZWF0ZWQiOjE3MjYwNTU0ODA3NTQsImV4aXN0aW5nIjp0cnVlfQ==; _hjSession_2783207=eyJpZCI6IjRjYTA2ZDNhLTk1N2MtNDdhZS04YTBmLWIyYzA1ZjU4NTZhNCIsImMiOjE3MjYwNTg1ODMwODksInMiOjAsInIiOjAsInNiIjowLCJzciI6MCwic2UiOjAsImZzIjowLCJzcCI6MH0=; ry_ry-l3b0nco_so_realytics=eyJpZCI6InJ5XzQ2MDZEOEYwLTNDMUQtNEM2Ni1BMzM2LTE5MEY4N0EwOUQzRCIsImNpZCI6bnVsbCwib3JpZ2luIjp0cnVlLCJyZWYiOm51bGwsImNvbnQiOm51bGwsIm5zIjp0cnVlLCJzYyI6Im9rIiwic3AiOm51bGx9; __gsas=ID=3ffab197d37d1795:T=1726059283:RT=1726059283:S=ALNI_Mbajh9qRr-XLu_c-PsvjLsMdj1_UA; cto_bundle=br1Hfl90aEhyQ1RjaEpMJTJCVHdabUxTdXpQM2U5NDZyUGo0S2ZpajFCY0tSTVBtS1YzcXo5SkJwYXF0bldzSWV5eUFLRllyVU10ZzV3ZmtkM1dDJTJGdG0yWiUyRk5keHpaTFJBQ3dpREg5Zm9GalZKb2ptc0FPaUlUS2tHRGdOU2t6ZXBGRU9za2JIR1VvOWdMN2J0QU9zWm03d29JSmtXNEpsTWdnJTJCNU9xQlg1NDZuUGk1Rk9FR1VVJTJGQkJIZSUyRkk5JTJGOXJ4UWtYOWIxelhzWTh6M3VLclVCeTQyN08lMkZCaUc3MmltSFRlMyUyQnc1V0lUdjRKOTYwbXlLdmlzM01qZVMlMkJ5NzQ2RiUyRkdYMUVWYUVKcHNleG1pTENVU1RJeHpCamclM0QlM0Q; _ga_Z707449XJ2=GS1.1.1726058584.2.1.1726059283.0.0.1218941014; utag_main=v_id:0191e0ec51eb00201263ec32913c0506f0019067007e8$_sn:2$_ss:0$_st:1726061083672$_pn:4%3Bexp-session$ses_id:1726058582141%3Bexp-session; __gads=ID=9cdbe0ecc6027e5a:T=1726055486:RT=1726059285:S=ALNI_MY8JDf0jAAFU9fIoDQd-g1m_QydDw; __gpi=UID=00000efa5733111f:T=1726055486:RT=1726059285:S=ALNI_MZ3Yy5yLq5zw5uzqrlUmO2VKa6Fhg; __eoi=ID=e47755206bfa18b4:T=1726055486:RT=1726059285:S=AA-AfjYrck9RilJL9P0ikvnuypAn; datadome=ObJXWVdcqjRA5VvEC5MuCyz6~LZ0LAwjuKt4v7eWvIm92RD7XCDu7C9enezDKG2eibvlwfoFiFMsPRSkHpn7lmNdUXjtcIxGj4xF7vLOarPDZkFVD2YDZlpKVyJma9UV',\n",
    "        'origin': 'https://www.leboncoin.fr',\n",
    "        'pragma': 'no-cache',\n",
    "        'priority': 'u=1, i',\n",
    "        'referer': 'https://www.leboncoin.fr/annonces/offres',\n",
    "        'sec-ch-ua': '\"Chromium\";v=\"128\", \"Not;A=Brand\";v=\"24\", \"Google Chrome\";v=\"128\"',\n",
    "        'sec-ch-ua-mobile': '?0',\n",
    "        'sec-ch-ua-platform': '\"Windows\"',\n",
    "        'sec-fetch-dest': 'empty',\n",
    "        'sec-fetch-mode': 'cors',\n",
    "        'sec-fetch-site': 'same-site',\n",
    "        'user-agent': 'Mozilla/5.0 (Windows NT 10.0; Win64; x64) AppleWebKit/537.36 (KHTML, like Gecko) Chrome/128.0.0.0 Safari/537.36',\n",
    "    }\n",
    "\n",
    "    json_data = {\n",
    "        'limit': item_count,\n",
    "        'limit_alu': 3,\n",
    "        'sort_by': 'time',\n",
    "        'sort_order': 'desc',\n",
    "        'filters': {\n",
    "            'enums': {\n",
    "                'ad_type': [\n",
    "                    'offer',\n",
    "                ],\n",
    "            },\n",
    "            'ranges': {},\n",
    "            'category': {\n",
    "                'id': '2',\n",
    "            },\n",
    "            'location': {},\n",
    "        },\n",
    "        'offset': item_count * idx ,\n",
    "        'extend': True,\n",
    "        'listing_source': 'direct-search',\n",
    "    }\n",
    "\n",
    "    response = requests.post('https://api.leboncoin.fr/finder/search', cookies=cookies, headers=headers, json=json_data)\n",
    "    \n",
    "    if response.status_code == 200:\n",
    "        data = response.json()[\"ads\"]\n",
    "        data_list.extend(data)\n",
    "\n"
   ]
  },
  {
   "cell_type": "code",
   "execution_count": 11,
   "metadata": {},
   "outputs": [],
   "source": [
    "with open(\"test.txt\", \"w\") as file:\n",
    "    file.write(str(data))"
   ]
  },
  {
   "cell_type": "markdown",
   "metadata": {},
   "source": [
    "## Computing Environment"
   ]
  },
  {
   "cell_type": "code",
   "execution_count": null,
   "metadata": {},
   "outputs": [],
   "source": [
    "%load_ext watermark\n",
    "\n",
    "%watermark\n",
    "\n",
    "# print out pypi packages used\n",
    "%watermark --iversions\n",
    "\n",
    "# date\n",
    "%watermark -u -n -t -z"
   ]
  }
 ],
 "metadata": {
  "kernelspec": {
   "display_name": "py3.10",
   "language": "python",
   "name": "python3"
  },
  "language_info": {
   "codemirror_mode": {
    "name": "ipython",
    "version": 3
   },
   "file_extension": ".py",
   "mimetype": "text/x-python",
   "name": "python",
   "nbconvert_exporter": "python",
   "pygments_lexer": "ipython3",
   "version": "3.10.12"
  }
 },
 "nbformat": 4,
 "nbformat_minor": 2
}
