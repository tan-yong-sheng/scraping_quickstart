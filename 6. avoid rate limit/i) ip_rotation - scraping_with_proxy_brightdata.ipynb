{
 "cells": [
  {
   "cell_type": "markdown",
   "metadata": {},
   "source": [
    "# Rotating IP address with Bright Data\n",
    "\n",
    "When scraping data from websites, regularly changing the IP address used can be beneficial for the following reasons:\n",
    "\n",
    "1. **Maintaining privacy:** By rotating IP addresses, it becomes difficult for websites to trace multiple requests back to a single source. This helps keep your web scraping activities more confidential.\n",
    "\n",
    "2. **Avoiding Blocks:** Websites often block IP addresses that send excessive scraping requests. By frequently changing your IP, you can distribute requests across many IPs and reduce the chances of getting blocked.\n",
    "\n",
    "3. **Mitigating API Rate Limits:** APIs often limit how many requests can be made from one IP address. Rotating IPs allows you to spread requests over many IPs, helping stay under API rate limits and avoid 429 error (or \"Too Many Requests\" errors)."
   ]
  },
  {
   "cell_type": "markdown",
   "metadata": {},
   "source": [
    "### Step 1: Install libraries"
   ]
  },
  {
   "cell_type": "code",
   "execution_count": 12,
   "metadata": {},
   "outputs": [
    {
     "name": "stdout",
     "output_type": "stream",
     "text": [
      "Requirement already satisfied: requests in c:\\users\\yongsheng.tan\\appdata\\local\\miniconda3\\envs\\py3.10\\lib\\site-packages (2.31.0)\n",
      "Requirement already satisfied: charset-normalizer<4,>=2 in c:\\users\\yongsheng.tan\\appdata\\local\\miniconda3\\envs\\py3.10\\lib\\site-packages (from requests) (3.3.2)\n",
      "Requirement already satisfied: idna<4,>=2.5 in c:\\users\\yongsheng.tan\\appdata\\local\\miniconda3\\envs\\py3.10\\lib\\site-packages (from requests) (3.6)\n",
      "Requirement already satisfied: urllib3<3,>=1.21.1 in c:\\users\\yongsheng.tan\\appdata\\local\\miniconda3\\envs\\py3.10\\lib\\site-packages (from requests) (2.0.7)\n",
      "Requirement already satisfied: certifi>=2017.4.17 in c:\\users\\yongsheng.tan\\appdata\\local\\miniconda3\\envs\\py3.10\\lib\\site-packages (from requests) (2024.2.2)\n",
      "Note: you may need to restart the kernel to use updated packages.\n",
      "Requirement already satisfied: python-dotenv in c:\\users\\yongsheng.tan\\appdata\\local\\miniconda3\\envs\\py3.10\\lib\\site-packages (1.0.1)Note: you may need to restart the kernel to use updated packages.\n",
      "\n"
     ]
    }
   ],
   "source": [
    "%pip install requests\n",
    "%pip install python-dotenv"
   ]
  },
  {
   "cell_type": "markdown",
   "metadata": {},
   "source": [
    "### Step 2: Set up proxy server"
   ]
  },
  {
   "cell_type": "code",
   "execution_count": null,
   "metadata": {},
   "outputs": [],
   "source": []
  },
  {
   "cell_type": "markdown",
   "metadata": {},
   "source": [
    "### Step 3: IP rotating with Python library requests"
   ]
  },
  {
   "cell_type": "code",
   "execution_count": 3,
   "metadata": {},
   "outputs": [],
   "source": [
    "import os\n",
    "import random\n",
    "\n",
    "import requests\n",
    "from dotenv import load_dotenv\n",
    "\n",
    "_ = load_dotenv()\n",
    "\n",
    "url = \"https://httpbin.co/ip\"\n",
    "\n",
    "proxy_hostname = os.getenv(\"PROXY_HOSTNAME\")\n",
    "proxy_username = os.getenv(\"PROXY_USERNAME\")\n",
    "proxy_password = os.getenv(\"PROXY_PASSWORD\")"
   ]
  },
  {
   "cell_type": "code",
   "execution_count": 9,
   "metadata": {},
   "outputs": [],
   "source": [
    "class ProxyServer:\n",
    "    def __init__(self, proxy_username, proxy_password, proxy_hostname):\n",
    "        self.proxy_username = proxy_username\n",
    "        self.proxy_password = proxy_password\n",
    "        self.proxy_hostname = proxy_hostname\n",
    "\n",
    "    def __call__(self):\n",
    "        rand_num = random.randint(1, 9999)\n",
    "        # Reference: https://docs.brightdata.com/api-reference/proxy/rotate_ips\n",
    "        ## Add -session parameter to this proxy to change IP address every requests is sent\n",
    "        proxy = f\"{self.proxy_username}-session-rand{rand_num}:{self.proxy_password}@{self.proxy_hostname}\"\n",
    "        return {\n",
    "            \"http\": f\"https://{proxy}\",\n",
    "            \"https\": f\"https://{proxy}\",\n",
    "        }\n",
    "\n",
    "proxy_servers = ProxyServer(proxy_username, proxy_password, proxy_hostname)\n",
    "# call proxy_servers() to register a new IP proxy\n",
    "# >> proxies = proxy_servers() "
   ]
  },
  {
   "cell_type": "code",
   "execution_count": 11,
   "metadata": {},
   "outputs": [
    {
     "name": "stdout",
     "output_type": "stream",
     "text": [
      "IP location metadata: {'method': 'GET', 'ip': '185.223.251.190', 'country': 'GB', 'region': 'England', 'city': 'London', 'timezone': 'Europe/London', 'continent': 'EU'}\n",
      "IP location metadata: {'method': 'GET', 'ip': '103.129.116.159', 'country': 'SG', 'city': 'Singapore', 'timezone': 'Asia/Singapore', 'continent': 'AS'}\n",
      "IP location metadata: {'method': 'GET', 'ip': '180.149.25.188', 'country': 'US', 'region': 'New York', 'city': 'Newark', 'timezone': 'America/New_York', 'continent': 'NA'}\n",
      "IP location metadata: {'method': 'GET', 'ip': '93.115.5.115', 'country': 'US', 'timezone': 'America/Chicago', 'continent': 'NA'}\n",
      "IP location metadata: {'method': 'GET', 'ip': '185.236.93.75', 'country': 'BR', 'region': 'Sao Paulo', 'city': 'São Paulo', 'timezone': 'America/Sao_Paulo', 'continent': 'SA'}\n",
      "IP location metadata: {'method': 'GET', 'ip': '93.114.236.174', 'country': 'DE', 'timezone': 'Europe/Berlin', 'continent': 'EU'}\n",
      "IP location metadata: {'method': 'GET', 'ip': '185.15.177.179', 'country': 'CL', 'region': 'Santiago Metropolitan', 'city': 'Santiago', 'timezone': 'America/Santiago', 'continent': 'SA'}\n",
      "IP location metadata: {'method': 'GET', 'ip': '195.158.211.165', 'country': 'US', 'region': 'California', 'timezone': 'America/Los_Angeles', 'continent': 'NA'}\n",
      "IP location metadata: {'method': 'GET', 'ip': '193.8.80.78', 'country': 'KR', 'region': 'Seoul', 'city': 'Seoul', 'timezone': 'Asia/Seoul', 'continent': 'AS'}\n",
      "IP location metadata: {'method': 'GET', 'ip': '194.38.26.165', 'country': 'BR', 'region': 'Sao Paulo', 'city': 'São Paulo', 'timezone': 'America/Sao_Paulo', 'continent': 'SA'}\n"
     ]
    }
   ],
   "source": [
    "# build a session object to preserve the session cookies (or login status, if applicable)\n",
    "## throughout the process of sending web requests\n",
    "\n",
    "session = requests.Session()\n",
    " \n",
    "for idx in range(1, 11):\n",
    "    response = session.request('GET', url=url, \n",
    "                proxies=proxy_servers()) # changing IP address every new requests\n",
    "    # Note: you will see the web requests will be sent from different IP address \n",
    "    print(\"IP location metadata:\", response.json())"
   ]
  }
 ],
 "metadata": {
  "kernelspec": {
   "display_name": "py3.10",
   "language": "python",
   "name": "python3"
  },
  "language_info": {
   "codemirror_mode": {
    "name": "ipython",
    "version": 3
   },
   "file_extension": ".py",
   "mimetype": "text/x-python",
   "name": "python",
   "nbconvert_exporter": "python",
   "pygments_lexer": "ipython3",
   "version": "3.10.12"
  }
 },
 "nbformat": 4,
 "nbformat_minor": 2
}
