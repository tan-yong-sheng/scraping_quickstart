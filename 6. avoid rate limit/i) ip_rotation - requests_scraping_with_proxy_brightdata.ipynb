{
 "cells": [
  {
   "cell_type": "markdown",
   "metadata": {},
   "source": [
    "# Rotating IP address with Bright Data\n",
    "\n",
    "When scraping data from websites, regularly changing the IP address used can be beneficial for the following reasons:\n",
    "\n",
    "1. **Maintaining privacy:** By rotating IP addresses, it becomes difficult for websites to trace multiple requests back to a single source. This helps keep your web scraping activities more confidential.\n",
    "\n",
    "2. **Avoiding Blocks:** Websites often block IP addresses that send excessive scraping requests. By frequently changing your IP, you can distribute requests across many IPs and reduce the chances of getting blocked.\n",
    "\n",
    "3. **Mitigating API Rate Limits:** APIs often limit how many requests can be made from one IP address. Rotating IPs allows you to spread requests over many IPs, helping stay under API rate limits and avoid 429 error (or \"Too Many Requests\" errors).\n",
    "\n",
    "---\n",
    "\n",
    "## Pre-requisites\n",
    "Have a [Brightdata](https://brightdata.com/) account"
   ]
  },
  {
   "cell_type": "markdown",
   "metadata": {},
   "source": [
    "### Step 1: Install libraries"
   ]
  },
  {
   "cell_type": "code",
   "execution_count": 1,
   "metadata": {},
   "outputs": [
    {
     "name": "stdout",
     "output_type": "stream",
     "text": [
      "Requirement already satisfied: requests in c:\\users\\yongsheng.tan\\appdata\\local\\miniconda3\\envs\\py3.10\\lib\\site-packages (2.31.0)\n",
      "Requirement already satisfied: charset-normalizer<4,>=2 in c:\\users\\yongsheng.tan\\appdata\\local\\miniconda3\\envs\\py3.10\\lib\\site-packages (from requests) (3.3.2)\n",
      "Requirement already satisfied: idna<4,>=2.5 in c:\\users\\yongsheng.tan\\appdata\\local\\miniconda3\\envs\\py3.10\\lib\\site-packages (from requests) (3.6)\n",
      "Requirement already satisfied: urllib3<3,>=1.21.1 in c:\\users\\yongsheng.tan\\appdata\\local\\miniconda3\\envs\\py3.10\\lib\\site-packages (from requests) (2.0.7)\n",
      "Requirement already satisfied: certifi>=2017.4.17 in c:\\users\\yongsheng.tan\\appdata\\local\\miniconda3\\envs\\py3.10\\lib\\site-packages (from requests) (2024.2.2)\n",
      "Note: you may need to restart the kernel to use updated packages.\n",
      "Requirement already satisfied: python-dotenv in c:\\users\\yongsheng.tan\\appdata\\local\\miniconda3\\envs\\py3.10\\lib\\site-packages (1.0.1)\n",
      "Note: you may need to restart the kernel to use updated packages.\n"
     ]
    }
   ],
   "source": [
    "%pip install requests\n",
    "%pip install python-dotenv"
   ]
  },
  {
   "cell_type": "markdown",
   "metadata": {},
   "source": [
    "### Step 2: Set up proxy server"
   ]
  },
  {
   "cell_type": "markdown",
   "metadata": {},
   "source": [
    "Assuming you've established your Bright Data account, the next step involves setting up your proxy server through this link: https://brightdata.com/cp/zones. In my experience, I opted for data center proxies due to their superior speed and cost-effectiveness.\n",
    "\n",
    "I'll consistently choose data center proxies unless there are compelling reasons to reconsider. For example, when I still get blocked using data center proxies, I would choose to use residential proxies which is more expensive.\n",
    "\n",
    "<img src=\"../assets/static/brightdata-create-datacenter-proxies-step1.png\" width=500px alt=\"Step 1 - Create Datacenter proxies in Bright Data\"><br>\n",
    "\n",
    "Here I will choose to use premium data center proxies. Because this plan got a large pool of IP address I could rotate with:\n",
    "\n",
    "For the other two plans, adding 1 more IP address would cost +$0.80/month...\n",
    "\n",
    "<img src=\"../assets/static/brightdata-create-datacenter-proxies-step2.png\" width=500px alt=\"Step 2 - Create Datacenter proxies in Bright Data\"><br>\n",
    "\n",
    "\n",
    "You can find the proxy pricing here (approximately $1.2/GB). Let's do a quick estimate: if each of your requests is around 50KB, sending 20,000 requests would only cost you $1.2!\n",
    "\n",
    "<img src=\"../assets/static/brightdata-create-datacenter-proxies-step3.png\" width=500px alt=\"Step 3 - Create Datacenter proxies in Bright Data\">"
   ]
  },
  {
   "cell_type": "markdown",
   "metadata": {},
   "source": [
    "### Step 3: IP rotating with Python library requests"
   ]
  },
  {
   "cell_type": "code",
   "execution_count": 2,
   "metadata": {},
   "outputs": [],
   "source": [
    "import os\n",
    "import random\n",
    "\n",
    "import requests\n",
    "from dotenv import load_dotenv\n",
    "\n",
    "_ = load_dotenv()\n",
    "\n",
    "url = \"https://httpbin.co/ip\"\n",
    "\n",
    "proxy_hostname = os.getenv(\"PROXY_HOSTNAME\")\n",
    "proxy_username = os.getenv(\"PROXY_USERNAME\")\n",
    "proxy_password = os.getenv(\"PROXY_PASSWORD\")"
   ]
  },
  {
   "cell_type": "code",
   "execution_count": 3,
   "metadata": {},
   "outputs": [],
   "source": [
    "class ProxyServer:\n",
    "    def __init__(self, proxy_username, proxy_password, proxy_hostname):\n",
    "        self.proxy_username = proxy_username\n",
    "        self.proxy_password = proxy_password\n",
    "        self.proxy_hostname = proxy_hostname\n",
    "\n",
    "    def __call__(self):\n",
    "        rand_num = random.randint(1, 9999)\n",
    "        # Reference: https://docs.brightdata.com/api-reference/proxy/rotate_ips\n",
    "        ## Add -session parameter to this proxy to change IP address every requests is sent\n",
    "        proxy = f\"{self.proxy_username}-session-rand{rand_num}:{self.proxy_password}@{self.proxy_hostname}\"\n",
    "        return {\n",
    "            \"http\": f\"https://{proxy}\",\n",
    "            \"https\": f\"https://{proxy}\",\n",
    "        }\n",
    "\n",
    "proxy_servers = ProxyServer(proxy_username, proxy_password, proxy_hostname)\n",
    "# call proxy_servers() to register a new IP proxy\n",
    "# >> proxies = proxy_servers() "
   ]
  },
  {
   "cell_type": "code",
   "execution_count": 4,
   "metadata": {},
   "outputs": [
    {
     "name": "stdout",
     "output_type": "stream",
     "text": [
      "IP location metadata: {'method': 'GET', 'ip': '206.204.63.141', 'country': 'US', 'timezone': 'America/Chicago', 'continent': 'NA'}\n",
      "IP location metadata: {'method': 'GET', 'ip': '188.211.25.8', 'country': 'US', 'region': 'New York', 'city': 'Newark', 'timezone': 'America/New_York', 'continent': 'NA'}\n",
      "IP location metadata: {'method': 'GET', 'ip': '206.204.36.211', 'country': 'US', 'timezone': 'America/Chicago', 'continent': 'NA'}\n",
      "IP location metadata: {'method': 'GET', 'ip': '152.39.215.167', 'country': 'US', 'region': 'Virginia', 'city': 'Ashburn', 'timezone': 'America/New_York', 'continent': 'NA'}\n",
      "IP location metadata: {'method': 'GET', 'ip': '178.171.112.130', 'country': 'NL', 'timezone': 'Europe/Amsterdam', 'continent': 'EU'}\n",
      "IP location metadata: {'method': 'GET', 'ip': '94.176.86.56', 'country': 'US', 'timezone': 'America/Chicago', 'continent': 'NA'}\n",
      "IP location metadata: {'method': 'GET', 'ip': '2.57.77.223', 'country': 'US', 'timezone': 'America/Chicago', 'continent': 'NA'}\n",
      "IP location metadata: {'method': 'GET', 'ip': '95.175.66.32', 'country': 'JP', 'region': 'Hyōgo', 'timezone': 'Asia/Tokyo', 'continent': 'AS'}\n",
      "IP location metadata: {'method': 'GET', 'ip': '161.123.109.142', 'country': 'US', 'region': 'Texas', 'city': 'Austin', 'timezone': 'America/Chicago', 'continent': 'NA'}\n",
      "IP location metadata: {'method': 'GET', 'ip': '5.183.36.48', 'country': 'IT', 'region': 'Lombardy', 'city': 'Milan', 'timezone': 'Europe/Rome', 'continent': 'EU'}\n"
     ]
    }
   ],
   "source": [
    "# build a session object to preserve the session cookies (or login status, if applicable)\n",
    "## throughout the process of sending web requests\n",
    "\n",
    "session = requests.Session()\n",
    " \n",
    "for idx in range(1, 11):\n",
    "    response = session.request('GET', url=url, \n",
    "                proxies=proxy_servers()) # changing IP address every new requests\n",
    "    # Note: you will see the web requests will be sent from different IP address \n",
    "    print(\"IP location metadata:\", response.json())"
   ]
  },
  {
   "cell_type": "markdown",
   "metadata": {},
   "source": [
    "## Computing environment"
   ]
  },
  {
   "cell_type": "code",
   "execution_count": 5,
   "metadata": {},
   "outputs": [
    {
     "name": "stdout",
     "output_type": "stream",
     "text": [
      "Last updated: 2024-03-03T20:27:32.125267+08:00\n",
      "\n",
      "Python implementation: CPython\n",
      "Python version       : 3.10.12\n",
      "IPython version      : 8.22.1\n",
      "\n",
      "Compiler    : MSC v.1916 64 bit (AMD64)\n",
      "OS          : Windows\n",
      "Release     : 10\n",
      "Machine     : AMD64\n",
      "Processor   : Intel64 Family 6 Model 142 Stepping 12, GenuineIntel\n",
      "CPU cores   : 8\n",
      "Architecture: 64bit\n",
      "\n",
      "requests: 2.31.0\n",
      "\n",
      "Last updated: Sun Mar 03 2024 20:27:32Malay Peninsula Standard Time\n",
      "\n"
     ]
    }
   ],
   "source": [
    "%load_ext watermark\n",
    "\n",
    "%watermark\n",
    "\n",
    "# print out pypi packages used\n",
    "%watermark --iversions\n",
    "\n",
    "# date\n",
    "%watermark -u -n -t -z"
   ]
  }
 ],
 "metadata": {
  "kernelspec": {
   "display_name": "py3.10",
   "language": "python",
   "name": "python3"
  },
  "language_info": {
   "codemirror_mode": {
    "name": "ipython",
    "version": 3
   },
   "file_extension": ".py",
   "mimetype": "text/x-python",
   "name": "python",
   "nbconvert_exporter": "python",
   "pygments_lexer": "ipython3",
   "version": "3.10.12"
  }
 },
 "nbformat": 4,
 "nbformat_minor": 2
}
