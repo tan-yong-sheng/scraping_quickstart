{
 "cells": [
  {
   "cell_type": "markdown",
   "metadata": {},
   "source": [
    "## Case study: Scrape website with heavy anti-bot detection\n",
    "\n",
    "Status: in progress"
   ]
  },
  {
   "cell_type": "markdown",
   "metadata": {},
   "source": [
    "### Introduction\n",
    "\n",
    "\n",
    "### Target website\n",
    "[leboncoin.fr](https://www.leboncoin.fr)\n",
    "\n",
    "### Reference: \n",
    "1. How to Use a Proxy with Selenium in Python (2024): https://www.zenrows.com/blog/selenium-proxy\n",
    "\n",
    "(Remark: this is a very strict website)"
   ]
  },
  {
   "cell_type": "markdown",
   "metadata": {},
   "source": [
    "### Step 1: Install libraries"
   ]
  },
  {
   "cell_type": "code",
   "execution_count": 1,
   "metadata": {},
   "outputs": [
    {
     "name": "stdout",
     "output_type": "stream",
     "text": [
      "Requirement already satisfied: seleniumbase in c:\\users\\yongsheng.tan\\appdata\\local\\miniconda3\\envs\\py3.10\\lib\\site-packages (4.24.1)\n",
      "Requirement already satisfied: pip>=24.0 in c:\\users\\yongsheng.tan\\appdata\\local\\miniconda3\\envs\\py3.10\\lib\\site-packages (from seleniumbase) (24.0)\n",
      "Requirement already satisfied: packaging>=23.2 in c:\\users\\yongsheng.tan\\appdata\\roaming\\python\\python310\\site-packages (from seleniumbase) (23.2)\n",
      "Requirement already satisfied: wheel>=0.42.0 in c:\\users\\yongsheng.tan\\appdata\\local\\miniconda3\\envs\\py3.10\\lib\\site-packages (from seleniumbase) (0.42.0)\n",
      "Requirement already satisfied: attrs>=23.2.0 in c:\\users\\yongsheng.tan\\appdata\\local\\miniconda3\\envs\\py3.10\\lib\\site-packages (from seleniumbase) (23.2.0)\n",
      "Requirement already satisfied: certifi>=2024.2.2 in c:\\users\\yongsheng.tan\\appdata\\local\\miniconda3\\envs\\py3.10\\lib\\site-packages (from seleniumbase) (2024.2.2)\n",
      "Requirement already satisfied: parse>=1.20.1 in c:\\users\\yongsheng.tan\\appdata\\local\\miniconda3\\envs\\py3.10\\lib\\site-packages (from seleniumbase) (1.20.1)\n",
      "Requirement already satisfied: parse-type>=0.6.2 in c:\\users\\yongsheng.tan\\appdata\\local\\miniconda3\\envs\\py3.10\\lib\\site-packages (from seleniumbase) (0.6.2)\n",
      "Requirement already satisfied: pyyaml>=6.0.1 in c:\\users\\yongsheng.tan\\appdata\\local\\miniconda3\\envs\\py3.10\\lib\\site-packages (from seleniumbase) (6.0.1)\n",
      "Requirement already satisfied: six==1.16.0 in c:\\users\\yongsheng.tan\\appdata\\roaming\\python\\python310\\site-packages (from seleniumbase) (1.16.0)\n",
      "Requirement already satisfied: idna==3.6 in c:\\users\\yongsheng.tan\\appdata\\local\\miniconda3\\envs\\py3.10\\lib\\site-packages (from seleniumbase) (3.6)\n",
      "Requirement already satisfied: chardet==5.2.0 in c:\\users\\yongsheng.tan\\appdata\\local\\miniconda3\\envs\\py3.10\\lib\\site-packages (from seleniumbase) (5.2.0)\n",
      "Requirement already satisfied: charset-normalizer==3.3.2 in c:\\users\\yongsheng.tan\\appdata\\local\\miniconda3\\envs\\py3.10\\lib\\site-packages (from seleniumbase) (3.3.2)\n",
      "Requirement already satisfied: requests==2.31.0 in c:\\users\\yongsheng.tan\\appdata\\local\\miniconda3\\envs\\py3.10\\lib\\site-packages (from seleniumbase) (2.31.0)\n",
      "Requirement already satisfied: pynose==1.5.0 in c:\\users\\yongsheng.tan\\appdata\\local\\miniconda3\\envs\\py3.10\\lib\\site-packages (from seleniumbase) (1.5.0)\n",
      "Requirement already satisfied: sniffio==1.3.1 in c:\\users\\yongsheng.tan\\appdata\\local\\miniconda3\\envs\\py3.10\\lib\\site-packages (from seleniumbase) (1.3.1)\n",
      "Requirement already satisfied: h11==0.14.0 in c:\\users\\yongsheng.tan\\appdata\\local\\miniconda3\\envs\\py3.10\\lib\\site-packages (from seleniumbase) (0.14.0)\n",
      "Requirement already satisfied: outcome==1.3.0.post0 in c:\\users\\yongsheng.tan\\appdata\\local\\miniconda3\\envs\\py3.10\\lib\\site-packages (from seleniumbase) (1.3.0.post0)\n",
      "Requirement already satisfied: trio-websocket==0.11.1 in c:\\users\\yongsheng.tan\\appdata\\local\\miniconda3\\envs\\py3.10\\lib\\site-packages (from seleniumbase) (0.11.1)\n",
      "Requirement already satisfied: wsproto==1.2.0 in c:\\users\\yongsheng.tan\\appdata\\local\\miniconda3\\envs\\py3.10\\lib\\site-packages (from seleniumbase) (1.2.0)\n",
      "Requirement already satisfied: cssselect==1.2.0 in c:\\users\\yongsheng.tan\\appdata\\local\\miniconda3\\envs\\py3.10\\lib\\site-packages (from seleniumbase) (1.2.0)\n",
      "Requirement already satisfied: sortedcontainers==2.4.0 in c:\\users\\yongsheng.tan\\appdata\\local\\miniconda3\\envs\\py3.10\\lib\\site-packages (from seleniumbase) (2.4.0)\n",
      "Requirement already satisfied: fasteners==0.19 in c:\\users\\yongsheng.tan\\appdata\\local\\miniconda3\\envs\\py3.10\\lib\\site-packages (from seleniumbase) (0.19)\n",
      "Requirement already satisfied: execnet==2.0.2 in c:\\users\\yongsheng.tan\\appdata\\local\\miniconda3\\envs\\py3.10\\lib\\site-packages (from seleniumbase) (2.0.2)\n",
      "Requirement already satisfied: iniconfig==2.0.0 in c:\\users\\yongsheng.tan\\appdata\\local\\miniconda3\\envs\\py3.10\\lib\\site-packages (from seleniumbase) (2.0.0)\n",
      "Requirement already satisfied: py==1.11.0 in c:\\users\\yongsheng.tan\\appdata\\local\\miniconda3\\envs\\py3.10\\lib\\site-packages (from seleniumbase) (1.11.0)\n",
      "Requirement already satisfied: pytest-html==2.0.1 in c:\\users\\yongsheng.tan\\appdata\\local\\miniconda3\\envs\\py3.10\\lib\\site-packages (from seleniumbase) (2.0.1)\n",
      "Requirement already satisfied: pytest-ordering==0.6 in c:\\users\\yongsheng.tan\\appdata\\local\\miniconda3\\envs\\py3.10\\lib\\site-packages (from seleniumbase) (0.6)\n",
      "Requirement already satisfied: pytest-rerunfailures==13.0 in c:\\users\\yongsheng.tan\\appdata\\local\\miniconda3\\envs\\py3.10\\lib\\site-packages (from seleniumbase) (13.0)\n",
      "Requirement already satisfied: pytest-xdist==3.5.0 in c:\\users\\yongsheng.tan\\appdata\\local\\miniconda3\\envs\\py3.10\\lib\\site-packages (from seleniumbase) (3.5.0)\n",
      "Requirement already satisfied: parameterized==0.9.0 in c:\\users\\yongsheng.tan\\appdata\\local\\miniconda3\\envs\\py3.10\\lib\\site-packages (from seleniumbase) (0.9.0)\n",
      "Requirement already satisfied: sbvirtualdisplay==1.3.0 in c:\\users\\yongsheng.tan\\appdata\\local\\miniconda3\\envs\\py3.10\\lib\\site-packages (from seleniumbase) (1.3.0)\n",
      "Requirement already satisfied: behave==1.2.6 in c:\\users\\yongsheng.tan\\appdata\\local\\miniconda3\\envs\\py3.10\\lib\\site-packages (from seleniumbase) (1.2.6)\n",
      "Requirement already satisfied: beautifulsoup4==4.12.3 in c:\\users\\yongsheng.tan\\appdata\\local\\miniconda3\\envs\\py3.10\\lib\\site-packages (from seleniumbase) (4.12.3)\n",
      "Requirement already satisfied: pygments==2.17.2 in c:\\users\\yongsheng.tan\\appdata\\roaming\\python\\python310\\site-packages (from seleniumbase) (2.17.2)\n",
      "Requirement already satisfied: tabcompleter==1.3.0 in c:\\users\\yongsheng.tan\\appdata\\local\\miniconda3\\envs\\py3.10\\lib\\site-packages (from seleniumbase) (1.3.0)\n",
      "Requirement already satisfied: pdbp==1.5.0 in c:\\users\\yongsheng.tan\\appdata\\local\\miniconda3\\envs\\py3.10\\lib\\site-packages (from seleniumbase) (1.5.0)\n",
      "Requirement already satisfied: colorama==0.4.6 in c:\\users\\yongsheng.tan\\appdata\\roaming\\python\\python310\\site-packages (from seleniumbase) (0.4.6)\n",
      "Requirement already satisfied: exceptiongroup==1.2.0 in c:\\users\\yongsheng.tan\\appdata\\roaming\\python\\python310\\site-packages (from seleniumbase) (1.2.0)\n",
      "Requirement already satisfied: pyotp==2.9.0 in c:\\users\\yongsheng.tan\\appdata\\local\\miniconda3\\envs\\py3.10\\lib\\site-packages (from seleniumbase) (2.9.0)\n",
      "Requirement already satisfied: mdurl==0.1.2 in c:\\users\\yongsheng.tan\\appdata\\local\\miniconda3\\envs\\py3.10\\lib\\site-packages (from seleniumbase) (0.1.2)\n",
      "Requirement already satisfied: rich==13.7.0 in c:\\users\\yongsheng.tan\\appdata\\local\\miniconda3\\envs\\py3.10\\lib\\site-packages (from seleniumbase) (13.7.0)\n",
      "Requirement already satisfied: pyreadline3==3.4.1 in c:\\users\\yongsheng.tan\\appdata\\local\\miniconda3\\envs\\py3.10\\lib\\site-packages (from seleniumbase) (3.4.1)\n",
      "Requirement already satisfied: urllib3<2.3.0,>=1.26.18 in c:\\users\\yongsheng.tan\\appdata\\local\\miniconda3\\envs\\py3.10\\lib\\site-packages (from seleniumbase) (1.26.18)\n",
      "Requirement already satisfied: setuptools>=69.1.1 in c:\\users\\yongsheng.tan\\appdata\\local\\miniconda3\\envs\\py3.10\\lib\\site-packages (from seleniumbase) (69.1.1)\n",
      "Requirement already satisfied: filelock>=3.13.1 in c:\\users\\yongsheng.tan\\appdata\\local\\miniconda3\\envs\\py3.10\\lib\\site-packages (from seleniumbase) (3.13.1)\n",
      "Requirement already satisfied: platformdirs>=4.2.0 in c:\\users\\yongsheng.tan\\appdata\\roaming\\python\\python310\\site-packages (from seleniumbase) (4.2.0)\n",
      "Requirement already satisfied: typing-extensions>=4.10.0 in c:\\users\\yongsheng.tan\\appdata\\local\\miniconda3\\envs\\py3.10\\lib\\site-packages (from seleniumbase) (4.10.0)\n",
      "Requirement already satisfied: trio==0.24.0 in c:\\users\\yongsheng.tan\\appdata\\local\\miniconda3\\envs\\py3.10\\lib\\site-packages (from seleniumbase) (0.24.0)\n",
      "Collecting selenium==4.18.1 (from seleniumbase)\n",
      "  Using cached selenium-4.18.1-py3-none-any.whl.metadata (6.9 kB)\n",
      "Requirement already satisfied: pluggy==1.4.0 in c:\\users\\yongsheng.tan\\appdata\\local\\miniconda3\\envs\\py3.10\\lib\\site-packages (from seleniumbase) (1.4.0)\n",
      "Requirement already satisfied: pytest==8.0.2 in c:\\users\\yongsheng.tan\\appdata\\local\\miniconda3\\envs\\py3.10\\lib\\site-packages (from seleniumbase) (8.0.2)\n",
      "Requirement already satisfied: pytest-metadata==3.1.1 in c:\\users\\yongsheng.tan\\appdata\\local\\miniconda3\\envs\\py3.10\\lib\\site-packages (from seleniumbase) (3.1.1)\n",
      "Requirement already satisfied: soupsieve==2.5 in c:\\users\\yongsheng.tan\\appdata\\local\\miniconda3\\envs\\py3.10\\lib\\site-packages (from seleniumbase) (2.5)\n",
      "Requirement already satisfied: markdown-it-py==3.0.0 in c:\\users\\yongsheng.tan\\appdata\\local\\miniconda3\\envs\\py3.10\\lib\\site-packages (from seleniumbase) (3.0.0)\n",
      "Requirement already satisfied: tomli>=1.0.0 in c:\\users\\yongsheng.tan\\appdata\\local\\miniconda3\\envs\\py3.10\\lib\\site-packages (from pytest==8.0.2->seleniumbase) (2.0.1)\n",
      "Requirement already satisfied: cffi>=1.14 in c:\\users\\yongsheng.tan\\appdata\\local\\miniconda3\\envs\\py3.10\\lib\\site-packages (from trio==0.24.0->seleniumbase) (1.16.0)\n",
      "Requirement already satisfied: pycparser in c:\\users\\yongsheng.tan\\appdata\\local\\miniconda3\\envs\\py3.10\\lib\\site-packages (from cffi>=1.14->trio==0.24.0->seleniumbase) (2.21)\n",
      "Requirement already satisfied: PySocks!=1.5.7,<2.0,>=1.5.6 in c:\\users\\yongsheng.tan\\appdata\\local\\miniconda3\\envs\\py3.10\\lib\\site-packages (from urllib3[socks]<3,>=1.26->selenium==4.18.1->seleniumbase) (1.7.1)\n",
      "Using cached selenium-4.18.1-py3-none-any.whl (10.0 MB)\n",
      "Installing collected packages: selenium\n",
      "  Attempting uninstall: selenium\n",
      "    Found existing installation: selenium 4.5.0\n",
      "    Uninstalling selenium-4.5.0:\n",
      "      Successfully uninstalled selenium-4.5.0\n",
      "Successfully installed selenium-4.18.1\n",
      "Note: you may need to restart the kernel to use updated packages.\n"
     ]
    },
    {
     "name": "stderr",
     "output_type": "stream",
     "text": [
      "ERROR: pip's dependency resolver does not currently take into account all the packages that are installed. This behaviour is the source of the following dependency conflicts.\n",
      "botasaurus 3.2.26 requires selenium==4.5.0, but you have selenium 4.18.1 which is incompatible.\n"
     ]
    },
    {
     "name": "stdout",
     "output_type": "stream",
     "text": [
      "Requirement already satisfied: webdriver-manager in c:\\users\\yongsheng.tan\\appdata\\local\\miniconda3\\envs\\py3.10\\lib\\site-packages (4.0.1)Note: you may need to restart the kernel to use updated packages.\n",
      "\n",
      "Requirement already satisfied: requests in c:\\users\\yongsheng.tan\\appdata\\local\\miniconda3\\envs\\py3.10\\lib\\site-packages (from webdriver-manager) (2.31.0)\n",
      "Requirement already satisfied: python-dotenv in c:\\users\\yongsheng.tan\\appdata\\local\\miniconda3\\envs\\py3.10\\lib\\site-packages (from webdriver-manager) (1.0.1)\n",
      "Requirement already satisfied: packaging in c:\\users\\yongsheng.tan\\appdata\\roaming\\python\\python310\\site-packages (from webdriver-manager) (23.2)\n",
      "Requirement already satisfied: charset-normalizer<4,>=2 in c:\\users\\yongsheng.tan\\appdata\\local\\miniconda3\\envs\\py3.10\\lib\\site-packages (from requests->webdriver-manager) (3.3.2)\n",
      "Requirement already satisfied: idna<4,>=2.5 in c:\\users\\yongsheng.tan\\appdata\\local\\miniconda3\\envs\\py3.10\\lib\\site-packages (from requests->webdriver-manager) (3.6)\n",
      "Requirement already satisfied: urllib3<3,>=1.21.1 in c:\\users\\yongsheng.tan\\appdata\\local\\miniconda3\\envs\\py3.10\\lib\\site-packages (from requests->webdriver-manager) (1.26.18)\n",
      "Requirement already satisfied: certifi>=2017.4.17 in c:\\users\\yongsheng.tan\\appdata\\local\\miniconda3\\envs\\py3.10\\lib\\site-packages (from requests->webdriver-manager) (2024.2.2)\n",
      "Requirement already satisfied: python-dotenv in c:\\users\\yongsheng.tan\\appdata\\local\\miniconda3\\envs\\py3.10\\lib\\site-packages (1.0.1)Note: you may need to restart the kernel to use updated packages.\n",
      "\n",
      "Requirement already satisfied: watermark in c:\\users\\yongsheng.tan\\appdata\\local\\miniconda3\\envs\\py3.10\\lib\\site-packages (2.4.3)\n",
      "Requirement already satisfied: ipython>=6.0 in c:\\users\\yongsheng.tan\\appdata\\roaming\\python\\python310\\site-packages (from watermark) (8.22.1)\n",
      "Requirement already satisfied: importlib-metadata>=1.4 in c:\\users\\yongsheng.tan\\appdata\\local\\miniconda3\\envs\\py3.10\\lib\\site-packages (from watermark) (7.0.1)\n",
      "Requirement already satisfied: setuptools in c:\\users\\yongsheng.tan\\appdata\\local\\miniconda3\\envs\\py3.10\\lib\\site-packages (from watermark) (69.1.1)\n",
      "Requirement already satisfied: zipp>=0.5 in c:\\users\\yongsheng.tan\\appdata\\local\\miniconda3\\envs\\py3.10\\lib\\site-packages (from importlib-metadata>=1.4->watermark) (3.17.0)\n",
      "Requirement already satisfied: decorator in c:\\users\\yongsheng.tan\\appdata\\roaming\\python\\python310\\site-packages (from ipython>=6.0->watermark) (5.1.1)\n",
      "Requirement already satisfied: jedi>=0.16 in c:\\users\\yongsheng.tan\\appdata\\roaming\\python\\python310\\site-packages (from ipython>=6.0->watermark) (0.19.1)\n",
      "Requirement already satisfied: matplotlib-inline in c:\\users\\yongsheng.tan\\appdata\\roaming\\python\\python310\\site-packages (from ipython>=6.0->watermark) (0.1.6)\n",
      "Requirement already satisfied: prompt-toolkit<3.1.0,>=3.0.41 in c:\\users\\yongsheng.tan\\appdata\\roaming\\python\\python310\\site-packages (from ipython>=6.0->watermark) (3.0.43)\n",
      "Requirement already satisfied: pygments>=2.4.0 in c:\\users\\yongsheng.tan\\appdata\\roaming\\python\\python310\\site-packages (from ipython>=6.0->watermark) (2.17.2)\n",
      "Requirement already satisfied: stack-data in c:\\users\\yongsheng.tan\\appdata\\roaming\\python\\python310\\site-packages (from ipython>=6.0->watermark) (0.6.3)\n",
      "Requirement already satisfied: traitlets>=5.13.0 in c:\\users\\yongsheng.tan\\appdata\\roaming\\python\\python310\\site-packages (from ipython>=6.0->watermark) (5.14.1)\n",
      "Requirement already satisfied: exceptiongroup in c:\\users\\yongsheng.tan\\appdata\\roaming\\python\\python310\\site-packages (from ipython>=6.0->watermark) (1.2.0)\n",
      "Requirement already satisfied: colorama in c:\\users\\yongsheng.tan\\appdata\\roaming\\python\\python310\\site-packages (from ipython>=6.0->watermark) (0.4.6)\n",
      "Requirement already satisfied: parso<0.9.0,>=0.8.3 in c:\\users\\yongsheng.tan\\appdata\\roaming\\python\\python310\\site-packages (from jedi>=0.16->ipython>=6.0->watermark) (0.8.3)\n",
      "Requirement already satisfied: wcwidth in c:\\users\\yongsheng.tan\\appdata\\roaming\\python\\python310\\site-packages (from prompt-toolkit<3.1.0,>=3.0.41->ipython>=6.0->watermark) (0.2.13)\n",
      "Requirement already satisfied: executing>=1.2.0 in c:\\users\\yongsheng.tan\\appdata\\roaming\\python\\python310\\site-packages (from stack-data->ipython>=6.0->watermark) (2.0.1)\n",
      "Requirement already satisfied: asttokens>=2.1.0 in c:\\users\\yongsheng.tan\\appdata\\roaming\\python\\python310\\site-packages (from stack-data->ipython>=6.0->watermark) (2.4.1)\n",
      "Requirement already satisfied: pure-eval in c:\\users\\yongsheng.tan\\appdata\\roaming\\python\\python310\\site-packages (from stack-data->ipython>=6.0->watermark) (0.2.2)\n",
      "Requirement already satisfied: six>=1.12.0 in c:\\users\\yongsheng.tan\\appdata\\roaming\\python\\python310\\site-packages (from asttokens>=2.1.0->stack-data->ipython>=6.0->watermark) (1.16.0)\n",
      "Note: you may need to restart the kernel to use updated packages.\n"
     ]
    }
   ],
   "source": [
    "%pip install seleniumbase\n",
    "%pip install webdriver-manager\n",
    "%pip install python-dotenv\n",
    "# to inspect what python package imported in this jupyter notebook\n",
    "%pip install watermark "
   ]
  },
  {
   "cell_type": "code",
   "execution_count": 6,
   "metadata": {},
   "outputs": [],
   "source": [
    "import json\n",
    "import os\n",
    "import random\n",
    "import time\n",
    "from seleniumbase import Driver\n",
    "from selenium.webdriver.common.by import By\n",
    "import urllib.parse\n",
    "from dotenv import load_dotenv\n",
    "\n",
    "_ = load_dotenv()"
   ]
  },
  {
   "cell_type": "code",
   "execution_count": 9,
   "metadata": {},
   "outputs": [
    {
     "ename": "NoSuchElementException",
     "evalue": "Message: no such element: Unable to locate element: {\"method\":\"tag name\",\"selector\":\"pre\"}\n  (Session info: chrome=122.0.6261.95); For documentation on this error, please visit: https://www.selenium.dev/documentation/webdriver/troubleshooting/errors#no-such-element-exception\nStacktrace:\n\tGetHandleVerifier [0x00007FF667324C82+3505170]\n\t(No symbol) [0x00007FF666F50852]\n\t(No symbol) [0x00007FF666E04145]\n\t(No symbol) [0x00007FF666E49ADD]\n\t(No symbol) [0x00007FF666E49C1C]\n\t(No symbol) [0x00007FF666E8AB27]\n\t(No symbol) [0x00007FF666E6BECF]\n\t(No symbol) [0x00007FF666E883B2]\n\t(No symbol) [0x00007FF666E6BC33]\n\t(No symbol) [0x00007FF666E3D618]\n\t(No symbol) [0x00007FF666E3E6B1]\n\tGetHandleVerifier [0x00007FF6673567DD+3708781]\n\tGetHandleVerifier [0x00007FF6673AFC5D+4074477]\n\tGetHandleVerifier [0x00007FF6673A7DDF+4042095]\n\tGetHandleVerifier [0x00007FF66707A136+708806]\n\t(No symbol) [0x00007FF666F5CB0F]\n\t(No symbol) [0x00007FF666F57D14]\n\t(No symbol) [0x00007FF666F57E6C]\n\t(No symbol) [0x00007FF666F479A4]\n\tBaseThreadInitThunk [0x00007FFA8DE4257D+29]\n\tRtlUserThreadStart [0x00007FFA8FC6AA58+40]\n",
     "output_type": "error",
     "traceback": [
      "\u001b[1;31m---------------------------------------------------------------------------\u001b[0m",
      "\u001b[1;31mNoSuchElementException\u001b[0m                    Traceback (most recent call last)",
      "Cell \u001b[1;32mIn[9], line 15\u001b[0m\n\u001b[0;32m     13\u001b[0m content \u001b[38;5;241m=\u001b[39m driver\u001b[38;5;241m.\u001b[39mpage_source\n\u001b[0;32m     14\u001b[0m time\u001b[38;5;241m.\u001b[39msleep(\u001b[38;5;241m2\u001b[39m)\n\u001b[1;32m---> 15\u001b[0m content \u001b[38;5;241m=\u001b[39m \u001b[43mdriver\u001b[49m\u001b[38;5;241;43m.\u001b[39;49m\u001b[43mfind_element\u001b[49m\u001b[43m(\u001b[49m\u001b[43mby\u001b[49m\u001b[38;5;241;43m=\u001b[39;49m\u001b[43mBy\u001b[49m\u001b[38;5;241;43m.\u001b[39;49m\u001b[43mTAG_NAME\u001b[49m\u001b[43m,\u001b[49m\u001b[43m \u001b[49m\u001b[43mvalue\u001b[49m\u001b[38;5;241;43m=\u001b[39;49m\u001b[38;5;124;43m'\u001b[39;49m\u001b[38;5;124;43mpre\u001b[39;49m\u001b[38;5;124;43m'\u001b[39;49m\u001b[43m)\u001b[49m\u001b[38;5;241m.\u001b[39mtext\n\u001b[0;32m     16\u001b[0m time\u001b[38;5;241m.\u001b[39msleep(\u001b[38;5;241m1\u001b[39m)\n\u001b[0;32m     17\u001b[0m parsed_json \u001b[38;5;241m=\u001b[39m json\u001b[38;5;241m.\u001b[39mloads(content)\n",
      "File \u001b[1;32mc:\\Users\\yongsheng.tan\\AppData\\Local\\miniconda3\\envs\\py3.10\\lib\\site-packages\\seleniumbase\\core\\sb_driver.py:20\u001b[0m, in \u001b[0;36mDriverMethods.find_element\u001b[1;34m(self, by, value)\u001b[0m\n\u001b[0;32m     18\u001b[0m \u001b[38;5;28;01melse\u001b[39;00m:\n\u001b[0;32m     19\u001b[0m     value, by \u001b[38;5;241m=\u001b[39m page_utils\u001b[38;5;241m.\u001b[39mswap_selector_and_by_if_reversed(value, by)\n\u001b[1;32m---> 20\u001b[0m \u001b[38;5;28;01mreturn\u001b[39;00m \u001b[38;5;28;43mself\u001b[39;49m\u001b[38;5;241;43m.\u001b[39;49m\u001b[43mdriver\u001b[49m\u001b[38;5;241;43m.\u001b[39;49m\u001b[43mdefault_find_element\u001b[49m\u001b[43m(\u001b[49m\u001b[43mby\u001b[49m\u001b[38;5;241;43m=\u001b[39;49m\u001b[43mby\u001b[49m\u001b[43m,\u001b[49m\u001b[43m \u001b[49m\u001b[43mvalue\u001b[49m\u001b[38;5;241;43m=\u001b[39;49m\u001b[43mvalue\u001b[49m\u001b[43m)\u001b[49m\n",
      "File \u001b[1;32mc:\\Users\\yongsheng.tan\\AppData\\Local\\miniconda3\\envs\\py3.10\\lib\\site-packages\\selenium\\webdriver\\remote\\webdriver.py:741\u001b[0m, in \u001b[0;36mWebDriver.find_element\u001b[1;34m(self, by, value)\u001b[0m\n\u001b[0;32m    738\u001b[0m     by \u001b[38;5;241m=\u001b[39m By\u001b[38;5;241m.\u001b[39mCSS_SELECTOR\n\u001b[0;32m    739\u001b[0m     value \u001b[38;5;241m=\u001b[39m \u001b[38;5;124mf\u001b[39m\u001b[38;5;124m'\u001b[39m\u001b[38;5;124m[name=\u001b[39m\u001b[38;5;124m\"\u001b[39m\u001b[38;5;132;01m{\u001b[39;00mvalue\u001b[38;5;132;01m}\u001b[39;00m\u001b[38;5;124m\"\u001b[39m\u001b[38;5;124m]\u001b[39m\u001b[38;5;124m'\u001b[39m\n\u001b[1;32m--> 741\u001b[0m \u001b[38;5;28;01mreturn\u001b[39;00m \u001b[38;5;28;43mself\u001b[39;49m\u001b[38;5;241;43m.\u001b[39;49m\u001b[43mexecute\u001b[49m\u001b[43m(\u001b[49m\u001b[43mCommand\u001b[49m\u001b[38;5;241;43m.\u001b[39;49m\u001b[43mFIND_ELEMENT\u001b[49m\u001b[43m,\u001b[49m\u001b[43m \u001b[49m\u001b[43m{\u001b[49m\u001b[38;5;124;43m\"\u001b[39;49m\u001b[38;5;124;43musing\u001b[39;49m\u001b[38;5;124;43m\"\u001b[39;49m\u001b[43m:\u001b[49m\u001b[43m \u001b[49m\u001b[43mby\u001b[49m\u001b[43m,\u001b[49m\u001b[43m \u001b[49m\u001b[38;5;124;43m\"\u001b[39;49m\u001b[38;5;124;43mvalue\u001b[39;49m\u001b[38;5;124;43m\"\u001b[39;49m\u001b[43m:\u001b[49m\u001b[43m \u001b[49m\u001b[43mvalue\u001b[49m\u001b[43m}\u001b[49m\u001b[43m)\u001b[49m[\u001b[38;5;124m\"\u001b[39m\u001b[38;5;124mvalue\u001b[39m\u001b[38;5;124m\"\u001b[39m]\n",
      "File \u001b[1;32mc:\\Users\\yongsheng.tan\\AppData\\Local\\miniconda3\\envs\\py3.10\\lib\\site-packages\\selenium\\webdriver\\remote\\webdriver.py:347\u001b[0m, in \u001b[0;36mWebDriver.execute\u001b[1;34m(self, driver_command, params)\u001b[0m\n\u001b[0;32m    345\u001b[0m response \u001b[38;5;241m=\u001b[39m \u001b[38;5;28mself\u001b[39m\u001b[38;5;241m.\u001b[39mcommand_executor\u001b[38;5;241m.\u001b[39mexecute(driver_command, params)\n\u001b[0;32m    346\u001b[0m \u001b[38;5;28;01mif\u001b[39;00m response:\n\u001b[1;32m--> 347\u001b[0m     \u001b[38;5;28;43mself\u001b[39;49m\u001b[38;5;241;43m.\u001b[39;49m\u001b[43merror_handler\u001b[49m\u001b[38;5;241;43m.\u001b[39;49m\u001b[43mcheck_response\u001b[49m\u001b[43m(\u001b[49m\u001b[43mresponse\u001b[49m\u001b[43m)\u001b[49m\n\u001b[0;32m    348\u001b[0m     response[\u001b[38;5;124m\"\u001b[39m\u001b[38;5;124mvalue\u001b[39m\u001b[38;5;124m\"\u001b[39m] \u001b[38;5;241m=\u001b[39m \u001b[38;5;28mself\u001b[39m\u001b[38;5;241m.\u001b[39m_unwrap_value(response\u001b[38;5;241m.\u001b[39mget(\u001b[38;5;124m\"\u001b[39m\u001b[38;5;124mvalue\u001b[39m\u001b[38;5;124m\"\u001b[39m, \u001b[38;5;28;01mNone\u001b[39;00m))\n\u001b[0;32m    349\u001b[0m     \u001b[38;5;28;01mreturn\u001b[39;00m response\n",
      "File \u001b[1;32mc:\\Users\\yongsheng.tan\\AppData\\Local\\miniconda3\\envs\\py3.10\\lib\\site-packages\\selenium\\webdriver\\remote\\errorhandler.py:229\u001b[0m, in \u001b[0;36mErrorHandler.check_response\u001b[1;34m(self, response)\u001b[0m\n\u001b[0;32m    227\u001b[0m         alert_text \u001b[38;5;241m=\u001b[39m value[\u001b[38;5;124m\"\u001b[39m\u001b[38;5;124malert\u001b[39m\u001b[38;5;124m\"\u001b[39m]\u001b[38;5;241m.\u001b[39mget(\u001b[38;5;124m\"\u001b[39m\u001b[38;5;124mtext\u001b[39m\u001b[38;5;124m\"\u001b[39m)\n\u001b[0;32m    228\u001b[0m     \u001b[38;5;28;01mraise\u001b[39;00m exception_class(message, screen, stacktrace, alert_text)  \u001b[38;5;66;03m# type: ignore[call-arg]  # mypy is not smart enough here\u001b[39;00m\n\u001b[1;32m--> 229\u001b[0m \u001b[38;5;28;01mraise\u001b[39;00m exception_class(message, screen, stacktrace)\n",
      "\u001b[1;31mNoSuchElementException\u001b[0m: Message: no such element: Unable to locate element: {\"method\":\"tag name\",\"selector\":\"pre\"}\n  (Session info: chrome=122.0.6261.95); For documentation on this error, please visit: https://www.selenium.dev/documentation/webdriver/troubleshooting/errors#no-such-element-exception\nStacktrace:\n\tGetHandleVerifier [0x00007FF667324C82+3505170]\n\t(No symbol) [0x00007FF666F50852]\n\t(No symbol) [0x00007FF666E04145]\n\t(No symbol) [0x00007FF666E49ADD]\n\t(No symbol) [0x00007FF666E49C1C]\n\t(No symbol) [0x00007FF666E8AB27]\n\t(No symbol) [0x00007FF666E6BECF]\n\t(No symbol) [0x00007FF666E883B2]\n\t(No symbol) [0x00007FF666E6BC33]\n\t(No symbol) [0x00007FF666E3D618]\n\t(No symbol) [0x00007FF666E3E6B1]\n\tGetHandleVerifier [0x00007FF6673567DD+3708781]\n\tGetHandleVerifier [0x00007FF6673AFC5D+4074477]\n\tGetHandleVerifier [0x00007FF6673A7DDF+4042095]\n\tGetHandleVerifier [0x00007FF66707A136+708806]\n\t(No symbol) [0x00007FF666F5CB0F]\n\t(No symbol) [0x00007FF666F57D14]\n\t(No symbol) [0x00007FF666F57E6C]\n\t(No symbol) [0x00007FF666F479A4]\n\tBaseThreadInitThunk [0x00007FFA8DE4257D+29]\n\tRtlUserThreadStart [0x00007FFA8FC6AA58+40]\n"
     ]
    }
   ],
   "source": [
    "base_url = \"https://www.leboncoin.fr/_next/data/cgSWtRf7dTSew_ph71GeS/SearchListing/SEO/FiltersListing.json\"\n",
    "\n",
    "driver = Driver(uc=True, headless=False)\n",
    "\n",
    "for idx in range(1,11):\n",
    "    try:\n",
    "      params = {\"filter1\": \"u_car_brand--VOLKSWAGEN\", \n",
    "          \"category\": \"voitures\",\n",
    "          \"page\": f\"p-{idx}\"}\n",
    "      filter_url = base_url + urllib.parse.urlencode(params)\n",
    "      driver.get(filter_url)\n",
    "      time.sleep(5)\n",
    "      content = driver.page_source\n",
    "      time.sleep(2)\n",
    "      content = driver.find_element(by=By.TAG_NAME, value='pre').text\n",
    "      time.sleep(1)\n",
    "      parsed_json = json.loads(content)\n",
    "      print(parsed_json)\n",
    "    finally:\n",
    "      driver.quit()"
   ]
  },
  {
   "cell_type": "markdown",
   "metadata": {},
   "source": [
    "## Computing Environment"
   ]
  },
  {
   "cell_type": "code",
   "execution_count": null,
   "metadata": {},
   "outputs": [],
   "source": [
    "%load_ext watermark\n",
    "\n",
    "%watermark\n",
    "\n",
    "# print out pypi packages used\n",
    "%watermark --iversions\n",
    "\n",
    "# date\n",
    "%watermark -u -n -t -z"
   ]
  }
 ],
 "metadata": {
  "kernelspec": {
   "display_name": "py3.10",
   "language": "python",
   "name": "python3"
  },
  "language_info": {
   "codemirror_mode": {
    "name": "ipython",
    "version": 3
   },
   "file_extension": ".py",
   "mimetype": "text/x-python",
   "name": "python",
   "nbconvert_exporter": "python",
   "pygments_lexer": "ipython3",
   "version": "3.10.12"
  }
 },
 "nbformat": 4,
 "nbformat_minor": 2
}
