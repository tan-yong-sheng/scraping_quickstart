{
 "cells": [
  {
   "cell_type": "markdown",
   "metadata": {},
   "source": [
    "## Scrape reddit data from Common Crawl"
   ]
  },
  {
   "cell_type": "markdown",
   "metadata": {},
   "source": [
    "Credit: This is the code from Common Crawl [here](https://commoncrawl.org/get-started)\n",
    "\n",
    "#### 1. Reference:\n",
    "1.1 Searching 100 Billion Webpages Pages With Capture Index https://skeptric.com/searching-100b-pages-cdx/\n",
    "\n",
    "1.2 Searching Common Crawl Index https://skeptric.com/notebooks/Searching%20Common%20Crawl%20Index.html\n",
    "\n",
    "#### 2. Interesting site to play on:\n",
    "\n",
    "2.1 Get the index list of Common Crawl here (e.g., CC-MAIN-2020-16): https://index.commoncrawl.org/collinfo.json\n",
    "\n",
    "2.2 cc-index-serve: https://index.commoncrawl.org/CC-MAIN-2020-16/ (note: replace CC-Main-2020-16 with latest index shown in 2.1, such as CC-MAIN-2023-50)\n"
   ]
  },
  {
   "cell_type": "code",
   "execution_count": 43,
   "metadata": {},
   "outputs": [],
   "source": [
    "# The URL you want to look up in the Common Crawl index\n",
    "target_url = 'reddit.com/r/wallstreetbets/' #'commoncrawl.org/faq'  # Replace with your target URL\n",
    "\n",
    "# The Common Crawl index you want to query\n",
    "INDEX_NAME = 'CC-MAIN-2023-50'      # Replace with the latest index name"
   ]
  },
  {
   "cell_type": "code",
   "execution_count": 44,
   "metadata": {},
   "outputs": [
    {
     "name": "stderr",
     "output_type": "stream",
     "text": [
      "DEBUG:urllib3.connectionpool:Starting new HTTP connection (1): index.commoncrawl.org:80\n"
     ]
    },
    {
     "name": "stderr",
     "output_type": "stream",
     "text": [
      "DEBUG:urllib3.connectionpool:http://index.commoncrawl.org:80 \"GET /CC-MAIN-2023-50-index?url=reddit.com%2Fr%2Fwallstreetbets%2F&output=json HTTP/1.1\" 404 None\n"
     ]
    },
    {
     "name": "stdout",
     "output_type": "stream",
     "text": [
      "Response from CCI: {\"message\": \"No Captures found for: reddit.com/r/wallstreetbets/\"}\n",
      "No records found for reddit.com/r/wallstreetbets/\n"
     ]
    }
   ],
   "source": [
    "import requests\n",
    "import gzip\n",
    "import json\n",
    "from urllib.parse import quote_plus\n",
    "\n",
    "# Please note: f-strings require Python 3.6+\n",
    "\n",
    "# The URL of the Common Crawl Index server\n",
    "CC_INDEX_SERVER = 'http://index.commoncrawl.org/'\n",
    "\n",
    "\n",
    "# Function to search the Common Crawl Index\n",
    "def search_cc_index(url):\n",
    "    encoded_url = quote_plus(url)\n",
    "    index_url = f'{CC_INDEX_SERVER}{INDEX_NAME}-index?url={encoded_url}&output=json'\n",
    "    response = requests.get(index_url)\n",
    "    print(\"Response from CCI:\", response.text)  # Output the response from the server\n",
    "    if response.status_code == 200:\n",
    "        records = response.text.strip().split('\\n')\n",
    "        return [json.loads(record) for record in records]\n",
    "    else:\n",
    "        return None\n",
    "\n",
    "# Function to fetch the content from Common Crawl\n",
    "def fetch_page_from_cc(records):\n",
    "    for record in records:\n",
    "        offset, length = int(record['offset']), int(record['length'])\n",
    "        prefix = record['filename'].split('/')[0]\n",
    "        s3_url = f'https://data.commoncrawl.org/{record[\"filename\"]}'\n",
    "        response = requests.get(s3_url, headers={'Range': f'bytes={offset}-{offset+length-1}'})\n",
    "        if response.status_code == 206:\n",
    "            # Process the response content if necessary\n",
    "            # For example, you can use warcio to parse the WARC record\n",
    "            return response.content\n",
    "        else:\n",
    "            print(f\"Failed to fetch data: {response.status_code}\")\n",
    "            return None\n",
    "\n",
    "# Search the index for the target URL\n",
    "records = search_cc_index(target_url)\n",
    "if records:\n",
    "    print(f\"Found {len(records)} records for {target_url}\")\n",
    "\n",
    "    # Fetch the page content from the first record\n",
    "    compressed_data = fetch_page_from_cc(records)\n",
    "    if compressed_data:\n",
    "        print(f\"Successfully fetched content for {target_url}\")\n",
    "        # decompressed_data = gzip.decompress(compressed_data)\n",
    "        #decoded_data = decompressed_data.decode('utf-8')  # Assuming it's a text-based content\n",
    "        #print(decoded_data)\n",
    "        print(\"-------------------------------------\")\n",
    "        # You can now process the 'content' variable as needed\n",
    "else:\n",
    "    print(f\"No records found for {target_url}\")"
   ]
  },
  {
   "cell_type": "markdown",
   "metadata": {},
   "source": [
    "## Computing environment"
   ]
  },
  {
   "cell_type": "code",
   "execution_count": 45,
   "metadata": {},
   "outputs": [
    {
     "name": "stdout",
     "output_type": "stream",
     "text": [
      "The watermark extension is already loaded. To reload it, use:\n",
      "  %reload_ext watermark\n",
      "Last updated: 2024-03-04T22:18:45.332361+08:00\n",
      "\n",
      "Python implementation: CPython\n",
      "Python version       : 3.10.12\n",
      "IPython version      : 8.22.1\n",
      "\n",
      "Compiler    : MSC v.1916 64 bit (AMD64)\n",
      "OS          : Windows\n",
      "Release     : 10\n",
      "Machine     : AMD64\n",
      "Processor   : Intel64 Family 6 Model 142 Stepping 12, GenuineIntel\n",
      "CPU cores   : 8\n",
      "Architecture: 64bit\n",
      "\n",
      "json    : 2.0.9\n",
      "requests: 2.31.0\n",
      "\n",
      "Last updated: Mon Mar 04 2024 22:18:45Malay Peninsula Standard Time\n",
      "\n"
     ]
    }
   ],
   "source": [
    "%load_ext watermark\n",
    "\n",
    "%watermark\n",
    "\n",
    "# print out pypi packages used\n",
    "%watermark --iversions\n",
    "\n",
    "# date\n",
    "%watermark -u -n -t -z"
   ]
  }
 ],
 "metadata": {
  "kernelspec": {
   "display_name": "py3.10",
   "language": "python",
   "name": "python3"
  },
  "language_info": {
   "codemirror_mode": {
    "name": "ipython",
    "version": 3
   },
   "file_extension": ".py",
   "mimetype": "text/x-python",
   "name": "python",
   "nbconvert_exporter": "python",
   "pygments_lexer": "ipython3",
   "version": "3.10.12"
  }
 },
 "nbformat": 4,
 "nbformat_minor": 2
}
